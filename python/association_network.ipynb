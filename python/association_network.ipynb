{
 "cells": [
  {
   "cell_type": "markdown",
   "id": "fbd923fd-f526-44fe-b1cd-ebc0d03c8d5b",
   "metadata": {},
   "source": [
    "# Generate the association network"
   ]
  },
  {
   "cell_type": "code",
   "execution_count": 68,
   "id": "68ac5beb-abce-4137-bd96-c8aba6436d22",
   "metadata": {},
   "outputs": [],
   "source": [
    "import pandas as pd\n",
    "from helper.constantes import *\n",
    "from ast import literal_eval"
   ]
  },
  {
   "cell_type": "code",
   "execution_count": 69,
   "id": "1d3f304f-f808-40bd-afe6-042707c479bf",
   "metadata": {},
   "outputs": [],
   "source": [
    "networks = pd.read_csv(cleaned_folder+\"selected_chars.csv\",converters={\"associated_groups\": literal_eval,\"connection_label\": literal_eval})"
   ]
  },
  {
   "cell_type": "code",
   "execution_count": 70,
   "id": "0d8b1655-cbf7-40c6-b421-502bdaf21b8a",
   "metadata": {},
   "outputs": [],
   "source": [
    "networks = networks.rename(columns={'Unnamed: 0':\"id\"})"
   ]
  },
  {
   "cell_type": "code",
   "execution_count": 71,
   "id": "6fc0994e-cba5-43f4-8b86-e1610ef2f01f",
   "metadata": {},
   "outputs": [],
   "source": [
    "networks_assoc = networks.loc[:,['name','associated_groups']]"
   ]
  },
  {
   "cell_type": "code",
   "execution_count": 72,
   "id": "24f4b729-e987-423e-922c-be15dac8363c",
   "metadata": {},
   "outputs": [
    {
     "data": {
      "text/html": [
       "<div>\n",
       "<style scoped>\n",
       "    .dataframe tbody tr th:only-of-type {\n",
       "        vertical-align: middle;\n",
       "    }\n",
       "\n",
       "    .dataframe tbody tr th {\n",
       "        vertical-align: top;\n",
       "    }\n",
       "\n",
       "    .dataframe thead th {\n",
       "        text-align: right;\n",
       "    }\n",
       "</style>\n",
       "<table border=\"1\" class=\"dataframe\">\n",
       "  <thead>\n",
       "    <tr style=\"text-align: right;\">\n",
       "      <th></th>\n",
       "      <th>name</th>\n",
       "      <th>associated_groups</th>\n",
       "    </tr>\n",
       "  </thead>\n",
       "  <tbody>\n",
       "    <tr>\n",
       "      <th>0</th>\n",
       "      <td>Aragog</td>\n",
       "      <td>[]</td>\n",
       "    </tr>\n",
       "    <tr>\n",
       "      <th>1</th>\n",
       "      <td>Ludovic Bagman</td>\n",
       "      <td>[British Ministry of Magic]</td>\n",
       "    </tr>\n",
       "    <tr>\n",
       "      <th>2</th>\n",
       "      <td>Bane</td>\n",
       "      <td>[Hogwarts School of Witchcraft and Wizardry]</td>\n",
       "    </tr>\n",
       "    <tr>\n",
       "      <th>3</th>\n",
       "      <td>Cuthbert Binns</td>\n",
       "      <td>[Hogwarts School of Witchcraft and Wizardry]</td>\n",
       "    </tr>\n",
       "    <tr>\n",
       "      <th>4</th>\n",
       "      <td>Regulus Black</td>\n",
       "      <td>[Slytherin, Hogwarts School of Witchcraft and ...</td>\n",
       "    </tr>\n",
       "  </tbody>\n",
       "</table>\n",
       "</div>"
      ],
      "text/plain": [
       "             name                                  associated_groups\n",
       "0          Aragog                                                 []\n",
       "1  Ludovic Bagman                        [British Ministry of Magic]\n",
       "2            Bane       [Hogwarts School of Witchcraft and Wizardry]\n",
       "3  Cuthbert Binns       [Hogwarts School of Witchcraft and Wizardry]\n",
       "4   Regulus Black  [Slytherin, Hogwarts School of Witchcraft and ..."
      ]
     },
     "execution_count": 72,
     "metadata": {},
     "output_type": "execute_result"
    }
   ],
   "source": [
    "networks_assoc.head()"
   ]
  },
  {
   "cell_type": "code",
   "execution_count": 73,
   "id": "a78622df-c26d-478b-8733-cb76c9a3b48d",
   "metadata": {},
   "outputs": [],
   "source": [
    "all_assoc = {}\n",
    "\n",
    "def add_assoc_to_dico(index, list_groups, dico):\n",
    "    for l in list_groups:\n",
    "        if l in dico: \n",
    "            cur_set = dico[l]\n",
    "        else:\n",
    "            cur_set = set()\n",
    "        cur_set.add(index)\n",
    "        dico[l] = cur_set\n",
    "networks_assoc.apply(lambda x: add_assoc_to_dico(x.name,x['associated_groups'],all_assoc),axis=1)\n",
    "None"
   ]
  },
  {
   "cell_type": "code",
   "execution_count": 74,
   "id": "a65ed496-53d6-4f3c-8deb-27c2c9e18928",
   "metadata": {},
   "outputs": [
    {
     "data": {
      "text/plain": [
       "109"
      ]
     },
     "execution_count": 74,
     "metadata": {},
     "output_type": "execute_result"
    }
   ],
   "source": [
    "len(all_assoc[\"Hogwarts School of Witchcraft and Wizardry\"])"
   ]
  },
  {
   "cell_type": "code",
   "execution_count": 75,
   "id": "d0fa2b66-f119-4752-ad5f-7b64c5fefc89",
   "metadata": {},
   "outputs": [
    {
     "data": {
      "text/plain": [
       "37"
      ]
     },
     "execution_count": 75,
     "metadata": {},
     "output_type": "execute_result"
    }
   ],
   "source": [
    "len(all_assoc[\"Gryffindor\"])"
   ]
  },
  {
   "cell_type": "code",
   "execution_count": 76,
   "id": "9aacc1c3-2be9-4a07-b39c-aa1de0a33afe",
   "metadata": {},
   "outputs": [
    {
     "data": {
      "text/plain": [
       "20"
      ]
     },
     "execution_count": 76,
     "metadata": {},
     "output_type": "execute_result"
    }
   ],
   "source": [
    "len(all_assoc[\"Slytherin\"])"
   ]
  },
  {
   "cell_type": "code",
   "execution_count": 77,
   "id": "2c64777c-79ec-40a4-9441-4eb743fe0b74",
   "metadata": {},
   "outputs": [
    {
     "data": {
      "text/plain": [
       "12"
      ]
     },
     "execution_count": 77,
     "metadata": {},
     "output_type": "execute_result"
    }
   ],
   "source": [
    "len(all_assoc[\"Hufflepuff\"])"
   ]
  },
  {
   "cell_type": "markdown",
   "id": "bac3a0ac-e8ba-4b6b-a8b6-1a6ac17a718e",
   "metadata": {},
   "source": [
    "We can see that in the Hogwarts \"association\", all the students and teacher are included. This results in 109 different people, meaning that there will be $\\frac{109\\cdot 108}{2}$ different links in the network just for this association. This will quickly become not possible to visualise. We will therefore remove the Hogwarts school of Witchcraft and wizardry association. To get more meaningful results, we will add a bit of preprocessing about the association. We will also remove the different Hogwarts houses as they add many links and there are already explored in a previous visualisation.\n",
    "\n",
    "The rest of the notebook will be split in the following way:\n",
    "- Define the more insightful \"association\" and add their members. \n",
    "- Regenerate the dictionnary with the different person belonging to different associations \n",
    "- Generate and export the graph for the visualisation using NetworkX"
   ]
  },
  {
   "cell_type": "code",
   "execution_count": 78,
   "id": "1b209a16-1142-4656-bdac-e51e1a0d1747",
   "metadata": {},
   "outputs": [],
   "source": [
    "def row_checking_predicate(predicate, df):\n",
    "    return df[df.apply(lambda x: predicate(x),axis=1)]"
   ]
  },
  {
   "cell_type": "code",
   "execution_count": null,
   "id": "d985c1d6-2b0f-438d-94ce-8548052dd2f6",
   "metadata": {},
   "outputs": [],
   "source": []
  },
  {
   "cell_type": "markdown",
   "id": "3728f470-492b-4374-a201-687f64b69a63",
   "metadata": {},
   "source": [
    "## Association of interest\n",
    "The associations or groups we will focus on are the following:\n",
    "- Ministry of magic employee (*)\n",
    "- Hogwarts staff\n",
    "- Order of the Phoenix 1st generation (1st wave)\n",
    "- Order of the Phoenix 2nd generate (2nd wave) \n",
    "- Weasley family (*)\n",
    "- Potter family\n",
    "- Death eaters (*)\n",
    "- Dumbledore's Army (*)\n",
    "- Gryffindor Quidditch team (*)\n",
    "- House of Black \n",
    "- House of Gaunt \n",
    "- Order of Merlin (*)\n",
    "- Slug club (*)\n",
    "- Advanced guard (*)\n",
    "- Hogwarts Headmasters\n",
    "\n",
    "The first step we will have to do is to remove any of the association that are not in the above list. In our exploratory data anaalysis, we already started to do some cleaning (the name of the above association is copied from the exploratory data analysis results). This will become more intensive from now on. The association marked with (\\*) correspond to association available in our dataset, we will therefore not double check tham. The others are handcrafted groups that will be made according to the Harry Potter fandom wiki website and wikipedia. "
   ]
  },
  {
   "cell_type": "code",
   "execution_count": 79,
   "id": "d53879bb-d909-4f14-a6fb-957107f432b1",
   "metadata": {},
   "outputs": [],
   "source": [
    "lst = [\"Advanced Guard\", \"Order of Merlin\", \"Gryffindor Quidditch team\", \"Dumbledore's Army\", \"Death Eaters\", \"Weasley family\",\"British Ministry of Magic\", \"Potter family\"]\n",
    "networks_assoc['associated_groups'] = networks_assoc.apply(lambda x: [y for y in x['associated_groups'] if y in lst],axis=1)\n"
   ]
  },
  {
   "cell_type": "code",
   "execution_count": 80,
   "id": "d8943ce5-f5fd-43de-acca-caca3b777b21",
   "metadata": {},
   "outputs": [],
   "source": [
    "def add_assoc_to_list(row, name):\n",
    "    row.append(name)\n",
    "    return row "
   ]
  },
  {
   "cell_type": "code",
   "execution_count": 81,
   "id": "418827ef-028d-459d-a51b-628dee244736",
   "metadata": {},
   "outputs": [],
   "source": [
    "def add_association_to_people(people_list, df, association_name):\n",
    "    lower_people_list = [x.lower() for x in people_list]\n",
    "    people_in_df = row_checking_predicate(lambda x: x['name'].lower() in lower_people_list, df)\n",
    "    print(f\"Number of matching people in the dataframe: {len(people_in_df)}\")\n",
    "    df['associated_groups'] = df.apply(lambda x: add_assoc_to_list(x['associated_groups'], association_name)  if x['name'].lower() in lower_people_list else x['associated_groups'],axis=1)\n",
    "    people_with_new_name = row_checking_predicate(lambda x: association_name in x['associated_groups'], df)\n",
    "    print(f\"Number of people with new association name: {len(people_with_new_name)}\")\n",
    "    print(f\"Consistent numbers ? {len(people_with_new_name)==len(people_in_df)}\")\n",
    "    return df"
   ]
  },
  {
   "cell_type": "markdown",
   "id": "aac76d88-8549-4b45-8ac6-79c7fcb7854d",
   "metadata": {},
   "source": [
    "We will start with Hogwarts teaching staff (based on this [wikipedia page](https://en.wikipedia.org/wiki/Hogwarts_staff))"
   ]
  },
  {
   "cell_type": "code",
   "execution_count": 82,
   "id": "dcee47f3-bdb5-4bba-b7c3-ad937fc225a9",
   "metadata": {},
   "outputs": [],
   "source": [
    "hogwarts_staff = [\n",
    "    \"Albus Dumbledore\", # Transfiguration then Headmaster\n",
    "    \"Alastor Moody\", #Defense against the Dark Arts (DADA)\n",
    "    \"Argus Filch\",#Caretaker\n",
    "    \"Aurora Sinistra\",#Astronomy\n",
    "    \"Charity Burbage\", # Muggle studies\n",
    "    \"Cuthbert Binns\", # history of magic\n",
    "    \"Dolores Umbridge\", #DADA\n",
    "    \"Filius Flitwick\",  # Charms\n",
    "    \"Firenze\", #divination\n",
    "    \"Gilderoy Lockhart\", # DADA\n",
    "    \"Horace Slughorn\", # Potions\n",
    "    \"Irma Pince\", #Librarian\n",
    "    \"Minerva McGonagall\",# transfiguration, headmistress\n",
    "    \"Pomona Sprout\", #herbology\n",
    "    \"Poppy Pomfrey\", # matron\n",
    "    \"Quirinus Quirrell\", #DADA\n",
    "    \"Remus Lupin\", # DADA\n",
    "    \"Rolanda Hooch\",# Flying\n",
    "    \"Rubeus Hagrid\",# Care of magical creatures\n",
    "    \"Septima Vector\", # arithmancy\n",
    "    \"Severus Snape\", # Potions, DADA, Headmasters\n",
    "    \"Silvanus Kettleburn\", # care of magical creatures\n",
    "    \"Sybill Trelawney\", # Divination\n",
    "    \"Wilhelmina Grubbly-Plank\", #Care of magical creatures\n",
    "]"
   ]
  },
  {
   "cell_type": "code",
   "execution_count": 83,
   "id": "fe4ba7df-1e16-46f2-affb-bdf243ba31f6",
   "metadata": {},
   "outputs": [
    {
     "name": "stdout",
     "output_type": "stream",
     "text": [
      "Number of matching people in the dataframe: 22\n",
      "Number of people with new association name: 22\n",
      "Consistent numbers ? True\n"
     ]
    }
   ],
   "source": [
    "networks_assoc = add_association_to_people(hogwarts_staff, networks_assoc, \"Hogwarts staff\")"
   ]
  },
  {
   "cell_type": "code",
   "execution_count": 84,
   "id": "a110ba11-1aa3-41fb-acee-e283a7c87927",
   "metadata": {},
   "outputs": [],
   "source": [
    "# based on the following list: https://harrypotter.fandom.com/wiki/Hogwarts_Headmaster\n",
    "hogwarts_headmasters = [\n",
    "    \"Albus Dumbledore\",\n",
    "    \"Dolores Umbridge\",\n",
    "    \"Minerva McGonagall\",\n",
    "    \"Severus Snape\",\n",
    "    \"Armando Dippet\",\n",
    "    \"Phineas Black\"\n",
    "]"
   ]
  },
  {
   "cell_type": "code",
   "execution_count": 85,
   "id": "6d576403-c323-47df-83a3-746816bdd9e4",
   "metadata": {},
   "outputs": [
    {
     "name": "stdout",
     "output_type": "stream",
     "text": [
      "Number of matching people in the dataframe: 4\n",
      "Number of people with new association name: 4\n",
      "Consistent numbers ? True\n"
     ]
    }
   ],
   "source": [
    "networks_assoc = add_association_to_people(hogwarts_headmasters, networks_assoc, \"Hogwarts headmasters\")"
   ]
  },
  {
   "cell_type": "code",
   "execution_count": 86,
   "id": "46874470-3da6-4f0e-98f9-706d6d9ffc7b",
   "metadata": {},
   "outputs": [],
   "source": [
    "gaunt_house = [\n",
    "    \"Salazar Slytherin\",\n",
    "    \"Lord Voldemort\",\n",
    "    \"Marvolo Gaunt\",\n",
    "    \"Morfin Gaunt\",\n",
    "    \"Merope Gaunt\"\n",
    "]"
   ]
  },
  {
   "cell_type": "code",
   "execution_count": 87,
   "id": "fffa679c-5b92-4948-a52c-aa1c52149959",
   "metadata": {},
   "outputs": [
    {
     "name": "stdout",
     "output_type": "stream",
     "text": [
      "Number of matching people in the dataframe: 5\n",
      "Number of people with new association name: 5\n",
      "Consistent numbers ? True\n"
     ]
    }
   ],
   "source": [
    "networks_assoc = add_association_to_people(gaunt_house, networks_assoc, \"House of Gaunt\")"
   ]
  },
  {
   "cell_type": "code",
   "execution_count": 88,
   "id": "5a2bef2a-e1d4-4b30-8c3d-ec2d3f708946",
   "metadata": {},
   "outputs": [],
   "source": [
    "ootp_1 = [\n",
    "      \"Albus Dumbledore\",\n",
    "    \"Alastor Moody\",\n",
    "    \"Aberforth Dumbledore\",\n",
    "    \"Arabella Fig\",\n",
    "    \"Alice Longbottom\",\n",
    "    \"Benjy Fenwick\",\n",
    "    \"Caradoc Dearborn\",\n",
    "    \"Dedalus Diggle\",\n",
    "    \"Dorcas Meadowes\",\n",
    "    \"Edgar Bones\",\n",
    "    \"Elphias Doge\",\n",
    "    \"Emmeline Vance\",\n",
    "    \"Fabian Prewett\",\n",
    "    \"Frank Longbottom\",\n",
    "    \"Gideon Prewett\",\n",
    "    \"James Potter\",\n",
    "    \"Lily Potter\",\n",
    "    \"Marlene McKinnon\",\n",
    "    \"Mundungus Fletcher\",\n",
    "    \"Peter Pettigrew\",\n",
    "    \"Remus Lupin\",\n",
    "    \"Rubeus Hagrid\",\n",
    "    \"Severus Snape\",\n",
    "    \"Sirius Black\",\n",
    "    \"Sturgis Podmore\"\n",
    "]"
   ]
  },
  {
   "cell_type": "code",
   "execution_count": 106,
   "id": "70b5e0fd-e1e2-496a-b935-438567d80126",
   "metadata": {},
   "outputs": [],
   "source": [
    "ootp_2 = [\n",
    "    \"Albus Dumbledore\",\n",
    "    \"Alastor Moody\",\n",
    "    \"Kingsley Shacklebot\",\n",
    "    \"Aberforth Dumbledore\",\n",
    "    \"Arabella Fig\",\n",
    "    \"Dedalus Diggle\",\n",
    "    \"Elphias Doge\",\n",
    "    \"Emmeline Vance\",\n",
    "    \"Minerva McGonagall\",\n",
    "    \"Mundungus Fletcher\",\n",
    "    \"Remus Lupin\",\n",
    "    \"Rubeus Hagrid\",\n",
    "    \"Severus Snape\",\n",
    "    \"Sirius Black\",\n",
    "    \"Sturgis Podmore\",\n",
    "    \"Arthur Weasley\",\n",
    "    \"Bill Weasley\",\n",
    "    \"Charlie Weasley\",\n",
    "    \"Hestia Jones\",\n",
    "    \"Molly Weasley\",\n",
    "    \"Nymphadora Tonks\",\n",
    "    \"Fleur Delacour\",\n",
    "    \"George Weasley\",\n",
    "    \"Fred Weasley\",\n",
    "    \"Harry Potter\",\n",
    "    \"Hermione Granger\",\n",
    "    \"Ron Weasley\"\n",
    "]"
   ]
  },
  {
   "cell_type": "code",
   "execution_count": 107,
   "id": "29ae8fcb-2103-4f14-9ef8-4fcee860bd9c",
   "metadata": {},
   "outputs": [
    {
     "name": "stdout",
     "output_type": "stream",
     "text": [
      "Number of matching people in the dataframe: 17\n",
      "Number of people with new association name: 28\n",
      "Consistent numbers ? False\n"
     ]
    }
   ],
   "source": [
    "networks_assoc = add_association_to_people(ootp_1, networks_assoc, \"1st Order of the Phoenix\")"
   ]
  },
  {
   "cell_type": "code",
   "execution_count": 108,
   "id": "f2037f6a-5837-417c-b231-2222e3637312",
   "metadata": {},
   "outputs": [
    {
     "name": "stdout",
     "output_type": "stream",
     "text": [
      "Number of matching people in the dataframe: 23\n",
      "Number of people with new association name: 28\n",
      "Consistent numbers ? False\n"
     ]
    }
   ],
   "source": [
    "networks_assoc = add_association_to_people(ootp_2, networks_assoc, \"2nd Order of the Phoenix\")"
   ]
  },
  {
   "cell_type": "code",
   "execution_count": 109,
   "id": "edc458c0-07c7-4667-a245-931408a06d44",
   "metadata": {},
   "outputs": [],
   "source": [
    "black = [\n",
    "    \"Rodolphus Lestrange\",\n",
    "    \"Ted Tonks\",\n",
    "    \"Bellatrix Lestrange\",\n",
    "    \"Narcissa Malfoy\",\n",
    "    \"Lucius Malfoy\",\n",
    "    \"Andromeda Tonks\",\n",
    "    \"Sirius Black\",\n",
    "    \"Regulus Black\",\n",
    "    \"Phineas Nigellus Black\"\n",
    "]"
   ]
  },
  {
   "cell_type": "code",
   "execution_count": 110,
   "id": "70ea6b33-f2d2-4268-8d47-cdd87a9acfdb",
   "metadata": {},
   "outputs": [
    {
     "name": "stdout",
     "output_type": "stream",
     "text": [
      "Number of matching people in the dataframe: 8\n",
      "Number of people with new association name: 8\n",
      "Consistent numbers ? True\n"
     ]
    }
   ],
   "source": [
    "networks_assoc = add_association_to_people(black, networks_assoc, \"House of Black\")"
   ]
  },
  {
   "cell_type": "code",
   "execution_count": 111,
   "id": "782ecf06-8215-4dff-af7a-9c1cd9bf65c5",
   "metadata": {},
   "outputs": [],
   "source": [
    "all_assoc = {}\n",
    "networks_assoc.apply(lambda x: add_assoc_to_dico(x.name,x['associated_groups'],all_assoc),axis=1)\n",
    "None"
   ]
  },
  {
   "cell_type": "code",
   "execution_count": 112,
   "id": "84da269b-a1ff-45de-8012-7bf8f69d262c",
   "metadata": {},
   "outputs": [],
   "source": [
    "all_perm = [(x,y,k) for k,v in all_assoc.items() for x in list(v) for y in list(v)  if x != y]\n",
    "edges_assoc = pd.DataFrame(all_perm, columns=['source', 'target', 'association']).groupby(['source','target'])['association'].apply(list).reset_index()"
   ]
  },
  {
   "cell_type": "code",
   "execution_count": 113,
   "id": "3390e7c6-6d66-4ffc-abd6-98ffd2841e0c",
   "metadata": {},
   "outputs": [
    {
     "data": {
      "text/plain": [
       "{'British Ministry of Magic': {1,\n",
       "  12,\n",
       "  20,\n",
       "  22,\n",
       "  25,\n",
       "  43,\n",
       "  64,\n",
       "  73,\n",
       "  75,\n",
       "  84,\n",
       "  91,\n",
       "  92,\n",
       "  93,\n",
       "  99,\n",
       "  103,\n",
       "  107,\n",
       "  108,\n",
       "  131,\n",
       "  134,\n",
       "  165,\n",
       "  175},\n",
       " 'Hogwarts staff': {3,\n",
       "  35,\n",
       "  38,\n",
       "  41,\n",
       "  55,\n",
       "  62,\n",
       "  66,\n",
       "  73,\n",
       "  86,\n",
       "  95,\n",
       "  98,\n",
       "  120,\n",
       "  135,\n",
       "  137,\n",
       "  146,\n",
       "  153,\n",
       "  154,\n",
       "  163,\n",
       "  166,\n",
       "  167,\n",
       "  170,\n",
       "  175},\n",
       " 'House of Black': {4, 5, 61, 70, 101, 140, 144, 164},\n",
       " 'Potter family': {5, 66, 67, 84, 85, 103, 108, 113, 134, 155, 172, 173},\n",
       " '2nd Order of the Phoenix': {5,\n",
       "  21,\n",
       "  25,\n",
       "  27,\n",
       "  40,\n",
       "  55,\n",
       "  63,\n",
       "  66,\n",
       "  73,\n",
       "  79,\n",
       "  83,\n",
       "  84,\n",
       "  85,\n",
       "  98,\n",
       "  103,\n",
       "  104,\n",
       "  105,\n",
       "  106,\n",
       "  109,\n",
       "  125,\n",
       "  134,\n",
       "  141,\n",
       "  146,\n",
       "  155,\n",
       "  165,\n",
       "  168,\n",
       "  173,\n",
       "  175},\n",
       " '1st Order of the Phoenix': {5,\n",
       "  21,\n",
       "  25,\n",
       "  27,\n",
       "  40,\n",
       "  55,\n",
       "  63,\n",
       "  66,\n",
       "  73,\n",
       "  79,\n",
       "  83,\n",
       "  84,\n",
       "  85,\n",
       "  98,\n",
       "  103,\n",
       "  104,\n",
       "  105,\n",
       "  106,\n",
       "  109,\n",
       "  125,\n",
       "  134,\n",
       "  141,\n",
       "  146,\n",
       "  155,\n",
       "  165,\n",
       "  168,\n",
       "  173,\n",
       "  175},\n",
       " \"Dumbledore's Army\": {7,\n",
       "  9,\n",
       "  13,\n",
       "  16,\n",
       "  24,\n",
       "  36,\n",
       "  37,\n",
       "  46,\n",
       "  56,\n",
       "  64,\n",
       "  68,\n",
       "  71,\n",
       "  84,\n",
       "  100,\n",
       "  105,\n",
       "  106,\n",
       "  108,\n",
       "  112,\n",
       "  114,\n",
       "  116,\n",
       "  118,\n",
       "  123,\n",
       "  134,\n",
       "  139,\n",
       "  143,\n",
       "  146,\n",
       "  151,\n",
       "  152,\n",
       "  162,\n",
       "  169,\n",
       "  172,\n",
       "  175},\n",
       " 'Death Eaters': {11, 14, 19, 26, 47, 60, 79, 88, 90, 121},\n",
       " 'House of Gaunt': {44, 45, 88, 96, 159},\n",
       " 'Weasley family': {67,\n",
       "  84,\n",
       "  103,\n",
       "  104,\n",
       "  105,\n",
       "  106,\n",
       "  107,\n",
       "  108,\n",
       "  109,\n",
       "  125,\n",
       "  134,\n",
       "  139,\n",
       "  172,\n",
       "  173},\n",
       " 'Gryffindor Quidditch team': {71,\n",
       "  84,\n",
       "  85,\n",
       "  100,\n",
       "  104,\n",
       "  105,\n",
       "  106,\n",
       "  108,\n",
       "  110,\n",
       "  114,\n",
       "  139,\n",
       "  146,\n",
       "  162,\n",
       "  172},\n",
       " 'Hogwarts headmasters': {98, 146, 167, 175}}"
      ]
     },
     "execution_count": 113,
     "metadata": {},
     "output_type": "execute_result"
    }
   ],
   "source": [
    "all_assoc"
   ]
  },
  {
   "cell_type": "markdown",
   "id": "8a0ec5c9-98e4-486e-91f4-48c66c2760cb",
   "metadata": {},
   "source": [
    "### Generate graph in networkx"
   ]
  },
  {
   "cell_type": "code",
   "execution_count": 114,
   "id": "48eedf16-d586-4aea-bb2b-ea44852e755d",
   "metadata": {},
   "outputs": [],
   "source": [
    "import networkx as nx\n",
    "from networkx.readwrite import json_graph\n",
    "import json"
   ]
  },
  {
   "cell_type": "code",
   "execution_count": 115,
   "id": "b1c5d1d1-b0b1-4758-8baf-d46904ff3511",
   "metadata": {},
   "outputs": [],
   "source": [
    "def add_nodes_attributes_and_save(filepath, edge_list, node_info):\n",
    "    edge_list = edge_list.reset_index().rename(columns={'index':'id'})\n",
    "    g=nx.from_pandas_edgelist(edge_list, source='source', target='target',edge_attr='id')\n",
    "    node_info.fillna(\"\",inplace=True)\n",
    "    \n",
    "    node_attr = node_info.to_dict(orient='index') \n",
    "    nx.set_node_attributes(g, node_attr)\n",
    "    nx.set_node_attributes(g,{k:{\"x\":v[0], \"y\":v[1], \"color\":\"#EEEEEE\",\"size\":2} for k,v in nx.spring_layout(g).items()})\n",
    "    \n",
    "    json_net = json_graph.node_link_data(g)\n",
    "    edges = json_net['links']\n",
    "    json_net[\"edges\"]=edges.copy()\n",
    "    del json_net['links']\n",
    "    \n",
    "    with open(filepath, 'w') as f:\n",
    "        json.dump(json_net, f)"
   ]
  },
  {
   "cell_type": "code",
   "execution_count": 116,
   "id": "da8993a4-4cd5-4acc-a516-1f5ca51cb508",
   "metadata": {},
   "outputs": [
    {
     "data": {
      "text/html": [
       "<div>\n",
       "<style scoped>\n",
       "    .dataframe tbody tr th:only-of-type {\n",
       "        vertical-align: middle;\n",
       "    }\n",
       "\n",
       "    .dataframe tbody tr th {\n",
       "        vertical-align: top;\n",
       "    }\n",
       "\n",
       "    .dataframe thead th {\n",
       "        text-align: right;\n",
       "    }\n",
       "</style>\n",
       "<table border=\"1\" class=\"dataframe\">\n",
       "  <thead>\n",
       "    <tr style=\"text-align: right;\">\n",
       "      <th></th>\n",
       "      <th>id</th>\n",
       "      <th>name</th>\n",
       "      <th>birth</th>\n",
       "      <th>death</th>\n",
       "      <th>species</th>\n",
       "      <th>ancestry</th>\n",
       "      <th>gender</th>\n",
       "      <th>hair_color</th>\n",
       "      <th>eye_color</th>\n",
       "      <th>patronus</th>\n",
       "      <th>...</th>\n",
       "      <th>core</th>\n",
       "      <th>Note</th>\n",
       "      <th>id</th>\n",
       "      <th>label</th>\n",
       "      <th>link</th>\n",
       "      <th>link_image</th>\n",
       "      <th>connection_label</th>\n",
       "      <th>nb_associations</th>\n",
       "      <th>nb_interactions</th>\n",
       "      <th>image_name</th>\n",
       "    </tr>\n",
       "  </thead>\n",
       "  <tbody>\n",
       "    <tr>\n",
       "      <th>0</th>\n",
       "      <td>0</td>\n",
       "      <td>Aragog</td>\n",
       "      <td>c. 1942</td>\n",
       "      <td>20 April, 1997 (aged around 55)</td>\n",
       "      <td>Acromantula</td>\n",
       "      <td></td>\n",
       "      <td>Male</td>\n",
       "      <td>Brown</td>\n",
       "      <td>Black &amp; Grey/Milky-White (Blind)</td>\n",
       "      <td></td>\n",
       "      <td>...</td>\n",
       "      <td></td>\n",
       "      <td></td>\n",
       "      <td>150</td>\n",
       "      <td>Aragog</td>\n",
       "      <td>Aragog</td>\n",
       "      <td>http://img4.wikia.nocookie.net/__cb20100611145...</td>\n",
       "      <td>[Albus Dumbledore, Argus Filch, Cornelius Fudg...</td>\n",
       "      <td>0</td>\n",
       "      <td>13</td>\n",
       "      <td>aragog</td>\n",
       "    </tr>\n",
       "    <tr>\n",
       "      <th>1</th>\n",
       "      <td>1</td>\n",
       "      <td>Ludovic Bagman</td>\n",
       "      <td>Before 1964 (most likely)</td>\n",
       "      <td></td>\n",
       "      <td>Human</td>\n",
       "      <td>Pure-blood or Half-blood</td>\n",
       "      <td>Male</td>\n",
       "      <td>Blond</td>\n",
       "      <td>Baby blue</td>\n",
       "      <td></td>\n",
       "      <td>...</td>\n",
       "      <td></td>\n",
       "      <td></td>\n",
       "      <td>1</td>\n",
       "      <td>Ludovic Bagman</td>\n",
       "      <td>Ludo_Bagman</td>\n",
       "      <td>http://img1.wikia.nocookie.net/__cb20111028215...</td>\n",
       "      <td>[Alastor Moody, Augustus Rookwood, Bartemius C...</td>\n",
       "      <td>1</td>\n",
       "      <td>11</td>\n",
       "      <td>ludovic_bagman</td>\n",
       "    </tr>\n",
       "    <tr>\n",
       "      <th>2</th>\n",
       "      <td>2</td>\n",
       "      <td>Bane</td>\n",
       "      <td></td>\n",
       "      <td></td>\n",
       "      <td>Centaur</td>\n",
       "      <td></td>\n",
       "      <td>Male</td>\n",
       "      <td>Black</td>\n",
       "      <td></td>\n",
       "      <td></td>\n",
       "      <td>...</td>\n",
       "      <td></td>\n",
       "      <td></td>\n",
       "      <td>151</td>\n",
       "      <td>Bane</td>\n",
       "      <td>Bane</td>\n",
       "      <td>http://img3.wikia.nocookie.net/__cb20100712171...</td>\n",
       "      <td>[Dolores Umbridge, Firenze, Harry Potter, Rube...</td>\n",
       "      <td>1</td>\n",
       "      <td>4</td>\n",
       "      <td>bane</td>\n",
       "    </tr>\n",
       "    <tr>\n",
       "      <th>3</th>\n",
       "      <td>3</td>\n",
       "      <td>Cuthbert Binns</td>\n",
       "      <td></td>\n",
       "      <td>Pre 1970s, Staffroom, Hogwarts Castle</td>\n",
       "      <td>Ghost</td>\n",
       "      <td></td>\n",
       "      <td>Male</td>\n",
       "      <td>White (balding)</td>\n",
       "      <td>Black</td>\n",
       "      <td></td>\n",
       "      <td>...</td>\n",
       "      <td></td>\n",
       "      <td></td>\n",
       "      <td>4</td>\n",
       "      <td>Cuthbert Binns</td>\n",
       "      <td>Cuthbert_Binns</td>\n",
       "      <td>http://img1.wikia.nocookie.net/__cb20130907183...</td>\n",
       "      <td>[Argus Filch, Bathilda Bagshot, Dolores Umbrid...</td>\n",
       "      <td>1</td>\n",
       "      <td>16</td>\n",
       "      <td>cuthbert_binns</td>\n",
       "    </tr>\n",
       "    <tr>\n",
       "      <th>4</th>\n",
       "      <td>4</td>\n",
       "      <td>Regulus Black</td>\n",
       "      <td>1961</td>\n",
       "      <td>1979 (aged 18)</td>\n",
       "      <td>Human</td>\n",
       "      <td>Pure-blood</td>\n",
       "      <td>Male</td>\n",
       "      <td>Black</td>\n",
       "      <td></td>\n",
       "      <td>Non-corporeal</td>\n",
       "      <td>...</td>\n",
       "      <td></td>\n",
       "      <td></td>\n",
       "      <td>5</td>\n",
       "      <td>Regulus Black</td>\n",
       "      <td>Regulus_Black</td>\n",
       "      <td>http://img2.wikia.nocookie.net/__cb20111004231...</td>\n",
       "      <td>[Albus Dumbledore, Andromeda Tonks, Bartemius ...</td>\n",
       "      <td>2</td>\n",
       "      <td>16</td>\n",
       "      <td>regulus_black</td>\n",
       "    </tr>\n",
       "  </tbody>\n",
       "</table>\n",
       "<p>5 rows × 26 columns</p>\n",
       "</div>"
      ],
      "text/plain": [
       "  id            name                      birth  \\\n",
       "0  0          Aragog                    c. 1942   \n",
       "1  1  Ludovic Bagman  Before 1964 (most likely)   \n",
       "2  2            Bane                              \n",
       "3  3  Cuthbert Binns                              \n",
       "4  4   Regulus Black                       1961   \n",
       "\n",
       "                                   death      species  \\\n",
       "0        20 April, 1997 (aged around 55)  Acromantula   \n",
       "1                                               Human   \n",
       "2                                             Centaur   \n",
       "3  Pre 1970s, Staffroom, Hogwarts Castle        Ghost   \n",
       "4                         1979 (aged 18)        Human   \n",
       "\n",
       "                   ancestry gender       hair_color  \\\n",
       "0                             Male            Brown   \n",
       "1  Pure-blood or Half-blood   Male            Blond   \n",
       "2                             Male            Black   \n",
       "3                             Male  White (balding)   \n",
       "4                Pure-blood   Male            Black   \n",
       "\n",
       "                          eye_color       patronus  ... core Note   id  \\\n",
       "0  Black & Grey/Milky-White (Blind)                 ...            150   \n",
       "1                         Baby blue                 ...              1   \n",
       "2                                                   ...            151   \n",
       "3                             Black                 ...              4   \n",
       "4                                    Non-corporeal  ...              5   \n",
       "\n",
       "            label            link  \\\n",
       "0          Aragog          Aragog   \n",
       "1  Ludovic Bagman     Ludo_Bagman   \n",
       "2            Bane            Bane   \n",
       "3  Cuthbert Binns  Cuthbert_Binns   \n",
       "4   Regulus Black   Regulus_Black   \n",
       "\n",
       "                                          link_image  \\\n",
       "0  http://img4.wikia.nocookie.net/__cb20100611145...   \n",
       "1  http://img1.wikia.nocookie.net/__cb20111028215...   \n",
       "2  http://img3.wikia.nocookie.net/__cb20100712171...   \n",
       "3  http://img1.wikia.nocookie.net/__cb20130907183...   \n",
       "4  http://img2.wikia.nocookie.net/__cb20111004231...   \n",
       "\n",
       "                                    connection_label nb_associations  \\\n",
       "0  [Albus Dumbledore, Argus Filch, Cornelius Fudg...               0   \n",
       "1  [Alastor Moody, Augustus Rookwood, Bartemius C...               1   \n",
       "2  [Dolores Umbridge, Firenze, Harry Potter, Rube...               1   \n",
       "3  [Argus Filch, Bathilda Bagshot, Dolores Umbrid...               1   \n",
       "4  [Albus Dumbledore, Andromeda Tonks, Bartemius ...               2   \n",
       "\n",
       "   nb_interactions      image_name  \n",
       "0               13          aragog  \n",
       "1               11  ludovic_bagman  \n",
       "2                4            bane  \n",
       "3               16  cuthbert_binns  \n",
       "4               16   regulus_black  \n",
       "\n",
       "[5 rows x 26 columns]"
      ]
     },
     "execution_count": 116,
     "metadata": {},
     "output_type": "execute_result"
    }
   ],
   "source": [
    "networks['associated_groups'] = networks_assoc['associated_groups']\n",
    "networks.head(5)"
   ]
  },
  {
   "cell_type": "code",
   "execution_count": 117,
   "id": "f756ebd6-4b9e-4ba5-abdc-8eaa5708efff",
   "metadata": {},
   "outputs": [
    {
     "name": "stderr",
     "output_type": "stream",
     "text": [
      "/var/folders/vf/btrykr5n65v_k_lwb61317k80000gn/T/ipykernel_13095/4178445733.py:6: UserWarning: DataFrame columns are not unique, some columns will be omitted.\n",
      "  node_attr = node_info.to_dict(orient='index')\n"
     ]
    }
   ],
   "source": [
    "add_nodes_attributes_and_save(cleaned_folder + \"association_network.json\", edges_assoc, networks)\n"
   ]
  },
  {
   "cell_type": "code",
   "execution_count": 118,
   "id": "729f129f-5346-42a8-bc80-50b1804f3d38",
   "metadata": {},
   "outputs": [
    {
     "name": "stdout",
     "output_type": "stream",
     "text": [
      "[]\n",
      "['British Ministry of Magic']\n",
      "[]\n",
      "['Hogwarts staff']\n",
      "['House of Black', 'House of Black']\n",
      "['Potter family', '2nd Order of the Phoenix', '1st Order of the Phoenix', 'House of Black', '1st Order of the Phoenix', '2nd Order of the Phoenix', 'House of Black']\n",
      "[]\n",
      "[\"Dumbledore's Army\"]\n",
      "[]\n",
      "[\"Dumbledore's Army\"]\n",
      "[]\n",
      "['Death Eaters']\n",
      "['British Ministry of Magic']\n",
      "[\"Dumbledore's Army\"]\n",
      "['Death Eaters']\n",
      "[]\n",
      "[\"Dumbledore's Army\"]\n",
      "[]\n",
      "[]\n",
      "['Death Eaters']\n",
      "['British Ministry of Magic']\n",
      "['2nd Order of the Phoenix', '1st Order of the Phoenix', '1st Order of the Phoenix', '2nd Order of the Phoenix']\n",
      "['British Ministry of Magic']\n",
      "[]\n",
      "[\"Dumbledore's Army\"]\n",
      "['British Ministry of Magic', '2nd Order of the Phoenix', '1st Order of the Phoenix', '1st Order of the Phoenix', '2nd Order of the Phoenix']\n",
      "['Death Eaters']\n",
      "['2nd Order of the Phoenix', '1st Order of the Phoenix', '1st Order of the Phoenix', '2nd Order of the Phoenix']\n",
      "[]\n",
      "[]\n",
      "[]\n",
      "[]\n",
      "[]\n",
      "[]\n",
      "[]\n",
      "['Hogwarts staff']\n",
      "[\"Dumbledore's Army\"]\n",
      "[\"Dumbledore's Army\"]\n",
      "['Hogwarts staff']\n",
      "[]\n",
      "['2nd Order of the Phoenix', '1st Order of the Phoenix', '1st Order of the Phoenix', '2nd Order of the Phoenix']\n",
      "['Hogwarts staff']\n",
      "[]\n",
      "['British Ministry of Magic']\n",
      "['House of Gaunt']\n",
      "['House of Gaunt']\n",
      "[\"Dumbledore's Army\"]\n",
      "['Death Eaters']\n",
      "[]\n",
      "[]\n",
      "[]\n",
      "[]\n",
      "[]\n",
      "[]\n",
      "[]\n",
      "['Hogwarts staff', '2nd Order of the Phoenix', '1st Order of the Phoenix', '1st Order of the Phoenix', '2nd Order of the Phoenix']\n",
      "[\"Dumbledore's Army\"]\n",
      "[]\n",
      "[]\n",
      "[]\n",
      "['Death Eaters']\n",
      "['House of Black', 'House of Black']\n",
      "['Hogwarts staff']\n",
      "['2nd Order of the Phoenix', '1st Order of the Phoenix']\n",
      "[\"Dumbledore's Army\", 'British Ministry of Magic']\n",
      "[]\n",
      "['Potter family', 'Hogwarts staff', '2nd Order of the Phoenix', '1st Order of the Phoenix', '1st Order of the Phoenix', '2nd Order of the Phoenix']\n",
      "['Potter family', 'Weasley family']\n",
      "[\"Dumbledore's Army\"]\n",
      "[]\n",
      "['House of Black', 'House of Black']\n",
      "['Gryffindor Quidditch team', \"Dumbledore's Army\"]\n",
      "[]\n",
      "['British Ministry of Magic', 'Hogwarts staff', '2nd Order of the Phoenix', '1st Order of the Phoenix', '1st Order of the Phoenix', '2nd Order of the Phoenix']\n",
      "[]\n",
      "['British Ministry of Magic']\n",
      "[]\n",
      "[]\n",
      "[]\n",
      "['Death Eaters', '2nd Order of the Phoenix', '1st Order of the Phoenix']\n",
      "[]\n",
      "[]\n",
      "[]\n",
      "['2nd Order of the Phoenix', '1st Order of the Phoenix', '1st Order of the Phoenix', '2nd Order of the Phoenix']\n",
      "['Potter family', 'Weasley family', \"Dumbledore's Army\", 'Gryffindor Quidditch team', 'British Ministry of Magic', '1st Order of the Phoenix', '2nd Order of the Phoenix']\n",
      "['Potter family', 'Gryffindor Quidditch team', '2nd Order of the Phoenix', '1st Order of the Phoenix']\n",
      "['Hogwarts staff']\n",
      "[]\n",
      "['Death Eaters', 'House of Gaunt']\n",
      "[]\n",
      "['Death Eaters']\n",
      "['British Ministry of Magic']\n",
      "['British Ministry of Magic']\n",
      "['British Ministry of Magic']\n",
      "[]\n",
      "['Hogwarts staff']\n",
      "['House of Gaunt']\n",
      "[]\n",
      "['Hogwarts staff', 'Hogwarts headmasters', '2nd Order of the Phoenix', '1st Order of the Phoenix', '1st Order of the Phoenix', '2nd Order of the Phoenix']\n",
      "['British Ministry of Magic']\n",
      "['Gryffindor Quidditch team', \"Dumbledore's Army\"]\n",
      "['House of Black', 'House of Black']\n",
      "[]\n",
      "['Weasley family', 'Potter family', 'British Ministry of Magic', '1st Order of the Phoenix', '2nd Order of the Phoenix']\n",
      "['Weasley family', 'Gryffindor Quidditch team', '1st Order of the Phoenix', '2nd Order of the Phoenix']\n",
      "[\"Dumbledore's Army\", 'Gryffindor Quidditch team', 'Weasley family', '1st Order of the Phoenix', '2nd Order of the Phoenix']\n",
      "[\"Dumbledore's Army\", 'Gryffindor Quidditch team', 'Weasley family', '1st Order of the Phoenix', '2nd Order of the Phoenix']\n",
      "['Weasley family', 'British Ministry of Magic']\n",
      "['Weasley family', 'Potter family', \"Dumbledore's Army\", 'British Ministry of Magic', 'Gryffindor Quidditch team']\n",
      "['Weasley family', '1st Order of the Phoenix', '2nd Order of the Phoenix']\n",
      "['Gryffindor Quidditch team']\n",
      "[]\n",
      "[\"Dumbledore's Army\"]\n",
      "['Potter family']\n",
      "[\"Dumbledore's Army\", 'Gryffindor Quidditch team']\n",
      "[]\n",
      "[\"Dumbledore's Army\"]\n",
      "[]\n",
      "[\"Dumbledore's Army\"]\n",
      "[]\n",
      "['Hogwarts staff']\n",
      "['Death Eaters']\n",
      "[]\n",
      "[\"Dumbledore's Army\"]\n",
      "[]\n",
      "['Weasley family', '1st Order of the Phoenix', '2nd Order of the Phoenix']\n",
      "[]\n",
      "[]\n",
      "[]\n",
      "[]\n",
      "[]\n",
      "['British Ministry of Magic']\n",
      "[]\n",
      "[]\n",
      "['Weasley family', 'Potter family', \"Dumbledore's Army\", 'British Ministry of Magic', '1st Order of the Phoenix', '2nd Order of the Phoenix']\n",
      "['Hogwarts staff']\n",
      "[]\n",
      "['Hogwarts staff']\n",
      "[]\n",
      "['Weasley family', 'Gryffindor Quidditch team', \"Dumbledore's Army\"]\n",
      "['House of Black', 'House of Black']\n",
      "['2nd Order of the Phoenix', '1st Order of the Phoenix']\n",
      "[]\n",
      "[\"Dumbledore's Army\"]\n",
      "['House of Black', 'House of Black']\n",
      "[]\n",
      "['Gryffindor Quidditch team', \"Dumbledore's Army\", 'Hogwarts staff', 'Hogwarts headmasters', '1st Order of the Phoenix', '2nd Order of the Phoenix']\n",
      "[]\n",
      "[]\n",
      "[]\n",
      "[]\n",
      "[\"Dumbledore's Army\"]\n",
      "[\"Dumbledore's Army\"]\n",
      "['Hogwarts staff']\n",
      "['Hogwarts staff']\n",
      "['Potter family', '2nd Order of the Phoenix', '1st Order of the Phoenix']\n",
      "[]\n",
      "[]\n",
      "[]\n",
      "['House of Gaunt']\n",
      "[]\n",
      "[]\n",
      "['Gryffindor Quidditch team', \"Dumbledore's Army\"]\n",
      "['Hogwarts staff']\n",
      "['House of Black', 'House of Black']\n",
      "['British Ministry of Magic', '1st Order of the Phoenix', '2nd Order of the Phoenix']\n",
      "['Hogwarts staff']\n",
      "['Hogwarts staff', 'Hogwarts headmasters']\n",
      "['2nd Order of the Phoenix', '1st Order of the Phoenix', '1st Order of the Phoenix', '2nd Order of the Phoenix']\n",
      "[\"Dumbledore's Army\"]\n",
      "['Hogwarts staff']\n",
      "[]\n",
      "['Weasley family', 'Potter family', 'Gryffindor Quidditch team', \"Dumbledore's Army\"]\n",
      "['Weasley family', 'Potter family', '1st Order of the Phoenix', '2nd Order of the Phoenix']\n",
      "[]\n",
      "[\"Dumbledore's Army\", 'British Ministry of Magic', 'Hogwarts staff', 'Hogwarts headmasters', '2nd Order of the Phoenix', '1st Order of the Phoenix', '1st Order of the Phoenix', '2nd Order of the Phoenix']\n"
     ]
    },
    {
     "data": {
      "text/plain": [
       "0      None\n",
       "1      None\n",
       "2      None\n",
       "3      None\n",
       "4      None\n",
       "       ... \n",
       "171    None\n",
       "172    None\n",
       "173    None\n",
       "174    None\n",
       "175    None\n",
       "Length: 176, dtype: object"
      ]
     },
     "execution_count": 118,
     "metadata": {},
     "output_type": "execute_result"
    }
   ],
   "source": [
    "networks_assoc.apply(lambda x: print(x['associated_groups']),axis=1)"
   ]
  },
  {
   "cell_type": "code",
   "execution_count": null,
   "id": "cff3d20f-0cd0-448b-8869-d9ed75897be5",
   "metadata": {},
   "outputs": [],
   "source": []
  },
  {
   "cell_type": "code",
   "execution_count": null,
   "id": "68b29e54-5ffd-4ce8-b6ed-dee3c6d56c41",
   "metadata": {},
   "outputs": [],
   "source": []
  },
  {
   "cell_type": "code",
   "execution_count": null,
   "id": "d9add209-7b4a-47ea-b5f8-349acb89f845",
   "metadata": {},
   "outputs": [],
   "source": []
  }
 ],
 "metadata": {
  "kernelspec": {
   "display_name": "Python 3 (ipykernel)",
   "language": "python",
   "name": "python3"
  },
  "language_info": {
   "codemirror_mode": {
    "name": "ipython",
    "version": 3
   },
   "file_extension": ".py",
   "mimetype": "text/x-python",
   "name": "python",
   "nbconvert_exporter": "python",
   "pygments_lexer": "ipython3",
   "version": "3.8.12"
  }
 },
 "nbformat": 4,
 "nbformat_minor": 5
}
