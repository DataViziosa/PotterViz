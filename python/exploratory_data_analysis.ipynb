{
 "cells": [
  {
   "cell_type": "markdown",
   "id": "439459c3-d48c-4bdc-a836-6d283db84582",
   "metadata": {},
   "source": [
    "# Data Visualization, Exploratory Data Analysis (Milestone 1)"
   ]
  },
  {
   "cell_type": "markdown",
   "id": "2aa98d3f-9555-49dc-9c6b-9f31ac9e26af",
   "metadata": {},
   "source": [
    "In this notebook, we will have two main objectives:\n",
    "1. Take a look at all the data we have\n",
    "2. Pre-processing so that the data are more usable in our future visualisation\n",
    "\n",
    "Recall that all our data consists of the following datasets (we will mention which one we use in each subpart)\n",
    "- [Harry Potter Collection](https://github.com/theDavidBarton/the-harry-potter-database) contains a lot of information about characters, potions, spells and books. \n",
    "- We enhance the book dataset (in the previous bullet) with more information about [sales](https://en.wikipedia.org/wiki/List_of_best-selling_books) and [translations](https://en.wikipedia.org/wiki/Harry_Potter_in_translation)\n",
    "- [Harry Potter network](https://github.com/dpmartin42/Networks/tree/master/Harry%20Potter) describing the network of interactiosn between characters.\n",
    "- [Harry Potter Books content](https://github.com/formcept/whiteboard/tree/master/nbviewer/notebooks/data/harrypotter) containing the texts of all the Harry Potter books. \n",
    "- [Harry Potter movies](https://www.kaggle.com/kornflex/harry-potter-movies-dataset) containing information about the movies as well as the transcript that can be useful for advanced analysis.\n",
    "- Top 40 favourite Harry Potter characters based on [this article ](https://www.theguardian.com/childrens-books-site/2011/aug/30/snape-favourite-harry-potter-character)."
   ]
  },
  {
   "cell_type": "code",
   "execution_count": 1,
   "id": "869c3343-a99e-4b12-a8b4-25f74388499e",
   "metadata": {},
   "outputs": [],
   "source": [
    "import pandas as pd\n",
    "import numpy as np\n",
    "import seaborn as sns\n",
    "import matplotlib.pyplot as plt\n",
    "from helper.constantes import *"
   ]
  },
  {
   "cell_type": "markdown",
   "id": "e2acc0c5-3b8f-4506-83b0-423bb18e73ee",
   "metadata": {
    "tags": []
   },
   "source": [
    "## Exploring [Harry Potter Collection dataset](https://github.com/theDavidBarton/the-harry-potter-database)"
   ]
  },
  {
   "cell_type": "markdown",
   "id": "5327bc2e-a564-4a00-a029-c7215558ce46",
   "metadata": {},
   "source": [
    "The Harry Potter collection dataset consists of a lot of information about characters, spells and potions in the Harry Potter series. We will start by exploring its character subpart."
   ]
  },
  {
   "cell_type": "code",
   "execution_count": 2,
   "id": "8dc4b9d5-0975-4c6c-af05-fc4025af6075",
   "metadata": {},
   "outputs": [],
   "source": [
    "df_hp_chars = pd.read_json(hpcollection_folder+\"characters.json\").drop(columns=['id'],axis=1) # Drop id columns as we do not use it"
   ]
  },
  {
   "cell_type": "code",
   "execution_count": 3,
   "id": "82fceee4-eccb-4fdd-9032-e44f1fffd538",
   "metadata": {},
   "outputs": [
    {
     "data": {
      "text/html": [
       "<div>\n",
       "<style scoped>\n",
       "    .dataframe tbody tr th:only-of-type {\n",
       "        vertical-align: middle;\n",
       "    }\n",
       "\n",
       "    .dataframe tbody tr th {\n",
       "        vertical-align: top;\n",
       "    }\n",
       "\n",
       "    .dataframe thead th {\n",
       "        text-align: right;\n",
       "    }\n",
       "</style>\n",
       "<table border=\"1\" class=\"dataframe\">\n",
       "  <thead>\n",
       "    <tr style=\"text-align: right;\">\n",
       "      <th></th>\n",
       "      <th>name</th>\n",
       "      <th>birth</th>\n",
       "      <th>death</th>\n",
       "      <th>species</th>\n",
       "      <th>ancestry</th>\n",
       "      <th>gender</th>\n",
       "      <th>hair_color</th>\n",
       "      <th>eye_color</th>\n",
       "      <th>wand</th>\n",
       "      <th>patronus</th>\n",
       "      <th>house</th>\n",
       "      <th>associated_groups</th>\n",
       "      <th>books_featured_in</th>\n",
       "    </tr>\n",
       "  </thead>\n",
       "  <tbody>\n",
       "    <tr>\n",
       "      <th>575</th>\n",
       "      <td>Bellatrix Lestrange</td>\n",
       "      <td>1951</td>\n",
       "      <td>2 May, 1998 (aged 46 - 47)</td>\n",
       "      <td>Human</td>\n",
       "      <td>Pure-blood</td>\n",
       "      <td>Female</td>\n",
       "      <td>Black</td>\n",
       "      <td>None</td>\n",
       "      <td>12¾\", Walnut, dragon heartstring</td>\n",
       "      <td>None</td>\n",
       "      <td>House of Black</td>\n",
       "      <td>[]</td>\n",
       "      <td>[4, 5, 6, 7]</td>\n",
       "    </tr>\n",
       "  </tbody>\n",
       "</table>\n",
       "</div>"
      ],
      "text/plain": [
       "                    name birth                       death species  \\\n",
       "575  Bellatrix Lestrange  1951  2 May, 1998 (aged 46 - 47)   Human   \n",
       "\n",
       "       ancestry  gender hair_color eye_color  \\\n",
       "575  Pure-blood  Female      Black      None   \n",
       "\n",
       "                                 wand patronus           house  \\\n",
       "575  12¾\", Walnut, dragon heartstring     None  House of Black   \n",
       "\n",
       "    associated_groups books_featured_in  \n",
       "575                []      [4, 5, 6, 7]  "
      ]
     },
     "execution_count": 3,
     "metadata": {},
     "output_type": "execute_result"
    }
   ],
   "source": [
    "df_hp_chars[df_hp_chars['name']=='Bellatrix Lestrange'].head(2)"
   ]
  },
  {
   "cell_type": "markdown",
   "id": "32fa49d8-55ed-4dcb-ade0-6e1e2289767f",
   "metadata": {
    "tags": []
   },
   "source": [
    "### Exploring the characters"
   ]
  },
  {
   "cell_type": "code",
   "execution_count": 4,
   "id": "e8b1f817-5343-4ab0-bcd8-d1bdbd8deba3",
   "metadata": {},
   "outputs": [
    {
     "data": {
      "text/plain": [
       "707"
      ]
     },
     "execution_count": 4,
     "metadata": {},
     "output_type": "execute_result"
    }
   ],
   "source": [
    "df_hp_chars['name'].count()"
   ]
  },
  {
   "cell_type": "markdown",
   "id": "48f2aa4c-773d-4231-a08f-80e124471d95",
   "metadata": {},
   "source": [
    "In the dataset, we can see that there are 707 different characters. We will see the number of recurrent characters throughout the book series. "
   ]
  },
  {
   "cell_type": "code",
   "execution_count": 5,
   "id": "e5b7f526-a5b5-4e6c-b7d2-1d96cbf3c9a8",
   "metadata": {},
   "outputs": [
    {
     "data": {
      "image/png": "[encoded data removed]",
      "text/plain": [
       "<Figure size 360x360 with 1 Axes>"
      ]
     },
     "metadata": {
      "needs_background": "light"
     },
     "output_type": "display_data"
    }
   ],
   "source": [
    "df_hp_chars['nb_books_featured_in'] = df_hp_chars['books_featured_in'].apply(lambda x: len(x))\n",
    "\n",
    "fig = sns.displot(df_hp_chars['nb_books_featured_in'])\n",
    "plt.title(\"Histogram of the number of characters appearing in several books\")\n",
    "plt.xlabel(\"Number of books\")\n",
    "plt.ylabel(\"Count of characters\")\n",
    "plt.yscale('log')\n",
    "plt.show()"
   ]
  },
  {
   "cell_type": "code",
   "execution_count": 6,
   "id": "528d5873-54f2-48ff-9ff5-bb79805f7707",
   "metadata": {},
   "outputs": [
    {
     "data": {
      "text/plain": [
       "1    431\n",
       "2     92\n",
       "3     60\n",
       "7     51\n",
       "4     37\n",
       "5     25\n",
       "6     11\n",
       "Name: nb_books_featured_in, dtype: int64"
      ]
     },
     "execution_count": 6,
     "metadata": {},
     "output_type": "execute_result"
    }
   ],
   "source": [
    "df_hp_chars['nb_books_featured_in'].value_counts()"
   ]
  },
  {
   "cell_type": "markdown",
   "id": "0729177e-9bea-4825-841c-d05ed15ba47c",
   "metadata": {},
   "source": [
    "Note that the y-axis is in log-scale. We can see that there a lot of characters (aroung 2/3) appear in only one book. Another interesting insight is that we have more characters appearing in all the books than characters appearing in only 4,5 or 6 books. "
   ]
  },
  {
   "cell_type": "markdown",
   "id": "9a49046a-cb6f-45f6-887f-39d844f58802",
   "metadata": {},
   "source": [
    "#### Gender"
   ]
  },
  {
   "cell_type": "markdown",
   "id": "69c3e1f5-fbdd-4c6a-82ae-1a4cd581fdd6",
   "metadata": {},
   "source": [
    "We first take a look at the different type of gender there are in books."
   ]
  },
  {
   "cell_type": "code",
   "execution_count": 7,
   "id": "2b100ae8-d3b0-4135-bfd6-51029e965ff5",
   "metadata": {},
   "outputs": [
    {
     "data": {
      "text/plain": [
       "Male                  437\n",
       "Female                244\n",
       "Males                   4\n",
       "Male (likely)           2\n",
       "Females                 2\n",
       "Females, Males          1\n",
       "Males and females       1\n",
       "At least one boy        1\n",
       "Male (most likely)      1\n",
       "Female (likely)         1\n",
       "Name: gender, dtype: int64"
      ]
     },
     "execution_count": 7,
     "metadata": {},
     "output_type": "execute_result"
    }
   ],
   "source": [
    "df_hp_chars['gender'].value_counts()"
   ]
  },
  {
   "cell_type": "markdown",
   "id": "0ae7ccac-fd3e-4113-ac90-1dc35fbf42b4",
   "metadata": {},
   "source": [
    "For the purpose of our visualisations and since the number of exceptions is very small, we will map the gender which are not male or female to their closest gender. "
   ]
  },
  {
   "cell_type": "code",
   "execution_count": 8,
   "id": "ba535204-4df3-4270-98c0-ac4bbac4533b",
   "metadata": {},
   "outputs": [],
   "source": [
    "def map_to_closest_gender(gender):\n",
    "    \"\"\"\n",
    "    Map the gender to its closest gender \n",
    "    Parameters:\n",
    "    -----------\n",
    "        - gender: the gender of the characters\n",
    "    Return:\n",
    "    -----------\n",
    "        - the standardise gender\n",
    "    \"\"\"\n",
    "    if gender is None: \n",
    "        return None\n",
    "    if \"female\" in gender.lower() or \"girl\" in gender.lower():\n",
    "        return \"Female\"\n",
    "    else:\n",
    "        return \"Male\"\n",
    "    \n",
    "df_hp_chars['gender'] = df_hp_chars['gender'].apply(map_to_closest_gender)"
   ]
  },
  {
   "cell_type": "code",
   "execution_count": 9,
   "id": "e25008dd-20f4-4137-82a7-3237e914d473",
   "metadata": {},
   "outputs": [],
   "source": [
    "def plot_pie(df, column):\n",
    "    \"\"\"\n",
    "    Plot a pie chart for the values on the given column\n",
    "    Parameters:\n",
    "    -----------\n",
    "        - df: the data source \n",
    "        - column: the column on which we want to do the pie chart.\n",
    "    \"\"\"\n",
    "    data = df[column].value_counts().values\n",
    "    labels = df[column].value_counts().index\n",
    "\n",
    "    colors = sns.color_palette('pastel')[0:5]\n",
    "\n",
    "    #create pie chart\n",
    "    fig = plt.figure(figsize=(8,6))\n",
    "    plt.pie(data, labels = labels, colors = colors, autopct='%.0f%%')\n",
    "    plt.title(\"Pie chart repartition \"+ column)\n",
    "    plt.show()"
   ]
  },
  {
   "cell_type": "code",
   "execution_count": 10,
   "id": "33bd7306-dd05-484e-ac5f-4319ed1dff65",
   "metadata": {},
   "outputs": [
    {
     "data": {
      "image/png": "[encoded data removed]",
      "text/plain": [
       "<Figure size 576x432 with 1 Axes>"
      ]
     },
     "metadata": {},
     "output_type": "display_data"
    }
   ],
   "source": [
    "plot_pie(df_hp_chars, \"gender\")"
   ]
  },
  {
   "cell_type": "markdown",
   "id": "f9f629c4-8555-49f7-887e-a913deb6493b",
   "metadata": {},
   "source": [
    "We can see that around 2/3 of the characters in this Harry Potter are men and 1/3 are women. Let see what are the genders of the recurrent characters in the Harry Potter serie. "
   ]
  },
  {
   "cell_type": "code",
   "execution_count": 11,
   "id": "aca62c1a-4b4f-4794-9166-d394532ad426",
   "metadata": {},
   "outputs": [
    {
     "data": {
      "image/png": "[encoded data removed]",
      "text/plain": [
       "<Figure size 432x288 with 1 Axes>"
      ]
     },
     "metadata": {
      "needs_background": "light"
     },
     "output_type": "display_data"
    }
   ],
   "source": [
    "# Create a heatmap with cross count of the by number of books featured in and gender \n",
    "sns.heatmap(pd.crosstab(df_hp_chars['nb_books_featured_in'],df_hp_chars['gender']), annot=True, fmt=\"d\", linewidths=.5, cbar=False)\n",
    "plt.title('Heatmap of the characters w.r.t. to the number of books in which they appear')\n",
    "plt.xlabel('Gender')\n",
    "plt.ylabel('Number of boooks')\n",
    "plt.show()"
   ]
  },
  {
   "cell_type": "markdown",
   "id": "6edb82b8-a5d8-4d22-99a4-57b906d9f2bb",
   "metadata": {},
   "source": [
    "As we can see, males are around 1.5 or twice more present than female in each category. This could introduces some biases in our subsequent analysis or visualisations. We must be careful."
   ]
  },
  {
   "cell_type": "markdown",
   "id": "b0a93073-095e-43ac-8107-8120c84c0de2",
   "metadata": {},
   "source": [
    "#### Houses"
   ]
  },
  {
   "cell_type": "markdown",
   "id": "e22bd793-f82c-4ac1-adc6-94798d67f0d7",
   "metadata": {},
   "source": [
    "When a new wizard goes to Hogwarts to learn how to use magic, (s)he will first be splitted into one of the 4 houses: Gryffindor, Ravenclaw, Slytherin or Hufflepuff. \n",
    "\n",
    "We will now take a look at our character list and see from which houses they come from. "
   ]
  },
  {
   "cell_type": "code",
   "execution_count": 12,
   "id": "4646dcad-8a10-4d81-9988-9c5278ddb868",
   "metadata": {},
   "outputs": [
    {
     "data": {
      "text/plain": [
       "Gryffindor                                       56\n",
       "Slytherin                                        36\n",
       "Ravenclaw                                        29\n",
       "Hufflepuff                                       23\n",
       "House of Black                                    9\n",
       "Malfoy family                                     3\n",
       "Gryffindor (possibly)                             3\n",
       "Slytherin (possibly)                              3\n",
       "Unknown                                           3\n",
       "House of Gaunt                                    2\n",
       "Gryffindor, Hufflepuff, or Slytherin              2\n",
       "Ravenclaw (possibly)                              2\n",
       "House of Black (formerly)                         2\n",
       "Gryffindor (likely)                               2\n",
       "Slytherin (likely)                                2\n",
       "Hufflepuff (likely)                               2\n",
       "Riddle family (formerly)                          1\n",
       "Hufflepuff (possibly)                             1\n",
       "Lord Voldemort                                    1\n",
       "Hogwarts School of Witchcraft and Wizardry        1\n",
       "Arthur Weasley (paternal grandfather)             1\n",
       "House of Black (disowned posthumously)            1\n",
       "Slytherin (most likely)                           1\n",
       "Ravenclaw (likely)                                1\n",
       "House of Gaunt (abandoned)                        1\n",
       "Salazar Slytherin                                 1\n",
       "Septimus Weasley (paternal great-grandfather)     1\n",
       "Name: house, dtype: int64"
      ]
     },
     "execution_count": 12,
     "metadata": {},
     "output_type": "execute_result"
    }
   ],
   "source": [
    "df_hp_chars['house'].value_counts()"
   ]
  },
  {
   "cell_type": "markdown",
   "id": "0d17a02a-20fb-43c9-a48c-db92bcad6de6",
   "metadata": {},
   "source": [
    "We can see that unfortunately, they are a lot more houses than the 4 expected. We will have to do data cleaning in order to fall back in the data format we format. From the above data, even He-Who-Must-Not-Be-Named seems to have created a new house containing only one person... "
   ]
  },
  {
   "cell_type": "code",
   "execution_count": 13,
   "id": "b40729f7-c6bc-4272-b4d2-ca3aebcbd14b",
   "metadata": {},
   "outputs": [
    {
     "data": {
      "text/html": [
       "<div>\n",
       "<style scoped>\n",
       "    .dataframe tbody tr th:only-of-type {\n",
       "        vertical-align: middle;\n",
       "    }\n",
       "\n",
       "    .dataframe tbody tr th {\n",
       "        vertical-align: top;\n",
       "    }\n",
       "\n",
       "    .dataframe thead th {\n",
       "        text-align: right;\n",
       "    }\n",
       "</style>\n",
       "<table border=\"1\" class=\"dataframe\">\n",
       "  <thead>\n",
       "    <tr style=\"text-align: right;\">\n",
       "      <th></th>\n",
       "      <th>name</th>\n",
       "      <th>birth</th>\n",
       "      <th>death</th>\n",
       "      <th>species</th>\n",
       "      <th>ancestry</th>\n",
       "      <th>gender</th>\n",
       "      <th>hair_color</th>\n",
       "      <th>eye_color</th>\n",
       "      <th>wand</th>\n",
       "      <th>patronus</th>\n",
       "      <th>house</th>\n",
       "      <th>associated_groups</th>\n",
       "      <th>books_featured_in</th>\n",
       "      <th>nb_books_featured_in</th>\n",
       "    </tr>\n",
       "  </thead>\n",
       "  <tbody>\n",
       "    <tr>\n",
       "      <th>241</th>\n",
       "      <td>Rodolphus Lestrange</td>\n",
       "      <td>Pre 1964</td>\n",
       "      <td>None</td>\n",
       "      <td>Human</td>\n",
       "      <td>Pure-blood</td>\n",
       "      <td>Male</td>\n",
       "      <td>Dark</td>\n",
       "      <td>Dark</td>\n",
       "      <td>None</td>\n",
       "      <td>None</td>\n",
       "      <td>Lord Voldemort</td>\n",
       "      <td>[]</td>\n",
       "      <td>[4, 5, 7]</td>\n",
       "      <td>3</td>\n",
       "    </tr>\n",
       "  </tbody>\n",
       "</table>\n",
       "</div>"
      ],
      "text/plain": [
       "                    name     birth death species    ancestry gender  \\\n",
       "241  Rodolphus Lestrange  Pre 1964  None   Human  Pure-blood   Male   \n",
       "\n",
       "    hair_color eye_color  wand patronus           house associated_groups  \\\n",
       "241       Dark      Dark  None     None  Lord Voldemort                []   \n",
       "\n",
       "    books_featured_in  nb_books_featured_in  \n",
       "241         [4, 5, 7]                     3  "
      ]
     },
     "execution_count": 13,
     "metadata": {},
     "output_type": "execute_result"
    }
   ],
   "source": [
    "df_hp_chars[df_hp_chars['house']=='Lord Voldemort'].head(10)"
   ]
  },
  {
   "cell_type": "markdown",
   "id": "bab5dbfa-2dcf-4c89-b785-8f951770d073",
   "metadata": {},
   "source": [
    "Rodolphus Lestrange is in fact one of the most death eather serving Lord Voldemort, it is also known that it belongs to the Slytherin house, we will correct this in a global function later. Another choice that we made is the fact that for all *likely/possibly* houses, we will remove the probably and put them in the house. The next interesting thing is that the basilisk (which is a snake) seems to belong to an house, we will remove this from the house column and put in the associated groups later. "
   ]
  },
  {
   "cell_type": "code",
   "execution_count": 14,
   "id": "84bf4ffe-55bb-403e-8742-e556a2594d88",
   "metadata": {},
   "outputs": [
    {
     "data": {
      "text/html": [
       "<div>\n",
       "<style scoped>\n",
       "    .dataframe tbody tr th:only-of-type {\n",
       "        vertical-align: middle;\n",
       "    }\n",
       "\n",
       "    .dataframe tbody tr th {\n",
       "        vertical-align: top;\n",
       "    }\n",
       "\n",
       "    .dataframe thead th {\n",
       "        text-align: right;\n",
       "    }\n",
       "</style>\n",
       "<table border=\"1\" class=\"dataframe\">\n",
       "  <thead>\n",
       "    <tr style=\"text-align: right;\">\n",
       "      <th></th>\n",
       "      <th>name</th>\n",
       "      <th>birth</th>\n",
       "      <th>death</th>\n",
       "      <th>species</th>\n",
       "      <th>ancestry</th>\n",
       "      <th>gender</th>\n",
       "      <th>hair_color</th>\n",
       "      <th>eye_color</th>\n",
       "      <th>wand</th>\n",
       "      <th>patronus</th>\n",
       "      <th>house</th>\n",
       "      <th>associated_groups</th>\n",
       "      <th>books_featured_in</th>\n",
       "      <th>nb_books_featured_in</th>\n",
       "    </tr>\n",
       "  </thead>\n",
       "  <tbody>\n",
       "    <tr>\n",
       "      <th>653</th>\n",
       "      <td>Serpent of Slytherin</td>\n",
       "      <td>c. 993</td>\n",
       "      <td>29 May, 1993 (aged around 1000)</td>\n",
       "      <td>Basilisk</td>\n",
       "      <td>None</td>\n",
       "      <td>Female</td>\n",
       "      <td>None</td>\n",
       "      <td>Yellow</td>\n",
       "      <td>None</td>\n",
       "      <td>None</td>\n",
       "      <td>Salazar Slytherin</td>\n",
       "      <td>[]</td>\n",
       "      <td>[2, 3, 4, 5, 6, 7]</td>\n",
       "      <td>6</td>\n",
       "    </tr>\n",
       "  </tbody>\n",
       "</table>\n",
       "</div>"
      ],
      "text/plain": [
       "                     name   birth                            death   species  \\\n",
       "653  Serpent of Slytherin  c. 993  29 May, 1993 (aged around 1000)  Basilisk   \n",
       "\n",
       "    ancestry  gender hair_color eye_color  wand patronus              house  \\\n",
       "653     None  Female       None    Yellow  None     None  Salazar Slytherin   \n",
       "\n",
       "    associated_groups   books_featured_in  nb_books_featured_in  \n",
       "653                []  [2, 3, 4, 5, 6, 7]                     6  "
      ]
     },
     "execution_count": 14,
     "metadata": {},
     "output_type": "execute_result"
    }
   ],
   "source": [
    "df_hp_chars[df_hp_chars['house']=='Salazar Slytherin'].head(10)"
   ]
  },
  {
   "cell_type": "markdown",
   "id": "cf3a355f-70a0-4b94-bace-7ad191eccf25",
   "metadata": {},
   "source": [
    "The same thing will happen to people belonging to the House of Gaunt that do not attend any course at Hogwarts."
   ]
  },
  {
   "cell_type": "markdown",
   "id": "0921c12b-5dec-4f8f-964c-d636b6a1d77e",
   "metadata": {},
   "source": [
    "Phineas Nigellus Black is a wizard belonging to the Slytherin house and become later headmaster of Hogwarts, we will also correct this issue. All humans from the Black family are known to belong to the Slytherin house (except Sirius =D, but it is not considered as member of the House of Black by the dataset), we will therefore also move them into the corresponding house. Similarly, all the members of the Malfoy family are known to belong the Slytherin house. The other cases which we do not discussed are negligible and their houses will simply be removed.\n",
    "\n",
    "Note that for this part, we did not have any other choice than inspecting the cases one by one and to take a decision to improve our data. That's the reason why in the above cells, we add known and verified association as well as cleaning as explained above. "
   ]
  },
  {
   "cell_type": "code",
   "execution_count": 15,
   "id": "ca5f092d-9e35-4e51-aa9d-50ec84210f24",
   "metadata": {},
   "outputs": [],
   "source": [
    "def custom_association(name, house, assoc):\n",
    "    \"\"\"\n",
    "    Add custom, known and meaningful associations from the Harry Potter saga for some character of the Harry Potter saga\n",
    "    Parameters:\n",
    "    -----------\n",
    "        - name: the name text field in a row of the dataframe        \n",
    "        - house: the house text field in a row of the dataframe\n",
    "        - assoc: the associated_groups in a row of the dataframe\n",
    "    Return:\n",
    "    -----------\n",
    "        - the list of associations including the custom one\n",
    "    \"\"\"\n",
    "    if house == \"House of Gaunt\":\n",
    "        return assoc + [\"House of Gaunt\"]\n",
    "    elif house == \"House of Gaunt (abandoned)\":\n",
    "        return assoc + [\"House of Gaunt\",\"Riddle family\"]\n",
    "    elif name == \"Tom Riddle (Voldemort)\":\n",
    "        return assoc + [\"Lord Voldemort\",\"House of Gaunt\", \"Riddle family\", \"Hogwarts School of Witchcraft and Wizardry\"]\n",
    "    elif name == \"Narcissa Malfoy\":\n",
    "        return assoc + [\"House of Black\",'Malfoy family', \"Hogwarts School of Witchcraft and Wizardry\"]\n",
    "    elif name == \"Bellatrix Lestrange\":\n",
    "        return assoc + [\"House of Black\",'Malfoy family', \"Hogwarts School of Witchcraft and Wizardry\"]\n",
    "    elif house == \"House of Black\":\n",
    "        return  assoc+[\"House of Black\"]\n",
    "    elif house == 'House of Black (formerly)':\n",
    "        return  assoc+[\"House of Black\"]\n",
    "    elif house == 'Malfoy family':\n",
    "        return  assoc+['Malfoy family']\n",
    "    elif house == \"Riddle family (formerly)\":\n",
    "        return  assoc+[\"Riddle family\"]\n",
    "    elif house == \"Hogwarts School of Witchcraft and Wizardry\":\n",
    "        return  assoc+[\"House of Black\"]\n",
    "    else:\n",
    "        return assoc\n",
    "\n",
    "def format_house(house):\n",
    "    \"\"\"\n",
    "    Clean the house columns of the dataframe so that there are only the 4 expected houses remaining.\n",
    "    Parameters:\n",
    "    -----------\n",
    "        - house: the house text field in a row of the dataframe\n",
    "    Return:\n",
    "    -----------\n",
    "        - the formatted house name\n",
    "    \"\"\"\n",
    "    if house is None:\n",
    "        return None\n",
    "    if house == \"Lord Voldemort\" or house=='Hogwarts School of Witchcraft and Wizardry': \n",
    "        return \"Slytherin\"\n",
    "    elif \"Hufflepuff\" in house:\n",
    "        return \"Hufflepuff\"\n",
    "    elif \"Gryffindor\" in house:\n",
    "        return \"Gryffindor\"\n",
    "    elif \"Slytherin\" in house or \"House of Black\" in house:\n",
    "        return \"Slytherin\"\n",
    "    elif \"Ravenclaw\" in house:\n",
    "        return \"Ravenclaw\"\n",
    "    else: \n",
    "        return None\n",
    "    \n",
    "def add_house_as_association_if_not_already(house, assoc):\n",
    "    \"\"\"\n",
    "    Add the house of characters as an association if it is not already done\n",
    "    Parameters:\n",
    "    -----------\n",
    "        - house: the house text field in a row of the dataframe\n",
    "        - assoc: the associated_groups field in a row of the dataframe\n",
    "    Returns:\n",
    "    -----------\n",
    "        - the list of association including the house of the character\n",
    "    \"\"\"\n",
    "    if house is None:\n",
    "        return assoc\n",
    "    else: \n",
    "        if 'Hogwarts School of Witchcraft and Wizardry' in assoc:\n",
    "            return assoc if house in assoc else assoc +[house]\n",
    "        else:\n",
    "            return assoc if house in assoc else assoc +[house,'Hogwarts School of Witchcraft and Wizardry']\n",
    "        "
   ]
  },
  {
   "cell_type": "code",
   "execution_count": 16,
   "id": "a8331635-7880-4875-bb84-76c0988b8cf5",
   "metadata": {},
   "outputs": [],
   "source": [
    "# Add custom associations\n",
    "df_hp_chars['associated_groups'] = df_hp_chars.apply(lambda x: custom_association(x['name'], x['house'], x['associated_groups']),axis=1)\n",
    "# Format the house name of the characters\n",
    "df_hp_chars['house'] = df_hp_chars['house'].apply(format_house)\n",
    "# Add house as an association for each character\n",
    "df_hp_chars['associated_groups'] = df_hp_chars.apply(lambda x: add_house_as_association_if_not_already(x['house'], x['associated_groups']),axis=1)"
   ]
  },
  {
   "cell_type": "code",
   "execution_count": 17,
   "id": "35f2dc7f-89e6-491c-bcd3-a2df6a05b78f",
   "metadata": {},
   "outputs": [
    {
     "data": {
      "image/png": "[encoded data removed]",
      "text/plain": [
       "<Figure size 576x432 with 1 Axes>"
      ]
     },
     "metadata": {},
     "output_type": "display_data"
    }
   ],
   "source": [
    "plot_pie(df_hp_chars, \"house\")"
   ]
  },
  {
   "cell_type": "markdown",
   "id": "c53d1f85-0d05-4221-9779-fc2e82a9b55d",
   "metadata": {},
   "source": [
    "By reading the books, we kind of have the feeling that we are introduced to a lot of Gryffindor people (as the good people) and a lot of Syltherin guys (as the bad people). So it is natural that the majority of the characters came from these two houses. Nevertheless, we were suprised to have such a high number of characters in the two remaining houses but it is a really good thing. It is possible that our visualisation would have made less sense if the distribution of the characters over the houses was almost inexistent for the two other houses. "
   ]
  },
  {
   "cell_type": "markdown",
   "id": "95235fda-9f1b-4e1b-b604-e75ae7d0c2c2",
   "metadata": {},
   "source": [
    "#### Wands"
   ]
  },
  {
   "cell_type": "markdown",
   "id": "fe1c53f9-5be5-4453-8dc4-2dc2b98fcde2",
   "metadata": {},
   "source": [
    "We wil now explore the different known wands from the Harry Potter series. The wand is really the tool making people specials. The wands have different sizes, cores and wood types. One of our idea of interactive visualiation will be to propose to the user to choose components of the wand and display to him/her the closest character in terms of wand components. "
   ]
  },
  {
   "cell_type": "code",
   "execution_count": 18,
   "id": "3ff830be-3cde-4c08-aee9-3fe33607098c",
   "metadata": {},
   "outputs": [
    {
     "data": {
      "text/plain": [
       "(27, 5)"
      ]
     },
     "execution_count": 18,
     "metadata": {},
     "output_type": "execute_result"
    }
   ],
   "source": [
    "df_wands = pd.read_json(hpcollection_folder+\"wand.json\")\n",
    "df_wands.shape"
   ]
  },
  {
   "cell_type": "markdown",
   "id": "bb35eb2b-68de-465d-9db5-f1e6055756ab",
   "metadata": {},
   "source": [
    "We can see that despite the high number of characters (707) introduced in the book series, we only know the wand composition of 27 of them. For our interactive visualisation, this can be a bit limiting. However, the known wands are probably the ones of the most famous characters, we hope that it will do the job. "
   ]
  },
  {
   "cell_type": "code",
   "execution_count": 19,
   "id": "862187ba-ee2e-4e92-b7bf-e44f463583ac",
   "metadata": {},
   "outputs": [
    {
     "data": {
      "text/html": [
       "<div>\n",
       "<style scoped>\n",
       "    .dataframe tbody tr th:only-of-type {\n",
       "        vertical-align: middle;\n",
       "    }\n",
       "\n",
       "    .dataframe tbody tr th {\n",
       "        vertical-align: top;\n",
       "    }\n",
       "\n",
       "    .dataframe thead th {\n",
       "        text-align: right;\n",
       "    }\n",
       "</style>\n",
       "<table border=\"1\" class=\"dataframe\">\n",
       "  <thead>\n",
       "    <tr style=\"text-align: right;\">\n",
       "      <th></th>\n",
       "      <th>name</th>\n",
       "      <th>birth</th>\n",
       "      <th>death</th>\n",
       "      <th>species</th>\n",
       "      <th>ancestry</th>\n",
       "      <th>gender</th>\n",
       "      <th>hair_color</th>\n",
       "      <th>eye_color</th>\n",
       "      <th>patronus</th>\n",
       "      <th>house</th>\n",
       "      <th>associated_groups</th>\n",
       "      <th>books_featured_in</th>\n",
       "      <th>nb_books_featured_in</th>\n",
       "      <th>wood</th>\n",
       "      <th>length</th>\n",
       "      <th>core</th>\n",
       "      <th>Note</th>\n",
       "    </tr>\n",
       "  </thead>\n",
       "  <tbody>\n",
       "    <tr>\n",
       "      <th>0</th>\n",
       "      <td>Euan Abercrombie</td>\n",
       "      <td>between 1 September 1983 and 31 August 1984</td>\n",
       "      <td>None</td>\n",
       "      <td>Human</td>\n",
       "      <td>None</td>\n",
       "      <td>Male</td>\n",
       "      <td>None</td>\n",
       "      <td>None</td>\n",
       "      <td>None</td>\n",
       "      <td>Gryffindor</td>\n",
       "      <td>[Hogwarts School of Witchcraft and Wizardry, G...</td>\n",
       "      <td>[5]</td>\n",
       "      <td>1</td>\n",
       "      <td>NaN</td>\n",
       "      <td>NaN</td>\n",
       "      <td>NaN</td>\n",
       "      <td>NaN</td>\n",
       "    </tr>\n",
       "  </tbody>\n",
       "</table>\n",
       "</div>"
      ],
      "text/plain": [
       "               name                                        birth death  \\\n",
       "0  Euan Abercrombie  between 1 September 1983 and 31 August 1984  None   \n",
       "\n",
       "  species ancestry gender hair_color eye_color patronus       house  \\\n",
       "0   Human     None   Male       None      None     None  Gryffindor   \n",
       "\n",
       "                                   associated_groups books_featured_in  \\\n",
       "0  [Hogwarts School of Witchcraft and Wizardry, G...               [5]   \n",
       "\n",
       "   nb_books_featured_in wood  length core Note  \n",
       "0                     1  NaN     NaN  NaN  NaN  "
      ]
     },
     "execution_count": 19,
     "metadata": {},
     "output_type": "execute_result"
    }
   ],
   "source": [
    "df_hp_chars = df_hp_chars.merge(df_wands, how='left',left_on='name', right_on='name').drop('wand', axis=1)\n",
    "df_hp_chars.head(1)"
   ]
  },
  {
   "cell_type": "markdown",
   "id": "83518c57-b992-458e-9831-6125f82580e4",
   "metadata": {},
   "source": [
    "In the above cell, we merge the wand information into the characters dataframe so that we have all the information in the same place. Let's now have a look at the different components of the wand. "
   ]
  },
  {
   "cell_type": "code",
   "execution_count": 20,
   "id": "2b7e93c2-db8b-428b-bd86-4b61918ae014",
   "metadata": {},
   "outputs": [
    {
     "data": {
      "image/png": "[encoded data removed]",
      "text/plain": [
       "<Figure size 576x432 with 1 Axes>"
      ]
     },
     "metadata": {},
     "output_type": "display_data"
    }
   ],
   "source": [
    "plot_pie(df_hp_chars, \"core\")"
   ]
  },
  {
   "cell_type": "markdown",
   "id": "4c36bb7f-adb1-4ca1-a6dd-4124eb4e093f",
   "metadata": {},
   "source": [
    " Although this is quite obvious it is still important to notice that the 3 components used by Ollivander (the London wand maker) are the most popular in the saga. This makes sense as Ollivander is one of the most famous wand maker as well as the closet place where Hogwarts students can buy a wand. To continue with the wand analysis, we will quickly inspect the diferent type of woods used. "
   ]
  },
  {
   "cell_type": "code",
   "execution_count": 21,
   "id": "f5a2ea2c-401f-413b-bb62-dbf1523ebccf",
   "metadata": {},
   "outputs": [
    {
     "data": {
      "text/plain": [
       "Walnut      2\n",
       "Cherry      2\n",
       "Ash         1\n",
       "Yew         1\n",
       "Larch       1\n",
       "Birch       1\n",
       "Hazel       1\n",
       "Fir         1\n",
       "Vine        1\n",
       "Rosewood    1\n",
       "Willow      1\n",
       "Cedar       1\n",
       "Alder       1\n",
       "Mahogany    1\n",
       "Holly       1\n",
       "Chestnut    1\n",
       "Hornbeam    1\n",
       "Elm         1\n",
       "Hawthorn    1\n",
       "Cypress     1\n",
       "Elder       1\n",
       "Name: wood, dtype: int64"
      ]
     },
     "execution_count": 21,
     "metadata": {},
     "output_type": "execute_result"
    }
   ],
   "source": [
    "df_hp_chars['wood'].value_counts()"
   ]
  },
  {
   "cell_type": "markdown",
   "id": "79999ba4-b58c-4208-9fbf-c7f9ec3841b2",
   "metadata": {},
   "source": [
    "From the above counts, we can see that the known wand mostly have different woods, this is a great news for our interactive visualisation as this means that choosing a wood will drastically constraint the set of similar characters. "
   ]
  },
  {
   "cell_type": "markdown",
   "id": "7f7fd776-3a6f-4ff7-ba94-839b8e90d305",
   "metadata": {},
   "source": [
    "#### Physical traits"
   ]
  },
  {
   "cell_type": "markdown",
   "id": "4e11a223-1ecb-40cb-b01f-260acd4e50bc",
   "metadata": {},
   "source": [
    "Another interesting feature of this dataset is the physical characteristics such as the eye and hair color that might be available for some characters. Let us first see for how many information we have on the characters. "
   ]
  },
  {
   "cell_type": "code",
   "execution_count": 22,
   "id": "eb6d7f09-f310-485c-a1b2-37bf3710633a",
   "metadata": {},
   "outputs": [
    {
     "data": {
      "text/plain": [
       "eye_color     144\n",
       "hair_color    282\n",
       "dtype: int64"
      ]
     },
     "execution_count": 22,
     "metadata": {},
     "output_type": "execute_result"
    }
   ],
   "source": [
    "df_hp_chars.loc[:,['eye_color', \"hair_color\"]].count()"
   ]
  },
  {
   "cell_type": "markdown",
   "id": "8754ff7e-7062-4176-af11-5bba60ab4bbf",
   "metadata": {},
   "source": [
    "Among the 707 characters, we have \"only\" information for 144 of them about the eye and 282 about the hairs. We will just look at the distribution of the different hair and eye colors."
   ]
  },
  {
   "cell_type": "code",
   "execution_count": 23,
   "id": "4ca106e6-03c6-435d-9d8a-5ab7b2a42684",
   "metadata": {},
   "outputs": [
    {
     "data": {
      "text/plain": [
       "Blue                                25\n",
       "Brown                               23\n",
       "Green                               18\n",
       "Dark                                18\n",
       "Black                               15\n",
       "Grey                                 8\n",
       "Yellow                               5\n",
       "Bright brown                         3\n",
       "Bright green                         2\n",
       "Hazel                                2\n",
       "Orange                               1\n",
       "Dark grey                            1\n",
       "Yellow and lamp-like                 1\n",
       "Pale silvery (possibly)              1\n",
       "Pale silvery                         1\n",
       "Dark green                           1\n",
       "Amber                                1\n",
       "\"Gimlet-eyed\"                        1\n",
       "Dark blue                            1\n",
       "Gooseberry                           1\n",
       "Yellowish                            1\n",
       "Scarlet (formerly dark brown)        1\n",
       "Bottle green                         1\n",
       "Grey/Blue                            1\n",
       "Black & Grey/Milky-White (Blind)     1\n",
       "Silvery                              1\n",
       "One dark, one electric blue          1\n",
       "Variable                             1\n",
       "Baby blue                            1\n",
       "Brown-green                          1\n",
       "Dark, shrewd and narrow              1\n",
       "Astonishingly blue                   1\n",
       "Pale                                 1\n",
       "Bright blue                          1\n",
       "Variable (Dark)                      1\n",
       "Name: eye_color, dtype: int64"
      ]
     },
     "execution_count": 23,
     "metadata": {},
     "output_type": "execute_result"
    }
   ],
   "source": [
    "df_hp_chars['eye_color'].value_counts()"
   ]
  },
  {
   "cell_type": "code",
   "execution_count": 24,
   "id": "0f9f9ce1-0af0-48bc-b880-ab2d53fa0412",
   "metadata": {},
   "outputs": [
    {
     "data": {
      "text/plain": [
       "Black                      45\n",
       "Brown                      38\n",
       "Grey                       24\n",
       "Dark                       22\n",
       "Blonde                     21\n",
       "                           ..\n",
       "Brown and white             1\n",
       "Brown/greying               1\n",
       "Red brown                   1\n",
       "Tawny                       1\n",
       "Silver, formerly auburn     1\n",
       "Name: hair_color, Length: 70, dtype: int64"
      ]
     },
     "execution_count": 24,
     "metadata": {},
     "output_type": "execute_result"
    }
   ],
   "source": [
    "df_hp_chars['hair_color'].value_counts()"
   ]
  },
  {
   "cell_type": "markdown",
   "id": "d22ab965-23b5-432f-8975-7c9e79a4c3d9",
   "metadata": {},
   "source": [
    "As we can see, there are a really huge amount of eye and hair colors (35 and 70). So, it will be hard to extract anything useful for a visualisation. What we will probably do is just display these information under the \"personal page\" of each character. "
   ]
  },
  {
   "cell_type": "markdown",
   "id": "09343554-3059-48b1-bc12-37961189fa17",
   "metadata": {},
   "source": [
    "#### Blood types"
   ]
  },
  {
   "cell_type": "markdown",
   "id": "0e96ea8f-0843-4aaa-a1d5-179f5e3156bc",
   "metadata": {},
   "source": [
    "In Harry Potter, the blood type is something important for the antagonists of the Boy-Who-Lived which want the population of being made of Pure or Half-blood, even though most of the characters don't care about the blood ascendent of others.\n",
    "\n",
    "It might be interesting to see the distribution of blood types over the characters. Furthermore, since one of our visualisations will probably be based on the blood types, it is important to check what data we got. "
   ]
  },
  {
   "cell_type": "code",
   "execution_count": 25,
   "id": "4fe10a30-9e4b-45df-a1cb-c4b387ed2d66",
   "metadata": {},
   "outputs": [],
   "source": [
    "def format_blood_type(blood):\n",
    "    \"\"\"\n",
    "    Format the given blood type string\n",
    "    Parameters:\n",
    "    -----------\n",
    "        - blood: the blood text fielf of the dataframe\n",
    "    Returns:\n",
    "    -----------\n",
    "        - the formatted blood type\n",
    "    \"\"\"\n",
    "    if blood is None or \"Magical to some extent\" == blood or blood == \"Magical to unknown extent\" or \"Underbeing\"==blood: \n",
    "        return None\n",
    "    if \"pure-blood or half-blood\" in blood.lower() or \"half-blood or pure-blood\" in blood.lower() or \"Pure blood or Half-blood\" == blood:\n",
    "        return \"Pure-blood or Half-blood\"\n",
    "    elif \"Muggle-born or half-blood\" == blood:\n",
    "        return \"Muggle-born or Half-blood\"\n",
    "    elif \"muggle-born\" in blood.lower():\n",
    "        return \"Muggle-born\"\n",
    "    elif \"squib\" in blood.lower():\n",
    "        return \"Squib\"\n",
    "    elif \"Part-Human (Half-giant)\" == blood: \n",
    "        return \"Part-Human (Half-giant)\"\n",
    "    elif \"pure-blood\" in blood.lower(): \n",
    "        return \"Pure-blood\"\n",
    "    elif \"half-blood\" in blood.lower():\n",
    "        return \"Half-blood\"\n",
    "    elif \"Muggle\" == blood or \"Muggles\" == blood:\n",
    "        return \"Muggle\"\n",
    "    else:\n",
    "        return blood\n",
    "    "
   ]
  },
  {
   "cell_type": "markdown",
   "id": "40d30235-e0cc-4813-9e79-2cfcce4026a3",
   "metadata": {},
   "source": [
    "The above function will just map the blood type string to the same baseline (with the same upper and lower case) so that it is easier to group them. "
   ]
  },
  {
   "cell_type": "code",
   "execution_count": 26,
   "id": "26ef46e2-e7b5-4866-a707-564135086ffd",
   "metadata": {},
   "outputs": [
    {
     "data": {
      "text/plain": [
       "Pure-blood or Half-blood     100\n",
       "Muggle                        74\n",
       "Pure-blood                    73\n",
       "Half-blood                    32\n",
       "Muggle-born                   15\n",
       "Squib                          8\n",
       "Muggle-born or Half-blood      2\n",
       "Part-Human (Half-giant)        2\n",
       "Quarter-Veela                  2\n",
       "Part-Goblin                    1\n",
       "Giant                          1\n",
       "Half-Veela                     1\n",
       "One-eighth Veela               1\n",
       "Name: ancestry, dtype: int64"
      ]
     },
     "execution_count": 26,
     "metadata": {},
     "output_type": "execute_result"
    }
   ],
   "source": [
    "df_hp_chars['ancestry'] = df_hp_chars['ancestry'].apply(format_blood_type)\n",
    "df_hp_chars['ancestry'].value_counts()"
   ]
  },
  {
   "cell_type": "markdown",
   "id": "64512410-453d-4969-becc-4044d97b714c",
   "metadata": {},
   "source": [
    "So we can see that most of the characters are humans and most of them belong to the Wizarding world (i.e. they are not muggles). Interestingly, we can see that muggle characters are well-represented throughout this dataset with 74 people. Note that people mark as 1/8, 1/4 and 1/2 Veela correspond to humans, in fact they precisely belong to the same french family Delacourt. We can see that we have a very rich and diverse dataset in terms of blood types. \n",
    "\n",
    "As we planned to make some kind of Sankey Diagram between the preferred characters and their blood types, such a diversity will give a lot of sense to our visualisation. "
   ]
  },
  {
   "cell_type": "markdown",
   "id": "18b2aee4-f155-47c8-aca4-a2cc38e84160",
   "metadata": {},
   "source": [
    "#### Species"
   ]
  },
  {
   "cell_type": "markdown",
   "id": "df014f8f-7168-4fc7-9dd4-a78e33525373",
   "metadata": {},
   "source": [
    "One last thing before exploring the connection between characters is to check whether they are human or not. If not, how many of them represent other types of creatures... "
   ]
  },
  {
   "cell_type": "code",
   "execution_count": 27,
   "id": "238657ba-8ed7-406d-9e2f-da59a83a0358",
   "metadata": {},
   "outputs": [
    {
     "data": {
      "text/plain": [
       "Human                                      589\n",
       "Human (formerly)                            11\n",
       "Goblin                                       7\n",
       "House-elf                                    7\n",
       "Giant                                        6\n",
       "Human (Seer)                                 4\n",
       "Centaur                                      4\n",
       "Humans                                       4\n",
       "Human (Veela ancestry)                       2\n",
       "Vampire                                      2\n",
       "Human (Metamorphmagus)                       2\n",
       "Werewolf (formerly Human)                    2\n",
       "Acromantula                                  2\n",
       "Ghoul                                        1\n",
       "Werewolf                                     1\n",
       "Veela or part-Veela                          1\n",
       "Half-Human                                   1\n",
       "Veela                                        1\n",
       "Toad                                         1\n",
       "1/4 Veela                                    1\n",
       "Thestral                                     1\n",
       "Human (Werewolf traits)                      1\n",
       "Snowy Owl                                    1\n",
       "Portrait; formerly Human                     1\n",
       "Humans (formerly)                            1\n",
       "Half-human/Half-giant                        1\n",
       "Human or Giantess                            1\n",
       "Selkie (Merpeople)                           1\n",
       "Human (Maledictus affliction; formerly)      1\n",
       "Norwegian Ridgeback                          1\n",
       "Cat                                          1\n",
       "Mermaid                                      1\n",
       "Basilisk                                     1\n",
       "Deity                                        1\n",
       "Owl                                          1\n",
       "Part-Kneazle                                 1\n",
       "Dog (breed: bulldog)                         1\n",
       "Scops owl                                    1\n",
       "Pygmy Puff                                   1\n",
       "Rabbit                                       1\n",
       "Hippogriff                                   1\n",
       "Half-Kneazle                                 1\n",
       "Ghost                                        1\n",
       "Great grey owl                               1\n",
       "Boarhound                                    1\n",
       "Phoenix                                      1\n",
       "Human (Goblin ancestry)                      1\n",
       "Three-headed dog                             1\n",
       "Part-troll human (possibly)                  1\n",
       "Gorilla                                      1\n",
       "Half-Human/Half-Giant                        1\n",
       "Shrunken Head                                1\n",
       "Screech owl                                  1\n",
       "Mice                                         1\n",
       "House-elves                                  1\n",
       "Human or Giant                               1\n",
       "Peacock                                      1\n",
       "Part-Kneazle cat                             1\n",
       "Poltergeist                                  1\n",
       "Portrait                                     1\n",
       "Name: species, dtype: int64"
      ]
     },
     "execution_count": 27,
     "metadata": {},
     "output_type": "execute_result"
    }
   ],
   "source": [
    "df_hp_chars['species'].value_counts()"
   ]
  },
  {
   "cell_type": "markdown",
   "id": "75738012-92e4-4d4a-b220-4acd6838136e",
   "metadata": {},
   "source": [
    "We can see that there are a lot of different species. We will try to group them in smaller subgroups so that our subsequent analyses will be easier. Our choices included: \n",
    "- Transform Human (formerly) as Ghost as they all correspond to humans. We also choose to group all the human into the Human group and not having subcategory anymore. \n",
    "- Put all types of owl in one group, similar for the dog, half-human/half-giant snake and werevolves.\n",
    "- For the iconic character, we keep their species.\n",
    "- For characters with a super specific specy such as Part-Kneazle cat or Peacock which doesn't correspond to a well known characters, we choose to remove their species in order to keep all the things simple. "
   ]
  },
  {
   "cell_type": "code",
   "execution_count": 28,
   "id": "87e3e09a-7049-4a44-8d19-6bb3d7df4b5e",
   "metadata": {},
   "outputs": [],
   "source": [
    "def format_species(species):\n",
    "    \"\"\"\n",
    "    Format the species field from the characters dataframe\n",
    "    Parameters:\n",
    "    -----------\n",
    "        - species: the species text field from the dataframe\n",
    "    Returns:\n",
    "    -----------\n",
    "        - Th formatted species field\n",
    "    \"\"\"\n",
    "    if species is not None:\n",
    "        if species in [\"Screech owl\",\"Great grey owl\",\"Scops owl\",\"Owl\",\"Snowy Owl\"]:\n",
    "            return \"Owl\"\n",
    "        elif species in [\"Half-Human/Half-Giant\",\"Half-human/Half-giant\"]:\n",
    "            return \"Half-Human/Half-Giant\"\n",
    "        elif species in [\"Three-headed dog\",\"Boarhound\",\"Dog (breed: bulldog)\"]:\n",
    "            return \"Dog\"\n",
    "        elif species in[\"Human (Goblin ancestry)\",\"1/4 Veela\", \"Human (Metamorphmagus)\",\"Human (Veela ancestry)\",\"Humans\",\"Human (Seer)\",\"Human\"]:\n",
    "            return \"Human\"\n",
    "        elif species in [\"Phoenix\", \"Ghost\",\"Poltergeist\",\"Hippogriff\",\"Basilisk\",\"Cat\",\"Norwegian Ridgeback\",\"Thestral\",\"Acromantula\",\"Centaur\",\"Giant\",\"House-elf\",\"Goblin\"] :\n",
    "            return species\n",
    "        elif species == \"Human (formerly)\":\n",
    "            return \"Ghost\"\n",
    "        elif species in [\"Portrait; formerly Human\", \"Portrait\"]:\n",
    "            return \"Portrait\"\n",
    "        elif species == \"Human (Maledictus affliction; formerly)\":\n",
    "            return \"Snake\"\n",
    "        elif species ==\"Werewolf (formerly Human)\":\n",
    "            return \"Human-werevolf\"\n",
    "    return None\n",
    "    "
   ]
  },
  {
   "cell_type": "code",
   "execution_count": 29,
   "id": "c2492ded-8332-4be2-8af1-dd0a04f0b29e",
   "metadata": {},
   "outputs": [
    {
     "data": {
      "text/plain": [
       "Human                    603\n",
       "Ghost                     12\n",
       "Goblin                     7\n",
       "House-elf                  7\n",
       "Giant                      6\n",
       "Owl                        5\n",
       "Centaur                    4\n",
       "Dog                        3\n",
       "Acromantula                2\n",
       "Human-werevolf             2\n",
       "Half-Human/Half-Giant      2\n",
       "Portrait                   2\n",
       "Hippogriff                 1\n",
       "Phoenix                    1\n",
       "Poltergeist                1\n",
       "Thestral                   1\n",
       "Snake                      1\n",
       "Norwegian Ridgeback        1\n",
       "Cat                        1\n",
       "Basilisk                   1\n",
       "Name: species, dtype: int64"
      ]
     },
     "execution_count": 29,
     "metadata": {},
     "output_type": "execute_result"
    }
   ],
   "source": [
    "df_hp_chars['species'] = df_hp_chars['species'].apply(format_species)\n",
    "df_hp_chars['species'].value_counts()"
   ]
  },
  {
   "cell_type": "markdown",
   "id": "59a7e7cd-3230-43e8-9ee6-2c081ab041e5",
   "metadata": {},
   "source": [
    "With all the processing, we end-up with a shorter list of species which makes more sense."
   ]
  },
  {
   "cell_type": "markdown",
   "id": "b5c955ba-1a42-4586-b8bc-2998d0bc5141",
   "metadata": {
    "tags": []
   },
   "source": [
    "#### Association between characters"
   ]
  },
  {
   "cell_type": "markdown",
   "id": "27d87b00-387c-4379-8ed4-6002e6277361",
   "metadata": {},
   "source": [
    "We will now come to the biggest part of this data exploration. The Harry Potter Collection provides information from the [fandom wiki page](https://harrypotter.fandom.com/wiki/) of the characters. In this dataset, we will consider that two characters have a relation if both of them have at least one group in common (in the section \"associated groups\" on the fandom wikia page).\n",
    "\n",
    "However, we wanted to go one step further and see the interaction between characters. We find a [Harry Potter characters network](https://github.com/dpmartin42/Networks/tree/master/Harry%20Potter) which has already done that for us. In this dataset, they chose to scrap the wiki page of each character and if the name of another character appears (as a hyperlink), they said that the two characters interact. So in this second version of the visualisation, we will have a graph at the \"character level\" and not at the \"association level\". \n",
    "\n",
    "Note that, there were inconsistences between the name of the characters in the two datasets. To take care of this, we had to pre-process the network dataset by hand so that the we get the same name."
   ]
  },
  {
   "cell_type": "code",
   "execution_count": 30,
   "id": "77dbe533-75b8-4536-88bb-c34142b91133",
   "metadata": {},
   "outputs": [],
   "source": [
    "df_networks = pd.read_json(hp_network_folder+\"network.json\").drop(columns=[\"color\", \"x\", \"size\", \"y\", \"connection_link\", \"originalColor\"],axis=1)"
   ]
  },
  {
   "cell_type": "markdown",
   "id": "19e02ea0-2c5e-41e7-831c-90b214e29c43",
   "metadata": {},
   "source": [
    "The columns we are dropping are method related to the network they build. Since we will probably have to rebuild one on our own to match the needs of D3, we choose to drop them. "
   ]
  },
  {
   "cell_type": "code",
   "execution_count": 31,
   "id": "c1fa3bdd-22dc-4e4d-a13e-a5dafaaa15be",
   "metadata": {},
   "outputs": [
    {
     "data": {
      "text/html": [
       "<div>\n",
       "<style scoped>\n",
       "    .dataframe tbody tr th:only-of-type {\n",
       "        vertical-align: middle;\n",
       "    }\n",
       "\n",
       "    .dataframe tbody tr th {\n",
       "        vertical-align: top;\n",
       "    }\n",
       "\n",
       "    .dataframe thead th {\n",
       "        text-align: right;\n",
       "    }\n",
       "</style>\n",
       "<table border=\"1\" class=\"dataframe\">\n",
       "  <thead>\n",
       "    <tr style=\"text-align: right;\">\n",
       "      <th></th>\n",
       "      <th>id</th>\n",
       "      <th>label</th>\n",
       "      <th>link</th>\n",
       "      <th>link_image</th>\n",
       "      <th>connection_label</th>\n",
       "    </tr>\n",
       "  </thead>\n",
       "  <tbody>\n",
       "    <tr>\n",
       "      <th>0</th>\n",
       "      <td>0</td>\n",
       "      <td>Hannah Abbott</td>\n",
       "      <td>Hannah_Abbott</td>\n",
       "      <td>http://img3.wikia.nocookie.net/__cb20091229012...</td>\n",
       "      <td>[Albus Dumbledore, Alecto Carrow, Alicia Spinn...</td>\n",
       "    </tr>\n",
       "    <tr>\n",
       "      <th>1</th>\n",
       "      <td>1</td>\n",
       "      <td>Ludovic Bagman</td>\n",
       "      <td>Ludo_Bagman</td>\n",
       "      <td>http://img1.wikia.nocookie.net/__cb20111028215...</td>\n",
       "      <td>[Alastor Moody, Augustus Rookwood, Bartemius C...</td>\n",
       "    </tr>\n",
       "  </tbody>\n",
       "</table>\n",
       "</div>"
      ],
      "text/plain": [
       "   id           label           link  \\\n",
       "0   0   Hannah Abbott  Hannah_Abbott   \n",
       "1   1  Ludovic Bagman    Ludo_Bagman   \n",
       "\n",
       "                                          link_image  \\\n",
       "0  http://img3.wikia.nocookie.net/__cb20091229012...   \n",
       "1  http://img1.wikia.nocookie.net/__cb20111028215...   \n",
       "\n",
       "                                    connection_label  \n",
       "0  [Albus Dumbledore, Alecto Carrow, Alicia Spinn...  \n",
       "1  [Alastor Moody, Augustus Rookwood, Bartemius C...  "
      ]
     },
     "execution_count": 31,
     "metadata": {},
     "output_type": "execute_result"
    }
   ],
   "source": [
    "df_networks.head(2)"
   ]
  },
  {
   "cell_type": "code",
   "execution_count": 32,
   "id": "df5c34b2-68ca-4a93-b567-f559bcea7261",
   "metadata": {},
   "outputs": [
    {
     "data": {
      "text/plain": [
       "(176, (176, 5))"
      ]
     },
     "execution_count": 32,
     "metadata": {},
     "output_type": "execute_result"
    }
   ],
   "source": [
    "df_networks['link_image'].count(), df_networks.shape"
   ]
  },
  {
   "cell_type": "code",
   "execution_count": 33,
   "id": "3a6a69d9-fadb-47e4-9252-dc22aed108b1",
   "metadata": {},
   "outputs": [
    {
     "data": {
      "text/html": [
       "<div>\n",
       "<style scoped>\n",
       "    .dataframe tbody tr th:only-of-type {\n",
       "        vertical-align: middle;\n",
       "    }\n",
       "\n",
       "    .dataframe tbody tr th {\n",
       "        vertical-align: top;\n",
       "    }\n",
       "\n",
       "    .dataframe thead th {\n",
       "        text-align: right;\n",
       "    }\n",
       "</style>\n",
       "<table border=\"1\" class=\"dataframe\">\n",
       "  <thead>\n",
       "    <tr style=\"text-align: right;\">\n",
       "      <th></th>\n",
       "      <th>id</th>\n",
       "      <th>label</th>\n",
       "      <th>link</th>\n",
       "      <th>link_image</th>\n",
       "      <th>connection_label</th>\n",
       "    </tr>\n",
       "  </thead>\n",
       "  <tbody>\n",
       "    <tr>\n",
       "      <th>0</th>\n",
       "      <td>0</td>\n",
       "      <td>Hannah Abbott</td>\n",
       "      <td>Hannah_Abbott</td>\n",
       "      <td>http://img3.wikia.nocookie.net/__cb20091229012...</td>\n",
       "      <td>[Albus Dumbledore, Alecto Carrow, Alicia Spinn...</td>\n",
       "    </tr>\n",
       "    <tr>\n",
       "      <th>1</th>\n",
       "      <td>1</td>\n",
       "      <td>Ludovic Bagman</td>\n",
       "      <td>Ludo_Bagman</td>\n",
       "      <td>http://img1.wikia.nocookie.net/__cb20111028215...</td>\n",
       "      <td>[Alastor Moody, Augustus Rookwood, Bartemius C...</td>\n",
       "    </tr>\n",
       "    <tr>\n",
       "      <th>2</th>\n",
       "      <td>10</td>\n",
       "      <td>Lavender Brown</td>\n",
       "      <td>Lavender_Brown</td>\n",
       "      <td>http://img2.wikia.nocookie.net/__cb20110719012...</td>\n",
       "      <td>[Alastor Moody, Albus Dumbledore, Alicia Spinn...</td>\n",
       "    </tr>\n",
       "    <tr>\n",
       "      <th>3</th>\n",
       "      <td>100</td>\n",
       "      <td>Antioch Peverell</td>\n",
       "      <td>Antioch_Peverell</td>\n",
       "      <td>http://img3.wikia.nocookie.net/__cb20110119192...</td>\n",
       "      <td>[Cadmus Peverell, Harry Potter, Ignotus Peverell]</td>\n",
       "    </tr>\n",
       "    <tr>\n",
       "      <th>4</th>\n",
       "      <td>101</td>\n",
       "      <td>Cadmus Peverell</td>\n",
       "      <td>Cadmus_Peverell</td>\n",
       "      <td>http://img2.wikia.nocookie.net/__cb20110119200...</td>\n",
       "      <td>[Albus Dumbledore, Antioch Peverell, Harry Pot...</td>\n",
       "    </tr>\n",
       "    <tr>\n",
       "      <th>5</th>\n",
       "      <td>102</td>\n",
       "      <td>Ignotus Peverell</td>\n",
       "      <td>Ignotus_Peverell</td>\n",
       "      <td>http://img1.wikia.nocookie.net/__cb20110119191...</td>\n",
       "      <td>[Albus Dumbledore, Antioch Peverell, Bathilda ...</td>\n",
       "    </tr>\n",
       "    <tr>\n",
       "      <th>6</th>\n",
       "      <td>103</td>\n",
       "      <td>Irma Pince</td>\n",
       "      <td>Irma_Pince</td>\n",
       "      <td>http://img3.wikia.nocookie.net/__cb20111128202...</td>\n",
       "      <td>[Albus Dumbledore, Alecto Carrow, Amycus Carro...</td>\n",
       "    </tr>\n",
       "    <tr>\n",
       "      <th>7</th>\n",
       "      <td>104</td>\n",
       "      <td>Sturgis Podmore</td>\n",
       "      <td>Sturgis_Podmore</td>\n",
       "      <td>http://img1.wikia.nocookie.net/__cb20141031171...</td>\n",
       "      <td>[Alastor Moody, Albus Dumbledore, Cornelius Fu...</td>\n",
       "    </tr>\n",
       "    <tr>\n",
       "      <th>8</th>\n",
       "      <td>105</td>\n",
       "      <td>Poppy Pomfrey</td>\n",
       "      <td>Poppy_Pomfrey</td>\n",
       "      <td>http://img1.wikia.nocookie.net/__cb20131110073...</td>\n",
       "      <td>[Albus Dumbledore, Alecto Carrow, Amycus Carro...</td>\n",
       "    </tr>\n",
       "    <tr>\n",
       "      <th>9</th>\n",
       "      <td>106</td>\n",
       "      <td>Harry Potter</td>\n",
       "      <td>Harry_Potter</td>\n",
       "      <td>http://img2.wikia.nocookie.net/__cb20140619173...</td>\n",
       "      <td>[Aberforth Dumbledore, Alastor Moody, Albus Du...</td>\n",
       "    </tr>\n",
       "    <tr>\n",
       "      <th>10</th>\n",
       "      <td>107</td>\n",
       "      <td>James Potter</td>\n",
       "      <td>James_Potter_I</td>\n",
       "      <td>http://img2.wikia.nocookie.net/__cb20141104012...</td>\n",
       "      <td>[Alastor Moody, Albus Dumbledore, Alice Longbo...</td>\n",
       "    </tr>\n",
       "    <tr>\n",
       "      <th>11</th>\n",
       "      <td>108</td>\n",
       "      <td>Lily Potter</td>\n",
       "      <td>Lily_Potter</td>\n",
       "      <td>http://img4.wikia.nocookie.net/__cb20120128171...</td>\n",
       "      <td>[Angelina Johnson, Arthur Weasley, Bill Weasle...</td>\n",
       "    </tr>\n",
       "    <tr>\n",
       "      <th>12</th>\n",
       "      <td>109</td>\n",
       "      <td>Quirinus Quirrell</td>\n",
       "      <td>Quirinus_Quirrell</td>\n",
       "      <td>http://img2.wikia.nocookie.net/__cb20110806132...</td>\n",
       "      <td>[Albus Dumbledore, Argus Filch, Bellatrix Lest...</td>\n",
       "    </tr>\n",
       "    <tr>\n",
       "      <th>13</th>\n",
       "      <td>11</td>\n",
       "      <td>Millicent Bulstrode</td>\n",
       "      <td>Millicent_Bulstrode</td>\n",
       "      <td>http://img1.wikia.nocookie.net/__cb20100628192...</td>\n",
       "      <td>[Albus Dumbledore, Cedric Diggory, Dolores Umb...</td>\n",
       "    </tr>\n",
       "    <tr>\n",
       "      <th>14</th>\n",
       "      <td>110</td>\n",
       "      <td>Helena Ravenclaw</td>\n",
       "      <td>Helena_Ravenclaw</td>\n",
       "      <td>http://img2.wikia.nocookie.net/__cb20111214205...</td>\n",
       "      <td>[Albus Dumbledore, Alecto Carrow, Amycus Carro...</td>\n",
       "    </tr>\n",
       "    <tr>\n",
       "      <th>15</th>\n",
       "      <td>111</td>\n",
       "      <td>Rowena Ravenclaw</td>\n",
       "      <td>Rowena</td>\n",
       "      <td>http://img4.wikia.nocookie.net/__cb20140615152...</td>\n",
       "      <td>[Bloody Baron, Godric Gryffindor, Helena Raven...</td>\n",
       "    </tr>\n",
       "    <tr>\n",
       "      <th>16</th>\n",
       "      <td>112</td>\n",
       "      <td>Mary Riddle</td>\n",
       "      <td>Mary_Riddle</td>\n",
       "      <td>http://img4.wikia.nocookie.net/__cb20130519081...</td>\n",
       "      <td>[Frank Bryce, Lord Voldemort, Marvolo Gaunt, M...</td>\n",
       "    </tr>\n",
       "    <tr>\n",
       "      <th>17</th>\n",
       "      <td>113</td>\n",
       "      <td>Thomas Riddle</td>\n",
       "      <td>Thomas_Riddle</td>\n",
       "      <td>http://img2.wikia.nocookie.net/__cb20130519081...</td>\n",
       "      <td>[Frank Bryce, Lord Voldemort, Marvolo Gaunt, M...</td>\n",
       "    </tr>\n",
       "    <tr>\n",
       "      <th>18</th>\n",
       "      <td>114</td>\n",
       "      <td>Tom Riddle Senior</td>\n",
       "      <td>Tom_Riddle_Sr.</td>\n",
       "      <td>http://img1.wikia.nocookie.net/__cb20130528141...</td>\n",
       "      <td>[Albus Dumbledore, Bartemius Crouch Junior, Bo...</td>\n",
       "    </tr>\n",
       "    <tr>\n",
       "      <th>19</th>\n",
       "      <td>115</td>\n",
       "      <td>Lord Voldemort</td>\n",
       "      <td>Lord_Voldemort</td>\n",
       "      <td>http://img3.wikia.nocookie.net/__cb20140619173...</td>\n",
       "      <td>[Aberforth Dumbledore, Alastor Moody, Albus Du...</td>\n",
       "    </tr>\n",
       "    <tr>\n",
       "      <th>20</th>\n",
       "      <td>116</td>\n",
       "      <td>Augustus Rookwood</td>\n",
       "      <td>Augustus_Rookwood</td>\n",
       "      <td>http://img2.wikia.nocookie.net/__cb20140331154...</td>\n",
       "      <td>[Aberforth Dumbledore, Albus Dumbledore, Barte...</td>\n",
       "    </tr>\n",
       "    <tr>\n",
       "      <th>21</th>\n",
       "      <td>117</td>\n",
       "      <td>Newton Scamander</td>\n",
       "      <td>Newt_Scamander</td>\n",
       "      <td>http://img2.wikia.nocookie.net/__cb20130220141...</td>\n",
       "      <td>[Luna Lovegood]</td>\n",
       "    </tr>\n",
       "    <tr>\n",
       "      <th>22</th>\n",
       "      <td>118</td>\n",
       "      <td>Rufus Scrimgeour</td>\n",
       "      <td>Rufus_Scrimgeour</td>\n",
       "      <td>http://img1.wikia.nocookie.net/__cb20100821183...</td>\n",
       "      <td>[Alastor Moody, Albus Dumbledore, Arthur Weasl...</td>\n",
       "    </tr>\n",
       "    <tr>\n",
       "      <th>23</th>\n",
       "      <td>119</td>\n",
       "      <td>Kingsley Shacklebolt</td>\n",
       "      <td>Kingsley_Shacklebolt</td>\n",
       "      <td>http://img2.wikia.nocookie.net/__cb20101113194...</td>\n",
       "      <td>[Alastor Moody, Albus Dumbledore, Alecto Carro...</td>\n",
       "    </tr>\n",
       "    <tr>\n",
       "      <th>24</th>\n",
       "      <td>12</td>\n",
       "      <td>Charity Burbage</td>\n",
       "      <td>Charity_Burbage</td>\n",
       "      <td>http://img4.wikia.nocookie.net/__cb20111218233...</td>\n",
       "      <td>[Albus Dumbledore, Alecto Carrow, Antonin Dolo...</td>\n",
       "    </tr>\n",
       "    <tr>\n",
       "      <th>25</th>\n",
       "      <td>120</td>\n",
       "      <td>Stanley Shunpike</td>\n",
       "      <td>Stan_Shunpike</td>\n",
       "      <td>http://img2.wikia.nocookie.net/__cb20090611131...</td>\n",
       "      <td>[Cornelius Fudge, Harry Potter, Neville Longbo...</td>\n",
       "    </tr>\n",
       "    <tr>\n",
       "      <th>26</th>\n",
       "      <td>121</td>\n",
       "      <td>Rita Skeeter</td>\n",
       "      <td>Rita_Skeeter</td>\n",
       "      <td>http://img1.wikia.nocookie.net/__cb20100123214...</td>\n",
       "      <td>[Albus Dumbledore, Ariana Dumbledore, Bartemiu...</td>\n",
       "    </tr>\n",
       "    <tr>\n",
       "      <th>27</th>\n",
       "      <td>122</td>\n",
       "      <td>Horace Slughorn</td>\n",
       "      <td>Horace_Slughorn</td>\n",
       "      <td>http://img2.wikia.nocookie.net/__cb20121226172...</td>\n",
       "      <td>[Albus Dumbledore, Aragog, Argus Filch, Arthur...</td>\n",
       "    </tr>\n",
       "    <tr>\n",
       "      <th>28</th>\n",
       "      <td>123</td>\n",
       "      <td>Salazar Slytherin</td>\n",
       "      <td>Salazar_Slytherin</td>\n",
       "      <td>http://img2.wikia.nocookie.net/__cb20140615154...</td>\n",
       "      <td>[Albus Dumbledore, Bloody Baron, Colin Creevey...</td>\n",
       "    </tr>\n",
       "    <tr>\n",
       "      <th>29</th>\n",
       "      <td>124</td>\n",
       "      <td>Hepzibah Smith</td>\n",
       "      <td>Hepzibah_Smith</td>\n",
       "      <td>http://img3.wikia.nocookie.net/__cb20140401181...</td>\n",
       "      <td>[Albus Dumbledore, Dolores Umbridge, Harry Pot...</td>\n",
       "    </tr>\n",
       "    <tr>\n",
       "      <th>30</th>\n",
       "      <td>125</td>\n",
       "      <td>Zacharias Smith</td>\n",
       "      <td>Zacharias_Smith</td>\n",
       "      <td>http://img3.wikia.nocookie.net/__cb20070811224...</td>\n",
       "      <td>[Albus Dumbledore, Alicia Spinnet, Angelina Jo...</td>\n",
       "    </tr>\n",
       "    <tr>\n",
       "      <th>31</th>\n",
       "      <td>126</td>\n",
       "      <td>Severus Snape</td>\n",
       "      <td>Severus_Snape</td>\n",
       "      <td>http://img2.wikia.nocookie.net/__cb20140619181...</td>\n",
       "      <td>[Aberforth Dumbledore, Alastor Moody, Albus Du...</td>\n",
       "    </tr>\n",
       "    <tr>\n",
       "      <th>32</th>\n",
       "      <td>127</td>\n",
       "      <td>Alicia Spinnet</td>\n",
       "      <td>Alicia_Spinnet</td>\n",
       "      <td>http://img3.wikia.nocookie.net/__cb20081126192...</td>\n",
       "      <td>[Albus Dumbledore, Angelina Johnson, Anthony G...</td>\n",
       "    </tr>\n",
       "    <tr>\n",
       "      <th>33</th>\n",
       "      <td>128</td>\n",
       "      <td>Pomona Sprout</td>\n",
       "      <td>Pomona_Sprout</td>\n",
       "      <td>http://img4.wikia.nocookie.net/__cb20110816170...</td>\n",
       "      <td>[Alastor Moody, Albus Dumbledore, Alecto Carro...</td>\n",
       "    </tr>\n",
       "    <tr>\n",
       "      <th>34</th>\n",
       "      <td>129</td>\n",
       "      <td>Pius Thicknesse</td>\n",
       "      <td>Pius_Thicknesse</td>\n",
       "      <td>http://img4.wikia.nocookie.net/__cb20100923203...</td>\n",
       "      <td>[Alastor Moody, Albus Dumbledore, Alecto Carro...</td>\n",
       "    </tr>\n",
       "    <tr>\n",
       "      <th>35</th>\n",
       "      <td>13</td>\n",
       "      <td>Frank Bryce</td>\n",
       "      <td>Frank_Bryce</td>\n",
       "      <td>http://img4.wikia.nocookie.net/__cb20090505171...</td>\n",
       "      <td>[Cedric Diggory, Harry Potter, Lord Voldemort,...</td>\n",
       "    </tr>\n",
       "    <tr>\n",
       "      <th>36</th>\n",
       "      <td>130</td>\n",
       "      <td>Dean Thomas</td>\n",
       "      <td>Dean_Thomas</td>\n",
       "      <td>http://img1.wikia.nocookie.net/__cb20110813175...</td>\n",
       "      <td>[Aberforth Dumbledore, Alastor Moody, Albus Du...</td>\n",
       "    </tr>\n",
       "    <tr>\n",
       "      <th>37</th>\n",
       "      <td>131</td>\n",
       "      <td>Andromeda Tonks</td>\n",
       "      <td>Andromeda_Tonks</td>\n",
       "      <td>http://img3.wikia.nocookie.net/__cb20130712183...</td>\n",
       "      <td>[Albus Dumbledore, Antonin Dolohov, Arthur Wea...</td>\n",
       "    </tr>\n",
       "    <tr>\n",
       "      <th>38</th>\n",
       "      <td>132</td>\n",
       "      <td>Nymphadora Tonks</td>\n",
       "      <td>Nymphadora_Tonks</td>\n",
       "      <td>http://img1.wikia.nocookie.net/__cb20101127044...</td>\n",
       "      <td>[Aberforth Dumbledore, Alastor Moody, Albus Du...</td>\n",
       "    </tr>\n",
       "    <tr>\n",
       "      <th>39</th>\n",
       "      <td>133</td>\n",
       "      <td>Ted Tonks</td>\n",
       "      <td>Ted_Tonks</td>\n",
       "      <td>http://img4.wikia.nocookie.net/__cb20130712183...</td>\n",
       "      <td>[Albus Dumbledore, Andromeda Tonks, Arthur Wea...</td>\n",
       "    </tr>\n",
       "    <tr>\n",
       "      <th>40</th>\n",
       "      <td>134</td>\n",
       "      <td>Sybill Trelawney</td>\n",
       "      <td>Sybill_Trelawney</td>\n",
       "      <td>http://img3.wikia.nocookie.net/__cb20140704142...</td>\n",
       "      <td>[Aberforth Dumbledore, Albus Dumbledore, Alect...</td>\n",
       "    </tr>\n",
       "    <tr>\n",
       "      <th>41</th>\n",
       "      <td>135</td>\n",
       "      <td>Dolores Umbridge</td>\n",
       "      <td>Dolores_Umbridge</td>\n",
       "      <td>http://img4.wikia.nocookie.net/__cb20101127041...</td>\n",
       "      <td>[Alastor Moody, Albus Dumbledore, Alicia Spinn...</td>\n",
       "    </tr>\n",
       "    <tr>\n",
       "      <th>42</th>\n",
       "      <td>136</td>\n",
       "      <td>Emmeline Vance</td>\n",
       "      <td>Emmeline_Vance</td>\n",
       "      <td>http://img3.wikia.nocookie.net/__cb20100508202...</td>\n",
       "      <td>[Alastor Moody, Albus Dumbledore, Dedalus Digg...</td>\n",
       "    </tr>\n",
       "    <tr>\n",
       "      <th>43</th>\n",
       "      <td>137</td>\n",
       "      <td>Romilda Vane</td>\n",
       "      <td>Romilda_Vane</td>\n",
       "      <td>http://img2.wikia.nocookie.net/__cb20110801070...</td>\n",
       "      <td>[Amycus Carrow, Cormac McLaggen, Harry Potter,...</td>\n",
       "    </tr>\n",
       "    <tr>\n",
       "      <th>44</th>\n",
       "      <td>138</td>\n",
       "      <td>Septima Vector</td>\n",
       "      <td>Septima_Vector</td>\n",
       "      <td>http://img3.wikia.nocookie.net/__cb20110715195...</td>\n",
       "      <td>[Albus Dumbledore, Angelina Johnson, Harry Pot...</td>\n",
       "    </tr>\n",
       "    <tr>\n",
       "      <th>45</th>\n",
       "      <td>139</td>\n",
       "      <td>Arthur Weasley</td>\n",
       "      <td>Arthur_Weasley</td>\n",
       "      <td>http://img2.wikia.nocookie.net/__cb20101007151...</td>\n",
       "      <td>[Alastor Moody, Albus Dumbledore, Amos Diggory...</td>\n",
       "    </tr>\n",
       "    <tr>\n",
       "      <th>46</th>\n",
       "      <td>14</td>\n",
       "      <td>Alecto Carrow</td>\n",
       "      <td>Alecto_Carrow</td>\n",
       "      <td>http://img3.wikia.nocookie.net/__cb20140531073...</td>\n",
       "      <td>[Albus Dumbledore, Amycus Carrow, Argus Filch,...</td>\n",
       "    </tr>\n",
       "    <tr>\n",
       "      <th>47</th>\n",
       "      <td>140</td>\n",
       "      <td>Bill Weasley</td>\n",
       "      <td>Bill_Weasley</td>\n",
       "      <td>http://img4.wikia.nocookie.net/__cb20140425014...</td>\n",
       "      <td>[Alastor Moody, Albus Dumbledore, Arthur Weasl...</td>\n",
       "    </tr>\n",
       "    <tr>\n",
       "      <th>48</th>\n",
       "      <td>141</td>\n",
       "      <td>Charlie Weasley</td>\n",
       "      <td>Charlie_Weasley</td>\n",
       "      <td>http://img1.wikia.nocookie.net/__cb20100615171...</td>\n",
       "      <td>[Alastor Moody, Albus Dumbledore, Arthur Weasl...</td>\n",
       "    </tr>\n",
       "    <tr>\n",
       "      <th>49</th>\n",
       "      <td>142</td>\n",
       "      <td>Fred Weasley</td>\n",
       "      <td>Fred_Weasley</td>\n",
       "      <td>http://img1.wikia.nocookie.net/__cb20101007152...</td>\n",
       "      <td>[Alastor Moody, Albus Dumbledore, Alicia Spinn...</td>\n",
       "    </tr>\n",
       "  </tbody>\n",
       "</table>\n",
       "</div>"
      ],
      "text/plain": [
       "     id                 label                  link  \\\n",
       "0     0         Hannah Abbott         Hannah_Abbott   \n",
       "1     1        Ludovic Bagman           Ludo_Bagman   \n",
       "2    10        Lavender Brown        Lavender_Brown   \n",
       "3   100      Antioch Peverell      Antioch_Peverell   \n",
       "4   101       Cadmus Peverell       Cadmus_Peverell   \n",
       "5   102      Ignotus Peverell      Ignotus_Peverell   \n",
       "6   103            Irma Pince            Irma_Pince   \n",
       "7   104       Sturgis Podmore       Sturgis_Podmore   \n",
       "8   105         Poppy Pomfrey         Poppy_Pomfrey   \n",
       "9   106          Harry Potter          Harry_Potter   \n",
       "10  107          James Potter        James_Potter_I   \n",
       "11  108           Lily Potter           Lily_Potter   \n",
       "12  109     Quirinus Quirrell     Quirinus_Quirrell   \n",
       "13   11   Millicent Bulstrode   Millicent_Bulstrode   \n",
       "14  110      Helena Ravenclaw      Helena_Ravenclaw   \n",
       "15  111      Rowena Ravenclaw                Rowena   \n",
       "16  112           Mary Riddle           Mary_Riddle   \n",
       "17  113         Thomas Riddle         Thomas_Riddle   \n",
       "18  114     Tom Riddle Senior        Tom_Riddle_Sr.   \n",
       "19  115        Lord Voldemort        Lord_Voldemort   \n",
       "20  116     Augustus Rookwood     Augustus_Rookwood   \n",
       "21  117      Newton Scamander        Newt_Scamander   \n",
       "22  118      Rufus Scrimgeour      Rufus_Scrimgeour   \n",
       "23  119  Kingsley Shacklebolt  Kingsley_Shacklebolt   \n",
       "24   12       Charity Burbage       Charity_Burbage   \n",
       "25  120      Stanley Shunpike         Stan_Shunpike   \n",
       "26  121          Rita Skeeter          Rita_Skeeter   \n",
       "27  122       Horace Slughorn       Horace_Slughorn   \n",
       "28  123     Salazar Slytherin     Salazar_Slytherin   \n",
       "29  124        Hepzibah Smith        Hepzibah_Smith   \n",
       "30  125       Zacharias Smith       Zacharias_Smith   \n",
       "31  126         Severus Snape         Severus_Snape   \n",
       "32  127        Alicia Spinnet        Alicia_Spinnet   \n",
       "33  128         Pomona Sprout         Pomona_Sprout   \n",
       "34  129       Pius Thicknesse       Pius_Thicknesse   \n",
       "35   13           Frank Bryce           Frank_Bryce   \n",
       "36  130           Dean Thomas           Dean_Thomas   \n",
       "37  131       Andromeda Tonks       Andromeda_Tonks   \n",
       "38  132      Nymphadora Tonks      Nymphadora_Tonks   \n",
       "39  133             Ted Tonks             Ted_Tonks   \n",
       "40  134      Sybill Trelawney      Sybill_Trelawney   \n",
       "41  135      Dolores Umbridge      Dolores_Umbridge   \n",
       "42  136        Emmeline Vance        Emmeline_Vance   \n",
       "43  137          Romilda Vane          Romilda_Vane   \n",
       "44  138        Septima Vector        Septima_Vector   \n",
       "45  139        Arthur Weasley        Arthur_Weasley   \n",
       "46   14         Alecto Carrow         Alecto_Carrow   \n",
       "47  140          Bill Weasley          Bill_Weasley   \n",
       "48  141       Charlie Weasley       Charlie_Weasley   \n",
       "49  142          Fred Weasley          Fred_Weasley   \n",
       "\n",
       "                                           link_image  \\\n",
       "0   http://img3.wikia.nocookie.net/__cb20091229012...   \n",
       "1   http://img1.wikia.nocookie.net/__cb20111028215...   \n",
       "2   http://img2.wikia.nocookie.net/__cb20110719012...   \n",
       "3   http://img3.wikia.nocookie.net/__cb20110119192...   \n",
       "4   http://img2.wikia.nocookie.net/__cb20110119200...   \n",
       "5   http://img1.wikia.nocookie.net/__cb20110119191...   \n",
       "6   http://img3.wikia.nocookie.net/__cb20111128202...   \n",
       "7   http://img1.wikia.nocookie.net/__cb20141031171...   \n",
       "8   http://img1.wikia.nocookie.net/__cb20131110073...   \n",
       "9   http://img2.wikia.nocookie.net/__cb20140619173...   \n",
       "10  http://img2.wikia.nocookie.net/__cb20141104012...   \n",
       "11  http://img4.wikia.nocookie.net/__cb20120128171...   \n",
       "12  http://img2.wikia.nocookie.net/__cb20110806132...   \n",
       "13  http://img1.wikia.nocookie.net/__cb20100628192...   \n",
       "14  http://img2.wikia.nocookie.net/__cb20111214205...   \n",
       "15  http://img4.wikia.nocookie.net/__cb20140615152...   \n",
       "16  http://img4.wikia.nocookie.net/__cb20130519081...   \n",
       "17  http://img2.wikia.nocookie.net/__cb20130519081...   \n",
       "18  http://img1.wikia.nocookie.net/__cb20130528141...   \n",
       "19  http://img3.wikia.nocookie.net/__cb20140619173...   \n",
       "20  http://img2.wikia.nocookie.net/__cb20140331154...   \n",
       "21  http://img2.wikia.nocookie.net/__cb20130220141...   \n",
       "22  http://img1.wikia.nocookie.net/__cb20100821183...   \n",
       "23  http://img2.wikia.nocookie.net/__cb20101113194...   \n",
       "24  http://img4.wikia.nocookie.net/__cb20111218233...   \n",
       "25  http://img2.wikia.nocookie.net/__cb20090611131...   \n",
       "26  http://img1.wikia.nocookie.net/__cb20100123214...   \n",
       "27  http://img2.wikia.nocookie.net/__cb20121226172...   \n",
       "28  http://img2.wikia.nocookie.net/__cb20140615154...   \n",
       "29  http://img3.wikia.nocookie.net/__cb20140401181...   \n",
       "30  http://img3.wikia.nocookie.net/__cb20070811224...   \n",
       "31  http://img2.wikia.nocookie.net/__cb20140619181...   \n",
       "32  http://img3.wikia.nocookie.net/__cb20081126192...   \n",
       "33  http://img4.wikia.nocookie.net/__cb20110816170...   \n",
       "34  http://img4.wikia.nocookie.net/__cb20100923203...   \n",
       "35  http://img4.wikia.nocookie.net/__cb20090505171...   \n",
       "36  http://img1.wikia.nocookie.net/__cb20110813175...   \n",
       "37  http://img3.wikia.nocookie.net/__cb20130712183...   \n",
       "38  http://img1.wikia.nocookie.net/__cb20101127044...   \n",
       "39  http://img4.wikia.nocookie.net/__cb20130712183...   \n",
       "40  http://img3.wikia.nocookie.net/__cb20140704142...   \n",
       "41  http://img4.wikia.nocookie.net/__cb20101127041...   \n",
       "42  http://img3.wikia.nocookie.net/__cb20100508202...   \n",
       "43  http://img2.wikia.nocookie.net/__cb20110801070...   \n",
       "44  http://img3.wikia.nocookie.net/__cb20110715195...   \n",
       "45  http://img2.wikia.nocookie.net/__cb20101007151...   \n",
       "46  http://img3.wikia.nocookie.net/__cb20140531073...   \n",
       "47  http://img4.wikia.nocookie.net/__cb20140425014...   \n",
       "48  http://img1.wikia.nocookie.net/__cb20100615171...   \n",
       "49  http://img1.wikia.nocookie.net/__cb20101007152...   \n",
       "\n",
       "                                     connection_label  \n",
       "0   [Albus Dumbledore, Alecto Carrow, Alicia Spinn...  \n",
       "1   [Alastor Moody, Augustus Rookwood, Bartemius C...  \n",
       "2   [Alastor Moody, Albus Dumbledore, Alicia Spinn...  \n",
       "3   [Cadmus Peverell, Harry Potter, Ignotus Peverell]  \n",
       "4   [Albus Dumbledore, Antioch Peverell, Harry Pot...  \n",
       "5   [Albus Dumbledore, Antioch Peverell, Bathilda ...  \n",
       "6   [Albus Dumbledore, Alecto Carrow, Amycus Carro...  \n",
       "7   [Alastor Moody, Albus Dumbledore, Cornelius Fu...  \n",
       "8   [Albus Dumbledore, Alecto Carrow, Amycus Carro...  \n",
       "9   [Aberforth Dumbledore, Alastor Moody, Albus Du...  \n",
       "10  [Alastor Moody, Albus Dumbledore, Alice Longbo...  \n",
       "11  [Angelina Johnson, Arthur Weasley, Bill Weasle...  \n",
       "12  [Albus Dumbledore, Argus Filch, Bellatrix Lest...  \n",
       "13  [Albus Dumbledore, Cedric Diggory, Dolores Umb...  \n",
       "14  [Albus Dumbledore, Alecto Carrow, Amycus Carro...  \n",
       "15  [Bloody Baron, Godric Gryffindor, Helena Raven...  \n",
       "16  [Frank Bryce, Lord Voldemort, Marvolo Gaunt, M...  \n",
       "17  [Frank Bryce, Lord Voldemort, Marvolo Gaunt, M...  \n",
       "18  [Albus Dumbledore, Bartemius Crouch Junior, Bo...  \n",
       "19  [Aberforth Dumbledore, Alastor Moody, Albus Du...  \n",
       "20  [Aberforth Dumbledore, Albus Dumbledore, Barte...  \n",
       "21                                    [Luna Lovegood]  \n",
       "22  [Alastor Moody, Albus Dumbledore, Arthur Weasl...  \n",
       "23  [Alastor Moody, Albus Dumbledore, Alecto Carro...  \n",
       "24  [Albus Dumbledore, Alecto Carrow, Antonin Dolo...  \n",
       "25  [Cornelius Fudge, Harry Potter, Neville Longbo...  \n",
       "26  [Albus Dumbledore, Ariana Dumbledore, Bartemiu...  \n",
       "27  [Albus Dumbledore, Aragog, Argus Filch, Arthur...  \n",
       "28  [Albus Dumbledore, Bloody Baron, Colin Creevey...  \n",
       "29  [Albus Dumbledore, Dolores Umbridge, Harry Pot...  \n",
       "30  [Albus Dumbledore, Alicia Spinnet, Angelina Jo...  \n",
       "31  [Aberforth Dumbledore, Alastor Moody, Albus Du...  \n",
       "32  [Albus Dumbledore, Angelina Johnson, Anthony G...  \n",
       "33  [Alastor Moody, Albus Dumbledore, Alecto Carro...  \n",
       "34  [Alastor Moody, Albus Dumbledore, Alecto Carro...  \n",
       "35  [Cedric Diggory, Harry Potter, Lord Voldemort,...  \n",
       "36  [Aberforth Dumbledore, Alastor Moody, Albus Du...  \n",
       "37  [Albus Dumbledore, Antonin Dolohov, Arthur Wea...  \n",
       "38  [Aberforth Dumbledore, Alastor Moody, Albus Du...  \n",
       "39  [Albus Dumbledore, Andromeda Tonks, Arthur Wea...  \n",
       "40  [Aberforth Dumbledore, Albus Dumbledore, Alect...  \n",
       "41  [Alastor Moody, Albus Dumbledore, Alicia Spinn...  \n",
       "42  [Alastor Moody, Albus Dumbledore, Dedalus Digg...  \n",
       "43  [Amycus Carrow, Cormac McLaggen, Harry Potter,...  \n",
       "44  [Albus Dumbledore, Angelina Johnson, Harry Pot...  \n",
       "45  [Alastor Moody, Albus Dumbledore, Amos Diggory...  \n",
       "46  [Albus Dumbledore, Amycus Carrow, Argus Filch,...  \n",
       "47  [Alastor Moody, Albus Dumbledore, Arthur Weasl...  \n",
       "48  [Alastor Moody, Albus Dumbledore, Arthur Weasl...  \n",
       "49  [Alastor Moody, Albus Dumbledore, Alicia Spinn...  "
      ]
     },
     "execution_count": 33,
     "metadata": {},
     "output_type": "execute_result"
    }
   ],
   "source": [
    "df_networks.head(50)"
   ]
  },
  {
   "cell_type": "markdown",
   "id": "f62ec265-a609-46c4-9792-73fd2fb2c64b",
   "metadata": {},
   "source": [
    "As we can see, another important thing is the fact that we get a link image for the face of all the characters. This will be an important component to build some of our visualisations starring the different characters."
   ]
  },
  {
   "cell_type": "code",
   "execution_count": 34,
   "id": "519c1057-9249-4c6b-a134-97392b18bdcd",
   "metadata": {},
   "outputs": [
    {
     "data": {
      "text/plain": [
       "set()"
      ]
     },
     "execution_count": 34,
     "metadata": {},
     "output_type": "execute_result"
    }
   ],
   "source": [
    "df_net = df_hp_chars.merge(df_networks, left_on=\"name\", right_on=\"label\",how=\"inner\")\n",
    "set(df_networks.id.values)-set(df_net.id.values)"
   ]
  },
  {
   "cell_type": "markdown",
   "id": "573bbb35-5f2d-4c06-990d-9728b846db8d",
   "metadata": {},
   "source": [
    "The two above cells are just there to show that we manage to pre-process by hand the dataset in order to match all the characters between the datasets and that we do not lose any data. We can therefore merge everything in our main dataframe. Note that the network dataset contains around 3 times less characters, i.e. it contains probably only the most popular one. However, since the final product will be a visualiation, we will keep the smaller number of characters (still 176) so that we have a more manageable size for the number of characters to show in the visualisation."
   ]
  },
  {
   "cell_type": "code",
   "execution_count": 35,
   "id": "d0406e31-f616-4afc-b038-20cabee51723",
   "metadata": {},
   "outputs": [
    {
     "data": {
      "text/plain": [
       "(177, 22)"
      ]
     },
     "execution_count": 35,
     "metadata": {},
     "output_type": "execute_result"
    }
   ],
   "source": [
    "df_hp_chars = df_hp_chars.merge(df_networks, left_on=\"name\", right_on=\"label\",how=\"inner\")\n",
    "df_hp_chars.shape"
   ]
  },
  {
   "cell_type": "markdown",
   "id": "5954e920-e690-483e-994d-b99439195ef7",
   "metadata": {},
   "source": [
    "This is weird, we had 176 characters in the network dataframe and we end up with 177 rows. This probably means that we have one character appearing twice in the character dataframe. "
   ]
  },
  {
   "cell_type": "code",
   "execution_count": 36,
   "id": "c8f7bbbd-26da-48ab-b1c7-3a8f4500cd89",
   "metadata": {},
   "outputs": [
    {
     "data": {
      "text/html": [
       "<div>\n",
       "<style scoped>\n",
       "    .dataframe tbody tr th:only-of-type {\n",
       "        vertical-align: middle;\n",
       "    }\n",
       "\n",
       "    .dataframe tbody tr th {\n",
       "        vertical-align: top;\n",
       "    }\n",
       "\n",
       "    .dataframe thead th {\n",
       "        text-align: right;\n",
       "    }\n",
       "</style>\n",
       "<table border=\"1\" class=\"dataframe\">\n",
       "  <thead>\n",
       "    <tr style=\"text-align: right;\">\n",
       "      <th></th>\n",
       "      <th>name</th>\n",
       "      <th>birth</th>\n",
       "      <th>death</th>\n",
       "      <th>species</th>\n",
       "      <th>ancestry</th>\n",
       "      <th>gender</th>\n",
       "      <th>hair_color</th>\n",
       "      <th>eye_color</th>\n",
       "      <th>patronus</th>\n",
       "      <th>house</th>\n",
       "      <th>...</th>\n",
       "      <th>nb_books_featured_in</th>\n",
       "      <th>wood</th>\n",
       "      <th>length</th>\n",
       "      <th>core</th>\n",
       "      <th>Note</th>\n",
       "      <th>id</th>\n",
       "      <th>label</th>\n",
       "      <th>link</th>\n",
       "      <th>link_image</th>\n",
       "      <th>connection_label</th>\n",
       "    </tr>\n",
       "  </thead>\n",
       "  <tbody>\n",
       "    <tr>\n",
       "      <th>137</th>\n",
       "      <td>Hedwig</td>\n",
       "      <td>Middle Ages</td>\n",
       "      <td>Middle Ages</td>\n",
       "      <td>Human</td>\n",
       "      <td>None</td>\n",
       "      <td>Female</td>\n",
       "      <td>None</td>\n",
       "      <td>None</td>\n",
       "      <td>None</td>\n",
       "      <td>None</td>\n",
       "      <td>...</td>\n",
       "      <td>1</td>\n",
       "      <td>NaN</td>\n",
       "      <td>NaN</td>\n",
       "      <td>NaN</td>\n",
       "      <td>NaN</td>\n",
       "      <td>165</td>\n",
       "      <td>Hedwig</td>\n",
       "      <td>Hedwig</td>\n",
       "      <td>http://img1.wikia.nocookie.net/__cb20100708114...</td>\n",
       "      <td>[Arthur Weasley, Dobby, Dolores Umbridge, Ginn...</td>\n",
       "    </tr>\n",
       "  </tbody>\n",
       "</table>\n",
       "<p>1 rows × 22 columns</p>\n",
       "</div>"
      ],
      "text/plain": [
       "       name        birth        death species ancestry  gender hair_color  \\\n",
       "137  Hedwig  Middle Ages  Middle Ages   Human     None  Female       None   \n",
       "\n",
       "    eye_color patronus house  ... nb_books_featured_in wood  length core  \\\n",
       "137      None     None  None  ...                    1  NaN     NaN  NaN   \n",
       "\n",
       "     Note   id   label    link  \\\n",
       "137   NaN  165  Hedwig  Hedwig   \n",
       "\n",
       "                                            link_image  \\\n",
       "137  http://img1.wikia.nocookie.net/__cb20100708114...   \n",
       "\n",
       "                                      connection_label  \n",
       "137  [Arthur Weasley, Dobby, Dolores Umbridge, Ginn...  \n",
       "\n",
       "[1 rows x 22 columns]"
      ]
     },
     "execution_count": 36,
     "metadata": {},
     "output_type": "execute_result"
    }
   ],
   "source": [
    "df_hp_chars[df_hp_chars.duplicated(subset='name')]"
   ]
  },
  {
   "cell_type": "markdown",
   "id": "9b60ad2d-0165-4f76-b11a-451275f7edc5",
   "metadata": {},
   "source": [
    "Indeed, we can see that Hedwig appears twice. We will remove it and continue our analysis."
   ]
  },
  {
   "cell_type": "code",
   "execution_count": 37,
   "id": "a6eb3012-83e7-4d81-b663-de4b294dc2b3",
   "metadata": {},
   "outputs": [
    {
     "data": {
      "text/plain": [
       "(176, 22)"
      ]
     },
     "execution_count": 37,
     "metadata": {},
     "output_type": "execute_result"
    }
   ],
   "source": [
    "df_hp_chars.drop_duplicates(subset='name', keep='first', inplace=True)\n",
    "df_hp_chars.reset_index(drop=True,inplace=True)\n",
    "df_hp_chars.shape"
   ]
  },
  {
   "cell_type": "markdown",
   "id": "7820ebcc-a85b-4448-b403-60770537e2ee",
   "metadata": {},
   "source": [
    "Now that we have merged everything together, we will start by seeing the empirical distribution of the number of association for each character. We start by computing the number of association and the number of iteration for each characters. "
   ]
  },
  {
   "cell_type": "code",
   "execution_count": 38,
   "id": "66b7bd8a-1f1e-418c-a5e1-4ffb772c973a",
   "metadata": {},
   "outputs": [],
   "source": [
    "import math\n",
    "df_hp_chars['nb_associations'] = df_hp_chars['associated_groups'].apply(lambda x: 0 if np.nan == x else len(x))\n",
    "df_hp_chars['nb_interactions'] = df_hp_chars['connection_label'].apply(lambda x:  0 if type(0.0)==type(x) and  math.isnan(x) else len(x))"
   ]
  },
  {
   "cell_type": "code",
   "execution_count": 39,
   "id": "4369aba5-340c-4ca0-953f-21bde7bb472d",
   "metadata": {},
   "outputs": [],
   "source": [
    "# save the characters dataframe for later use\n",
    "df_hp_chars.to_json( cleaned_folder+\"all_chars.json\", orient='index')"
   ]
  },
  {
   "cell_type": "code",
   "execution_count": 40,
   "id": "2b5a16a3-c038-4852-ad11-999c39c80405",
   "metadata": {},
   "outputs": [
    {
     "data": {
      "text/plain": [
       "<Figure size 720x432 with 0 Axes>"
      ]
     },
     "metadata": {},
     "output_type": "display_data"
    },
    {
     "data": {
      "image/png": "[encoded data removed]",
      "text/plain": [
       "<Figure size 360x360 with 1 Axes>"
      ]
     },
     "metadata": {
      "needs_background": "light"
     },
     "output_type": "display_data"
    }
   ],
   "source": [
    "fig = plt.figure(figsize=(10,6))\n",
    "sns.displot(df_hp_chars['nb_interactions'], log=(True,True),bins=50)\n",
    "plt.title(\"Histogram of the number of interactions by character (log)\")\n",
    "plt.xlabel(\"Number of interactions (log)\")\n",
    "plt.show()"
   ]
  },
  {
   "cell_type": "markdown",
   "id": "0e28656e-0b69-4d90-b6a8-5ae2887072aa",
   "metadata": {},
   "source": [
    "The first remark we can make is that we cannot assert that the graph is undirected since a link from the page of a character to another one doesn't guarantee that the reverse link exists. The above histogram therefore corresponds to the out-degree distribution of the characters in the network. We can see that it seems to match one of network most famous' distributions, a power law. Indeed, we can see that the empirical distribution almost form a line in a log-log plot which is a characteristic of a power law' distribution function. Furthermore, it is known that an interesting property of the distribution is that extreme-value are rare but not to rare since most of the characters are located before 100 and some of them after. "
   ]
  },
  {
   "cell_type": "code",
   "execution_count": 41,
   "id": "653ea317-a661-49f7-9e4b-2ce26a0fdb0b",
   "metadata": {},
   "outputs": [
    {
     "data": {
      "text/html": [
       "<div>\n",
       "<style scoped>\n",
       "    .dataframe tbody tr th:only-of-type {\n",
       "        vertical-align: middle;\n",
       "    }\n",
       "\n",
       "    .dataframe tbody tr th {\n",
       "        vertical-align: top;\n",
       "    }\n",
       "\n",
       "    .dataframe thead th {\n",
       "        text-align: right;\n",
       "    }\n",
       "</style>\n",
       "<table border=\"1\" class=\"dataframe\">\n",
       "  <thead>\n",
       "    <tr style=\"text-align: right;\">\n",
       "      <th></th>\n",
       "      <th>name</th>\n",
       "      <th>birth</th>\n",
       "      <th>death</th>\n",
       "      <th>species</th>\n",
       "      <th>ancestry</th>\n",
       "      <th>gender</th>\n",
       "      <th>hair_color</th>\n",
       "      <th>eye_color</th>\n",
       "      <th>patronus</th>\n",
       "      <th>house</th>\n",
       "      <th>...</th>\n",
       "      <th>length</th>\n",
       "      <th>core</th>\n",
       "      <th>Note</th>\n",
       "      <th>id</th>\n",
       "      <th>label</th>\n",
       "      <th>link</th>\n",
       "      <th>link_image</th>\n",
       "      <th>connection_label</th>\n",
       "      <th>nb_associations</th>\n",
       "      <th>nb_interactions</th>\n",
       "    </tr>\n",
       "  </thead>\n",
       "  <tbody>\n",
       "    <tr>\n",
       "      <th>84</th>\n",
       "      <td>Harry Potter</td>\n",
       "      <td>31 July, 1980</td>\n",
       "      <td>None</td>\n",
       "      <td>Human</td>\n",
       "      <td>Half-blood</td>\n",
       "      <td>Male</td>\n",
       "      <td>Jet-black</td>\n",
       "      <td>Bottle green</td>\n",
       "      <td>Stag</td>\n",
       "      <td>Gryffindor</td>\n",
       "      <td>...</td>\n",
       "      <td>11.00</td>\n",
       "      <td>Phoenix feather</td>\n",
       "      <td>Brother to Voldemort's wand — the core tail fe...</td>\n",
       "      <td>106</td>\n",
       "      <td>Harry Potter</td>\n",
       "      <td>Harry_Potter</td>\n",
       "      <td>http://img2.wikia.nocookie.net/__cb20140619173...</td>\n",
       "      <td>[Aberforth Dumbledore, Alastor Moody, Albus Du...</td>\n",
       "      <td>13</td>\n",
       "      <td>164</td>\n",
       "    </tr>\n",
       "    <tr>\n",
       "      <th>98</th>\n",
       "      <td>Severus Snape</td>\n",
       "      <td>9 January 1960</td>\n",
       "      <td>2 May 1998 (aged 38)</td>\n",
       "      <td>Human</td>\n",
       "      <td>Half-blood</td>\n",
       "      <td>Male</td>\n",
       "      <td>Black</td>\n",
       "      <td>Black</td>\n",
       "      <td>Doe</td>\n",
       "      <td>Slytherin</td>\n",
       "      <td>...</td>\n",
       "      <td>NaN</td>\n",
       "      <td>NaN</td>\n",
       "      <td>NaN</td>\n",
       "      <td>126</td>\n",
       "      <td>Severus Snape</td>\n",
       "      <td>Severus_Snape</td>\n",
       "      <td>http://img2.wikia.nocookie.net/__cb20140619181...</td>\n",
       "      <td>[Aberforth Dumbledore, Alastor Moody, Albus Du...</td>\n",
       "      <td>10</td>\n",
       "      <td>94</td>\n",
       "    </tr>\n",
       "    <tr>\n",
       "      <th>108</th>\n",
       "      <td>Ronald Weasley</td>\n",
       "      <td>1 March, 1980</td>\n",
       "      <td>None</td>\n",
       "      <td>Human</td>\n",
       "      <td>Pure-blood</td>\n",
       "      <td>Male</td>\n",
       "      <td>Red</td>\n",
       "      <td>Blue</td>\n",
       "      <td>Jack Russell terrier</td>\n",
       "      <td>Gryffindor</td>\n",
       "      <td>...</td>\n",
       "      <td>14.00</td>\n",
       "      <td>Unicorn hair</td>\n",
       "      <td>Purchased with his father's winnings from a Da...</td>\n",
       "      <td>147</td>\n",
       "      <td>Ronald Weasley</td>\n",
       "      <td>Ron_Weasley</td>\n",
       "      <td>http://img2.wikia.nocookie.net/__cb20140425121...</td>\n",
       "      <td>[Aberforth Dumbledore, Alastor Moody, Albus Du...</td>\n",
       "      <td>14</td>\n",
       "      <td>99</td>\n",
       "    </tr>\n",
       "    <tr>\n",
       "      <th>134</th>\n",
       "      <td>Hermione Granger</td>\n",
       "      <td>19 September, 1979</td>\n",
       "      <td>None</td>\n",
       "      <td>Human</td>\n",
       "      <td>Muggle-born</td>\n",
       "      <td>Female</td>\n",
       "      <td>Brown</td>\n",
       "      <td>Brown</td>\n",
       "      <td>Otter</td>\n",
       "      <td>Gryffindor</td>\n",
       "      <td>...</td>\n",
       "      <td>10.75</td>\n",
       "      <td>Dragon heartstring</td>\n",
       "      <td>This wand was confiscated when the trio was ca...</td>\n",
       "      <td>59</td>\n",
       "      <td>Hermione Granger</td>\n",
       "      <td>Hermione_Granger</td>\n",
       "      <td>http://img2.wikia.nocookie.net/__cb20101104204...</td>\n",
       "      <td>[Aberforth Dumbledore, Alastor Moody, Albus Du...</td>\n",
       "      <td>12</td>\n",
       "      <td>125</td>\n",
       "    </tr>\n",
       "    <tr>\n",
       "      <th>175</th>\n",
       "      <td>Albus Dumbledore</td>\n",
       "      <td>Late August 1881</td>\n",
       "      <td>30 June, 1997 (aged 115)</td>\n",
       "      <td>Human</td>\n",
       "      <td>Half-blood</td>\n",
       "      <td>Male</td>\n",
       "      <td>Silver, formerly auburn</td>\n",
       "      <td>Blue</td>\n",
       "      <td>Phoenix</td>\n",
       "      <td>Gryffindor</td>\n",
       "      <td>...</td>\n",
       "      <td>15.00</td>\n",
       "      <td>Thestral tail hair</td>\n",
       "      <td>The Elder Wand, one of the Deathly Hallows. Al...</td>\n",
       "      <td>35</td>\n",
       "      <td>Albus Dumbledore</td>\n",
       "      <td>Albus_Dumbledore</td>\n",
       "      <td>http://img3.wikia.nocookie.net/__cb20140619180...</td>\n",
       "      <td>[Aberforth Dumbledore, Alastor Moody, Alecto C...</td>\n",
       "      <td>12</td>\n",
       "      <td>137</td>\n",
       "    </tr>\n",
       "  </tbody>\n",
       "</table>\n",
       "<p>5 rows × 24 columns</p>\n",
       "</div>"
      ],
      "text/plain": [
       "                 name               birth                     death species  \\\n",
       "84       Harry Potter       31 July, 1980                      None   Human   \n",
       "98      Severus Snape      9 January 1960      2 May 1998 (aged 38)   Human   \n",
       "108    Ronald Weasley       1 March, 1980                      None   Human   \n",
       "134  Hermione Granger  19 September, 1979                      None   Human   \n",
       "175  Albus Dumbledore    Late August 1881  30 June, 1997 (aged 115)   Human   \n",
       "\n",
       "        ancestry  gender               hair_color     eye_color  \\\n",
       "84    Half-blood    Male                Jet-black  Bottle green   \n",
       "98    Half-blood    Male                    Black         Black   \n",
       "108   Pure-blood    Male                      Red          Blue   \n",
       "134  Muggle-born  Female                    Brown         Brown   \n",
       "175   Half-blood    Male  Silver, formerly auburn          Blue   \n",
       "\n",
       "                 patronus       house  ... length                core  \\\n",
       "84                   Stag  Gryffindor  ...  11.00     Phoenix feather   \n",
       "98                    Doe   Slytherin  ...    NaN                 NaN   \n",
       "108  Jack Russell terrier  Gryffindor  ...  14.00        Unicorn hair   \n",
       "134                 Otter  Gryffindor  ...  10.75  Dragon heartstring   \n",
       "175               Phoenix  Gryffindor  ...  15.00  Thestral tail hair   \n",
       "\n",
       "                                                  Note   id             label  \\\n",
       "84   Brother to Voldemort's wand — the core tail fe...  106      Harry Potter   \n",
       "98                                                 NaN  126     Severus Snape   \n",
       "108  Purchased with his father's winnings from a Da...  147    Ronald Weasley   \n",
       "134  This wand was confiscated when the trio was ca...   59  Hermione Granger   \n",
       "175  The Elder Wand, one of the Deathly Hallows. Al...   35  Albus Dumbledore   \n",
       "\n",
       "                 link                                         link_image  \\\n",
       "84       Harry_Potter  http://img2.wikia.nocookie.net/__cb20140619173...   \n",
       "98      Severus_Snape  http://img2.wikia.nocookie.net/__cb20140619181...   \n",
       "108       Ron_Weasley  http://img2.wikia.nocookie.net/__cb20140425121...   \n",
       "134  Hermione_Granger  http://img2.wikia.nocookie.net/__cb20101104204...   \n",
       "175  Albus_Dumbledore  http://img3.wikia.nocookie.net/__cb20140619180...   \n",
       "\n",
       "                                      connection_label nb_associations  \\\n",
       "84   [Aberforth Dumbledore, Alastor Moody, Albus Du...              13   \n",
       "98   [Aberforth Dumbledore, Alastor Moody, Albus Du...              10   \n",
       "108  [Aberforth Dumbledore, Alastor Moody, Albus Du...              14   \n",
       "134  [Aberforth Dumbledore, Alastor Moody, Albus Du...              12   \n",
       "175  [Aberforth Dumbledore, Alastor Moody, Alecto C...              12   \n",
       "\n",
       "    nb_interactions  \n",
       "84              164  \n",
       "98               94  \n",
       "108              99  \n",
       "134             125  \n",
       "175             137  \n",
       "\n",
       "[5 rows x 24 columns]"
      ]
     },
     "execution_count": 41,
     "metadata": {},
     "output_type": "execute_result"
    }
   ],
   "source": [
    "df_hp_chars[df_hp_chars['nb_interactions']>90]"
   ]
  },
  {
   "cell_type": "markdown",
   "id": "725c2283-3957-4830-bb21-099876500924",
   "metadata": {},
   "source": [
    "As we would have expected, these extreme values correspond to extremely important characters in the whole saga, i.e. the main characters. What we just looked at is the graph of interaction between characters. We will now enter the world of associations. In this new graph, any two nodes have a link if they have at least one association in common. "
   ]
  },
  {
   "cell_type": "code",
   "execution_count": 42,
   "id": "f49a1a2f-23cf-426e-94c0-d5829cce8670",
   "metadata": {},
   "outputs": [
    {
     "data": {
      "image/png": "[encoded data removed]",
      "text/plain": [
       "<Figure size 360x360 with 1 Axes>"
      ]
     },
     "metadata": {
      "needs_background": "light"
     },
     "output_type": "display_data"
    }
   ],
   "source": [
    "sns.displot(df_hp_chars['nb_associations'], log=(True,True))\n",
    "plt.title(\"Histogram of the number of associations by character\")\n",
    "plt.xlabel(\"Number of associations\")\n",
    "plt.show()"
   ]
  },
  {
   "cell_type": "markdown",
   "id": "c32f8fe8-390f-4a24-bc91-0e8c8db3d45e",
   "metadata": {},
   "source": [
    "We can see that the maximal number of association for one character is much lower than the maximal number of interaction for one character. We will now see what are the different associations and how many they are. Since one of our visualation will be a graph exploring these associations, it will be important to get insights about them"
   ]
  },
  {
   "cell_type": "code",
   "execution_count": 43,
   "id": "8d17354e-e2f6-41ac-ab26-fdd9ce03116b",
   "metadata": {},
   "outputs": [],
   "source": [
    "all_assoc = set()\n",
    "for index, value in df_hp_chars['associated_groups'].items():\n",
    "    all_assoc = all_assoc.union(set(value))"
   ]
  },
  {
   "cell_type": "code",
   "execution_count": 44,
   "id": "6e964a48-2913-45dc-9308-ef8051a0b737",
   "metadata": {},
   "outputs": [
    {
     "data": {
      "text/plain": [
       "({'',\n",
       "  'Abbott family',\n",
       "  'Acolytes',\n",
       "  'Advance Guard',\n",
       "  'Albus Dumbledore',\n",
       "  'Albus Potter',\n",
       "  'Algie (formerly)',\n",
       "  'Apothecarium of Horace E. F. Slughorn',\n",
       "  'Argus Filch (owner)',\n",
       "  'Auror Department',\n",
       "  'Auror Department (formerly)',\n",
       "  'Auror Office',\n",
       "  'Auror Office (formerly)',\n",
       "  'Bagman family',\n",
       "  'Bagshot family',\n",
       "  'Bartemius Crouch Junior',\n",
       "  'Bartemius Crouch Senior',\n",
       "  'Beast Division',\n",
       "  'Beauxbatons Academy of Magic',\n",
       "  'Bell family',\n",
       "  'Binns family',\n",
       "  'Black family (formerly)',\n",
       "  'Bones family',\n",
       "  'Boot family',\n",
       "  'Borgin and Burkes',\n",
       "  'British Ministry of Magic',\n",
       "  'British Ministry of Magic (formerly)',\n",
       "  'British Ministry of Magic (only under his control)',\n",
       "  'Brown family',\n",
       "  'Bulgarian National Quidditch team',\n",
       "  'Bulstrode family',\n",
       "  'Carrow family',\n",
       "  'Catholic Church (formerly)',\n",
       "  'Cattermole family',\n",
       "  'Chang family',\n",
       "  'Chudley Cannons',\n",
       "  'Circle of Khanna',\n",
       "  'Circus Arcanus (formerly)',\n",
       "  'Clearwater family',\n",
       "  'Corner family',\n",
       "  'Council of Magical Law',\n",
       "  'Crabbe family',\n",
       "  'Credence Barebone (formerly)',\n",
       "  'Creevey family',\n",
       "  'Crouch family (formerly)',\n",
       "  'Daily Prophet',\n",
       "  'Dark Force Defence League (formerly)',\n",
       "  'Death Eaters',\n",
       "  'Death Eaters (Imperiused)',\n",
       "  'Death Eaters (alternate timeline)',\n",
       "  'Death Eaters (defected)',\n",
       "  'Death Eaters (formerly)',\n",
       "  'Death Eaters (indirectly)',\n",
       "  'Death Eaters (unofficial)',\n",
       "  'Death Eaters (unofficially)',\n",
       "  'Delacour family',\n",
       "  'Department for the Regulation and Control of Magical Creatures',\n",
       "  'Department of International Magical Cooperation',\n",
       "  'Department of International Magical Cooperation (formerly)',\n",
       "  'Department of Magical Accidents and Catastrophes',\n",
       "  'Department of Magical Games and Sports',\n",
       "  'Department of Magical Law Enforcement',\n",
       "  'Department of Magical Transportation',\n",
       "  'Department of Mysteries (formerly)',\n",
       "  'Diggle family',\n",
       "  'Diggory family',\n",
       "  'Divination Workshop (possibly)',\n",
       "  'Draco Malfoy',\n",
       "  'Draco Malfoy (while under the Imperius Curse)',\n",
       "  \"Draco Malfoy's gang\",\n",
       "  \"Draco Malfoy's gang (formerly)\",\n",
       "  'Duelling Club',\n",
       "  'Dumbledore family',\n",
       "  \"Dumbledore's Army\",\n",
       "  \"Dumbledore's Army (abandoned)\",\n",
       "  \"Dumbledore's Army (betrayed)\",\n",
       "  \"Dumbledore's Army (during Battle of the Astronomy Tower and Battle of Hogwarts)\",\n",
       "  \"Dumbledore's Army (during the Battle of Hogwarts\",\n",
       "  \"Dumbledore's Army (during the Battle of Hogwarts)\",\n",
       "  \"Dumbledore's Army (during the Battle of the Astronomy Tower and the Battle of Hogwarts\",\n",
       "  'Durmstrang Institute',\n",
       "  'Durmstrang Institute (formerly)',\n",
       "  'Dursley family',\n",
       "  'Edgecombe family',\n",
       "  'Eeylops Owl Emporium (formerly)',\n",
       "  'English National Quidditch team',\n",
       "  'Evans family',\n",
       "  'Figg family',\n",
       "  'Finch-Fletchley family',\n",
       "  'Finnigan family',\n",
       "  'Flamel family',\n",
       "  'Fletcher family',\n",
       "  'Flitwick family',\n",
       "  'Forbidden Forest Acromantula colony',\n",
       "  'Forbidden Forest Centaur colony',\n",
       "  'Frog Choir',\n",
       "  'Frog Choir (formerly)',\n",
       "  'Fudge family',\n",
       "  'Goblin Liaison Office',\n",
       "  'Goldstein family',\n",
       "  'Goyle family',\n",
       "  'Granger family',\n",
       "  'Gringotts Wizarding Bank',\n",
       "  'Grunnings',\n",
       "  'Gryffindor',\n",
       "  'Gryffindor Quidditch team',\n",
       "  'Gryffindor Tower',\n",
       "  'Hagrid family',\n",
       "  'Harry Potter',\n",
       "  'Harry Potter (owner)',\n",
       "  'Headless Hunt (possibly)',\n",
       "  \"Henry VII's royal court (formerly)\",\n",
       "  'Herbology department',\n",
       "  'Hermione Granger',\n",
       "  'Hermione Granger (owner)',\n",
       "  'His fiancée',\n",
       "  'His gang (formerly)',\n",
       "  \"Hog's Head Inn\",\n",
       "  'Hogwarts Library',\n",
       "  'Hogwarts Owlery',\n",
       "  'Hogwarts School of Witchcraft and Wizardry',\n",
       "  'Hogwarts School of Witchcraft and Wizardry (abandoned)',\n",
       "  'Hogwarts School of Witchcraft and Wizardry (formerly)',\n",
       "  'Hogwarts School of Witchcraft and Wizardry\\xa0',\n",
       "  'Holyhead Harpies',\n",
       "  'Hospital Wing',\n",
       "  'House of Black',\n",
       "  'House of Gaunt',\n",
       "  'Howell family',\n",
       "  'Hufflepuff',\n",
       "  'Hufflepuff Quidditch team',\n",
       "  'Hufflepuff family',\n",
       "  'Inquisitorial Squad',\n",
       "  'Inquisitorial Squad (formerly)',\n",
       "  'International Confederation of Wizards',\n",
       "  'Johnson family',\n",
       "  'Jordan family',\n",
       "  'King Arthur',\n",
       "  'Knight Bus',\n",
       "  'Krum family',\n",
       "  'Leaky Cauldron',\n",
       "  'Lestrange family',\n",
       "  'Lily Potter',\n",
       "  'Lockhart family',\n",
       "  'Longbottom family',\n",
       "  'Lord Voldemort',\n",
       "  'Lord Voldemort (formerly)',\n",
       "  'Lovegood family',\n",
       "  'Lupin family',\n",
       "  'Macmillan family',\n",
       "  'Magical Maintenance Department',\n",
       "  'Magical Menagerie',\n",
       "  'Magical Menagerie saleswoman',\n",
       "  'Malfoy family',\n",
       "  'Malfoy family (formerly)',\n",
       "  'Marauders',\n",
       "  'Maxime family',\n",
       "  'McGonagall family',\n",
       "  'McLaggen family',\n",
       "  'Ministry of Magic',\n",
       "  'Ministry of Magic (formerly)',\n",
       "  'Misuse of Muggle Artefacts Office',\n",
       "  'Mrs. Norris',\n",
       "  'Neville Longbottom',\n",
       "  'Newt Scamander (formerly)',\n",
       "  'Nott family',\n",
       "  'Office for the Detection and Confiscation of Counterfeit Defensive Spells and Protective Objects',\n",
       "  'Ogden family',\n",
       "  'Ollivander family',\n",
       "  'Ollivanders',\n",
       "  'Order of Merlin',\n",
       "  'Order of the Phoenix',\n",
       "  'Order of the Phoenix (betrayed)',\n",
       "  'Order of the Phoenix (during Battle of the Astronomy Tower and Battle of Hogwarts)',\n",
       "  'Order of the Phoenix (during the Battle of Hogwarts)',\n",
       "  'Order of the Phoenix (during the Battle of the Astronomy Tower and the Battle of Hogwarts',\n",
       "  'Order of the Phoenix (formerly)',\n",
       "  'Order of the Phoenix (indirectly)',\n",
       "  'Parkinson family',\n",
       "  'Patil family',\n",
       "  'Pettigrew family',\n",
       "  'Peverell family',\n",
       "  'Podmore family',\n",
       "  'Potter family',\n",
       "  'Potterwatch',\n",
       "  'Prewett family',\n",
       "  'Prince family',\n",
       "  'Puddlemere United',\n",
       "  'Quirinus Quirrell (as egg)',\n",
       "  'R (formerly)',\n",
       "  'Ravenclaw',\n",
       "  'Ravenclaw Quidditch team',\n",
       "  'Ravenclaw family',\n",
       "  'Riddle family',\n",
       "  'Romanian Dragon Sanctuary',\n",
       "  'Ronald Weasley',\n",
       "  'Rubeus Hagrid',\n",
       "  'Rubeus Hagrid (owner)',\n",
       "  'S.P.E.W.',\n",
       "  'Scamander family',\n",
       "  'Scorpius Malfoy',\n",
       "  'Shacklebolt family',\n",
       "  'Sirius Black',\n",
       "  'Sirius Black (owner)',\n",
       "  'Slug Club',\n",
       "  'Slug Club (briefly)',\n",
       "  'Slug Club (possibly)',\n",
       "  'Slughorn family',\n",
       "  'Slytherin',\n",
       "  'Slytherin Quidditch team',\n",
       "  'Slytherin family',\n",
       "  'Smeltings Academy',\n",
       "  'Smith family',\n",
       "  'Snape family',\n",
       "  'Snatchers',\n",
       "  \"St Mungo's Hospital for Magical Maladies and Injuries\",\n",
       "  'The Alliance',\n",
       "  'The Quibbler',\n",
       "  'Thomas family',\n",
       "  'Three Broomsticks Inn',\n",
       "  'Tonks family',\n",
       "  'Transfiguration department',\n",
       "  'Trelawney family',\n",
       "  'Urquart family',\n",
       "  'Vance family',\n",
       "  'Vane family',\n",
       "  'Warren family',\n",
       "  'Weasley family',\n",
       "  'Weasley family (as Scabbers) (formerly)',\n",
       "  \"Weasleys' Wizard Wheezes\",\n",
       "  'Werewolf army',\n",
       "  'Wimbourne Wasps (formerly)',\n",
       "  'Witch Weekly',\n",
       "  'Wizengamot',\n",
       "  'Wizengamot (formally)',\n",
       "  'Zabini family',\n",
       "  'nationality = Welsh'},\n",
       " 237)"
      ]
     },
     "execution_count": 44,
     "metadata": {},
     "output_type": "execute_result"
    }
   ],
   "source": [
    "all_assoc, len(all_assoc)"
   ]
  },
  {
   "cell_type": "markdown",
   "id": "d7168f96-663f-443c-9042-0b1207d52e0a",
   "metadata": {},
   "source": [
    "WOWOW ! We can see that there are much more association than expected... We will need to come up with a way of removing the less important ones. Doing it by hand like earlier seems to be really hard. Instead, what we will do is to compute the number of characters appearing in each association, "
   ]
  },
  {
   "cell_type": "code",
   "execution_count": 45,
   "id": "e223f712-3900-46e0-8494-8f6d3af40e06",
   "metadata": {},
   "outputs": [
    {
     "name": "stderr",
     "output_type": "stream",
     "text": [
      "/var/folders/vf/btrykr5n65v_k_lwb61317k80000gn/T/ipykernel_8299/2032238628.py:2: FutureWarning: The default dtype for empty Series will be 'object' instead of 'float64' in a future version. Specify a dtype explicitly to silence this warning.\n",
      "  series_assoc_by_char = df_hp_chars['associated_groups'].apply(pd.Series).stack()\n"
     ]
    },
    {
     "data": {
      "text/plain": [
       "0  0                             Rubeus Hagrid\n",
       "   1       Forbidden Forest Acromantula colony\n",
       "1  0                Wimbourne Wasps (formerly)\n",
       "   1                 British Ministry of Magic\n",
       "   2    Department of Magical Games and Sports\n",
       "dtype: object"
      ]
     },
     "execution_count": 45,
     "metadata": {},
     "output_type": "execute_result"
    }
   ],
   "source": [
    "# get the series with all associations for each cahracter\n",
    "series_assoc_by_char = df_hp_chars['associated_groups'].apply(pd.Series).stack()\n",
    "series_assoc_by_char.head(5)"
   ]
  },
  {
   "cell_type": "code",
   "execution_count": 46,
   "id": "65342790-e336-48b0-8ce0-54cf11307b7f",
   "metadata": {},
   "outputs": [
    {
     "data": {
      "text/html": [
       "<div>\n",
       "<style scoped>\n",
       "    .dataframe tbody tr th:only-of-type {\n",
       "        vertical-align: middle;\n",
       "    }\n",
       "\n",
       "    .dataframe tbody tr th {\n",
       "        vertical-align: top;\n",
       "    }\n",
       "\n",
       "    .dataframe thead th {\n",
       "        text-align: right;\n",
       "    }\n",
       "</style>\n",
       "<table border=\"1\" class=\"dataframe\">\n",
       "  <thead>\n",
       "    <tr style=\"text-align: right;\">\n",
       "      <th></th>\n",
       "      <th></th>\n",
       "      <th></th>\n",
       "      <th>Abbott family</th>\n",
       "      <th>Acolytes</th>\n",
       "      <th>Advance Guard</th>\n",
       "      <th>Albus Dumbledore</th>\n",
       "      <th>Albus Potter</th>\n",
       "      <th>Algie (formerly)</th>\n",
       "      <th>Apothecarium of Horace E. F. Slughorn</th>\n",
       "      <th>Argus Filch (owner)</th>\n",
       "      <th>Auror Department</th>\n",
       "      <th>...</th>\n",
       "      <th>Weasley family</th>\n",
       "      <th>Weasley family (as Scabbers) (formerly)</th>\n",
       "      <th>Weasleys' Wizard Wheezes</th>\n",
       "      <th>Werewolf army</th>\n",
       "      <th>Wimbourne Wasps (formerly)</th>\n",
       "      <th>Witch Weekly</th>\n",
       "      <th>Wizengamot</th>\n",
       "      <th>Wizengamot (formally)</th>\n",
       "      <th>Zabini family</th>\n",
       "      <th>nationality = Welsh</th>\n",
       "    </tr>\n",
       "  </thead>\n",
       "  <tbody>\n",
       "    <tr>\n",
       "      <th rowspan=\"2\" valign=\"top\">0</th>\n",
       "      <th>0</th>\n",
       "      <td>0</td>\n",
       "      <td>0</td>\n",
       "      <td>0</td>\n",
       "      <td>0</td>\n",
       "      <td>0</td>\n",
       "      <td>0</td>\n",
       "      <td>0</td>\n",
       "      <td>0</td>\n",
       "      <td>0</td>\n",
       "      <td>0</td>\n",
       "      <td>...</td>\n",
       "      <td>0</td>\n",
       "      <td>0</td>\n",
       "      <td>0</td>\n",
       "      <td>0</td>\n",
       "      <td>0</td>\n",
       "      <td>0</td>\n",
       "      <td>0</td>\n",
       "      <td>0</td>\n",
       "      <td>0</td>\n",
       "      <td>0</td>\n",
       "    </tr>\n",
       "    <tr>\n",
       "      <th>1</th>\n",
       "      <td>0</td>\n",
       "      <td>0</td>\n",
       "      <td>0</td>\n",
       "      <td>0</td>\n",
       "      <td>0</td>\n",
       "      <td>0</td>\n",
       "      <td>0</td>\n",
       "      <td>0</td>\n",
       "      <td>0</td>\n",
       "      <td>0</td>\n",
       "      <td>...</td>\n",
       "      <td>0</td>\n",
       "      <td>0</td>\n",
       "      <td>0</td>\n",
       "      <td>0</td>\n",
       "      <td>0</td>\n",
       "      <td>0</td>\n",
       "      <td>0</td>\n",
       "      <td>0</td>\n",
       "      <td>0</td>\n",
       "      <td>0</td>\n",
       "    </tr>\n",
       "    <tr>\n",
       "      <th rowspan=\"3\" valign=\"top\">1</th>\n",
       "      <th>0</th>\n",
       "      <td>0</td>\n",
       "      <td>0</td>\n",
       "      <td>0</td>\n",
       "      <td>0</td>\n",
       "      <td>0</td>\n",
       "      <td>0</td>\n",
       "      <td>0</td>\n",
       "      <td>0</td>\n",
       "      <td>0</td>\n",
       "      <td>0</td>\n",
       "      <td>...</td>\n",
       "      <td>0</td>\n",
       "      <td>0</td>\n",
       "      <td>0</td>\n",
       "      <td>0</td>\n",
       "      <td>1</td>\n",
       "      <td>0</td>\n",
       "      <td>0</td>\n",
       "      <td>0</td>\n",
       "      <td>0</td>\n",
       "      <td>0</td>\n",
       "    </tr>\n",
       "    <tr>\n",
       "      <th>1</th>\n",
       "      <td>0</td>\n",
       "      <td>0</td>\n",
       "      <td>0</td>\n",
       "      <td>0</td>\n",
       "      <td>0</td>\n",
       "      <td>0</td>\n",
       "      <td>0</td>\n",
       "      <td>0</td>\n",
       "      <td>0</td>\n",
       "      <td>0</td>\n",
       "      <td>...</td>\n",
       "      <td>0</td>\n",
       "      <td>0</td>\n",
       "      <td>0</td>\n",
       "      <td>0</td>\n",
       "      <td>0</td>\n",
       "      <td>0</td>\n",
       "      <td>0</td>\n",
       "      <td>0</td>\n",
       "      <td>0</td>\n",
       "      <td>0</td>\n",
       "    </tr>\n",
       "    <tr>\n",
       "      <th>2</th>\n",
       "      <td>0</td>\n",
       "      <td>0</td>\n",
       "      <td>0</td>\n",
       "      <td>0</td>\n",
       "      <td>0</td>\n",
       "      <td>0</td>\n",
       "      <td>0</td>\n",
       "      <td>0</td>\n",
       "      <td>0</td>\n",
       "      <td>0</td>\n",
       "      <td>...</td>\n",
       "      <td>0</td>\n",
       "      <td>0</td>\n",
       "      <td>0</td>\n",
       "      <td>0</td>\n",
       "      <td>0</td>\n",
       "      <td>0</td>\n",
       "      <td>0</td>\n",
       "      <td>0</td>\n",
       "      <td>0</td>\n",
       "      <td>0</td>\n",
       "    </tr>\n",
       "  </tbody>\n",
       "</table>\n",
       "<p>5 rows × 237 columns</p>\n",
       "</div>"
      ],
      "text/plain": [
       "        Abbott family  Acolytes  Advance Guard  Albus Dumbledore  \\\n",
       "0 0  0              0         0              0                 0   \n",
       "  1  0              0         0              0                 0   \n",
       "1 0  0              0         0              0                 0   \n",
       "  1  0              0         0              0                 0   \n",
       "  2  0              0         0              0                 0   \n",
       "\n",
       "     Albus Potter  Algie (formerly)  Apothecarium of Horace E. F. Slughorn  \\\n",
       "0 0             0                 0                                      0   \n",
       "  1             0                 0                                      0   \n",
       "1 0             0                 0                                      0   \n",
       "  1             0                 0                                      0   \n",
       "  2             0                 0                                      0   \n",
       "\n",
       "     Argus Filch (owner)  Auror Department  ...  Weasley family  \\\n",
       "0 0                    0                 0  ...               0   \n",
       "  1                    0                 0  ...               0   \n",
       "1 0                    0                 0  ...               0   \n",
       "  1                    0                 0  ...               0   \n",
       "  2                    0                 0  ...               0   \n",
       "\n",
       "     Weasley family (as Scabbers) (formerly)  Weasleys' Wizard Wheezes  \\\n",
       "0 0                                        0                         0   \n",
       "  1                                        0                         0   \n",
       "1 0                                        0                         0   \n",
       "  1                                        0                         0   \n",
       "  2                                        0                         0   \n",
       "\n",
       "     Werewolf army  Wimbourne Wasps (formerly)  Witch Weekly  Wizengamot  \\\n",
       "0 0              0                           0             0           0   \n",
       "  1              0                           0             0           0   \n",
       "1 0              0                           1             0           0   \n",
       "  1              0                           0             0           0   \n",
       "  2              0                           0             0           0   \n",
       "\n",
       "     Wizengamot (formally)  Zabini family  nationality = Welsh  \n",
       "0 0                      0              0                    0  \n",
       "  1                      0              0                    0  \n",
       "1 0                      0              0                    0  \n",
       "  1                      0              0                    0  \n",
       "  2                      0              0                    0  \n",
       "\n",
       "[5 rows x 237 columns]"
      ]
     },
     "execution_count": 46,
     "metadata": {},
     "output_type": "execute_result"
    }
   ],
   "source": [
    "# get dummies with all the previously created series \n",
    "dum = pd.get_dummies(series_assoc_by_char)\n",
    "dum.head(5)"
   ]
  },
  {
   "cell_type": "code",
   "execution_count": 47,
   "id": "0519663b-baf1-4f08-ae30-2ca69599186f",
   "metadata": {},
   "outputs": [],
   "source": [
    "# Group by index\n",
    "dum = dum.groupby(level=0)"
   ]
  },
  {
   "cell_type": "code",
   "execution_count": 48,
   "id": "3d65a11e-965f-4b1d-aa9f-2e353e45319c",
   "metadata": {},
   "outputs": [
    {
     "data": {
      "text/html": [
       "<div>\n",
       "<style scoped>\n",
       "    .dataframe tbody tr th:only-of-type {\n",
       "        vertical-align: middle;\n",
       "    }\n",
       "\n",
       "    .dataframe tbody tr th {\n",
       "        vertical-align: top;\n",
       "    }\n",
       "\n",
       "    .dataframe thead th {\n",
       "        text-align: right;\n",
       "    }\n",
       "</style>\n",
       "<table border=\"1\" class=\"dataframe\">\n",
       "  <thead>\n",
       "    <tr style=\"text-align: right;\">\n",
       "      <th></th>\n",
       "      <th></th>\n",
       "      <th>Abbott family</th>\n",
       "      <th>Acolytes</th>\n",
       "      <th>Advance Guard</th>\n",
       "      <th>Albus Dumbledore</th>\n",
       "      <th>Albus Potter</th>\n",
       "      <th>Algie (formerly)</th>\n",
       "      <th>Apothecarium of Horace E. F. Slughorn</th>\n",
       "      <th>Argus Filch (owner)</th>\n",
       "      <th>Auror Department</th>\n",
       "      <th>...</th>\n",
       "      <th>Weasley family</th>\n",
       "      <th>Weasley family (as Scabbers) (formerly)</th>\n",
       "      <th>Weasleys' Wizard Wheezes</th>\n",
       "      <th>Werewolf army</th>\n",
       "      <th>Wimbourne Wasps (formerly)</th>\n",
       "      <th>Witch Weekly</th>\n",
       "      <th>Wizengamot</th>\n",
       "      <th>Wizengamot (formally)</th>\n",
       "      <th>Zabini family</th>\n",
       "      <th>nationality = Welsh</th>\n",
       "    </tr>\n",
       "  </thead>\n",
       "  <tbody>\n",
       "    <tr>\n",
       "      <th>0</th>\n",
       "      <td>0</td>\n",
       "      <td>0</td>\n",
       "      <td>0</td>\n",
       "      <td>0</td>\n",
       "      <td>0</td>\n",
       "      <td>0</td>\n",
       "      <td>0</td>\n",
       "      <td>0</td>\n",
       "      <td>0</td>\n",
       "      <td>0</td>\n",
       "      <td>...</td>\n",
       "      <td>0</td>\n",
       "      <td>0</td>\n",
       "      <td>0</td>\n",
       "      <td>0</td>\n",
       "      <td>0</td>\n",
       "      <td>0</td>\n",
       "      <td>0</td>\n",
       "      <td>0</td>\n",
       "      <td>0</td>\n",
       "      <td>0</td>\n",
       "    </tr>\n",
       "    <tr>\n",
       "      <th>1</th>\n",
       "      <td>0</td>\n",
       "      <td>0</td>\n",
       "      <td>0</td>\n",
       "      <td>0</td>\n",
       "      <td>0</td>\n",
       "      <td>0</td>\n",
       "      <td>0</td>\n",
       "      <td>0</td>\n",
       "      <td>0</td>\n",
       "      <td>0</td>\n",
       "      <td>...</td>\n",
       "      <td>0</td>\n",
       "      <td>0</td>\n",
       "      <td>0</td>\n",
       "      <td>0</td>\n",
       "      <td>1</td>\n",
       "      <td>0</td>\n",
       "      <td>0</td>\n",
       "      <td>0</td>\n",
       "      <td>0</td>\n",
       "      <td>0</td>\n",
       "    </tr>\n",
       "    <tr>\n",
       "      <th>2</th>\n",
       "      <td>0</td>\n",
       "      <td>0</td>\n",
       "      <td>0</td>\n",
       "      <td>0</td>\n",
       "      <td>0</td>\n",
       "      <td>0</td>\n",
       "      <td>0</td>\n",
       "      <td>0</td>\n",
       "      <td>0</td>\n",
       "      <td>0</td>\n",
       "      <td>...</td>\n",
       "      <td>0</td>\n",
       "      <td>0</td>\n",
       "      <td>0</td>\n",
       "      <td>0</td>\n",
       "      <td>0</td>\n",
       "      <td>0</td>\n",
       "      <td>0</td>\n",
       "      <td>0</td>\n",
       "      <td>0</td>\n",
       "      <td>0</td>\n",
       "    </tr>\n",
       "    <tr>\n",
       "      <th>3</th>\n",
       "      <td>0</td>\n",
       "      <td>0</td>\n",
       "      <td>0</td>\n",
       "      <td>0</td>\n",
       "      <td>0</td>\n",
       "      <td>0</td>\n",
       "      <td>0</td>\n",
       "      <td>0</td>\n",
       "      <td>0</td>\n",
       "      <td>0</td>\n",
       "      <td>...</td>\n",
       "      <td>0</td>\n",
       "      <td>0</td>\n",
       "      <td>0</td>\n",
       "      <td>0</td>\n",
       "      <td>0</td>\n",
       "      <td>0</td>\n",
       "      <td>0</td>\n",
       "      <td>0</td>\n",
       "      <td>0</td>\n",
       "      <td>0</td>\n",
       "    </tr>\n",
       "    <tr>\n",
       "      <th>4</th>\n",
       "      <td>0</td>\n",
       "      <td>0</td>\n",
       "      <td>0</td>\n",
       "      <td>0</td>\n",
       "      <td>0</td>\n",
       "      <td>0</td>\n",
       "      <td>0</td>\n",
       "      <td>0</td>\n",
       "      <td>0</td>\n",
       "      <td>0</td>\n",
       "      <td>...</td>\n",
       "      <td>0</td>\n",
       "      <td>0</td>\n",
       "      <td>0</td>\n",
       "      <td>0</td>\n",
       "      <td>0</td>\n",
       "      <td>0</td>\n",
       "      <td>0</td>\n",
       "      <td>0</td>\n",
       "      <td>0</td>\n",
       "      <td>0</td>\n",
       "    </tr>\n",
       "  </tbody>\n",
       "</table>\n",
       "<p>5 rows × 237 columns</p>\n",
       "</div>"
      ],
      "text/plain": [
       "      Abbott family  Acolytes  Advance Guard  Albus Dumbledore  Albus Potter  \\\n",
       "0  0              0         0              0                 0             0   \n",
       "1  0              0         0              0                 0             0   \n",
       "2  0              0         0              0                 0             0   \n",
       "3  0              0         0              0                 0             0   \n",
       "4  0              0         0              0                 0             0   \n",
       "\n",
       "   Algie (formerly)  Apothecarium of Horace E. F. Slughorn  \\\n",
       "0                 0                                      0   \n",
       "1                 0                                      0   \n",
       "2                 0                                      0   \n",
       "3                 0                                      0   \n",
       "4                 0                                      0   \n",
       "\n",
       "   Argus Filch (owner)  Auror Department  ...  Weasley family  \\\n",
       "0                    0                 0  ...               0   \n",
       "1                    0                 0  ...               0   \n",
       "2                    0                 0  ...               0   \n",
       "3                    0                 0  ...               0   \n",
       "4                    0                 0  ...               0   \n",
       "\n",
       "   Weasley family (as Scabbers) (formerly)  Weasleys' Wizard Wheezes  \\\n",
       "0                                        0                         0   \n",
       "1                                        0                         0   \n",
       "2                                        0                         0   \n",
       "3                                        0                         0   \n",
       "4                                        0                         0   \n",
       "\n",
       "   Werewolf army  Wimbourne Wasps (formerly)  Witch Weekly  Wizengamot  \\\n",
       "0              0                           0             0           0   \n",
       "1              0                           1             0           0   \n",
       "2              0                           0             0           0   \n",
       "3              0                           0             0           0   \n",
       "4              0                           0             0           0   \n",
       "\n",
       "   Wizengamot (formally)  Zabini family  nationality = Welsh  \n",
       "0                      0              0                    0  \n",
       "1                      0              0                    0  \n",
       "2                      0              0                    0  \n",
       "3                      0              0                    0  \n",
       "4                      0              0                    0  \n",
       "\n",
       "[5 rows x 237 columns]"
      ]
     },
     "execution_count": 48,
     "metadata": {},
     "output_type": "execute_result"
    }
   ],
   "source": [
    "# Sum all the association for a given given character\n",
    "dum = dum.sum()\n",
    "dum.head(5)"
   ]
  },
  {
   "cell_type": "code",
   "execution_count": 49,
   "id": "10e8e6b7-478a-49f1-a7a7-14e544e1cebe",
   "metadata": {},
   "outputs": [
    {
     "data": {
      "text/plain": [
       "1      149\n",
       "2       34\n",
       "3       16\n",
       "4       12\n",
       "5        4\n",
       "6        3\n",
       "8        2\n",
       "9        2\n",
       "10       1\n",
       "11       1\n",
       "12       2\n",
       "13       1\n",
       "14       3\n",
       "17       1\n",
       "20       1\n",
       "21       1\n",
       "32       1\n",
       "37       1\n",
       "38       1\n",
       "109      1\n",
       "dtype: int64"
      ]
     },
     "execution_count": 49,
     "metadata": {},
     "output_type": "execute_result"
    }
   ],
   "source": [
    "# Sum the association over the axis 0 to get the count for each association\n",
    "dum = dum.sum(axis=0)\n",
    "dum.value_counts().sort_index()"
   ]
  },
  {
   "cell_type": "markdown",
   "id": "0f842239-6206-4148-9753-56490ca5e909",
   "metadata": {},
   "source": [
    "The visualisation we want to make between the characters is some kind of network with connections among characters. If time permits it, we would also want to be able to filter by association by highlighting the link between characters in the same association. For this to make sense and to look good, we choose to keep only the association with a number of characters >= 8. This represent around 20 associations which is enough to see interesting things in our opinion. Let's now see which associations are included in the chosen subset. "
   ]
  },
  {
   "cell_type": "code",
   "execution_count": 50,
   "id": "a6026346-c333-4d19-9076-8c90e48457dd",
   "metadata": {},
   "outputs": [
    {
     "data": {
      "text/plain": [
       "Advance Guard                                   8\n",
       "Department of Magical Law Enforcement           8\n",
       "Slug Club                                       9\n",
       "Prewett family                                  9\n",
       "Death Eaters                                   10\n",
       "Albus Dumbledore                               11\n",
       "Potter family                                  12\n",
       "Hufflepuff                                     12\n",
       "Harry Potter                                   13\n",
       "Lord Voldemort                                 14\n",
       "Weasley family                                 14\n",
       "Gryffindor Quidditch team                      14\n",
       "Ravenclaw                                      17\n",
       "Slytherin                                      20\n",
       "British Ministry of Magic                      21\n",
       "Dumbledore's Army                              32\n",
       "Gryffindor                                     37\n",
       "Order of the Phoenix                           38\n",
       "Hogwarts School of Witchcraft and Wizardry    109\n",
       "dtype: int64"
      ]
     },
     "execution_count": 50,
     "metadata": {},
     "output_type": "execute_result"
    }
   ],
   "source": [
    "dum[dum > 7].sort_values()"
   ]
  },
  {
   "cell_type": "markdown",
   "id": "603a3e2c-d71c-4fd8-8ae3-d4a7b4433a4e",
   "metadata": {},
   "source": [
    "Although this was expected, we can see that among the most \"popular\" associations we get are the Hogwarts school and its houses, then come the Order of the Phoenix and Dumbledore's army. \n",
    "\n",
    "We now get the associations name and remove association that do not appear in the above list from the original dataframe.  "
   ]
  },
  {
   "cell_type": "code",
   "execution_count": 51,
   "id": "669c09af-5db7-436e-8a26-38b707f3b098",
   "metadata": {},
   "outputs": [],
   "source": [
    "retain_assoc = list(dum[dum > 7].index)"
   ]
  },
  {
   "cell_type": "code",
   "execution_count": 52,
   "id": "d33e7f0f-a419-49dc-aa9c-de574cc90dae",
   "metadata": {},
   "outputs": [],
   "source": [
    "def remove_not_in_list(cur, ret):\n",
    "    return [x for x in cur if x in ret]"
   ]
  },
  {
   "cell_type": "code",
   "execution_count": 53,
   "id": "663fd56d-c812-414e-bdd2-964acf631c4e",
   "metadata": {},
   "outputs": [
    {
     "data": {
      "text/plain": [
       "2     42\n",
       "0     40\n",
       "3     31\n",
       "1     25\n",
       "4     16\n",
       "5     10\n",
       "7      4\n",
       "6      3\n",
       "9      3\n",
       "11     1\n",
       "8      1\n",
       "Name: nb_associations, dtype: int64"
      ]
     },
     "execution_count": 53,
     "metadata": {},
     "output_type": "execute_result"
    }
   ],
   "source": [
    "df_hp_chars['associated_groups'] = df_hp_chars['associated_groups'].apply(lambda x: remove_not_in_list(x, retain_assoc))\n",
    "# Recompute the number of associations since we filter some of them \n",
    "df_hp_chars['nb_associations'] = df_hp_chars['associated_groups'].apply(lambda x: 0 if np.nan == x else len(x))\n",
    "df_hp_chars['nb_associations'].value_counts()"
   ]
  },
  {
   "cell_type": "code",
   "execution_count": 54,
   "id": "008d612e-0b11-4da2-8682-abedd4f85cb8",
   "metadata": {},
   "outputs": [
    {
     "data": {
      "image/png": "[encoded data removed]",
      "text/plain": [
       "<Figure size 360x360 with 1 Axes>"
      ]
     },
     "metadata": {
      "needs_background": "light"
     },
     "output_type": "display_data"
    }
   ],
   "source": [
    "sns.displot(df_hp_chars['nb_associations'])\n",
    "plt.title(\"Histogram of the number of associations by character\")\n",
    "plt.xlabel(\"Number of associations\")\n",
    "plt.show()"
   ]
  },
  {
   "cell_type": "markdown",
   "id": "e483ede4-58b2-4184-b273-56b386ed35bd",
   "metadata": {},
   "source": [
    "We can see that this reduction operation had the effect of removing 40 characters from the association graph and it will probably make our visualisation even more readable."
   ]
  },
  {
   "cell_type": "code",
   "execution_count": 55,
   "id": "6485a290-adb1-4857-9744-b6528a53ad5e",
   "metadata": {},
   "outputs": [],
   "source": [
    "df_hp_chars['image_name'] = df_hp_chars.apply(lambda x: x['name'].lower().replace(' ','_').replace('.','').replace(',','').replace('\"','').replace('(','').replace(')',''),axis=1)\n",
    "                                              "
   ]
  },
  {
   "cell_type": "code",
   "execution_count": 56,
   "id": "bc96fa80-dceb-4e80-bbe6-4aeecff0c027",
   "metadata": {},
   "outputs": [],
   "source": [
    "df_hp_chars.to_json(cleaned_folder+\"selected_chars.json\",orient=\"records\")"
   ]
  },
  {
   "cell_type": "code",
   "execution_count": 57,
   "id": "a0f16b07-37a8-4ba9-a4ac-454599a092e0",
   "metadata": {},
   "outputs": [],
   "source": [
    "df_hp_chars.to_csv(cleaned_folder+\"selected_chars.csv\")"
   ]
  },
  {
   "cell_type": "markdown",
   "id": "19521746-4f2f-4aec-a183-a09048d5e8cb",
   "metadata": {},
   "source": [
    "#### Spells"
   ]
  },
  {
   "cell_type": "markdown",
   "id": "9018ffc9-b993-4ce2-8614-18dbcc3ebed5",
   "metadata": {},
   "source": [
    "What is the first object coming to mind when we talk about magic ? Probably the wands and the spells which are the most magical things. Let's now analyse what type of spells can the wands launch. We have at our disposal a complete dataset collecting a lot of spells that can be cast by Harry Potter world wizards. "
   ]
  },
  {
   "cell_type": "code",
   "execution_count": 58,
   "id": "96a18fec-1251-4c8f-9558-7f9e2e196833",
   "metadata": {},
   "outputs": [
    {
     "data": {
      "text/html": [
       "<div>\n",
       "<style scoped>\n",
       "    .dataframe tbody tr th:only-of-type {\n",
       "        vertical-align: middle;\n",
       "    }\n",
       "\n",
       "    .dataframe tbody tr th {\n",
       "        vertical-align: top;\n",
       "    }\n",
       "\n",
       "    .dataframe thead th {\n",
       "        text-align: right;\n",
       "    }\n",
       "</style>\n",
       "<table border=\"1\" class=\"dataframe\">\n",
       "  <thead>\n",
       "    <tr style=\"text-align: right;\">\n",
       "      <th></th>\n",
       "      <th>id</th>\n",
       "      <th>name</th>\n",
       "      <th>other_name</th>\n",
       "      <th>pronunciation</th>\n",
       "      <th>spell_type</th>\n",
       "      <th>description</th>\n",
       "      <th>mention</th>\n",
       "      <th>etymology</th>\n",
       "      <th>note</th>\n",
       "    </tr>\n",
       "  </thead>\n",
       "  <tbody>\n",
       "    <tr>\n",
       "      <th>0</th>\n",
       "      <td>1</td>\n",
       "      <td>Aberto</td>\n",
       "      <td>None</td>\n",
       "      <td>Ah-bare-toh</td>\n",
       "      <td>Charm</td>\n",
       "      <td>None</td>\n",
       "      <td>None</td>\n",
       "      <td>None</td>\n",
       "      <td>None</td>\n",
       "    </tr>\n",
       "    <tr>\n",
       "      <th>1</th>\n",
       "      <td>2</td>\n",
       "      <td>Accio</td>\n",
       "      <td>Summoning Charm</td>\n",
       "      <td>Various, including: AK-ee-oh or AK-see-oh , AK...</td>\n",
       "      <td>Charm</td>\n",
       "      <td>Summons an object towards the caster. It is ab...</td>\n",
       "      <td>Harry Potter summoned his broom to complete th...</td>\n",
       "      <td>The Latin word accio means \"I call\" or \"I summ...</td>\n",
       "      <td>None</td>\n",
       "    </tr>\n",
       "    <tr>\n",
       "      <th>2</th>\n",
       "      <td>3</td>\n",
       "      <td>Age Line</td>\n",
       "      <td>None</td>\n",
       "      <td>None</td>\n",
       "      <td>Charm</td>\n",
       "      <td>Prevents people above or below a certain age f...</td>\n",
       "      <td>None</td>\n",
       "      <td>None</td>\n",
       "      <td>None</td>\n",
       "    </tr>\n",
       "    <tr>\n",
       "      <th>3</th>\n",
       "      <td>4</td>\n",
       "      <td>Aguamenti</td>\n",
       "      <td>Water-Making Spell</td>\n",
       "      <td>AH-gwah-MEN-tee</td>\n",
       "      <td>Charm, Conjuration</td>\n",
       "      <td>Produces a clean, drinkable jet of water from ...</td>\n",
       "      <td>Used by Fleur Delacour in 1994 to extinguish h...</td>\n",
       "      <td>None</td>\n",
       "      <td>None</td>\n",
       "    </tr>\n",
       "    <tr>\n",
       "      <th>4</th>\n",
       "      <td>5</td>\n",
       "      <td>Alarte Ascendare</td>\n",
       "      <td>None</td>\n",
       "      <td>a-LAR-tay a-SEN-der-ay</td>\n",
       "      <td>Charm</td>\n",
       "      <td>Shoots the target high into the air.</td>\n",
       "      <td>Used by Gilderoy Lockhart in 1992 to send a sn...</td>\n",
       "      <td>None</td>\n",
       "      <td>None</td>\n",
       "    </tr>\n",
       "  </tbody>\n",
       "</table>\n",
       "</div>"
      ],
      "text/plain": [
       "   id              name          other_name  \\\n",
       "0   1            Aberto                None   \n",
       "1   2             Accio     Summoning Charm   \n",
       "2   3          Age Line                None   \n",
       "3   4         Aguamenti  Water-Making Spell   \n",
       "4   5  Alarte Ascendare                None   \n",
       "\n",
       "                                       pronunciation          spell_type  \\\n",
       "0                                        Ah-bare-toh               Charm   \n",
       "1  Various, including: AK-ee-oh or AK-see-oh , AK...               Charm   \n",
       "2                                               None               Charm   \n",
       "3                                    AH-gwah-MEN-tee  Charm, Conjuration   \n",
       "4                             a-LAR-tay a-SEN-der-ay               Charm   \n",
       "\n",
       "                                         description  \\\n",
       "0                                               None   \n",
       "1  Summons an object towards the caster. It is ab...   \n",
       "2  Prevents people above or below a certain age f...   \n",
       "3  Produces a clean, drinkable jet of water from ...   \n",
       "4               Shoots the target high into the air.   \n",
       "\n",
       "                                             mention  \\\n",
       "0                                               None   \n",
       "1  Harry Potter summoned his broom to complete th...   \n",
       "2                                               None   \n",
       "3  Used by Fleur Delacour in 1994 to extinguish h...   \n",
       "4  Used by Gilderoy Lockhart in 1992 to send a sn...   \n",
       "\n",
       "                                           etymology  note  \n",
       "0                                               None  None  \n",
       "1  The Latin word accio means \"I call\" or \"I summ...  None  \n",
       "2                                               None  None  \n",
       "3                                               None  None  \n",
       "4                                               None  None  "
      ]
     },
     "execution_count": 58,
     "metadata": {},
     "output_type": "execute_result"
    }
   ],
   "source": [
    "df_spell = pd.read_json(hpcollection_folder+\"spells.json\") \n",
    "df_spell.head()"
   ]
  },
  {
   "cell_type": "markdown",
   "id": "62301362-c7e7-46ce-962e-57a12b8b0806",
   "metadata": {},
   "source": [
    "We are most interested in the incantantion (since it is used by witch/wizard to cast them) of the spell as well as the spell type. We will therefore drop most of the columns from the dataset. The only ones we will keep are:\n",
    "- name (since we will need it for the visualisation and we will probably compute stats with them).\n",
    "- description which could be nice to display as a hover information.\n",
    "- pronunication in case of we want to use some text to speech application in our visualisation (not a prioritiy though).\n",
    "- spell_type which is the main thing we will use for visualisation and what we will explore right now."
   ]
  },
  {
   "cell_type": "code",
   "execution_count": 59,
   "id": "11e8f816-5f4e-4ee0-8c7d-3a659d48282d",
   "metadata": {},
   "outputs": [
    {
     "data": {
      "text/html": [
       "<div>\n",
       "<style scoped>\n",
       "    .dataframe tbody tr th:only-of-type {\n",
       "        vertical-align: middle;\n",
       "    }\n",
       "\n",
       "    .dataframe tbody tr th {\n",
       "        vertical-align: top;\n",
       "    }\n",
       "\n",
       "    .dataframe thead th {\n",
       "        text-align: right;\n",
       "    }\n",
       "</style>\n",
       "<table border=\"1\" class=\"dataframe\">\n",
       "  <thead>\n",
       "    <tr style=\"text-align: right;\">\n",
       "      <th></th>\n",
       "      <th>name</th>\n",
       "      <th>pronunciation</th>\n",
       "      <th>spell_type</th>\n",
       "      <th>description</th>\n",
       "    </tr>\n",
       "  </thead>\n",
       "  <tbody>\n",
       "    <tr>\n",
       "      <th>0</th>\n",
       "      <td>Aberto</td>\n",
       "      <td>Ah-bare-toh</td>\n",
       "      <td>Charm</td>\n",
       "      <td>None</td>\n",
       "    </tr>\n",
       "    <tr>\n",
       "      <th>1</th>\n",
       "      <td>Accio</td>\n",
       "      <td>Various, including: AK-ee-oh or AK-see-oh , AK...</td>\n",
       "      <td>Charm</td>\n",
       "      <td>Summons an object towards the caster. It is ab...</td>\n",
       "    </tr>\n",
       "    <tr>\n",
       "      <th>2</th>\n",
       "      <td>Age Line</td>\n",
       "      <td>None</td>\n",
       "      <td>Charm</td>\n",
       "      <td>Prevents people above or below a certain age f...</td>\n",
       "    </tr>\n",
       "    <tr>\n",
       "      <th>3</th>\n",
       "      <td>Aguamenti</td>\n",
       "      <td>AH-gwah-MEN-tee</td>\n",
       "      <td>Charm, Conjuration</td>\n",
       "      <td>Produces a clean, drinkable jet of water from ...</td>\n",
       "    </tr>\n",
       "    <tr>\n",
       "      <th>4</th>\n",
       "      <td>Alarte Ascendare</td>\n",
       "      <td>a-LAR-tay a-SEN-der-ay</td>\n",
       "      <td>Charm</td>\n",
       "      <td>Shoots the target high into the air.</td>\n",
       "    </tr>\n",
       "  </tbody>\n",
       "</table>\n",
       "</div>"
      ],
      "text/plain": [
       "               name                                      pronunciation  \\\n",
       "0            Aberto                                        Ah-bare-toh   \n",
       "1             Accio  Various, including: AK-ee-oh or AK-see-oh , AK...   \n",
       "2          Age Line                                               None   \n",
       "3         Aguamenti                                    AH-gwah-MEN-tee   \n",
       "4  Alarte Ascendare                             a-LAR-tay a-SEN-der-ay   \n",
       "\n",
       "           spell_type                                        description  \n",
       "0               Charm                                               None  \n",
       "1               Charm  Summons an object towards the caster. It is ab...  \n",
       "2               Charm  Prevents people above or below a certain age f...  \n",
       "3  Charm, Conjuration  Produces a clean, drinkable jet of water from ...  \n",
       "4               Charm               Shoots the target high into the air.  "
      ]
     },
     "execution_count": 59,
     "metadata": {},
     "output_type": "execute_result"
    }
   ],
   "source": [
    "df_spell = df_spell.drop(['note', 'other_name', 'mention', 'etymology','id'], axis=1)\n",
    "df_spell.head()"
   ]
  },
  {
   "cell_type": "code",
   "execution_count": 60,
   "id": "3a297ddb-8775-485f-a7e0-825b9e8e75d1",
   "metadata": {},
   "outputs": [
    {
     "data": {
      "text/plain": [
       "305"
      ]
     },
     "execution_count": 60,
     "metadata": {},
     "output_type": "execute_result"
    }
   ],
   "source": [
    "len(df_spell)"
   ]
  },
  {
   "cell_type": "markdown",
   "id": "f87d77ca-d333-4b48-ad3d-29309528ad79",
   "metadata": {},
   "source": [
    "We can see that we have in total 305 different castable spell in Harry Potter. J.K. Rowling really has a lot of imagination. We will now see if we can easily split them into differnt spell categories or if this requires some additional work"
   ]
  },
  {
   "cell_type": "code",
   "execution_count": 61,
   "id": "c15885b1-8af1-4904-b607-74d46aa3898d",
   "metadata": {},
   "outputs": [
    {
     "data": {
      "text/plain": [
       "Charm                         157\n",
       "Jinx                           30\n",
       "Transfiguration                26\n",
       "Curse                          25\n",
       "Hex                            21\n",
       "Spell                          10\n",
       "Conjuration                     7\n",
       "Healing Spell                   3\n",
       "Transfiguration, Jinx           2\n",
       "Dark Arts                       2\n",
       "Charm, Conjuration              2\n",
       "Counter-Jinx                    1\n",
       "Untransfiguration               1\n",
       "Counter-Charm                   1\n",
       "Dark charm                      1\n",
       "Counter-charm                   1\n",
       "Curse, Jinx                     1\n",
       "Jinx, Transfiguration           1\n",
       "Conjuration, Dark Arts          1\n",
       "Counter-Spell                   1\n",
       "Conjuration, Healing spell      1\n",
       "Charm, Healing Spell            1\n",
       "Conjuration, Charm              1\n",
       "Transportation                  1\n",
       "Healing Spell, Vanishment       1\n",
       "Vanishment                      1\n",
       "Name: spell_type, dtype: int64"
      ]
     },
     "execution_count": 61,
     "metadata": {},
     "output_type": "execute_result"
    }
   ],
   "source": [
    "df_spell['spell_type'].value_counts()"
   ]
  },
  {
   "cell_type": "markdown",
   "id": "03a5da7e-df16-4957-b1d6-41ed1f5bfdcd",
   "metadata": {},
   "source": [
    "Indeed, we have a lot mroe categories than expected. By inspecting the data (by hand), we saw that most of the spells that are classified as two types are spells almost not used in the sage. For this reason as well as the fact that they represent a negligible part of the dataset, we will remove them from our visualisation. "
   ]
  },
  {
   "cell_type": "code",
   "execution_count": 62,
   "id": "408fe904-2e10-455c-a7cc-2a4150200af3",
   "metadata": {},
   "outputs": [
    {
     "data": {
      "text/html": [
       "<div>\n",
       "<style scoped>\n",
       "    .dataframe tbody tr th:only-of-type {\n",
       "        vertical-align: middle;\n",
       "    }\n",
       "\n",
       "    .dataframe tbody tr th {\n",
       "        vertical-align: top;\n",
       "    }\n",
       "\n",
       "    .dataframe thead th {\n",
       "        text-align: right;\n",
       "    }\n",
       "</style>\n",
       "<table border=\"1\" class=\"dataframe\">\n",
       "  <thead>\n",
       "    <tr style=\"text-align: right;\">\n",
       "      <th></th>\n",
       "      <th>name</th>\n",
       "      <th>pronunciation</th>\n",
       "      <th>spell_type</th>\n",
       "      <th>description</th>\n",
       "    </tr>\n",
       "  </thead>\n",
       "  <tbody>\n",
       "    <tr>\n",
       "      <th>0</th>\n",
       "      <td>aberto</td>\n",
       "      <td>Ah-bare-toh</td>\n",
       "      <td>Charm</td>\n",
       "      <td>None</td>\n",
       "    </tr>\n",
       "    <tr>\n",
       "      <th>1</th>\n",
       "      <td>accio</td>\n",
       "      <td>Various, including: AK-ee-oh or AK-see-oh , AK...</td>\n",
       "      <td>Charm</td>\n",
       "      <td>Summons an object towards the caster. It is ab...</td>\n",
       "    </tr>\n",
       "    <tr>\n",
       "      <th>2</th>\n",
       "      <td>age line</td>\n",
       "      <td>None</td>\n",
       "      <td>Charm</td>\n",
       "      <td>Prevents people above or below a certain age f...</td>\n",
       "    </tr>\n",
       "    <tr>\n",
       "      <th>3</th>\n",
       "      <td>alarte ascendare</td>\n",
       "      <td>a-LAR-tay a-SEN-der-ay</td>\n",
       "      <td>Charm</td>\n",
       "      <td>Shoots the target high into the air.</td>\n",
       "    </tr>\n",
       "    <tr>\n",
       "      <th>4</th>\n",
       "      <td>albus dumbledore's forceful spell</td>\n",
       "      <td>None</td>\n",
       "      <td>Spell</td>\n",
       "      <td>This spell was, supposedly, quite powerful as ...</td>\n",
       "    </tr>\n",
       "    <tr>\n",
       "      <th>5</th>\n",
       "      <td>alohomora</td>\n",
       "      <td>ah-LOH-ho-MOR-ah</td>\n",
       "      <td>Charm</td>\n",
       "      <td>Unlocks doors and other objects. It can also u...</td>\n",
       "    </tr>\n",
       "    <tr>\n",
       "      <th>6</th>\n",
       "      <td>amato animo animato animagus</td>\n",
       "      <td>ah-MAH-toh ah-NEE-moh ah-nee-MAH-toh an-a-MAY-jus</td>\n",
       "      <td>Transfiguration</td>\n",
       "      <td>Spell used as part of the process of becoming ...</td>\n",
       "    </tr>\n",
       "    <tr>\n",
       "      <th>7</th>\n",
       "      <td>anteoculatia</td>\n",
       "      <td>an-tee-oh-kyoo-LAY-chee-ah</td>\n",
       "      <td>Hex</td>\n",
       "      <td>Causes the target to grow antlers.</td>\n",
       "    </tr>\n",
       "    <tr>\n",
       "      <th>8</th>\n",
       "      <td>anti-cheating spell</td>\n",
       "      <td>None</td>\n",
       "      <td>Charm</td>\n",
       "      <td>Used to prevent cheating.</td>\n",
       "    </tr>\n",
       "    <tr>\n",
       "      <th>9</th>\n",
       "      <td>antonin dolohov's curse</td>\n",
       "      <td>None</td>\n",
       "      <td>Curse</td>\n",
       "      <td>An unknown curse that causes injuries that are...</td>\n",
       "    </tr>\n",
       "  </tbody>\n",
       "</table>\n",
       "</div>"
      ],
      "text/plain": [
       "                                name  \\\n",
       "0                             aberto   \n",
       "1                              accio   \n",
       "2                           age line   \n",
       "3                   alarte ascendare   \n",
       "4  albus dumbledore's forceful spell   \n",
       "5                          alohomora   \n",
       "6       amato animo animato animagus   \n",
       "7                       anteoculatia   \n",
       "8                anti-cheating spell   \n",
       "9            antonin dolohov's curse   \n",
       "\n",
       "                                       pronunciation       spell_type  \\\n",
       "0                                        Ah-bare-toh            Charm   \n",
       "1  Various, including: AK-ee-oh or AK-see-oh , AK...            Charm   \n",
       "2                                               None            Charm   \n",
       "3                             a-LAR-tay a-SEN-der-ay            Charm   \n",
       "4                                               None            Spell   \n",
       "5                                   ah-LOH-ho-MOR-ah            Charm   \n",
       "6  ah-MAH-toh ah-NEE-moh ah-nee-MAH-toh an-a-MAY-jus  Transfiguration   \n",
       "7                         an-tee-oh-kyoo-LAY-chee-ah              Hex   \n",
       "8                                               None            Charm   \n",
       "9                                               None            Curse   \n",
       "\n",
       "                                         description  \n",
       "0                                               None  \n",
       "1  Summons an object towards the caster. It is ab...  \n",
       "2  Prevents people above or below a certain age f...  \n",
       "3               Shoots the target high into the air.  \n",
       "4  This spell was, supposedly, quite powerful as ...  \n",
       "5  Unlocks doors and other objects. It can also u...  \n",
       "6  Spell used as part of the process of becoming ...  \n",
       "7                 Causes the target to grow antlers.  \n",
       "8                          Used to prevent cheating.  \n",
       "9  An unknown curse that causes injuries that are...  "
      ]
     },
     "execution_count": 62,
     "metadata": {},
     "output_type": "execute_result"
    }
   ],
   "source": [
    "df_spell['name'] = df_spell['name'].apply(lambda x:x.lower())\n",
    "df_spell = df_spell[df_spell['spell_type'].isin(['Healing Spell', 'Conjuration ', 'Spell', 'Hex', 'Curse', 'Transfiguration', 'Charm'])].reset_index(drop=True)\n",
    "df_spell.head(10)"
   ]
  },
  {
   "cell_type": "code",
   "execution_count": 63,
   "id": "4e5dddab-f662-4655-8018-875db3e67f66",
   "metadata": {},
   "outputs": [
    {
     "data": {
      "image/png": "[encoded data removed]",
      "text/plain": [
       "<Figure size 576x432 with 1 Axes>"
      ]
     },
     "metadata": {},
     "output_type": "display_data"
    }
   ],
   "source": [
    "plot_pie(df_spell, 'spell_type')"
   ]
  },
  {
   "cell_type": "markdown",
   "id": "16d89175-c8a4-4bbb-a586-6fb833080eed",
   "metadata": {},
   "source": [
    "We can that our dataset is biased toward charm spell. Nevertheless, our idea of visualisation integrating the spell will force us to measure the importance of each spell in the book. This leads us to the Harry Potter book dataset. This dataset contains the full text of each book. We will therefore iterate over all the "
   ]
  },
  {
   "cell_type": "markdown",
   "id": "ea0257f8-071d-423b-83c3-555ca196e8d9",
   "metadata": {},
   "source": [
    "#### Most popular spells"
   ]
  },
  {
   "cell_type": "code",
   "execution_count": 64,
   "id": "72ec5889-a503-43e2-a7e6-76655fedb239",
   "metadata": {},
   "outputs": [],
   "source": [
    "occ = {}\n",
    "spells = set()\n",
    "for i, v in df_spell['name'].items():\n",
    "    occ[v.lower()]= 0\n",
    "    spells.add(v.lower())"
   ]
  },
  {
   "cell_type": "code",
   "execution_count": 65,
   "id": "52fe76c8-546c-4d3c-b222-5abf27fa69eb",
   "metadata": {},
   "outputs": [],
   "source": [
    "# iterate over the 7 books\n",
    "for i in range(1,8):\n",
    "    # Read the full book line by line in the a list\n",
    "    with open(hpbooks_folder+f\"hp{i}.txt\") as f:\n",
    "        lines = f.readlines()\n",
    "\n",
    "    # Iterate over the lines and check for every spell if it appears in that line. \n",
    "    for line in lines:\n",
    "        cur = line.lower()\n",
    "        for sp in spells: \n",
    "            count = cur.count(sp) \n",
    "            if count > 0:\n",
    "                occ[sp] = occ[sp] +count"
   ]
  },
  {
   "cell_type": "code",
   "execution_count": 66,
   "id": "8bfea834-0007-4592-924a-03ab05e81a8d",
   "metadata": {},
   "outputs": [
    {
     "data": {
      "text/html": [
       "<div>\n",
       "<style scoped>\n",
       "    .dataframe tbody tr th:only-of-type {\n",
       "        vertical-align: middle;\n",
       "    }\n",
       "\n",
       "    .dataframe tbody tr th {\n",
       "        vertical-align: top;\n",
       "    }\n",
       "\n",
       "    .dataframe thead th {\n",
       "        text-align: right;\n",
       "    }\n",
       "</style>\n",
       "<table border=\"1\" class=\"dataframe\">\n",
       "  <thead>\n",
       "    <tr style=\"text-align: right;\">\n",
       "      <th></th>\n",
       "      <th>name</th>\n",
       "      <th>count</th>\n",
       "    </tr>\n",
       "  </thead>\n",
       "  <tbody>\n",
       "    <tr>\n",
       "      <th>0</th>\n",
       "      <td>aberto</td>\n",
       "      <td>0</td>\n",
       "    </tr>\n",
       "    <tr>\n",
       "      <th>1</th>\n",
       "      <td>accio</td>\n",
       "      <td>34</td>\n",
       "    </tr>\n",
       "    <tr>\n",
       "      <th>2</th>\n",
       "      <td>age line</td>\n",
       "      <td>8</td>\n",
       "    </tr>\n",
       "    <tr>\n",
       "      <th>3</th>\n",
       "      <td>alarte ascendare</td>\n",
       "      <td>0</td>\n",
       "    </tr>\n",
       "    <tr>\n",
       "      <th>4</th>\n",
       "      <td>albus dumbledore's forceful spell</td>\n",
       "      <td>0</td>\n",
       "    </tr>\n",
       "  </tbody>\n",
       "</table>\n",
       "</div>"
      ],
      "text/plain": [
       "                                name  count\n",
       "0                             aberto      0\n",
       "1                              accio     34\n",
       "2                           age line      8\n",
       "3                   alarte ascendare      0\n",
       "4  albus dumbledore's forceful spell      0"
      ]
     },
     "execution_count": 66,
     "metadata": {},
     "output_type": "execute_result"
    }
   ],
   "source": [
    "# Create a dataframe with the name of the spell and the count\n",
    "most_famous = pd.DataFrame.from_dict(occ,orient='index',columns=['count']).reset_index().rename(columns={'index':'name'})\n",
    "most_famous.head()"
   ]
  },
  {
   "cell_type": "code",
   "execution_count": 67,
   "id": "ab4b9ec5-1f5f-4898-9293-8d4cd01690b5",
   "metadata": {},
   "outputs": [
    {
     "data": {
      "text/html": [
       "<div>\n",
       "<style scoped>\n",
       "    .dataframe tbody tr th:only-of-type {\n",
       "        vertical-align: middle;\n",
       "    }\n",
       "\n",
       "    .dataframe tbody tr th {\n",
       "        vertical-align: top;\n",
       "    }\n",
       "\n",
       "    .dataframe thead th {\n",
       "        text-align: right;\n",
       "    }\n",
       "</style>\n",
       "<table border=\"1\" class=\"dataframe\">\n",
       "  <thead>\n",
       "    <tr style=\"text-align: right;\">\n",
       "      <th></th>\n",
       "      <th>name</th>\n",
       "      <th>pronunciation</th>\n",
       "      <th>spell_type</th>\n",
       "      <th>description</th>\n",
       "      <th>count</th>\n",
       "    </tr>\n",
       "  </thead>\n",
       "  <tbody>\n",
       "    <tr>\n",
       "      <th>0</th>\n",
       "      <td>aberto</td>\n",
       "      <td>Ah-bare-toh</td>\n",
       "      <td>Charm</td>\n",
       "      <td>None</td>\n",
       "      <td>0</td>\n",
       "    </tr>\n",
       "  </tbody>\n",
       "</table>\n",
       "</div>"
      ],
      "text/plain": [
       "     name pronunciation spell_type description  count\n",
       "0  aberto   Ah-bare-toh      Charm        None      0"
      ]
     },
     "execution_count": 67,
     "metadata": {},
     "output_type": "execute_result"
    }
   ],
   "source": [
    "# Merge the two dataframes together\n",
    "df_spell = df_spell.merge(most_famous, left_on='name', right_on='name')\n",
    "df_spell.head(1)"
   ]
  },
  {
   "cell_type": "code",
   "execution_count": 68,
   "id": "c181a79c-5c83-44d2-9dd7-31f036bc1f57",
   "metadata": {},
   "outputs": [
    {
     "data": {
      "text/plain": [
       "(64, 5)"
      ]
     },
     "execution_count": 68,
     "metadata": {},
     "output_type": "execute_result"
    }
   ],
   "source": [
    "df_spell[df_spell['count']>1].shape"
   ]
  },
  {
   "cell_type": "markdown",
   "id": "831e19dc-d460-4995-8564-3cd05f28389a",
   "metadata": {},
   "source": [
    "As explained earlier, one of our visualisation will probably be some kind of Sankey diagram mapping the most used spell to their type. Let's now extract the top 20 spells sorted by count. For the purpose of the visualisation, we will only keep the top 20 spell that have a pronunciation as it is also an indication of their importance in the saga and we can avoid the fact that some of them appear in the text by chance without being effectively cast. Furthermore, the spell pack is almost unknown in the saga but the substring will appear a lot throughout the books, so we can safely remove it. "
   ]
  },
  {
   "cell_type": "code",
   "execution_count": 69,
   "id": "cf15c487-7e44-466f-b376-0b848ce928cd",
   "metadata": {},
   "outputs": [
    {
     "data": {
      "text/html": [
       "<div>\n",
       "<style scoped>\n",
       "    .dataframe tbody tr th:only-of-type {\n",
       "        vertical-align: middle;\n",
       "    }\n",
       "\n",
       "    .dataframe tbody tr th {\n",
       "        vertical-align: top;\n",
       "    }\n",
       "\n",
       "    .dataframe thead th {\n",
       "        text-align: right;\n",
       "    }\n",
       "</style>\n",
       "<table border=\"1\" class=\"dataframe\">\n",
       "  <thead>\n",
       "    <tr style=\"text-align: right;\">\n",
       "      <th></th>\n",
       "      <th>name</th>\n",
       "      <th>pronunciation</th>\n",
       "      <th>spell_type</th>\n",
       "      <th>description</th>\n",
       "      <th>count</th>\n",
       "    </tr>\n",
       "  </thead>\n",
       "  <tbody>\n",
       "    <tr>\n",
       "      <th>1</th>\n",
       "      <td>accio</td>\n",
       "      <td>Various, including: AK-ee-oh or AK-see-oh , AK...</td>\n",
       "      <td>Charm</td>\n",
       "      <td>Summons an object towards the caster. It is ab...</td>\n",
       "      <td>34</td>\n",
       "    </tr>\n",
       "    <tr>\n",
       "      <th>78</th>\n",
       "      <td>expecto patronum</td>\n",
       "      <td>ecks-PECK-toh pah-TROH-numb</td>\n",
       "      <td>Charm</td>\n",
       "      <td>This charm is a highly powerful and advanced p...</td>\n",
       "      <td>29</td>\n",
       "    </tr>\n",
       "    <tr>\n",
       "      <th>79</th>\n",
       "      <td>expelliarmus</td>\n",
       "      <td>ex-PELL-ee-ARE-muss</td>\n",
       "      <td>Charm</td>\n",
       "      <td>Forces whatever an opponent is holding to fly ...</td>\n",
       "      <td>27</td>\n",
       "    </tr>\n",
       "    <tr>\n",
       "      <th>214</th>\n",
       "      <td>stupefy</td>\n",
       "      <td>STOO-puh-fye</td>\n",
       "      <td>Charm</td>\n",
       "      <td>Stuns the target, rendering them unconscious.</td>\n",
       "      <td>27</td>\n",
       "    </tr>\n",
       "    <tr>\n",
       "      <th>136</th>\n",
       "      <td>lumos</td>\n",
       "      <td>LOO-mos</td>\n",
       "      <td>Charm</td>\n",
       "      <td>Illuminates the tip of the caster's wand, allo...</td>\n",
       "      <td>22</td>\n",
       "    </tr>\n",
       "    <tr>\n",
       "      <th>16</th>\n",
       "      <td>avada kedavra</td>\n",
       "      <td>ah-VAH-dah keh-DAV-rah</td>\n",
       "      <td>Curse</td>\n",
       "      <td>Kill the pointed person</td>\n",
       "      <td>19</td>\n",
       "    </tr>\n",
       "    <tr>\n",
       "      <th>191</th>\n",
       "      <td>riddikulus</td>\n",
       "      <td>rih-dih-KUL-lus</td>\n",
       "      <td>Charm</td>\n",
       "      <td>A spell used when fighting a Boggart, \"Riddiku...</td>\n",
       "      <td>18</td>\n",
       "    </tr>\n",
       "    <tr>\n",
       "      <th>51</th>\n",
       "      <td>crucio</td>\n",
       "      <td>KROO-see-oh</td>\n",
       "      <td>Curse</td>\n",
       "      <td>Inflicts intense pain on the recipient of the ...</td>\n",
       "      <td>15</td>\n",
       "    </tr>\n",
       "    <tr>\n",
       "      <th>119</th>\n",
       "      <td>imperio</td>\n",
       "      <td>im-PEER-ee-oh</td>\n",
       "      <td>Curse</td>\n",
       "      <td>Places the victim completely under the caster'...</td>\n",
       "      <td>15</td>\n",
       "    </tr>\n",
       "    <tr>\n",
       "      <th>172</th>\n",
       "      <td>protego</td>\n",
       "      <td>pro-TAY-goh</td>\n",
       "      <td>Charm</td>\n",
       "      <td>Invisible shield that reflects spells and bloc...</td>\n",
       "      <td>13</td>\n",
       "    </tr>\n",
       "    <tr>\n",
       "      <th>148</th>\n",
       "      <td>muffliato</td>\n",
       "      <td>muf-lee-AH-to</td>\n",
       "      <td>Charm</td>\n",
       "      <td>Prevents others from hearing nearby conversati...</td>\n",
       "      <td>12</td>\n",
       "    </tr>\n",
       "    <tr>\n",
       "      <th>186</th>\n",
       "      <td>reparo</td>\n",
       "      <td>reh-PAH-roh</td>\n",
       "      <td>Charm</td>\n",
       "      <td>Seamlessly repairs broken objects.</td>\n",
       "      <td>11</td>\n",
       "    </tr>\n",
       "    <tr>\n",
       "      <th>199</th>\n",
       "      <td>sectumsempra</td>\n",
       "      <td>sec-tum-SEMP-rah</td>\n",
       "      <td>Curse</td>\n",
       "      <td>Lacerates the target, as if they have been \"sl...</td>\n",
       "      <td>10</td>\n",
       "    </tr>\n",
       "    <tr>\n",
       "      <th>5</th>\n",
       "      <td>alohomora</td>\n",
       "      <td>ah-LOH-ho-MOR-ah</td>\n",
       "      <td>Charm</td>\n",
       "      <td>Unlocks doors and other objects. It can also u...</td>\n",
       "      <td>9</td>\n",
       "    </tr>\n",
       "    <tr>\n",
       "      <th>164</th>\n",
       "      <td>petrificus totalus</td>\n",
       "      <td>pe-TRI-fi-cus to-TAH-lus</td>\n",
       "      <td>Curse</td>\n",
       "      <td>Used to temporarily bind the victim's body in ...</td>\n",
       "      <td>9</td>\n",
       "    </tr>\n",
       "    <tr>\n",
       "      <th>181</th>\n",
       "      <td>reducto</td>\n",
       "      <td>re-DUK-toh</td>\n",
       "      <td>Curse</td>\n",
       "      <td>Breaks objects. In stronger usages, disintegra...</td>\n",
       "      <td>9</td>\n",
       "    </tr>\n",
       "    <tr>\n",
       "      <th>203</th>\n",
       "      <td>silencio</td>\n",
       "      <td>sih-LEN-see-oh</td>\n",
       "      <td>Charm</td>\n",
       "      <td>Makes something silent.</td>\n",
       "      <td>8</td>\n",
       "    </tr>\n",
       "    <tr>\n",
       "      <th>60</th>\n",
       "      <td>diffindo</td>\n",
       "      <td>dih-FIN-doh</td>\n",
       "      <td>Charm</td>\n",
       "      <td>Used to precisely cut or tear objects.</td>\n",
       "      <td>7</td>\n",
       "    </tr>\n",
       "    <tr>\n",
       "      <th>121</th>\n",
       "      <td>impervius</td>\n",
       "      <td>im-PUR-vee-us</td>\n",
       "      <td>Charm</td>\n",
       "      <td>Makes an object repel water and mist.</td>\n",
       "      <td>6</td>\n",
       "    </tr>\n",
       "    <tr>\n",
       "      <th>151</th>\n",
       "      <td>nox</td>\n",
       "      <td>NOCKSS</td>\n",
       "      <td>Charm</td>\n",
       "      <td>Extinguishes wandlight. It the counter-charm f...</td>\n",
       "      <td>5</td>\n",
       "    </tr>\n",
       "  </tbody>\n",
       "</table>\n",
       "</div>"
      ],
      "text/plain": [
       "                   name                                      pronunciation  \\\n",
       "1                 accio  Various, including: AK-ee-oh or AK-see-oh , AK...   \n",
       "78     expecto patronum                        ecks-PECK-toh pah-TROH-numb   \n",
       "79         expelliarmus                                ex-PELL-ee-ARE-muss   \n",
       "214             stupefy                                       STOO-puh-fye   \n",
       "136               lumos                                            LOO-mos   \n",
       "16        avada kedavra                             ah-VAH-dah keh-DAV-rah   \n",
       "191          riddikulus                                    rih-dih-KUL-lus   \n",
       "51               crucio                                        KROO-see-oh   \n",
       "119             imperio                                      im-PEER-ee-oh   \n",
       "172             protego                                        pro-TAY-goh   \n",
       "148           muffliato                                      muf-lee-AH-to   \n",
       "186              reparo                                        reh-PAH-roh   \n",
       "199        sectumsempra                                   sec-tum-SEMP-rah   \n",
       "5             alohomora                                   ah-LOH-ho-MOR-ah   \n",
       "164  petrificus totalus                           pe-TRI-fi-cus to-TAH-lus   \n",
       "181             reducto                                         re-DUK-toh   \n",
       "203            silencio                                     sih-LEN-see-oh   \n",
       "60             diffindo                                        dih-FIN-doh   \n",
       "121           impervius                                      im-PUR-vee-us   \n",
       "151                 nox                                             NOCKSS   \n",
       "\n",
       "    spell_type                                        description  count  \n",
       "1        Charm  Summons an object towards the caster. It is ab...     34  \n",
       "78       Charm  This charm is a highly powerful and advanced p...     29  \n",
       "79       Charm  Forces whatever an opponent is holding to fly ...     27  \n",
       "214      Charm      Stuns the target, rendering them unconscious.     27  \n",
       "136      Charm  Illuminates the tip of the caster's wand, allo...     22  \n",
       "16       Curse                            Kill the pointed person     19  \n",
       "191      Charm  A spell used when fighting a Boggart, \"Riddiku...     18  \n",
       "51       Curse  Inflicts intense pain on the recipient of the ...     15  \n",
       "119      Curse  Places the victim completely under the caster'...     15  \n",
       "172      Charm  Invisible shield that reflects spells and bloc...     13  \n",
       "148      Charm  Prevents others from hearing nearby conversati...     12  \n",
       "186      Charm                 Seamlessly repairs broken objects.     11  \n",
       "199      Curse  Lacerates the target, as if they have been \"sl...     10  \n",
       "5        Charm  Unlocks doors and other objects. It can also u...      9  \n",
       "164      Curse  Used to temporarily bind the victim's body in ...      9  \n",
       "181      Curse  Breaks objects. In stronger usages, disintegra...      9  \n",
       "203      Charm                            Makes something silent.      8  \n",
       "60       Charm             Used to precisely cut or tear objects.      7  \n",
       "121      Charm              Makes an object repel water and mist.      6  \n",
       "151      Charm  Extinguishes wandlight. It the counter-charm f...      5  "
      ]
     },
     "execution_count": 69,
     "metadata": {},
     "output_type": "execute_result"
    }
   ],
   "source": [
    "# Remove the spell without specified pronunciation and take the 20 largest. \n",
    "df_spell = df_spell[df_spell['pronunciation'].apply(lambda x: x is not None)]\n",
    "df_spell.nlargest(20, 'count')"
   ]
  },
  {
   "cell_type": "markdown",
   "id": "f2fdc161-88d1-455b-a6ba-a70f703c2cad",
   "metadata": {},
   "source": [
    "Unfortunately, we can see that the categories other than charm and curse are not present in the top-20 spells. It is a shame but we will do the visualisation as it exposes an interesting as well as an extremly important point in the Harry Potter series. In the previous exploration, we try to spell appearing in the book. In the next cell, we simply save the modified dataframe for later uses.\n"
   ]
  },
  {
   "cell_type": "code",
   "execution_count": 70,
   "id": "2ccfefb0-ba25-4151-a05a-ce7e423b4b91",
   "metadata": {},
   "outputs": [],
   "source": [
    "df_spell.to_json( cleaned_folder+\"spell.json\", orient='index')"
   ]
  },
  {
   "cell_type": "markdown",
   "id": "90416d92-7bc3-4d9c-a304-3c48587d9fb6",
   "metadata": {},
   "source": [
    "### Movie Datasets"
   ]
  },
  {
   "cell_type": "markdown",
   "id": "50d95a0c-63ad-4d8b-9e2b-37906147610d",
   "metadata": {},
   "source": [
    "The last step of this data exploration part is the movie dataset. As its name suggests, it contains a lot of information about the movie such as the budget, box-offices or title and length of the movie. Furthermore, it contains the whole transcrpit of each of the Harry Potter movie. For now, we did not plan to use that part of the dataset but it might become necessary if we want to explore characteristic of the characters in each movie. \n",
    "\n",
    "In our visualisation, the data provided by this dataset will probably be used in the introduction part of the visualiation for the moment. Let's start by observing the budget granted to each movie and see how much it produces at the box-office. Then, we will check the length of the movies to see if there is a trend for the movies to last longer or to be shorter. \n",
    "\n",
    "Since those are value specific to each movie, we choose to do a bar-plot rather than a histogram. The fact that we have only 8 movies at our disposal reinforces this choice as everything will stay readable with the abrs. "
   ]
  },
  {
   "cell_type": "code",
   "execution_count": 2,
   "id": "76e85a3a-7dc3-4151-aa88-c0a194c29443",
   "metadata": {},
   "outputs": [
    {
     "data": {
      "text/html": [
       "<div>\n",
       "<style scoped>\n",
       "    .dataframe tbody tr th:only-of-type {\n",
       "        vertical-align: middle;\n",
       "    }\n",
       "\n",
       "    .dataframe tbody tr th {\n",
       "        vertical-align: top;\n",
       "    }\n",
       "\n",
       "    .dataframe thead th {\n",
       "        text-align: right;\n",
       "    }\n",
       "</style>\n",
       "<table border=\"1\" class=\"dataframe\">\n",
       "  <thead>\n",
       "    <tr style=\"text-align: right;\">\n",
       "      <th></th>\n",
       "      <th>movie</th>\n",
       "      <th>released_year</th>\n",
       "      <th>running_time</th>\n",
       "      <th>budget</th>\n",
       "      <th>box_office</th>\n",
       "      <th>file</th>\n",
       "    </tr>\n",
       "  </thead>\n",
       "  <tbody>\n",
       "    <tr>\n",
       "      <th>0</th>\n",
       "      <td>Harry Potter and the Philosopher's Stone</td>\n",
       "      <td>2001</td>\n",
       "      <td>152</td>\n",
       "      <td>125000000</td>\n",
       "      <td>1002000000</td>\n",
       "      <td>hp1.csv</td>\n",
       "    </tr>\n",
       "    <tr>\n",
       "      <th>1</th>\n",
       "      <td>Harry Potter and the Chamber of Secrets</td>\n",
       "      <td>2002</td>\n",
       "      <td>161</td>\n",
       "      <td>100000000</td>\n",
       "      <td>880300000</td>\n",
       "      <td>hp2.csv</td>\n",
       "    </tr>\n",
       "    <tr>\n",
       "      <th>2</th>\n",
       "      <td>Harry Potter and the Prisoner of Azkaban</td>\n",
       "      <td>2004</td>\n",
       "      <td>142</td>\n",
       "      <td>130000000</td>\n",
       "      <td>796700000</td>\n",
       "      <td>hp3.csv</td>\n",
       "    </tr>\n",
       "    <tr>\n",
       "      <th>3</th>\n",
       "      <td>Harry Potter and the Goblet of Fire</td>\n",
       "      <td>2005</td>\n",
       "      <td>157</td>\n",
       "      <td>150000000</td>\n",
       "      <td>896400000</td>\n",
       "      <td>hp4.csv</td>\n",
       "    </tr>\n",
       "    <tr>\n",
       "      <th>4</th>\n",
       "      <td>Harry Potter and the Order of the Phoenix</td>\n",
       "      <td>2007</td>\n",
       "      <td>138</td>\n",
       "      <td>150000000</td>\n",
       "      <td>942000000</td>\n",
       "      <td>hp5.csv</td>\n",
       "    </tr>\n",
       "  </tbody>\n",
       "</table>\n",
       "</div>"
      ],
      "text/plain": [
       "                                       movie  released_year  running_time  \\\n",
       "0   Harry Potter and the Philosopher's Stone           2001           152   \n",
       "1    Harry Potter and the Chamber of Secrets           2002           161   \n",
       "2   Harry Potter and the Prisoner of Azkaban           2004           142   \n",
       "3        Harry Potter and the Goblet of Fire           2005           157   \n",
       "4  Harry Potter and the Order of the Phoenix           2007           138   \n",
       "\n",
       "      budget  box_office     file  \n",
       "0  125000000  1002000000  hp1.csv  \n",
       "1  100000000   880300000  hp2.csv  \n",
       "2  130000000   796700000  hp3.csv  \n",
       "3  150000000   896400000  hp4.csv  \n",
       "4  150000000   942000000  hp5.csv  "
      ]
     },
     "execution_count": 2,
     "metadata": {},
     "output_type": "execute_result"
    }
   ],
   "source": [
    "df_movies = pd.read_csv(movies_folder+\"movies.csv\", sep=';')\n",
    "df_movies.head()"
   ]
  },
  {
   "cell_type": "markdown",
   "id": "e2f668a3",
   "metadata": {},
   "source": [
    "Let's save it to json for convenience for later use during the development of the visualisation."
   ]
  },
  {
   "cell_type": "code",
   "execution_count": 10,
   "id": "4cdca684",
   "metadata": {},
   "outputs": [],
   "source": [
    "df_movies.to_json(\"../data/movies/movies.json\", orient='index')"
   ]
  },
  {
   "cell_type": "code",
   "execution_count": 72,
   "id": "e94f8843-f56b-4722-a854-b2109a44f8b0",
   "metadata": {},
   "outputs": [],
   "source": [
    "def plot_columns_bar(df, col):\n",
    "    \"\"\"\n",
    "    Plot a bar plot for the given column in the given dataframe\n",
    "    Parameters:\n",
    "    -----------\n",
    "        - df : the dataframe containing the data\n",
    "        - col: The column for which to make the bar plot\n",
    "    Returns:\n",
    "    -----------\n",
    "    \"\"\"\n",
    "    g = sns.barplot(data=df, x='movie', y=col)\n",
    "    g.set_xticklabels(g.get_xticklabels(),rotation=90)\n",
    "    plt.show()"
   ]
  },
  {
   "cell_type": "code",
   "execution_count": 73,
   "id": "d3774a63-67b7-43d2-acc7-c76bb862c490",
   "metadata": {},
   "outputs": [
    {
     "data": {
      "image/png": "[encoded data removed]",
      "text/plain": [
       "<Figure size 432x288 with 1 Axes>"
      ]
     },
     "metadata": {
      "needs_background": "light"
     },
     "output_type": "display_data"
    }
   ],
   "source": [
    "plot_columns_bar(df_movies, 'running_time')"
   ]
  },
  {
   "cell_type": "markdown",
   "id": "6d0bc1e9-74c5-4b70-a2cd-4e9061677232",
   "metadata": {},
   "source": [
    "It might be interesting to compare the length of the movie with the corresponding book length. Below we provide the number of pages of each book:\n",
    "- Harry Potter and the Sorcerer’s Stone – 309 pages\n",
    "- Harry Potter and the Chamber of Secrets – 341 pages\n",
    "- Harry Potter and the Prisoner of Azkaban – 435 pages\n",
    "- Harry Potter and the Goblet of Fire – 734 pages\n",
    "- Harry Potter and the Order of the Phoenix – 870 pages\n",
    "- Harry Potter and the Half-Blood Prince – 652 pages\n",
    "- Harry Potter and the Deathly Hallows – 759 pages\n",
    "\n",
    "It is interesting to see that the producer created longer movies for the shortest book (Sorcerer's stone and Chamber of Secret) whereas larger books are constrained to a shorter movie (e.g. Order of the Phoenix which is the biggest book has the second shortest movie). This is probably due to the fact that the first books have a manageable size and therefore it was possible to include almost all the story in the movie. Since the size of the books increase with the number of movies, the producer of the latests movies had to make some choices and to delete some of the scenes. Nevertheless, it is suprising to see how the length of the movie decreased instead of staying at the same level.\n"
   ]
  },
  {
   "cell_type": "code",
   "execution_count": 74,
   "id": "78ce68ad-de7b-4bb2-9b8f-dad90f5e69f3",
   "metadata": {},
   "outputs": [
    {
     "data": {
      "image/png": "[encoded data removed]",
      "text/plain": [
       "<Figure size 432x288 with 1 Axes>"
      ]
     },
     "metadata": {
      "needs_background": "light"
     },
     "output_type": "display_data"
    }
   ],
   "source": [
    "plot_columns_bar(df_movies, 'budget')"
   ]
  },
  {
   "cell_type": "markdown",
   "id": "55508a2d-f943-4566-86eb-351dac887a72",
   "metadata": {},
   "source": [
    "We can see that the scale of the $y$ axis is on the hundreds of milions. We can also see that the budget increases as we advance in the saga. We go from 125M for the first movie to 250 M for the 6th and the last one. Another interseting comment is that the budget is not related to the length of the movie. We previously saw that Harry Potter and the Deathly Hallows part 8 is the shortest movie but also have one of the highest budget. Similarly, Harry Potter and the Chamber of secret is the longest movie but the one having the smallest budget."
   ]
  },
  {
   "cell_type": "code",
   "execution_count": 75,
   "id": "48e7d0be-7f7e-432b-9f2e-8c4f6d6b95d9",
   "metadata": {},
   "outputs": [
    {
     "data": {
      "image/png": "[encoded data removed]",
      "text/plain": [
       "<Figure size 432x288 with 1 Axes>"
      ]
     },
     "metadata": {
      "needs_background": "light"
     },
     "output_type": "display_data"
    }
   ],
   "source": [
    "plot_columns_bar(df_movies, 'box_office')"
   ]
  },
  {
   "cell_type": "markdown",
   "id": "f8197a7a-911d-461c-ae21-0035a25a0718",
   "metadata": {},
   "source": [
    "In the above plot, we can see that even though the budget per movie is increasing for each movie, the box-office, in the other hand, seems to be stable for the seven first movies beween 900M and 1B of revenue. It is only for the last movie that people were excited and scores exploded, with a record breaker (for the saga) box-office of ~1.4B."
   ]
  },
  {
   "cell_type": "markdown",
   "id": "fd51a351-5230-47b3-bbae-e39404ff8b1e",
   "metadata": {},
   "source": [
    "## Conclusion\n",
    "In this exploratory data analysis, we explore in depth each of the dataset we had and we perform necessary cleaning. With these first steps done, we think that it will be easier for us to build the datastructure necessary to make our visualisations. "
   ]
  },
  {
   "cell_type": "code",
   "execution_count": null,
   "id": "ba6482ed-c3c8-4ebf-a890-89e51a568585",
   "metadata": {},
   "outputs": [],
   "source": []
  }
 ],
 "metadata": {
  "interpreter": {
   "hash": "71d2f77bccee14ca7852d7b7a1fa8ea4708b81087104d93973081337557f0ee6"
  },
  "kernelspec": {
   "display_name": "Python 3.8.11 ('ada')",
   "language": "python",
   "name": "python3"
  },
  "language_info": {
   "codemirror_mode": {
    "name": "ipython",
    "version": 3
   },
   "file_extension": ".py",
   "mimetype": "text/x-python",
   "name": "python",
   "nbconvert_exporter": "python",
   "pygments_lexer": "ipython3",
   "version": "3.8.11"
  }
 },
 "nbformat": 4,
 "nbformat_minor": 5
}
