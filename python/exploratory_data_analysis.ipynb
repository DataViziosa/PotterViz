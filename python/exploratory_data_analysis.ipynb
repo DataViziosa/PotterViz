{
 "cells": [
  {
   "cell_type": "markdown",
   "id": "439459c3-d48c-4bdc-a836-6d283db84582",
   "metadata": {},
   "source": [
    "## Data Visualization, Exploratory Data Analysis (Milestone 1)"
   ]
  },
  {
   "cell_type": "code",
   "execution_count": 1,
   "id": "869c3343-a99e-4b12-a8b4-25f74388499e",
   "metadata": {},
   "outputs": [],
   "source": [
    "import pandas as pd\n",
    "import numpy as np\n",
    "import seaborn as sns\n",
    "import matplotlib.pyplot as plt"
   ]
  },
  {
   "cell_type": "code",
   "execution_count": 4,
   "id": "4bd0662d-4a05-4b43-8d9a-7a7beb89d3ce",
   "metadata": {},
   "outputs": [],
   "source": [
    "data_folder = \"../data/\"\n",
    "hpcollection_folder = \"hpcollection/\"\n",
    "hpbooks_folder = \"hpbooks/\"\n",
    "movies_folder = \"movies/\""
   ]
  },
  {
   "cell_type": "markdown",
   "id": "e2acc0c5-3b8f-4506-83b0-423bb18e73ee",
   "metadata": {
    "tags": []
   },
   "source": [
    "### Exploring [Harry Potter Collection dataset](https://github.com/theDavidBarton/the-harry-potter-database)"
   ]
  },
  {
   "cell_type": "code",
   "execution_count": 72,
   "id": "8dc4b9d5-0975-4c6c-af05-fc4025af6075",
   "metadata": {},
   "outputs": [],
   "source": [
    "df_hp_chars = pd.read_json(data_folder+hpcollection_folder+\"characters.json\") "
   ]
  },
  {
   "cell_type": "code",
   "execution_count": 73,
   "id": "82fceee4-eccb-4fdd-9032-e44f1fffd538",
   "metadata": {},
   "outputs": [
    {
     "data": {
      "text/html": [
       "<div>\n",
       "<style scoped>\n",
       "    .dataframe tbody tr th:only-of-type {\n",
       "        vertical-align: middle;\n",
       "    }\n",
       "\n",
       "    .dataframe tbody tr th {\n",
       "        vertical-align: top;\n",
       "    }\n",
       "\n",
       "    .dataframe thead th {\n",
       "        text-align: right;\n",
       "    }\n",
       "</style>\n",
       "<table border=\"1\" class=\"dataframe\">\n",
       "  <thead>\n",
       "    <tr style=\"text-align: right;\">\n",
       "      <th></th>\n",
       "      <th>id</th>\n",
       "      <th>name</th>\n",
       "      <th>birth</th>\n",
       "      <th>death</th>\n",
       "      <th>species</th>\n",
       "      <th>ancestry</th>\n",
       "      <th>gender</th>\n",
       "      <th>hair_color</th>\n",
       "      <th>eye_color</th>\n",
       "      <th>wand</th>\n",
       "      <th>patronus</th>\n",
       "      <th>house</th>\n",
       "      <th>associated_groups</th>\n",
       "      <th>books_featured_in</th>\n",
       "    </tr>\n",
       "  </thead>\n",
       "  <tbody>\n",
       "    <tr>\n",
       "      <th>0</th>\n",
       "      <td>1</td>\n",
       "      <td>Euan Abercrombie</td>\n",
       "      <td>between 1 September 1983 and 31 August 1984</td>\n",
       "      <td>None</td>\n",
       "      <td>Human</td>\n",
       "      <td>None</td>\n",
       "      <td>Male</td>\n",
       "      <td>None</td>\n",
       "      <td>None</td>\n",
       "      <td>None</td>\n",
       "      <td>None</td>\n",
       "      <td>Gryffindor</td>\n",
       "      <td>[Hogwarts School of Witchcraft and Wizardry, G...</td>\n",
       "      <td>[5]</td>\n",
       "    </tr>\n",
       "    <tr>\n",
       "      <th>1</th>\n",
       "      <td>2</td>\n",
       "      <td>Stewart Ackerley</td>\n",
       "      <td>between 1 September 1982and 31 August 1983</td>\n",
       "      <td>None</td>\n",
       "      <td>Human</td>\n",
       "      <td>None</td>\n",
       "      <td>Male</td>\n",
       "      <td>None</td>\n",
       "      <td>None</td>\n",
       "      <td>None</td>\n",
       "      <td>None</td>\n",
       "      <td>Ravenclaw</td>\n",
       "      <td>[]</td>\n",
       "      <td>[4]</td>\n",
       "    </tr>\n",
       "  </tbody>\n",
       "</table>\n",
       "</div>"
      ],
      "text/plain": [
       "   id              name                                        birth death  \\\n",
       "0   1  Euan Abercrombie  between 1 September 1983 and 31 August 1984  None   \n",
       "1   2  Stewart Ackerley   between 1 September 1982and 31 August 1983  None   \n",
       "\n",
       "  species ancestry gender hair_color eye_color  wand patronus       house  \\\n",
       "0   Human     None   Male       None      None  None     None  Gryffindor   \n",
       "1   Human     None   Male       None      None  None     None   Ravenclaw   \n",
       "\n",
       "                                   associated_groups books_featured_in  \n",
       "0  [Hogwarts School of Witchcraft and Wizardry, G...               [5]  \n",
       "1                                                 []               [4]  "
      ]
     },
     "execution_count": 73,
     "metadata": {},
     "output_type": "execute_result"
    }
   ],
   "source": [
    "df_hp_chars.head(2)"
   ]
  },
  {
   "cell_type": "markdown",
   "id": "32fa49d8-55ed-4dcb-ade0-6e1e2289767f",
   "metadata": {
    "tags": []
   },
   "source": [
    "#### Exploring the characters"
   ]
  },
  {
   "cell_type": "markdown",
   "id": "9a49046a-cb6f-45f6-887f-39d844f58802",
   "metadata": {},
   "source": [
    "##### Gender"
   ]
  },
  {
   "cell_type": "markdown",
   "id": "b0a93073-095e-43ac-8107-8120c84c0de2",
   "metadata": {},
   "source": [
    "##### Houses"
   ]
  },
  {
   "cell_type": "markdown",
   "id": "95235fda-9f1b-4e1b-b604-e75ae7d0c2c2",
   "metadata": {},
   "source": [
    "##### Wands"
   ]
  },
  {
   "cell_type": "markdown",
   "id": "7f7fd776-3a6f-4ff7-ba94-839b8e90d305",
   "metadata": {},
   "source": [
    "##### Physical traits"
   ]
  },
  {
   "cell_type": "markdown",
   "id": "09343554-3059-48b1-bc12-37961189fa17",
   "metadata": {},
   "source": [
    "##### Blood types"
   ]
  },
  {
   "cell_type": "markdown",
   "id": "61ec91a0-cf90-426a-905b-7016552c19a9",
   "metadata": {
    "tags": []
   },
   "source": [
    "##### Age/Deaths"
   ]
  },
  {
   "cell_type": "markdown",
   "id": "4c83c3aa-af35-4e08-976f-6d5237859dcb",
   "metadata": {},
   "source": [
    "##### Number of books"
   ]
  },
  {
   "cell_type": "markdown",
   "id": "b5c955ba-1a42-4586-b8bc-2998d0bc5141",
   "metadata": {
    "tags": []
   },
   "source": [
    "#### Association between characters"
   ]
  },
  {
   "cell_type": "markdown",
   "id": "19521746-4f2f-4aec-a183-a09048d5e8cb",
   "metadata": {},
   "source": [
    "#### Spells"
   ]
  },
  {
   "cell_type": "markdown",
   "id": "51437fa8-049c-4149-b31b-55f8596d4c4a",
   "metadata": {},
   "source": [
    "##### Basic analysis"
   ]
  },
  {
   "cell_type": "markdown",
   "id": "ea0257f8-071d-423b-83c3-555ca196e8d9",
   "metadata": {},
   "source": [
    "##### Most popular spells"
   ]
  },
  {
   "cell_type": "markdown",
   "id": "5da9b00f-28d4-49a3-8db8-a4ee5f52d6ba",
   "metadata": {},
   "source": [
    "#### Books"
   ]
  },
  {
   "cell_type": "code",
   "execution_count": 51,
   "id": "b6d04dfa-a217-4c5b-b9a9-70e3ebfdd3ee",
   "metadata": {},
   "outputs": [
    {
     "name": "stderr",
     "output_type": "stream",
     "text": [
      "/var/folders/vf/btrykr5n65v_k_lwb61317k80000gn/T/ipykernel_45954/2541504712.py:1: FutureWarning: The default dtype for empty Series will be 'object' instead of 'float64' in a future version. Specify a dtype explicitly to silence this warning.\n",
      "  dum = pd.get_dummies(df['associated_groups'].apply(pd.Series).stack()).groupby(level=0).sum()\n"
     ]
    },
    {
     "data": {
      "text/html": [
       "<div>\n",
       "<style scoped>\n",
       "    .dataframe tbody tr th:only-of-type {\n",
       "        vertical-align: middle;\n",
       "    }\n",
       "\n",
       "    .dataframe tbody tr th {\n",
       "        vertical-align: top;\n",
       "    }\n",
       "\n",
       "    .dataframe thead th {\n",
       "        text-align: right;\n",
       "    }\n",
       "</style>\n",
       "<table border=\"1\" class=\"dataframe\">\n",
       "  <thead>\n",
       "    <tr style=\"text-align: right;\">\n",
       "      <th></th>\n",
       "      <th></th>\n",
       "      <th>Abbott family</th>\n",
       "      <th>Acolytes</th>\n",
       "      <th>Acromantula colony</th>\n",
       "      <th>Advance Guard</th>\n",
       "      <th>Africa</th>\n",
       "      <th>Albus Dumbledore</th>\n",
       "      <th>Albus Potter</th>\n",
       "      <th>Alderton family</th>\n",
       "      <th>Algie (formerly)</th>\n",
       "      <th>...</th>\n",
       "      <th>Wizarding Examinations Authority</th>\n",
       "      <th>Wizarding Wireless Network</th>\n",
       "      <th>Wizengamot</th>\n",
       "      <th>Wizengamot (formally)</th>\n",
       "      <th>Wool's Orphanage</th>\n",
       "      <th>Wool's orphanage</th>\n",
       "      <th>Zabini family</th>\n",
       "      <th>Zoo</th>\n",
       "      <th>her family</th>\n",
       "      <th>nationality = Welsh</th>\n",
       "    </tr>\n",
       "  </thead>\n",
       "  <tbody>\n",
       "    <tr>\n",
       "      <th>0</th>\n",
       "      <td>0</td>\n",
       "      <td>0</td>\n",
       "      <td>0</td>\n",
       "      <td>0</td>\n",
       "      <td>0</td>\n",
       "      <td>0</td>\n",
       "      <td>0</td>\n",
       "      <td>0</td>\n",
       "      <td>0</td>\n",
       "      <td>0</td>\n",
       "      <td>...</td>\n",
       "      <td>0</td>\n",
       "      <td>0</td>\n",
       "      <td>0</td>\n",
       "      <td>0</td>\n",
       "      <td>0</td>\n",
       "      <td>0</td>\n",
       "      <td>0</td>\n",
       "      <td>0</td>\n",
       "      <td>0</td>\n",
       "      <td>0</td>\n",
       "    </tr>\n",
       "    <tr>\n",
       "      <th>2</th>\n",
       "      <td>0</td>\n",
       "      <td>0</td>\n",
       "      <td>0</td>\n",
       "      <td>0</td>\n",
       "      <td>0</td>\n",
       "      <td>1</td>\n",
       "      <td>0</td>\n",
       "      <td>0</td>\n",
       "      <td>0</td>\n",
       "      <td>0</td>\n",
       "      <td>...</td>\n",
       "      <td>0</td>\n",
       "      <td>0</td>\n",
       "      <td>0</td>\n",
       "      <td>0</td>\n",
       "      <td>0</td>\n",
       "      <td>0</td>\n",
       "      <td>0</td>\n",
       "      <td>0</td>\n",
       "      <td>0</td>\n",
       "      <td>0</td>\n",
       "    </tr>\n",
       "    <tr>\n",
       "      <th>5</th>\n",
       "      <td>0</td>\n",
       "      <td>0</td>\n",
       "      <td>0</td>\n",
       "      <td>0</td>\n",
       "      <td>0</td>\n",
       "      <td>0</td>\n",
       "      <td>0</td>\n",
       "      <td>0</td>\n",
       "      <td>0</td>\n",
       "      <td>0</td>\n",
       "      <td>...</td>\n",
       "      <td>0</td>\n",
       "      <td>0</td>\n",
       "      <td>0</td>\n",
       "      <td>0</td>\n",
       "      <td>0</td>\n",
       "      <td>0</td>\n",
       "      <td>0</td>\n",
       "      <td>0</td>\n",
       "      <td>0</td>\n",
       "      <td>0</td>\n",
       "    </tr>\n",
       "  </tbody>\n",
       "</table>\n",
       "<p>3 rows × 399 columns</p>\n",
       "</div>"
      ],
      "text/plain": [
       "      Abbott family  Acolytes  Acromantula colony  Advance Guard  Africa  \\\n",
       "0  0              0         0                   0              0       0   \n",
       "2  0              0         0                   0              0       1   \n",
       "5  0              0         0                   0              0       0   \n",
       "\n",
       "   Albus Dumbledore  Albus Potter  Alderton family  Algie (formerly)  ...  \\\n",
       "0                 0             0                0                 0  ...   \n",
       "2                 0             0                0                 0  ...   \n",
       "5                 0             0                0                 0  ...   \n",
       "\n",
       "   Wizarding Examinations Authority  Wizarding Wireless Network  Wizengamot  \\\n",
       "0                                 0                           0           0   \n",
       "2                                 0                           0           0   \n",
       "5                                 0                           0           0   \n",
       "\n",
       "   Wizengamot (formally)  Wool's Orphanage  Wool's orphanage  Zabini family  \\\n",
       "0                      0                 0                 0              0   \n",
       "2                      0                 0                 0              0   \n",
       "5                      0                 0                 0              0   \n",
       "\n",
       "   Zoo  her family  nationality = Welsh  \n",
       "0    0           0                    0  \n",
       "2    0           0                    0  \n",
       "5    0           0                    0  \n",
       "\n",
       "[3 rows x 399 columns]"
      ]
     },
     "execution_count": 51,
     "metadata": {},
     "output_type": "execute_result"
    }
   ],
   "source": [
    "dum = pd.get_dummies(df['associated_groups'].apply(pd.Series).stack()).groupby(level=0).sum()\n",
    "dum.head(3)"
   ]
  },
  {
   "cell_type": "code",
   "execution_count": 70,
   "id": "56e172cb-0d73-4f7f-8d90-2270bbb82832",
   "metadata": {},
   "outputs": [],
   "source": [
    "def plot_histogram_association(dummies, threshold):\n",
    "    dummies2 = dummies.copy()\n",
    "    print(dummies2.shape)\n",
    "    dummies2.replace(0, np.nan).dropna(axis=1, thresh=threshold, inplace=True)\n",
    "    print(dummies2.shape)\n",
    "    sns.displot(dummies2.sum(axis=0), log=(False,True))"
   ]
  },
  {
   "cell_type": "code",
   "execution_count": 71,
   "id": "5c394247-ff6a-461b-9f18-4cbaa11cdba9",
   "metadata": {},
   "outputs": [
    {
     "name": "stdout",
     "output_type": "stream",
     "text": [
      "(545, 399)\n",
      "(545, 399)\n"
     ]
    },
    {
     "data": {
      "image/png": "[encoded data removed]",
      "text/plain": [
       "<Figure size 360x360 with 1 Axes>"
      ]
     },
     "metadata": {
      "needs_background": "light"
     },
     "output_type": "display_data"
    }
   ],
   "source": [
    "plot_histogram_association(dum, 3)"
   ]
  },
  {
   "cell_type": "code",
   "execution_count": 9,
   "id": "15eba0f7-1404-4bca-b3bb-e8ad3c39837d",
   "metadata": {},
   "outputs": [
    {
     "data": {
      "text/html": [
       "<div>\n",
       "<style scoped>\n",
       "    .dataframe tbody tr th:only-of-type {\n",
       "        vertical-align: middle;\n",
       "    }\n",
       "\n",
       "    .dataframe tbody tr th {\n",
       "        vertical-align: top;\n",
       "    }\n",
       "\n",
       "    .dataframe thead th {\n",
       "        text-align: right;\n",
       "    }\n",
       "</style>\n",
       "<table border=\"1\" class=\"dataframe\">\n",
       "  <thead>\n",
       "    <tr style=\"text-align: right;\">\n",
       "      <th></th>\n",
       "      <th>id</th>\n",
       "      <th>name</th>\n",
       "      <th>birth</th>\n",
       "      <th>death</th>\n",
       "      <th>species</th>\n",
       "      <th>ancestry</th>\n",
       "      <th>gender</th>\n",
       "      <th>hair_color</th>\n",
       "      <th>eye_color</th>\n",
       "      <th>wand</th>\n",
       "      <th>patronus</th>\n",
       "      <th>house</th>\n",
       "      <th>associated_groups</th>\n",
       "      <th>books_featured_in</th>\n",
       "    </tr>\n",
       "  </thead>\n",
       "  <tbody>\n",
       "    <tr>\n",
       "      <th>0</th>\n",
       "      <td>1</td>\n",
       "      <td>Euan Abercrombie</td>\n",
       "      <td>between 1 September 1983 and 31 August 1984</td>\n",
       "      <td>None</td>\n",
       "      <td>Human</td>\n",
       "      <td>None</td>\n",
       "      <td>Male</td>\n",
       "      <td>None</td>\n",
       "      <td>None</td>\n",
       "      <td>None</td>\n",
       "      <td>None</td>\n",
       "      <td>Gryffindor</td>\n",
       "      <td>[Hogwarts School of Witchcraft and Wizardry, G...</td>\n",
       "      <td>[5]</td>\n",
       "    </tr>\n",
       "    <tr>\n",
       "      <th>1</th>\n",
       "      <td>2</td>\n",
       "      <td>Stewart Ackerley</td>\n",
       "      <td>between 1 September 1982and 31 August 1983</td>\n",
       "      <td>None</td>\n",
       "      <td>Human</td>\n",
       "      <td>None</td>\n",
       "      <td>Male</td>\n",
       "      <td>None</td>\n",
       "      <td>None</td>\n",
       "      <td>None</td>\n",
       "      <td>None</td>\n",
       "      <td>Ravenclaw</td>\n",
       "      <td>[]</td>\n",
       "      <td>[4]</td>\n",
       "    </tr>\n",
       "    <tr>\n",
       "      <th>2</th>\n",
       "      <td>3</td>\n",
       "      <td>African prince</td>\n",
       "      <td>None</td>\n",
       "      <td>None</td>\n",
       "      <td>Human</td>\n",
       "      <td>Muggle-born or half-blood (possibly)</td>\n",
       "      <td>Male</td>\n",
       "      <td>None</td>\n",
       "      <td>None</td>\n",
       "      <td>None</td>\n",
       "      <td>None</td>\n",
       "      <td>None</td>\n",
       "      <td>[Africa]</td>\n",
       "      <td>[1]</td>\n",
       "    </tr>\n",
       "    <tr>\n",
       "      <th>3</th>\n",
       "      <td>4</td>\n",
       "      <td>Agnes's son</td>\n",
       "      <td>None</td>\n",
       "      <td>None</td>\n",
       "      <td>Human</td>\n",
       "      <td>None</td>\n",
       "      <td>Male</td>\n",
       "      <td>None</td>\n",
       "      <td>None</td>\n",
       "      <td>None</td>\n",
       "      <td>None</td>\n",
       "      <td>None</td>\n",
       "      <td>[]</td>\n",
       "      <td>[5]</td>\n",
       "    </tr>\n",
       "    <tr>\n",
       "      <th>4</th>\n",
       "      <td>5</td>\n",
       "      <td>Cornelius Agrippa</td>\n",
       "      <td>1486</td>\n",
       "      <td>1535 (aged 48 - 49)</td>\n",
       "      <td>Human</td>\n",
       "      <td>None</td>\n",
       "      <td>Male</td>\n",
       "      <td>Brown</td>\n",
       "      <td>Green</td>\n",
       "      <td>None</td>\n",
       "      <td>None</td>\n",
       "      <td>None</td>\n",
       "      <td>[]</td>\n",
       "      <td>[1]</td>\n",
       "    </tr>\n",
       "    <tr>\n",
       "      <th>5</th>\n",
       "      <td>6</td>\n",
       "      <td>Albino peacock</td>\n",
       "      <td>Pre 1997</td>\n",
       "      <td>None</td>\n",
       "      <td>Peacock</td>\n",
       "      <td>None</td>\n",
       "      <td>Male</td>\n",
       "      <td>None</td>\n",
       "      <td>Black</td>\n",
       "      <td>None</td>\n",
       "      <td>None</td>\n",
       "      <td>None</td>\n",
       "      <td>[Lucius Malfoy (owner)]</td>\n",
       "      <td>[7]</td>\n",
       "    </tr>\n",
       "    <tr>\n",
       "      <th>6</th>\n",
       "      <td>7</td>\n",
       "      <td>Arkie Alderton</td>\n",
       "      <td>None</td>\n",
       "      <td>None</td>\n",
       "      <td>Human</td>\n",
       "      <td>Pure-blood or Half-blood</td>\n",
       "      <td>Male</td>\n",
       "      <td>None</td>\n",
       "      <td>None</td>\n",
       "      <td>None</td>\n",
       "      <td>None</td>\n",
       "      <td>None</td>\n",
       "      <td>[Arkie Alderton's Kwik-Repair Shop]</td>\n",
       "      <td>[7]</td>\n",
       "    </tr>\n",
       "    <tr>\n",
       "      <th>7</th>\n",
       "      <td>8</td>\n",
       "      <td>Angus</td>\n",
       "      <td>c. 1980s</td>\n",
       "      <td>None</td>\n",
       "      <td>Human</td>\n",
       "      <td>None</td>\n",
       "      <td>Male</td>\n",
       "      <td>Brown</td>\n",
       "      <td>None</td>\n",
       "      <td>None</td>\n",
       "      <td>None</td>\n",
       "      <td>None</td>\n",
       "      <td>[]</td>\n",
       "      <td>[1]</td>\n",
       "    </tr>\n",
       "    <tr>\n",
       "      <th>8</th>\n",
       "      <td>9</td>\n",
       "      <td>Antioch Peverell's killer</td>\n",
       "      <td>None</td>\n",
       "      <td>None</td>\n",
       "      <td>Human</td>\n",
       "      <td>None</td>\n",
       "      <td>Male</td>\n",
       "      <td>None</td>\n",
       "      <td>None</td>\n",
       "      <td>Unknown wand</td>\n",
       "      <td>None</td>\n",
       "      <td>None</td>\n",
       "      <td>[]</td>\n",
       "      <td>[7]</td>\n",
       "    </tr>\n",
       "    <tr>\n",
       "      <th>9</th>\n",
       "      <td>10</td>\n",
       "      <td>Apothecary shopkeeper</td>\n",
       "      <td>None</td>\n",
       "      <td>None</td>\n",
       "      <td>Human</td>\n",
       "      <td>None</td>\n",
       "      <td>Male</td>\n",
       "      <td>White</td>\n",
       "      <td>None</td>\n",
       "      <td>None</td>\n",
       "      <td>None</td>\n",
       "      <td>None</td>\n",
       "      <td>[Apothecary]</td>\n",
       "      <td>[1]</td>\n",
       "    </tr>\n",
       "  </tbody>\n",
       "</table>\n",
       "</div>"
      ],
      "text/plain": [
       "   id                       name                                        birth  \\\n",
       "0   1           Euan Abercrombie  between 1 September 1983 and 31 August 1984   \n",
       "1   2           Stewart Ackerley   between 1 September 1982and 31 August 1983   \n",
       "2   3             African prince                                         None   \n",
       "3   4                Agnes's son                                         None   \n",
       "4   5          Cornelius Agrippa                                         1486   \n",
       "5   6             Albino peacock                                     Pre 1997   \n",
       "6   7             Arkie Alderton                                         None   \n",
       "7   8                      Angus                                     c. 1980s   \n",
       "8   9  Antioch Peverell's killer                                         None   \n",
       "9  10      Apothecary shopkeeper                                         None   \n",
       "\n",
       "                 death  species                              ancestry gender  \\\n",
       "0                 None    Human                                  None   Male   \n",
       "1                 None    Human                                  None   Male   \n",
       "2                 None    Human  Muggle-born or half-blood (possibly)   Male   \n",
       "3                 None    Human                                  None   Male   \n",
       "4  1535 (aged 48 - 49)    Human                                  None   Male   \n",
       "5                 None  Peacock                                  None   Male   \n",
       "6                 None    Human              Pure-blood or Half-blood   Male   \n",
       "7                 None    Human                                  None   Male   \n",
       "8                 None    Human                                  None   Male   \n",
       "9                 None    Human                                  None   Male   \n",
       "\n",
       "  hair_color eye_color          wand patronus       house  \\\n",
       "0       None      None          None     None  Gryffindor   \n",
       "1       None      None          None     None   Ravenclaw   \n",
       "2       None      None          None     None        None   \n",
       "3       None      None          None     None        None   \n",
       "4      Brown     Green          None     None        None   \n",
       "5       None     Black          None     None        None   \n",
       "6       None      None          None     None        None   \n",
       "7      Brown      None          None     None        None   \n",
       "8       None      None  Unknown wand     None        None   \n",
       "9      White      None          None     None        None   \n",
       "\n",
       "                                   associated_groups books_featured_in  \n",
       "0  [Hogwarts School of Witchcraft and Wizardry, G...               [5]  \n",
       "1                                                 []               [4]  \n",
       "2                                           [Africa]               [1]  \n",
       "3                                                 []               [5]  \n",
       "4                                                 []               [1]  \n",
       "5                            [Lucius Malfoy (owner)]               [7]  \n",
       "6                [Arkie Alderton's Kwik-Repair Shop]               [7]  \n",
       "7                                                 []               [1]  \n",
       "8                                                 []               [7]  \n",
       "9                                       [Apothecary]               [1]  "
      ]
     },
     "execution_count": 9,
     "metadata": {},
     "output_type": "execute_result"
    }
   ],
   "source": [
    "df.head(10)"
   ]
  },
  {
   "cell_type": "markdown",
   "id": "90416d92-7bc3-4d9c-a304-3c48587d9fb6",
   "metadata": {},
   "source": [
    "### Movie Datasets"
   ]
  },
  {
   "cell_type": "markdown",
   "id": "07f6e2c6-6bbf-4a14-8be9-7eb817c7ea65",
   "metadata": {},
   "source": [
    "##### "
   ]
  }
 ],
 "metadata": {
  "kernelspec": {
   "display_name": "Python 3 (ipykernel)",
   "language": "python",
   "name": "python3"
  },
  "language_info": {
   "codemirror_mode": {
    "name": "ipython",
    "version": 3
   },
   "file_extension": ".py",
   "mimetype": "text/x-python",
   "name": "python",
   "nbconvert_exporter": "python",
   "pygments_lexer": "ipython3",
   "version": "3.8.12"
  }
 },
 "nbformat": 4,
 "nbformat_minor": 5
}
