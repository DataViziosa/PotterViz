{
 "cells": [
  {
   "cell_type": "markdown",
   "id": "439459c3-d48c-4bdc-a836-6d283db84582",
   "metadata": {},
   "source": [
    "## Data Visualization, Exploratory Data Analysis (Milestone 1)"
   ]
  },
  {
   "cell_type": "markdown",
   "id": "2aa98d3f-9555-49dc-9c6b-9f31ac9e26af",
   "metadata": {},
   "source": [
    "In this notebook, we will take a look at all the data we have as well as perfoming some pre-processing so that the data are more usable in our future visualisation. Recall that our data consists of the following datasets (we will mention which one we use below)\n",
    "- [Harry Potter Collection](https://github.com/theDavidBarton/the-harry-potter-database) contains a lot of information about characters, potions, spells and books. \n",
    "- We enhance the book dataset (in the previous bullet) with more information about [sales](https://en.wikipedia.org/wiki/List_of_best-selling_books) and [translations](https://en.wikipedia.org/wiki/Harry_Potter_in_translation)\n",
    "- [Harry Potter network](https://github.com/dpmartin42/Networks/tree/master/Harry%20Potter) describing the network of interactiosn between characters.\n",
    "- [Harry Potter Books content](https://github.com/formcept/whiteboard/tree/master/nbviewer/notebooks/data/harrypotter) containing the texts of all the Harry Potter books. \n",
    "- [Harry Potter movies](https://www.kaggle.com/kornflex/harry-potter-movies-dataset) containing information about the movies as well as the transcript that can be useful for advanced analysis.\n",
    "- Top 40 favourite Harry Potter characters based on [this article ](https://www.theguardian.com/childrens-books-site/2011/aug/30/snape-favourite-harry-potter-character)."
   ]
  },
  {
   "cell_type": "code",
   "execution_count": 74,
   "id": "869c3343-a99e-4b12-a8b4-25f74388499e",
   "metadata": {},
   "outputs": [],
   "source": [
    "import pandas as pd\n",
    "import numpy as np\n",
    "import seaborn as sns\n",
    "import matplotlib.pyplot as plt\n",
    "from helper.constantes import *"
   ]
  },
  {
   "cell_type": "markdown",
   "id": "e2acc0c5-3b8f-4506-83b0-423bb18e73ee",
   "metadata": {
    "tags": []
   },
   "source": [
    "### Exploring [Harry Potter Collection dataset](https://github.com/theDavidBarton/the-harry-potter-database)"
   ]
  },
  {
   "cell_type": "code",
   "execution_count": 75,
   "id": "8dc4b9d5-0975-4c6c-af05-fc4025af6075",
   "metadata": {},
   "outputs": [],
   "source": [
    "df_hp_chars = pd.read_json(data_folder+hpcollection_folder+\"characters.json\") "
   ]
  },
  {
   "cell_type": "code",
   "execution_count": 76,
   "id": "82fceee4-eccb-4fdd-9032-e44f1fffd538",
   "metadata": {},
   "outputs": [
    {
     "data": {
      "text/html": [
       "<div>\n",
       "<style scoped>\n",
       "    .dataframe tbody tr th:only-of-type {\n",
       "        vertical-align: middle;\n",
       "    }\n",
       "\n",
       "    .dataframe tbody tr th {\n",
       "        vertical-align: top;\n",
       "    }\n",
       "\n",
       "    .dataframe thead th {\n",
       "        text-align: right;\n",
       "    }\n",
       "</style>\n",
       "<table border=\"1\" class=\"dataframe\">\n",
       "  <thead>\n",
       "    <tr style=\"text-align: right;\">\n",
       "      <th></th>\n",
       "      <th>id</th>\n",
       "      <th>name</th>\n",
       "      <th>birth</th>\n",
       "      <th>death</th>\n",
       "      <th>species</th>\n",
       "      <th>ancestry</th>\n",
       "      <th>gender</th>\n",
       "      <th>hair_color</th>\n",
       "      <th>eye_color</th>\n",
       "      <th>wand</th>\n",
       "      <th>patronus</th>\n",
       "      <th>house</th>\n",
       "      <th>associated_groups</th>\n",
       "      <th>books_featured_in</th>\n",
       "    </tr>\n",
       "  </thead>\n",
       "  <tbody>\n",
       "    <tr>\n",
       "      <th>575</th>\n",
       "      <td>622</td>\n",
       "      <td>Bellatrix Lestrange</td>\n",
       "      <td>1951</td>\n",
       "      <td>2 May, 1998 (aged 46 - 47)</td>\n",
       "      <td>Human</td>\n",
       "      <td>Pure-blood</td>\n",
       "      <td>Female</td>\n",
       "      <td>Black</td>\n",
       "      <td>None</td>\n",
       "      <td>12¾\", Walnut, dragon heartstring</td>\n",
       "      <td>None</td>\n",
       "      <td>House of Black</td>\n",
       "      <td>[]</td>\n",
       "      <td>[4, 5, 6, 7]</td>\n",
       "    </tr>\n",
       "  </tbody>\n",
       "</table>\n",
       "</div>"
      ],
      "text/plain": [
       "      id                 name birth                       death species  \\\n",
       "575  622  Bellatrix Lestrange  1951  2 May, 1998 (aged 46 - 47)   Human   \n",
       "\n",
       "       ancestry  gender hair_color eye_color  \\\n",
       "575  Pure-blood  Female      Black      None   \n",
       "\n",
       "                                 wand patronus           house  \\\n",
       "575  12¾\", Walnut, dragon heartstring     None  House of Black   \n",
       "\n",
       "    associated_groups books_featured_in  \n",
       "575                []      [4, 5, 6, 7]  "
      ]
     },
     "execution_count": 76,
     "metadata": {},
     "output_type": "execute_result"
    }
   ],
   "source": [
    "df_hp_chars[df_hp_chars['name']=='Bellatrix Lestrange'].head(2)"
   ]
  },
  {
   "cell_type": "markdown",
   "id": "32fa49d8-55ed-4dcb-ade0-6e1e2289767f",
   "metadata": {
    "tags": []
   },
   "source": [
    "#### Exploring the characters"
   ]
  },
  {
   "cell_type": "code",
   "execution_count": 77,
   "id": "e8b1f817-5343-4ab0-bcd8-d1bdbd8deba3",
   "metadata": {},
   "outputs": [
    {
     "data": {
      "text/plain": [
       "707"
      ]
     },
     "execution_count": 77,
     "metadata": {},
     "output_type": "execute_result"
    }
   ],
   "source": [
    "df_hp_chars['id'].count()"
   ]
  },
  {
   "cell_type": "markdown",
   "id": "48f2aa4c-773d-4231-a08f-80e124471d95",
   "metadata": {},
   "source": [
    "In the dataset, we can see that there are 707 different characters. We will see the number of recurrent characters throughout the book series. "
   ]
  },
  {
   "cell_type": "code",
   "execution_count": 78,
   "id": "e5b7f526-a5b5-4e6c-b7d2-1d96cbf3c9a8",
   "metadata": {},
   "outputs": [
    {
     "data": {
      "image/png": "[encoded data removed]",
      "text/plain": [
       "<Figure size 360x360 with 1 Axes>"
      ]
     },
     "metadata": {
      "needs_background": "light"
     },
     "output_type": "display_data"
    }
   ],
   "source": [
    "df_hp_chars['nb_books_featured_in'] = df_hp_chars['books_featured_in'].apply(lambda x: len(x))\n",
    "\n",
    "fig = sns.displot(df_hp_chars['nb_books_featured_in'] )\n",
    "plt.title(\"Histogram of the number of characters appearing in several books\")\n",
    "plt.xlabel(\"Number of books\")\n",
    "plt.ylabel(\"Count of characters\")\n",
    "plt.yscale('log')\n",
    "plt.show()"
   ]
  },
  {
   "cell_type": "code",
   "execution_count": 79,
   "id": "528d5873-54f2-48ff-9ff5-bb79805f7707",
   "metadata": {},
   "outputs": [
    {
     "data": {
      "text/plain": [
       "1    431\n",
       "2     92\n",
       "3     60\n",
       "7     51\n",
       "4     37\n",
       "5     25\n",
       "6     11\n",
       "Name: nb_books_featured_in, dtype: int64"
      ]
     },
     "execution_count": 79,
     "metadata": {},
     "output_type": "execute_result"
    }
   ],
   "source": [
    "df_hp_chars['nb_books_featured_in'].value_counts()"
   ]
  },
  {
   "cell_type": "markdown",
   "id": "0729177e-9bea-4825-841c-d05ed15ba47c",
   "metadata": {},
   "source": [
    "Note that the y-axis is in log-scale. We can see that there a lot of characters (aroung 2/3) appear in only one book. Another interesting insight is that we have more characters appearing in all the books than characters appearing in only 4,5 or 6 books. "
   ]
  },
  {
   "cell_type": "markdown",
   "id": "9a49046a-cb6f-45f6-887f-39d844f58802",
   "metadata": {},
   "source": [
    "##### Gender"
   ]
  },
  {
   "cell_type": "markdown",
   "id": "69c3e1f5-fbdd-4c6a-82ae-1a4cd581fdd6",
   "metadata": {},
   "source": [
    "We first take a look at the different type of gender there are in books."
   ]
  },
  {
   "cell_type": "code",
   "execution_count": 80,
   "id": "2b100ae8-d3b0-4135-bfd6-51029e965ff5",
   "metadata": {},
   "outputs": [
    {
     "data": {
      "text/plain": [
       "Male                  437\n",
       "Female                244\n",
       "Males                   4\n",
       "Male (likely)           2\n",
       "Females                 2\n",
       "Females, Males          1\n",
       "Males and females       1\n",
       "At least one boy        1\n",
       "Male (most likely)      1\n",
       "Female (likely)         1\n",
       "Name: gender, dtype: int64"
      ]
     },
     "execution_count": 80,
     "metadata": {},
     "output_type": "execute_result"
    }
   ],
   "source": [
    "df_hp_chars['gender'].value_counts()"
   ]
  },
  {
   "cell_type": "markdown",
   "id": "0ae7ccac-fd3e-4113-ac90-1dc35fbf42b4",
   "metadata": {},
   "source": [
    "For the purpose of our visualisation and since the number of exceptions is very small, we will map the gender which are not male or female to the closest gender. "
   ]
  },
  {
   "cell_type": "code",
   "execution_count": 81,
   "id": "ba535204-4df3-4270-98c0-ac4bbac4533b",
   "metadata": {},
   "outputs": [],
   "source": [
    "def map_to_closest_gender(gender):\n",
    "    if gender is None: \n",
    "        return None\n",
    "    if \"female\" in gender.lower() or \"girl\" in gender.lower():\n",
    "        return \"female\"\n",
    "    else:\n",
    "        return \"male\"\n",
    "    \n",
    "df_hp_chars['gender'] = df_hp_chars['gender'].apply(map_to_closest_gender)"
   ]
  },
  {
   "cell_type": "code",
   "execution_count": 82,
   "id": "e25008dd-20f4-4137-82a7-3237e914d473",
   "metadata": {},
   "outputs": [],
   "source": [
    "def plot_pie(df, columns):\n",
    "    data = df[columns].value_counts().values\n",
    "    labels = df[columns].value_counts().index\n",
    "\n",
    "    colors = sns.color_palette('pastel')[0:5]\n",
    "\n",
    "    #create pie chart\n",
    "    plt.pie(data, labels = labels, colors = colors, autopct='%.0f%%')\n",
    "    plt.title(\"Pie chart repartition \"+ columns)\n",
    "    plt.show()"
   ]
  },
  {
   "cell_type": "code",
   "execution_count": 83,
   "id": "33bd7306-dd05-484e-ac5f-4319ed1dff65",
   "metadata": {},
   "outputs": [
    {
     "data": {
      "image/png": "[encoded data removed]",
      "text/plain": [
       "<Figure size 432x288 with 1 Axes>"
      ]
     },
     "metadata": {},
     "output_type": "display_data"
    }
   ],
   "source": [
    "plot_pie(df_hp_chars, \"gender\")"
   ]
  },
  {
   "cell_type": "markdown",
   "id": "f9f629c4-8555-49f7-887e-a913deb6493b",
   "metadata": {},
   "source": [
    "We can see that around 2/3 of the characters in this Harry Potter are men and 1/3 are women. Let see what is the gender of the recurrent characters in the Harry Potter serie. "
   ]
  },
  {
   "cell_type": "code",
   "execution_count": 84,
   "id": "32bd1469-75ef-429e-b2eb-dfdac3da6f9b",
   "metadata": {},
   "outputs": [
    {
     "data": {
      "text/plain": [
       "gender  nb_books_featured_in\n",
       "male    1                       273\n",
       "female  1                       148\n",
       "male    2                        57\n",
       "        3                        40\n",
       "female  2                        34\n",
       "male    7                        32\n",
       "        4                        23\n",
       "female  3                        19\n",
       "        7                        19\n",
       "        4                        14\n",
       "male    5                        13\n",
       "female  5                        11\n",
       "male    6                         7\n",
       "female  6                         4\n",
       "dtype: int64"
      ]
     },
     "execution_count": 84,
     "metadata": {},
     "output_type": "execute_result"
    }
   ],
   "source": [
    "data = df_hp_chars.loc[:,[\"gender\", \"nb_books_featured_in\"]].value_counts()\n",
    "data\n",
    "df_hp_chars.loc[:,[\"gender\", \"nb_books_featured_in\"]].value_counts()"
   ]
  },
  {
   "cell_type": "code",
   "execution_count": 85,
   "id": "aca62c1a-4b4f-4794-9166-d394532ad426",
   "metadata": {},
   "outputs": [
    {
     "data": {
      "image/png": "[encoded data removed]",
      "text/plain": [
       "<Figure size 432x288 with 1 Axes>"
      ]
     },
     "metadata": {
      "needs_background": "light"
     },
     "output_type": "display_data"
    }
   ],
   "source": [
    "sns.heatmap(pd.crosstab(df_hp_chars['nb_books_featured_in'],df_hp_chars['gender']), annot=True, fmt=\"d\", linewidths=.5, cbar=False)\n",
    "plt.title('Heatmap of the characters w.r.t. to the number of books in which they appear')\n",
    "plt.xlabel('Gender')\n",
    "plt.ylabel('Number of boooks')\n",
    "plt.show()"
   ]
  },
  {
   "cell_type": "markdown",
   "id": "6edb82b8-a5d8-4d22-99a4-57b906d9f2bb",
   "metadata": {},
   "source": [
    "As we can see, males are around 1.5 or twice more present than female in each category. This could introduces some biases in subsequent analysis and we must be careful. "
   ]
  },
  {
   "cell_type": "markdown",
   "id": "b0a93073-095e-43ac-8107-8120c84c0de2",
   "metadata": {},
   "source": [
    "##### Houses"
   ]
  },
  {
   "cell_type": "markdown",
   "id": "e22bd793-f82c-4ac1-adc6-94798d67f0d7",
   "metadata": {},
   "source": [
    "When a new wizard goes to Hogwarts to learn magic, (s)he will first be splitted into one of the houses: Gryffindor, Ravenclaw, Slytherin or Hufflepuff. We will now take a look at our list characters and see which are the most dominant houses. \n",
    "\n",
    "Before being able to do this, we will have to do some cleaning on the data as we can see that there are a lot more houses than the 4 expected. "
   ]
  },
  {
   "cell_type": "code",
   "execution_count": 86,
   "id": "4646dcad-8a10-4d81-9988-9c5278ddb868",
   "metadata": {},
   "outputs": [
    {
     "data": {
      "text/plain": [
       "Gryffindor                                       56\n",
       "Slytherin                                        36\n",
       "Ravenclaw                                        29\n",
       "Hufflepuff                                       23\n",
       "House of Black                                    9\n",
       "Malfoy family                                     3\n",
       "Gryffindor (possibly)                             3\n",
       "Slytherin (possibly)                              3\n",
       "Unknown                                           3\n",
       "House of Gaunt                                    2\n",
       "Gryffindor, Hufflepuff, or Slytherin              2\n",
       "Ravenclaw (possibly)                              2\n",
       "House of Black (formerly)                         2\n",
       "Gryffindor (likely)                               2\n",
       "Slytherin (likely)                                2\n",
       "Hufflepuff (likely)                               2\n",
       "Riddle family (formerly)                          1\n",
       "Hufflepuff (possibly)                             1\n",
       "Lord Voldemort                                    1\n",
       "Hogwarts School of Witchcraft and Wizardry        1\n",
       "Arthur Weasley (paternal grandfather)             1\n",
       "House of Black (disowned posthumously)            1\n",
       "Slytherin (most likely)                           1\n",
       "Ravenclaw (likely)                                1\n",
       "House of Gaunt (abandoned)                        1\n",
       "Salazar Slytherin                                 1\n",
       "Septimus Weasley (paternal great-grandfather)     1\n",
       "Name: house, dtype: int64"
      ]
     },
     "execution_count": 86,
     "metadata": {},
     "output_type": "execute_result"
    }
   ],
   "source": [
    "df_hp_chars['house'].value_counts()"
   ]
  },
  {
   "cell_type": "markdown",
   "id": "0d17a02a-20fb-43c9-a48c-db92bcad6de6",
   "metadata": {},
   "source": [
    "Surprisingly, He-Who-Must-Not-Be-Named seems to have created a new house... "
   ]
  },
  {
   "cell_type": "code",
   "execution_count": 87,
   "id": "b40729f7-c6bc-4272-b4d2-ca3aebcbd14b",
   "metadata": {},
   "outputs": [
    {
     "data": {
      "text/html": [
       "<div>\n",
       "<style scoped>\n",
       "    .dataframe tbody tr th:only-of-type {\n",
       "        vertical-align: middle;\n",
       "    }\n",
       "\n",
       "    .dataframe tbody tr th {\n",
       "        vertical-align: top;\n",
       "    }\n",
       "\n",
       "    .dataframe thead th {\n",
       "        text-align: right;\n",
       "    }\n",
       "</style>\n",
       "<table border=\"1\" class=\"dataframe\">\n",
       "  <thead>\n",
       "    <tr style=\"text-align: right;\">\n",
       "      <th></th>\n",
       "      <th>id</th>\n",
       "      <th>name</th>\n",
       "      <th>birth</th>\n",
       "      <th>death</th>\n",
       "      <th>species</th>\n",
       "      <th>ancestry</th>\n",
       "      <th>gender</th>\n",
       "      <th>hair_color</th>\n",
       "      <th>eye_color</th>\n",
       "      <th>wand</th>\n",
       "      <th>patronus</th>\n",
       "      <th>house</th>\n",
       "      <th>associated_groups</th>\n",
       "      <th>books_featured_in</th>\n",
       "      <th>nb_books_featured_in</th>\n",
       "    </tr>\n",
       "  </thead>\n",
       "  <tbody>\n",
       "    <tr>\n",
       "      <th>241</th>\n",
       "      <td>244</td>\n",
       "      <td>Rodolphus Lestrange</td>\n",
       "      <td>Pre 1964</td>\n",
       "      <td>None</td>\n",
       "      <td>Human</td>\n",
       "      <td>Pure-blood</td>\n",
       "      <td>male</td>\n",
       "      <td>Dark</td>\n",
       "      <td>Dark</td>\n",
       "      <td>None</td>\n",
       "      <td>None</td>\n",
       "      <td>Lord Voldemort</td>\n",
       "      <td>[]</td>\n",
       "      <td>[4, 5, 7]</td>\n",
       "      <td>3</td>\n",
       "    </tr>\n",
       "  </tbody>\n",
       "</table>\n",
       "</div>"
      ],
      "text/plain": [
       "      id                 name     birth death species    ancestry gender  \\\n",
       "241  244  Rodolphus Lestrange  Pre 1964  None   Human  Pure-blood   male   \n",
       "\n",
       "    hair_color eye_color  wand patronus           house associated_groups  \\\n",
       "241       Dark      Dark  None     None  Lord Voldemort                []   \n",
       "\n",
       "    books_featured_in  nb_books_featured_in  \n",
       "241         [4, 5, 7]                     3  "
      ]
     },
     "execution_count": 87,
     "metadata": {},
     "output_type": "execute_result"
    }
   ],
   "source": [
    "df_hp_chars[df_hp_chars['house']=='Lord Voldemort'].head(10)"
   ]
  },
  {
   "cell_type": "markdown",
   "id": "bab5dbfa-2dcf-4c89-b785-8f951770d073",
   "metadata": {},
   "source": [
    "Rodolphus Lestrange is in fact one of the most death eather serving Lord Voldemort, it is also known that it belongs to the Slytherin house, we will correct this in a global function later. A choice that we choose to make is for all the house such as Gryffindor (likely) we will put them in the Gryffindor house. The next interesting thing is that the basilisk (which is a snake seems to belong to an house), we will remove this from the house column and put in the associated groups later. "
   ]
  },
  {
   "cell_type": "code",
   "execution_count": 88,
   "id": "84bf4ffe-55bb-403e-8742-e556a2594d88",
   "metadata": {},
   "outputs": [
    {
     "data": {
      "text/html": [
       "<div>\n",
       "<style scoped>\n",
       "    .dataframe tbody tr th:only-of-type {\n",
       "        vertical-align: middle;\n",
       "    }\n",
       "\n",
       "    .dataframe tbody tr th {\n",
       "        vertical-align: top;\n",
       "    }\n",
       "\n",
       "    .dataframe thead th {\n",
       "        text-align: right;\n",
       "    }\n",
       "</style>\n",
       "<table border=\"1\" class=\"dataframe\">\n",
       "  <thead>\n",
       "    <tr style=\"text-align: right;\">\n",
       "      <th></th>\n",
       "      <th>id</th>\n",
       "      <th>name</th>\n",
       "      <th>birth</th>\n",
       "      <th>death</th>\n",
       "      <th>species</th>\n",
       "      <th>ancestry</th>\n",
       "      <th>gender</th>\n",
       "      <th>hair_color</th>\n",
       "      <th>eye_color</th>\n",
       "      <th>wand</th>\n",
       "      <th>patronus</th>\n",
       "      <th>house</th>\n",
       "      <th>associated_groups</th>\n",
       "      <th>books_featured_in</th>\n",
       "      <th>nb_books_featured_in</th>\n",
       "    </tr>\n",
       "  </thead>\n",
       "  <tbody>\n",
       "    <tr>\n",
       "      <th>653</th>\n",
       "      <td>700</td>\n",
       "      <td>Serpent of Slytherin</td>\n",
       "      <td>c. 993</td>\n",
       "      <td>29 May, 1993 (aged around 1000)</td>\n",
       "      <td>Basilisk</td>\n",
       "      <td>None</td>\n",
       "      <td>female</td>\n",
       "      <td>None</td>\n",
       "      <td>Yellow</td>\n",
       "      <td>None</td>\n",
       "      <td>None</td>\n",
       "      <td>Salazar Slytherin</td>\n",
       "      <td>[]</td>\n",
       "      <td>[2, 3, 4, 5, 6, 7]</td>\n",
       "      <td>6</td>\n",
       "    </tr>\n",
       "  </tbody>\n",
       "</table>\n",
       "</div>"
      ],
      "text/plain": [
       "      id                  name   birth                            death  \\\n",
       "653  700  Serpent of Slytherin  c. 993  29 May, 1993 (aged around 1000)   \n",
       "\n",
       "      species ancestry  gender hair_color eye_color  wand patronus  \\\n",
       "653  Basilisk     None  female       None    Yellow  None     None   \n",
       "\n",
       "                 house associated_groups   books_featured_in  \\\n",
       "653  Salazar Slytherin                []  [2, 3, 4, 5, 6, 7]   \n",
       "\n",
       "     nb_books_featured_in  \n",
       "653                     6  "
      ]
     },
     "execution_count": 88,
     "metadata": {},
     "output_type": "execute_result"
    }
   ],
   "source": [
    "df_hp_chars[df_hp_chars['house']=='Salazar Slytherin'].head(10)"
   ]
  },
  {
   "cell_type": "markdown",
   "id": "cf3a355f-70a0-4b94-bace-7ad191eccf25",
   "metadata": {},
   "source": [
    "The same thing will happen to people belonging to the House of Gaunt whose member were not able to attend courses at Hogwarts. "
   ]
  },
  {
   "cell_type": "markdown",
   "id": "0921c12b-5dec-4f8f-964c-d636b6a1d77e",
   "metadata": {},
   "source": [
    "Phineas Nigellus Black is a wizard belonging to the Slytherin house and become later headmaster of Hogwarts, we will also correct this issue. All humans from the Black family are known to belong to the Slytherin house (except Sirius =D), we will therefore also move them into the corresponding house. Similarly, all the members of the Malfoy family are known to belong the Slytherin house. The other cases not discussed are negligible and the house will be removed"
   ]
  },
  {
   "cell_type": "code",
   "execution_count": 89,
   "id": "ca5f092d-9e35-4e51-aa9d-50ec84210f24",
   "metadata": {},
   "outputs": [],
   "source": [
    "def custom_association(name, house,cur_x):\n",
    "    if house == \"House of Gaunt\":\n",
    "        return cur_x + [\"House of Gaunt\"]\n",
    "    elif house == \"House of Gaunt (abandoned)\":\n",
    "        return cur_x + [\"House of Gaunt\",\"Riddle family\"]\n",
    "    elif name == \"Tom Riddle (Voldemort)\":\n",
    "        return cur_x + [\"Lord Voldemort\",\"House of Gaunt\", \"Riddle family\", \"Hogwarts School of Witchcraft and Wizardry\"]\n",
    "    elif name == \"Narcissa Malfoy\":\n",
    "        return cur_x + [\"House of Black\",'Malfoy family', \"Hogwarts School of Witchcraft and Wizardry\"]\n",
    "    elif name == \"Bellatrix Lestrange\":\n",
    "        return cur_x + [\"House of Black\",'Malfoy family', \"Hogwarts School of Witchcraft and Wizardry\"]\n",
    "    elif house == \"House of Black\":\n",
    "        return  cur_x+[\"House of Black\"]\n",
    "    elif house == 'House of Black (formerly)':\n",
    "        return  cur_x+[\"House of Black\"]\n",
    "    elif house == 'Malfoy family':\n",
    "        return  cur_x+['Malfoy family']\n",
    "    elif house == \"Riddle family (formerly)\":\n",
    "        return  cur_x+[\"Riddle family\"]\n",
    "    elif house == \"Hogwarts School of Witchcraft and Wizardry\":\n",
    "        return  cur_x+[\"House of Black\"]\n",
    "    else:\n",
    "        return cur_x\n",
    "\n",
    "def format_house(house):\n",
    "    if house is None:\n",
    "        return None\n",
    "    if house == \"Lord Voldemort\" or house=='Hogwarts School of Witchcraft and Wizardry': \n",
    "        return \"Slytherin\"\n",
    "    elif \"Hufflepuff\" in house:\n",
    "        return \"Hufflepuff\"\n",
    "    elif \"Gryffindor\" in house:\n",
    "        return \"Gryffindor\"\n",
    "    elif \"Slytherin\" in house or \"House of Black\" in house:\n",
    "        return \"Slytherin\"\n",
    "    elif \"Ravenclaw\" in house:\n",
    "        return \"Ravenclaw\"\n",
    "    else: \n",
    "        return None\n",
    "    \n",
    "def add_house_as_association_if_not_already(house, assoc):\n",
    "    if house is None:\n",
    "        return assoc\n",
    "    else: \n",
    "        if 'Hogwarts School of Witchcraft and Wizardry' in assoc:\n",
    "            return assoc if house in assoc else assoc +[house]\n",
    "        else:\n",
    "            return assoc if house in assoc else assoc +[house,'Hogwarts School of Witchcraft and Wizardry']\n",
    "        "
   ]
  },
  {
   "cell_type": "code",
   "execution_count": 90,
   "id": "f873299c-ee2e-47ab-b541-e0735b546919",
   "metadata": {},
   "outputs": [],
   "source": [
    "df_hp_chars['associated_groups'] = df_hp_chars.apply(lambda x: custom_association(x['name'], x['house'], x['associated_groups']),axis=1)"
   ]
  },
  {
   "cell_type": "code",
   "execution_count": 91,
   "id": "a8331635-7880-4875-bb84-76c0988b8cf5",
   "metadata": {},
   "outputs": [],
   "source": [
    "df_hp_chars['house'] = df_hp_chars['house'].apply(format_house)\n",
    "df_hp_chars['associated_groups'] = df_hp_chars.apply(lambda x: add_house_as_association_if_not_already(x['house'], x['associated_groups']),axis=1)"
   ]
  },
  {
   "cell_type": "code",
   "execution_count": 92,
   "id": "35f2dc7f-89e6-491c-bcd3-a2df6a05b78f",
   "metadata": {},
   "outputs": [
    {
     "data": {
      "image/png": "[encoded data removed]",
      "text/plain": [
       "<Figure size 432x288 with 1 Axes>"
      ]
     },
     "metadata": {},
     "output_type": "display_data"
    }
   ],
   "source": [
    "plot_pie(df_hp_chars, \"house\")"
   ]
  },
  {
   "cell_type": "markdown",
   "id": "8fe7d08c-801d-488a-9ba1-cc4ff4709d51",
   "metadata": {},
   "source": [
    "As exepected, we can see that the majority of the characters belong to the rival houses Gryffindor and Slytherin. Nevertheless, we would have expected less characters in the two other houses. This is good as our visualisation will be more balance between the houses. "
   ]
  },
  {
   "cell_type": "markdown",
   "id": "95235fda-9f1b-4e1b-b604-e75ae7d0c2c2",
   "metadata": {},
   "source": [
    "##### Wands"
   ]
  },
  {
   "cell_type": "code",
   "execution_count": 93,
   "id": "3ff830be-3cde-4c08-aee9-3fe33607098c",
   "metadata": {},
   "outputs": [],
   "source": [
    "df_wands = pd.read_json(data_folder+hpcollection_folder+\"wand.json\") "
   ]
  },
  {
   "cell_type": "code",
   "execution_count": 94,
   "id": "51b38177-fd8c-4dfb-9434-013d019614d3",
   "metadata": {},
   "outputs": [
    {
     "data": {
      "text/plain": [
       "(27, 5)"
      ]
     },
     "execution_count": 94,
     "metadata": {},
     "output_type": "execute_result"
    }
   ],
   "source": [
    "df_wands.shape"
   ]
  },
  {
   "cell_type": "markdown",
   "id": "bb35eb2b-68de-465d-9db5-f1e6055756ab",
   "metadata": {},
   "source": [
    "We can see that despite the high number of characters shown in the book series, we only know the wand composition of 27 of them. For our interactive visualisation with wand, this can be a bit limiting but the known wands are probably the ones of the most known characters, this will do the job. "
   ]
  },
  {
   "cell_type": "code",
   "execution_count": 95,
   "id": "862187ba-ee2e-4e92-b7bf-e44f463583ac",
   "metadata": {},
   "outputs": [
    {
     "data": {
      "text/html": [
       "<div>\n",
       "<style scoped>\n",
       "    .dataframe tbody tr th:only-of-type {\n",
       "        vertical-align: middle;\n",
       "    }\n",
       "\n",
       "    .dataframe tbody tr th {\n",
       "        vertical-align: top;\n",
       "    }\n",
       "\n",
       "    .dataframe thead th {\n",
       "        text-align: right;\n",
       "    }\n",
       "</style>\n",
       "<table border=\"1\" class=\"dataframe\">\n",
       "  <thead>\n",
       "    <tr style=\"text-align: right;\">\n",
       "      <th></th>\n",
       "      <th>id</th>\n",
       "      <th>name</th>\n",
       "      <th>birth</th>\n",
       "      <th>death</th>\n",
       "      <th>species</th>\n",
       "      <th>ancestry</th>\n",
       "      <th>gender</th>\n",
       "      <th>hair_color</th>\n",
       "      <th>eye_color</th>\n",
       "      <th>patronus</th>\n",
       "      <th>house</th>\n",
       "      <th>associated_groups</th>\n",
       "      <th>books_featured_in</th>\n",
       "      <th>nb_books_featured_in</th>\n",
       "      <th>wood</th>\n",
       "      <th>length</th>\n",
       "      <th>core</th>\n",
       "      <th>Note</th>\n",
       "    </tr>\n",
       "  </thead>\n",
       "  <tbody>\n",
       "    <tr>\n",
       "      <th>0</th>\n",
       "      <td>1</td>\n",
       "      <td>Euan Abercrombie</td>\n",
       "      <td>between 1 September 1983 and 31 August 1984</td>\n",
       "      <td>None</td>\n",
       "      <td>Human</td>\n",
       "      <td>None</td>\n",
       "      <td>male</td>\n",
       "      <td>None</td>\n",
       "      <td>None</td>\n",
       "      <td>None</td>\n",
       "      <td>Gryffindor</td>\n",
       "      <td>[Hogwarts School of Witchcraft and Wizardry, G...</td>\n",
       "      <td>[5]</td>\n",
       "      <td>1</td>\n",
       "      <td>NaN</td>\n",
       "      <td>NaN</td>\n",
       "      <td>NaN</td>\n",
       "      <td>NaN</td>\n",
       "    </tr>\n",
       "    <tr>\n",
       "      <th>1</th>\n",
       "      <td>2</td>\n",
       "      <td>Stewart Ackerley</td>\n",
       "      <td>between 1 September 1982and 31 August 1983</td>\n",
       "      <td>None</td>\n",
       "      <td>Human</td>\n",
       "      <td>None</td>\n",
       "      <td>male</td>\n",
       "      <td>None</td>\n",
       "      <td>None</td>\n",
       "      <td>None</td>\n",
       "      <td>Ravenclaw</td>\n",
       "      <td>[Ravenclaw, Hogwarts School of Witchcraft and ...</td>\n",
       "      <td>[4]</td>\n",
       "      <td>1</td>\n",
       "      <td>NaN</td>\n",
       "      <td>NaN</td>\n",
       "      <td>NaN</td>\n",
       "      <td>NaN</td>\n",
       "    </tr>\n",
       "  </tbody>\n",
       "</table>\n",
       "</div>"
      ],
      "text/plain": [
       "   id              name                                        birth death  \\\n",
       "0   1  Euan Abercrombie  between 1 September 1983 and 31 August 1984  None   \n",
       "1   2  Stewart Ackerley   between 1 September 1982and 31 August 1983  None   \n",
       "\n",
       "  species ancestry gender hair_color eye_color patronus       house  \\\n",
       "0   Human     None   male       None      None     None  Gryffindor   \n",
       "1   Human     None   male       None      None     None   Ravenclaw   \n",
       "\n",
       "                                   associated_groups books_featured_in  \\\n",
       "0  [Hogwarts School of Witchcraft and Wizardry, G...               [5]   \n",
       "1  [Ravenclaw, Hogwarts School of Witchcraft and ...               [4]   \n",
       "\n",
       "   nb_books_featured_in wood  length core Note  \n",
       "0                     1  NaN     NaN  NaN  NaN  \n",
       "1                     1  NaN     NaN  NaN  NaN  "
      ]
     },
     "execution_count": 95,
     "metadata": {},
     "output_type": "execute_result"
    }
   ],
   "source": [
    "df_hp_chars = df_hp_chars.merge(df_wands, how='left',left_on='name', right_on='name').drop('wand', axis=1)\n",
    "df_hp_chars.head(2)"
   ]
  },
  {
   "cell_type": "code",
   "execution_count": 96,
   "id": "2b7e93c2-db8b-428b-bd86-4b61918ae014",
   "metadata": {},
   "outputs": [
    {
     "data": {
      "image/png": "[encoded data removed]",
      "text/plain": [
       "<Figure size 432x288 with 1 Axes>"
      ]
     },
     "metadata": {},
     "output_type": "display_data"
    }
   ],
   "source": [
    "plot_pie(df_hp_chars, \"core\")"
   ]
  },
  {
   "cell_type": "markdown",
   "id": "fe9b45cb-1f81-45f0-ab1b-5be04fd47d55",
   "metadata": {},
   "source": [
    "We can see that the Unicorn hair and Dragon Hearstring are the \"most popular\" within the character with a known wand core. We will also quickly inspect the different wood used in the character wands. "
   ]
  },
  {
   "cell_type": "code",
   "execution_count": 97,
   "id": "f5a2ea2c-401f-413b-bb62-dbf1523ebccf",
   "metadata": {},
   "outputs": [
    {
     "data": {
      "text/plain": [
       "Walnut      2\n",
       "Cherry      2\n",
       "Ash         1\n",
       "Yew         1\n",
       "Larch       1\n",
       "Birch       1\n",
       "Hazel       1\n",
       "Fir         1\n",
       "Vine        1\n",
       "Rosewood    1\n",
       "Willow      1\n",
       "Cedar       1\n",
       "Alder       1\n",
       "Mahogany    1\n",
       "Holly       1\n",
       "Chestnut    1\n",
       "Hornbeam    1\n",
       "Elm         1\n",
       "Hawthorn    1\n",
       "Cypress     1\n",
       "Elder       1\n",
       "Name: wood, dtype: int64"
      ]
     },
     "execution_count": 97,
     "metadata": {},
     "output_type": "execute_result"
    }
   ],
   "source": [
    "df_hp_chars['wood'].value_counts()"
   ]
  },
  {
   "cell_type": "markdown",
   "id": "79999ba4-b58c-4208-9fbf-c7f9ec3841b2",
   "metadata": {},
   "source": [
    "From the above count, we can see that the known wand mostly have different woods, this is a great news for our interactive visualisation as this means that choosing a wood will constraint the set of similar characters. "
   ]
  },
  {
   "cell_type": "markdown",
   "id": "7f7fd776-3a6f-4ff7-ba94-839b8e90d305",
   "metadata": {},
   "source": [
    "##### Physical traits"
   ]
  },
  {
   "cell_type": "markdown",
   "id": "4e11a223-1ecb-40cb-b01f-260acd4e50bc",
   "metadata": {},
   "source": [
    "Another interesting feature of this dataset is the physical characteristics such as the eye and hair color that might be available for some characters. Let us first see for how many information we have on the characters. "
   ]
  },
  {
   "cell_type": "code",
   "execution_count": 98,
   "id": "eb6d7f09-f310-485c-a1b2-37bf3710633a",
   "metadata": {},
   "outputs": [
    {
     "data": {
      "text/plain": [
       "eye_color     144\n",
       "hair_color    282\n",
       "dtype: int64"
      ]
     },
     "execution_count": 98,
     "metadata": {},
     "output_type": "execute_result"
    }
   ],
   "source": [
    "df_hp_chars.loc[:,['eye_color', \"hair_color\"]].count()"
   ]
  },
  {
   "cell_type": "markdown",
   "id": "09343554-3059-48b1-bc12-37961189fa17",
   "metadata": {},
   "source": [
    "##### Blood types"
   ]
  },
  {
   "cell_type": "markdown",
   "id": "0e96ea8f-0843-4aaa-a1d5-179f5e3156bc",
   "metadata": {},
   "source": [
    "In Harry Potter, the blood type is something importnat for the antagonist of the Boy-Who-Lived. Even though, most of the characters don't care about the blood ascendent of others, it might be interseting to see the distribution of blood types over the character. Furthermore, since one of our visualisations will be based on the blood types, it is important to check these data. "
   ]
  },
  {
   "cell_type": "code",
   "execution_count": 99,
   "id": "4fe10a30-9e4b-45df-a1cb-c4b387ed2d66",
   "metadata": {},
   "outputs": [],
   "source": [
    "def format_blood_type(blood):\n",
    "    if blood is None or \"Magical to some extent\" == blood or blood == \"Magical to unknown extent\" or \"Underbeing\"==blood: \n",
    "        return None\n",
    "    if \"pure-blood or half-blood\" in blood.lower() or \"half-blood or pure-blood\" in blood.lower() or \"Pure blood or Half-blood\" == blood:\n",
    "        return \"Pure-blood or Half-blood\"\n",
    "    elif \"Muggle-born or half-blood\" == blood:\n",
    "        return \"Muggle-born or Half-blood\"\n",
    "    elif \"muggle-born\" in blood.lower():\n",
    "        return \"Muggle-born\"\n",
    "    elif \"squib\" in blood.lower():\n",
    "        return \"Squib\"\n",
    "    elif \"Part-Human (Half-giant)\" == blood: \n",
    "        return \"Part-Human (Half-giant)\"\n",
    "    elif \"pure-blood\" in blood.lower(): \n",
    "        return \"Pure-blood\"\n",
    "    elif \"half-blood\" in blood.lower():\n",
    "        return \"Half-blood\"\n",
    "    elif \"Muggle\" == blood or \"Muggles\" == blood:\n",
    "        return \"Muggle\"\n",
    "    else:\n",
    "        return blood\n",
    "    "
   ]
  },
  {
   "cell_type": "code",
   "execution_count": 100,
   "id": "26ef46e2-e7b5-4866-a707-564135086ffd",
   "metadata": {},
   "outputs": [],
   "source": [
    "df_hp_chars['ancestry'] = df_hp_chars['ancestry'].apply(format_blood_type)"
   ]
  },
  {
   "cell_type": "code",
   "execution_count": 101,
   "id": "20b54313-8a99-4e28-88af-5c39b9106192",
   "metadata": {},
   "outputs": [
    {
     "data": {
      "text/plain": [
       "Pure-blood or Half-blood     100\n",
       "Muggle                        74\n",
       "Pure-blood                    73\n",
       "Half-blood                    32\n",
       "Muggle-born                   15\n",
       "Squib                          8\n",
       "Muggle-born or Half-blood      2\n",
       "Part-Human (Half-giant)        2\n",
       "Quarter-Veela                  2\n",
       "Part-Goblin                    1\n",
       "Giant                          1\n",
       "Half-Veela                     1\n",
       "One-eighth Veela               1\n",
       "Name: ancestry, dtype: int64"
      ]
     },
     "execution_count": 101,
     "metadata": {},
     "output_type": "execute_result"
    }
   ],
   "source": [
    "df_hp_chars['ancestry'].value_counts()"
   ]
  },
  {
   "cell_type": "markdown",
   "id": "64512410-453d-4969-becc-4044d97b714c",
   "metadata": {},
   "source": [
    "So we can see that most of the characters are humans and most of them belong to the Wizarding world. Interestingly, we can see that muggle characters are well-represented throughout this dataset with 74 people. Note that people mark as 1/8, 1/4 and 1/2 Veela correspond to humans, in fact they precisely belong to the french family Delacourt. We can see that we have a very really rich and diverse dataset in terms of blood types. The visualisation we planned to made mapping the most popular characters in the book series to their blood type will therefore make a lot of sense.  "
   ]
  },
  {
   "cell_type": "markdown",
   "id": "18b2aee4-f155-47c8-aca4-a2cc38e84160",
   "metadata": {},
   "source": [
    "##### Species"
   ]
  },
  {
   "cell_type": "markdown",
   "id": "df014f8f-7168-4fc7-9dd4-a78e33525373",
   "metadata": {},
   "source": [
    "One last thing before exploring the connection within characters is to check whether they are human or not. If not, how many of them represent other types of creatures... "
   ]
  },
  {
   "cell_type": "code",
   "execution_count": 102,
   "id": "238657ba-8ed7-406d-9e2f-da59a83a0358",
   "metadata": {},
   "outputs": [
    {
     "data": {
      "text/plain": [
       "Human                                      589\n",
       "Human (formerly)                            11\n",
       "Goblin                                       7\n",
       "House-elf                                    7\n",
       "Giant                                        6\n",
       "Human (Seer)                                 4\n",
       "Centaur                                      4\n",
       "Humans                                       4\n",
       "Human (Veela ancestry)                       2\n",
       "Vampire                                      2\n",
       "Human (Metamorphmagus)                       2\n",
       "Werewolf (formerly Human)                    2\n",
       "Acromantula                                  2\n",
       "Ghoul                                        1\n",
       "Werewolf                                     1\n",
       "Veela or part-Veela                          1\n",
       "Half-Human                                   1\n",
       "Veela                                        1\n",
       "Toad                                         1\n",
       "1/4 Veela                                    1\n",
       "Thestral                                     1\n",
       "Human (Werewolf traits)                      1\n",
       "Snowy Owl                                    1\n",
       "Portrait; formerly Human                     1\n",
       "Humans (formerly)                            1\n",
       "Half-human/Half-giant                        1\n",
       "Human or Giantess                            1\n",
       "Selkie (Merpeople)                           1\n",
       "Human (Maledictus affliction; formerly)      1\n",
       "Norwegian Ridgeback                          1\n",
       "Cat                                          1\n",
       "Mermaid                                      1\n",
       "Basilisk                                     1\n",
       "Deity                                        1\n",
       "Owl                                          1\n",
       "Part-Kneazle                                 1\n",
       "Dog (breed: bulldog)                         1\n",
       "Scops owl                                    1\n",
       "Pygmy Puff                                   1\n",
       "Rabbit                                       1\n",
       "Hippogriff                                   1\n",
       "Half-Kneazle                                 1\n",
       "Ghost                                        1\n",
       "Great grey owl                               1\n",
       "Boarhound                                    1\n",
       "Phoenix                                      1\n",
       "Human (Goblin ancestry)                      1\n",
       "Three-headed dog                             1\n",
       "Part-troll human (possibly)                  1\n",
       "Gorilla                                      1\n",
       "Half-Human/Half-Giant                        1\n",
       "Shrunken Head                                1\n",
       "Screech owl                                  1\n",
       "Mice                                         1\n",
       "House-elves                                  1\n",
       "Human or Giant                               1\n",
       "Peacock                                      1\n",
       "Part-Kneazle cat                             1\n",
       "Poltergeist                                  1\n",
       "Portrait                                     1\n",
       "Name: species, dtype: int64"
      ]
     },
     "execution_count": 102,
     "metadata": {},
     "output_type": "execute_result"
    }
   ],
   "source": [
    "df_hp_chars['species'].value_counts()"
   ]
  },
  {
   "cell_type": "markdown",
   "id": "75738012-92e4-4d4a-b220-4acd6838136e",
   "metadata": {},
   "source": [
    "We can see that there are a lot of different species. We will try to group them in less subgroups so that our subsequent analyses will be easier. Our choices included: \n",
    "- Transform Human (formerly) as Ghost as they all correspond to humans. We also choose to group all the human into the Human group and not having subcategory anymore. \n",
    "- Put all types of owl in one group, similar for the dog, half-human/half-giant snake and werevolves.\n",
    "- For the iconic character, we keep their species\n",
    "- For characters with a super specific specy such as Part-Kneazle cat or Peacock which doesn't correspond to a well known characters, we choose to remove their species in order to keep all the things simple. "
   ]
  },
  {
   "cell_type": "code",
   "execution_count": 103,
   "id": "87e3e09a-7049-4a44-8d19-6bb3d7df4b5e",
   "metadata": {},
   "outputs": [],
   "source": [
    "def format_species(species):\n",
    "    if species is not None:\n",
    "        if species in [\"Screech owl\",\"Great grey owl\",\"Scops owl\",\"Owl\",\"Snowy Owl\"]:\n",
    "            return \"Owl\"\n",
    "        elif species in [\"Half-Human/Half-Giant\",\"Half-human/Half-giant\"]:\n",
    "            return \"Half-Human/Half-Giant\"\n",
    "        elif species in [\"Three-headed dog\",\"Boarhound\",\"Dog (breed: bulldog)\"]:\n",
    "            return \"Dog\"\n",
    "        elif species in[\"Human (Goblin ancestry)\",\"1/4 Veela\", \"Human (Metamorphmagus)\",\"Human (Veela ancestry)\",\"Humans\",\"Human (Seer)\",\"Human\"]:\n",
    "            return \"Human\"\n",
    "        elif species in [\"Phoenix\", \"Ghost\",\"Poltergeist\",\"Hippogriff\",\"Basilisk\",\"Cat\",\"Norwegian Ridgeback\",\"Thestral\",\"Acromantula\",\"Centaur\",\"Giant\",\"House-elf\",\"Goblin\"] :\n",
    "            return species\n",
    "        elif species == \"Human (formerly)\":\n",
    "            return \"Ghost\"\n",
    "        elif species in [\"Portrait; formerly Human\", \"Portrait\"]:\n",
    "            return \"Portrait\"\n",
    "        elif species == \"Human (Maledictus affliction; formerly)\":\n",
    "            return \"Snake\"\n",
    "        elif species ==\"Werewolf (formerly Human)\":\n",
    "            return \"Human-werevolf\"\n",
    "    return None\n",
    "    "
   ]
  },
  {
   "cell_type": "code",
   "execution_count": 104,
   "id": "c2492ded-8332-4be2-8af1-dd0a04f0b29e",
   "metadata": {},
   "outputs": [],
   "source": [
    "df_hp_chars['species'] = df_hp_chars['species'].apply(format_species)"
   ]
  },
  {
   "cell_type": "code",
   "execution_count": 105,
   "id": "1c2a72f7-6bd1-4cf6-a2d0-4d1ebeedf942",
   "metadata": {},
   "outputs": [
    {
     "data": {
      "text/plain": [
       "Human                    603\n",
       "Ghost                     12\n",
       "Goblin                     7\n",
       "House-elf                  7\n",
       "Giant                      6\n",
       "Owl                        5\n",
       "Centaur                    4\n",
       "Dog                        3\n",
       "Acromantula                2\n",
       "Human-werevolf             2\n",
       "Half-Human/Half-Giant      2\n",
       "Portrait                   2\n",
       "Hippogriff                 1\n",
       "Phoenix                    1\n",
       "Poltergeist                1\n",
       "Thestral                   1\n",
       "Snake                      1\n",
       "Norwegian Ridgeback        1\n",
       "Cat                        1\n",
       "Basilisk                   1\n",
       "Name: species, dtype: int64"
      ]
     },
     "execution_count": 105,
     "metadata": {},
     "output_type": "execute_result"
    }
   ],
   "source": [
    "df_hp_chars['species'].value_counts()"
   ]
  },
  {
   "cell_type": "markdown",
   "id": "59a7e7cd-3230-43e8-9ee6-2c081ab041e5",
   "metadata": {},
   "source": [
    "With all the processing, we end-up with a shorter list of species and one that makes sense."
   ]
  },
  {
   "cell_type": "markdown",
   "id": "b5c955ba-1a42-4586-b8bc-2998d0bc5141",
   "metadata": {
    "tags": []
   },
   "source": [
    "#### Association between characters"
   ]
  },
  {
   "cell_type": "markdown",
   "id": "27d87b00-387c-4379-8ed4-6002e6277361",
   "metadata": {},
   "source": [
    "We will now come to the biggest part of this data exploration. The Harry Potter Collection provides information from the fandom wikia page of the characters.In this dataset, we will consider that two characters have a relation if both of them are at least one group in common (in the section \"associated groups\" on the fandom wikia page). While these groups are important to detect communities in our network, we wanted to go one step further and to see the interaction between characters.\n",
    "\n",
    "However, we wanted to go one step further and see the interaction between characters. We find a [Harry Potter characters network](https://github.com/dpmartin42/Networks/tree/master/Harry%20Potter) which has already done that for us. In this dataset, they chose to scrap the wiki page of each character and if the name of another character appears (as a hyperlink), they said that the characters interact. So in this second version of the visualisation, we will have a graph at the character level and not at the \"association\" level. \n",
    "\n",
    "We pre-process the network dataset by hand so that the we get the same name between the network and the other datasets. "
   ]
  },
  {
   "cell_type": "code",
   "execution_count": 106,
   "id": "77dbe533-75b8-4536-88bb-c34142b91133",
   "metadata": {},
   "outputs": [],
   "source": [
    "df_networks = pd.read_json(data_folder+hp_network_folder+\"network.json\").drop(columns=[\"color\",\"x\",\"size\",\"y\",\"connection_link\",\"originalColor\"],axis=1)"
   ]
  },
  {
   "cell_type": "markdown",
   "id": "19e02ea0-2c5e-41e7-831c-90b214e29c43",
   "metadata": {},
   "source": [
    "The columns we are dropping are method related to the network they build. Since we will probably have to rebuild one on our own to match the need of D3, we choose to drop them. "
   ]
  },
  {
   "cell_type": "code",
   "execution_count": 107,
   "id": "c1fa3bdd-22dc-4e4d-a13e-a5dafaaa15be",
   "metadata": {},
   "outputs": [
    {
     "data": {
      "text/html": [
       "<div>\n",
       "<style scoped>\n",
       "    .dataframe tbody tr th:only-of-type {\n",
       "        vertical-align: middle;\n",
       "    }\n",
       "\n",
       "    .dataframe tbody tr th {\n",
       "        vertical-align: top;\n",
       "    }\n",
       "\n",
       "    .dataframe thead th {\n",
       "        text-align: right;\n",
       "    }\n",
       "</style>\n",
       "<table border=\"1\" class=\"dataframe\">\n",
       "  <thead>\n",
       "    <tr style=\"text-align: right;\">\n",
       "      <th></th>\n",
       "      <th>id</th>\n",
       "      <th>label</th>\n",
       "      <th>link</th>\n",
       "      <th>link_image</th>\n",
       "      <th>connection_label</th>\n",
       "    </tr>\n",
       "  </thead>\n",
       "  <tbody>\n",
       "    <tr>\n",
       "      <th>0</th>\n",
       "      <td>0</td>\n",
       "      <td>Hannah Abbott</td>\n",
       "      <td>Hannah_Abbott</td>\n",
       "      <td>http://img3.wikia.nocookie.net/__cb20091229012...</td>\n",
       "      <td>[Albus Dumbledore, Alecto Carrow, Alicia Spinn...</td>\n",
       "    </tr>\n",
       "    <tr>\n",
       "      <th>1</th>\n",
       "      <td>1</td>\n",
       "      <td>Ludovic Bagman</td>\n",
       "      <td>Ludo_Bagman</td>\n",
       "      <td>http://img1.wikia.nocookie.net/__cb20111028215...</td>\n",
       "      <td>[Alastor Moody, Augustus Rookwood, Bartemius C...</td>\n",
       "    </tr>\n",
       "  </tbody>\n",
       "</table>\n",
       "</div>"
      ],
      "text/plain": [
       "   id           label           link  \\\n",
       "0   0   Hannah Abbott  Hannah_Abbott   \n",
       "1   1  Ludovic Bagman    Ludo_Bagman   \n",
       "\n",
       "                                          link_image  \\\n",
       "0  http://img3.wikia.nocookie.net/__cb20091229012...   \n",
       "1  http://img1.wikia.nocookie.net/__cb20111028215...   \n",
       "\n",
       "                                    connection_label  \n",
       "0  [Albus Dumbledore, Alecto Carrow, Alicia Spinn...  \n",
       "1  [Alastor Moody, Augustus Rookwood, Bartemius C...  "
      ]
     },
     "execution_count": 107,
     "metadata": {},
     "output_type": "execute_result"
    }
   ],
   "source": [
    "df_networks.head(2)"
   ]
  },
  {
   "cell_type": "code",
   "execution_count": 108,
   "id": "df5c34b2-68ca-4a93-b567-f559bcea7261",
   "metadata": {},
   "outputs": [
    {
     "data": {
      "text/plain": [
       "(176, (176, 5))"
      ]
     },
     "execution_count": 108,
     "metadata": {},
     "output_type": "execute_result"
    }
   ],
   "source": [
    "df_networks['link_image'].count(), df_networks.shape"
   ]
  },
  {
   "cell_type": "markdown",
   "id": "f62ec265-a609-46c4-9792-73fd2fb2c64b",
   "metadata": {},
   "source": [
    "As we can see, another important thing is the fact that we get a link image for the face of all the characters. This will be an important component to build some of our visualisation starring the different characters."
   ]
  },
  {
   "cell_type": "code",
   "execution_count": 109,
   "id": "519c1057-9249-4c6b-a134-97392b18bdcd",
   "metadata": {},
   "outputs": [],
   "source": [
    "df_net = df_hp_chars.merge(df_networks, left_on=\"name\", right_on=\"label\",how=\"inner\")"
   ]
  },
  {
   "cell_type": "code",
   "execution_count": 110,
   "id": "a0442ce7-602a-4f35-81c9-1308c9e32ca1",
   "metadata": {},
   "outputs": [
    {
     "data": {
      "text/plain": [
       "set()"
      ]
     },
     "execution_count": 110,
     "metadata": {},
     "output_type": "execute_result"
    }
   ],
   "source": [
    "set(df_networks.id.values)-set(df_net.id_y.values)"
   ]
  },
  {
   "cell_type": "markdown",
   "id": "573bbb35-5f2d-4c06-990d-9728b846db8d",
   "metadata": {},
   "source": [
    "The two above cells are just there to show that we manage to pre-process by hand the dataset in order to match all the characters between the datasets and that we do not lose any data. We can therefore merge everything in our main dataframe. Note that the network dataset contains around 3 times less characters, i.e. it contains probably only the most popular one. However, since the final product will be a visualiation, we will keep the smaller number of characters (still 177) so that we have a manageable size for the number of characters to show in the visualisation"
   ]
  },
  {
   "cell_type": "code",
   "execution_count": 111,
   "id": "d0406e31-f616-4afc-b038-20cabee51723",
   "metadata": {},
   "outputs": [
    {
     "data": {
      "text/plain": [
       "(177, 23)"
      ]
     },
     "execution_count": 111,
     "metadata": {},
     "output_type": "execute_result"
    }
   ],
   "source": [
    "df_hp_chars = df_hp_chars.merge(df_networks, left_on=\"name\", right_on=\"label\",how=\"inner\")\n",
    "df_hp_chars.shape"
   ]
  },
  {
   "cell_type": "code",
   "execution_count": 112,
   "id": "a6eb3012-83e7-4d81-b663-de4b294dc2b3",
   "metadata": {},
   "outputs": [
    {
     "data": {
      "text/html": [
       "<div>\n",
       "<style scoped>\n",
       "    .dataframe tbody tr th:only-of-type {\n",
       "        vertical-align: middle;\n",
       "    }\n",
       "\n",
       "    .dataframe tbody tr th {\n",
       "        vertical-align: top;\n",
       "    }\n",
       "\n",
       "    .dataframe thead th {\n",
       "        text-align: right;\n",
       "    }\n",
       "</style>\n",
       "<table border=\"1\" class=\"dataframe\">\n",
       "  <thead>\n",
       "    <tr style=\"text-align: right;\">\n",
       "      <th></th>\n",
       "      <th>id_x</th>\n",
       "      <th>name</th>\n",
       "      <th>birth</th>\n",
       "      <th>death</th>\n",
       "      <th>species</th>\n",
       "      <th>ancestry</th>\n",
       "      <th>gender</th>\n",
       "      <th>hair_color</th>\n",
       "      <th>eye_color</th>\n",
       "      <th>patronus</th>\n",
       "      <th>...</th>\n",
       "      <th>nb_books_featured_in</th>\n",
       "      <th>wood</th>\n",
       "      <th>length</th>\n",
       "      <th>core</th>\n",
       "      <th>Note</th>\n",
       "      <th>id_y</th>\n",
       "      <th>label</th>\n",
       "      <th>link</th>\n",
       "      <th>link_image</th>\n",
       "      <th>connection_label</th>\n",
       "    </tr>\n",
       "  </thead>\n",
       "  <tbody>\n",
       "    <tr>\n",
       "      <th>0</th>\n",
       "      <td>11</td>\n",
       "      <td>Aragog</td>\n",
       "      <td>c. 1942</td>\n",
       "      <td>20 April, 1997 (aged around 55)</td>\n",
       "      <td>Acromantula</td>\n",
       "      <td>None</td>\n",
       "      <td>male</td>\n",
       "      <td>Brown</td>\n",
       "      <td>Black &amp; Grey/Milky-White (Blind)</td>\n",
       "      <td>None</td>\n",
       "      <td>...</td>\n",
       "      <td>4</td>\n",
       "      <td>NaN</td>\n",
       "      <td>NaN</td>\n",
       "      <td>NaN</td>\n",
       "      <td>NaN</td>\n",
       "      <td>150</td>\n",
       "      <td>Aragog</td>\n",
       "      <td>Aragog</td>\n",
       "      <td>http://img4.wikia.nocookie.net/__cb20100611145...</td>\n",
       "      <td>[Albus Dumbledore, Argus Filch, Cornelius Fudg...</td>\n",
       "    </tr>\n",
       "  </tbody>\n",
       "</table>\n",
       "<p>1 rows × 23 columns</p>\n",
       "</div>"
      ],
      "text/plain": [
       "   id_x    name    birth                            death      species  \\\n",
       "0    11  Aragog  c. 1942  20 April, 1997 (aged around 55)  Acromantula   \n",
       "\n",
       "  ancestry gender hair_color                         eye_color patronus  ...  \\\n",
       "0     None   male      Brown  Black & Grey/Milky-White (Blind)     None  ...   \n",
       "\n",
       "  nb_books_featured_in wood length  core Note  id_y   label    link  \\\n",
       "0                    4  NaN    NaN   NaN  NaN   150  Aragog  Aragog   \n",
       "\n",
       "                                          link_image  \\\n",
       "0  http://img4.wikia.nocookie.net/__cb20100611145...   \n",
       "\n",
       "                                    connection_label  \n",
       "0  [Albus Dumbledore, Argus Filch, Cornelius Fudg...  \n",
       "\n",
       "[1 rows x 23 columns]"
      ]
     },
     "execution_count": 112,
     "metadata": {},
     "output_type": "execute_result"
    }
   ],
   "source": [
    "df_hp_chars.head(1)"
   ]
  },
  {
   "cell_type": "markdown",
   "id": "7820ebcc-a85b-4448-b403-60770537e2ee",
   "metadata": {},
   "source": [
    "Now that we have merged everything together, we will start by seeing the empirical distribution of the number of association for each character. We start by computing the number of association and the number of iteration for each characters. "
   ]
  },
  {
   "cell_type": "code",
   "execution_count": 113,
   "id": "66b7bd8a-1f1e-418c-a5e1-4ffb772c973a",
   "metadata": {},
   "outputs": [],
   "source": [
    "import math\n",
    "df_hp_chars['nb_associations'] = df_hp_chars['associated_groups'].apply(lambda x: 0 if np.nan == x else len(x))\n",
    "df_hp_chars['nb_interactions'] = df_hp_chars['connection_label'].apply(lambda x:  0 if type(0.0)==type(x) and  math.isnan(x) else len(x))"
   ]
  },
  {
   "cell_type": "code",
   "execution_count": 114,
   "id": "4369aba5-340c-4ca0-953f-21bde7bb472d",
   "metadata": {},
   "outputs": [],
   "source": [
    "# save the characters dataframe for later use\n",
    "df_hp_chars.to_json(data_folder+ cleaned_folder+\"all_chars.json\", orient='index')"
   ]
  },
  {
   "cell_type": "code",
   "execution_count": 115,
   "id": "2b5a16a3-c038-4852-ad11-999c39c80405",
   "metadata": {},
   "outputs": [
    {
     "data": {
      "image/png": "[encoded data removed]",
      "text/plain": [
       "<Figure size 360x360 with 1 Axes>"
      ]
     },
     "metadata": {
      "needs_background": "light"
     },
     "output_type": "display_data"
    }
   ],
   "source": [
    "sns.displot(df_hp_chars['nb_interactions'], log=(True,True),bins=50)\n",
    "plt.title(\"Histogram of the number of interactions by character (log)\")\n",
    "plt.xlabel(\"Number of interactions (log)\")\n",
    "plt.show()"
   ]
  },
  {
   "cell_type": "markdown",
   "id": "0e28656e-0b69-4d90-b6a8-5ae2887072aa",
   "metadata": {},
   "source": [
    "The first remark we can make is that we cannot assert that the graph is undirected since a link from the page of a character to another one doesn't guarantee that the reverse link exists. The above histogram therefore corresponds o the out-degree distribution of the characters in the network. We can see that it seems to match one of network most famous distributions, a power law. Indeed, we can see that int almost form a line in a log-log plot which is a characteristic of the empriical distribution function. Furthermore, we can see that an interseting property of the distribution is that extreme-value are rare but not to rare since most of the characters are located before 100 and some of them after. "
   ]
  },
  {
   "cell_type": "code",
   "execution_count": 116,
   "id": "653ea317-a661-49f7-9e4b-2ce26a0fdb0b",
   "metadata": {},
   "outputs": [
    {
     "data": {
      "text/html": [
       "<div>\n",
       "<style scoped>\n",
       "    .dataframe tbody tr th:only-of-type {\n",
       "        vertical-align: middle;\n",
       "    }\n",
       "\n",
       "    .dataframe tbody tr th {\n",
       "        vertical-align: top;\n",
       "    }\n",
       "\n",
       "    .dataframe thead th {\n",
       "        text-align: right;\n",
       "    }\n",
       "</style>\n",
       "<table border=\"1\" class=\"dataframe\">\n",
       "  <thead>\n",
       "    <tr style=\"text-align: right;\">\n",
       "      <th></th>\n",
       "      <th>id_x</th>\n",
       "      <th>name</th>\n",
       "      <th>birth</th>\n",
       "      <th>death</th>\n",
       "      <th>species</th>\n",
       "      <th>ancestry</th>\n",
       "      <th>gender</th>\n",
       "      <th>hair_color</th>\n",
       "      <th>eye_color</th>\n",
       "      <th>patronus</th>\n",
       "      <th>...</th>\n",
       "      <th>length</th>\n",
       "      <th>core</th>\n",
       "      <th>Note</th>\n",
       "      <th>id_y</th>\n",
       "      <th>label</th>\n",
       "      <th>link</th>\n",
       "      <th>link_image</th>\n",
       "      <th>connection_label</th>\n",
       "      <th>nb_associations</th>\n",
       "      <th>nb_interactions</th>\n",
       "    </tr>\n",
       "  </thead>\n",
       "  <tbody>\n",
       "    <tr>\n",
       "      <th>84</th>\n",
       "      <td>326</td>\n",
       "      <td>Harry Potter</td>\n",
       "      <td>31 July, 1980</td>\n",
       "      <td>None</td>\n",
       "      <td>Human</td>\n",
       "      <td>Half-blood</td>\n",
       "      <td>male</td>\n",
       "      <td>Jet-black</td>\n",
       "      <td>Bottle green</td>\n",
       "      <td>Stag</td>\n",
       "      <td>...</td>\n",
       "      <td>11.00</td>\n",
       "      <td>Phoenix feather</td>\n",
       "      <td>Brother to Voldemort's wand — the core tail fe...</td>\n",
       "      <td>106</td>\n",
       "      <td>Harry Potter</td>\n",
       "      <td>Harry_Potter</td>\n",
       "      <td>http://img2.wikia.nocookie.net/__cb20140619173...</td>\n",
       "      <td>[Aberforth Dumbledore, Alastor Moody, Albus Du...</td>\n",
       "      <td>13</td>\n",
       "      <td>164</td>\n",
       "    </tr>\n",
       "    <tr>\n",
       "      <th>98</th>\n",
       "      <td>382</td>\n",
       "      <td>Severus Snape</td>\n",
       "      <td>9 January 1960</td>\n",
       "      <td>2 May 1998 (aged 38)</td>\n",
       "      <td>Human</td>\n",
       "      <td>Half-blood</td>\n",
       "      <td>male</td>\n",
       "      <td>Black</td>\n",
       "      <td>Black</td>\n",
       "      <td>Doe</td>\n",
       "      <td>...</td>\n",
       "      <td>NaN</td>\n",
       "      <td>NaN</td>\n",
       "      <td>NaN</td>\n",
       "      <td>126</td>\n",
       "      <td>Severus Snape</td>\n",
       "      <td>Severus_Snape</td>\n",
       "      <td>http://img2.wikia.nocookie.net/__cb20140619181...</td>\n",
       "      <td>[Aberforth Dumbledore, Alastor Moody, Albus Du...</td>\n",
       "      <td>10</td>\n",
       "      <td>94</td>\n",
       "    </tr>\n",
       "    <tr>\n",
       "      <th>108</th>\n",
       "      <td>476</td>\n",
       "      <td>Ronald Weasley</td>\n",
       "      <td>1 March, 1980</td>\n",
       "      <td>None</td>\n",
       "      <td>Human</td>\n",
       "      <td>Pure-blood</td>\n",
       "      <td>male</td>\n",
       "      <td>Red</td>\n",
       "      <td>Blue</td>\n",
       "      <td>Jack Russell terrier</td>\n",
       "      <td>...</td>\n",
       "      <td>14.00</td>\n",
       "      <td>Unicorn hair</td>\n",
       "      <td>Purchased with his father's winnings from a Da...</td>\n",
       "      <td>147</td>\n",
       "      <td>Ronald Weasley</td>\n",
       "      <td>Ron_Weasley</td>\n",
       "      <td>http://img2.wikia.nocookie.net/__cb20140425121...</td>\n",
       "      <td>[Aberforth Dumbledore, Alastor Moody, Albus Du...</td>\n",
       "      <td>14</td>\n",
       "      <td>99</td>\n",
       "    </tr>\n",
       "    <tr>\n",
       "      <th>134</th>\n",
       "      <td>587</td>\n",
       "      <td>Hermione Granger</td>\n",
       "      <td>19 September, 1979</td>\n",
       "      <td>None</td>\n",
       "      <td>Human</td>\n",
       "      <td>Muggle-born</td>\n",
       "      <td>female</td>\n",
       "      <td>Brown</td>\n",
       "      <td>Brown</td>\n",
       "      <td>Otter</td>\n",
       "      <td>...</td>\n",
       "      <td>10.75</td>\n",
       "      <td>Dragon heartstring</td>\n",
       "      <td>This wand was confiscated when the trio was ca...</td>\n",
       "      <td>59</td>\n",
       "      <td>Hermione Granger</td>\n",
       "      <td>Hermione_Granger</td>\n",
       "      <td>http://img2.wikia.nocookie.net/__cb20101104204...</td>\n",
       "      <td>[Aberforth Dumbledore, Alastor Moody, Albus Du...</td>\n",
       "      <td>12</td>\n",
       "      <td>125</td>\n",
       "    </tr>\n",
       "    <tr>\n",
       "      <th>176</th>\n",
       "      <td>756</td>\n",
       "      <td>Albus Dumbledore</td>\n",
       "      <td>Late August 1881</td>\n",
       "      <td>30 June, 1997 (aged 115)</td>\n",
       "      <td>Human</td>\n",
       "      <td>Half-blood</td>\n",
       "      <td>male</td>\n",
       "      <td>Silver, formerly auburn</td>\n",
       "      <td>Blue</td>\n",
       "      <td>Phoenix</td>\n",
       "      <td>...</td>\n",
       "      <td>15.00</td>\n",
       "      <td>Thestral tail hair</td>\n",
       "      <td>The Elder Wand, one of the Deathly Hallows. Al...</td>\n",
       "      <td>35</td>\n",
       "      <td>Albus Dumbledore</td>\n",
       "      <td>Albus_Dumbledore</td>\n",
       "      <td>http://img3.wikia.nocookie.net/__cb20140619180...</td>\n",
       "      <td>[Aberforth Dumbledore, Alastor Moody, Alecto C...</td>\n",
       "      <td>12</td>\n",
       "      <td>137</td>\n",
       "    </tr>\n",
       "  </tbody>\n",
       "</table>\n",
       "<p>5 rows × 25 columns</p>\n",
       "</div>"
      ],
      "text/plain": [
       "     id_x              name               birth                     death  \\\n",
       "84    326      Harry Potter       31 July, 1980                      None   \n",
       "98    382     Severus Snape      9 January 1960      2 May 1998 (aged 38)   \n",
       "108   476    Ronald Weasley       1 March, 1980                      None   \n",
       "134   587  Hermione Granger  19 September, 1979                      None   \n",
       "176   756  Albus Dumbledore    Late August 1881  30 June, 1997 (aged 115)   \n",
       "\n",
       "    species     ancestry  gender               hair_color     eye_color  \\\n",
       "84    Human   Half-blood    male                Jet-black  Bottle green   \n",
       "98    Human   Half-blood    male                    Black         Black   \n",
       "108   Human   Pure-blood    male                      Red          Blue   \n",
       "134   Human  Muggle-born  female                    Brown         Brown   \n",
       "176   Human   Half-blood    male  Silver, formerly auburn          Blue   \n",
       "\n",
       "                 patronus  ... length                core  \\\n",
       "84                   Stag  ...  11.00     Phoenix feather   \n",
       "98                    Doe  ...    NaN                 NaN   \n",
       "108  Jack Russell terrier  ...  14.00        Unicorn hair   \n",
       "134                 Otter  ...  10.75  Dragon heartstring   \n",
       "176               Phoenix  ...  15.00  Thestral tail hair   \n",
       "\n",
       "                                                  Note  id_y  \\\n",
       "84   Brother to Voldemort's wand — the core tail fe...   106   \n",
       "98                                                 NaN   126   \n",
       "108  Purchased with his father's winnings from a Da...   147   \n",
       "134  This wand was confiscated when the trio was ca...    59   \n",
       "176  The Elder Wand, one of the Deathly Hallows. Al...    35   \n",
       "\n",
       "                label              link  \\\n",
       "84       Harry Potter      Harry_Potter   \n",
       "98      Severus Snape     Severus_Snape   \n",
       "108    Ronald Weasley       Ron_Weasley   \n",
       "134  Hermione Granger  Hermione_Granger   \n",
       "176  Albus Dumbledore  Albus_Dumbledore   \n",
       "\n",
       "                                            link_image  \\\n",
       "84   http://img2.wikia.nocookie.net/__cb20140619173...   \n",
       "98   http://img2.wikia.nocookie.net/__cb20140619181...   \n",
       "108  http://img2.wikia.nocookie.net/__cb20140425121...   \n",
       "134  http://img2.wikia.nocookie.net/__cb20101104204...   \n",
       "176  http://img3.wikia.nocookie.net/__cb20140619180...   \n",
       "\n",
       "                                      connection_label  nb_associations  \\\n",
       "84   [Aberforth Dumbledore, Alastor Moody, Albus Du...               13   \n",
       "98   [Aberforth Dumbledore, Alastor Moody, Albus Du...               10   \n",
       "108  [Aberforth Dumbledore, Alastor Moody, Albus Du...               14   \n",
       "134  [Aberforth Dumbledore, Alastor Moody, Albus Du...               12   \n",
       "176  [Aberforth Dumbledore, Alastor Moody, Alecto C...               12   \n",
       "\n",
       "    nb_interactions  \n",
       "84              164  \n",
       "98               94  \n",
       "108              99  \n",
       "134             125  \n",
       "176             137  \n",
       "\n",
       "[5 rows x 25 columns]"
      ]
     },
     "execution_count": 116,
     "metadata": {},
     "output_type": "execute_result"
    }
   ],
   "source": [
    "df_hp_chars[df_hp_chars['nb_interactions']>90]"
   ]
  },
  {
   "cell_type": "markdown",
   "id": "725c2283-3957-4830-bb21-099876500924",
   "metadata": {},
   "source": [
    "As we would have expected, these extreme values correspond to extremely important characters in the whole saga, i.e. the main characters. We will have to do the visualisarion in clever way to avoid ending up with a giant networks with too many nodes. What we just looked at is the graph of interaction between characters, another thing we will explore is the grap of association. In this new graph, any two nodes have a link if they have at least one association in common. "
   ]
  },
  {
   "cell_type": "code",
   "execution_count": 117,
   "id": "f49a1a2f-23cf-426e-94c0-d5829cce8670",
   "metadata": {},
   "outputs": [
    {
     "data": {
      "image/png": "[encoded data removed]",
      "text/plain": [
       "<Figure size 360x360 with 1 Axes>"
      ]
     },
     "metadata": {
      "needs_background": "light"
     },
     "output_type": "display_data"
    }
   ],
   "source": [
    "sns.displot(df_hp_chars['nb_associations'], log=(True,True))\n",
    "plt.title(\"Histogram of the number of associations by character\")\n",
    "plt.xlabel(\"Number of associations\")\n",
    "plt.show()"
   ]
  },
  {
   "cell_type": "markdown",
   "id": "c32f8fe8-390f-4a24-bc91-0e8c8db3d45e",
   "metadata": {},
   "source": [
    "We can see that the maximal number of association for one character is much lower than the maximal number of interaction for one character. We will now see what are the different associations and how many they are. Since one of our visualation will be a graph exploring these associations, it will important to get insights about them"
   ]
  },
  {
   "cell_type": "code",
   "execution_count": 118,
   "id": "8d17354e-e2f6-41ac-ab26-fdd9ce03116b",
   "metadata": {},
   "outputs": [],
   "source": [
    "all_assoc = set()\n",
    "for index, value in df_hp_chars['associated_groups'].items():\n",
    "    all_assoc = all_assoc.union(set(value))"
   ]
  },
  {
   "cell_type": "code",
   "execution_count": 119,
   "id": "6e964a48-2913-45dc-9308-ef8051a0b737",
   "metadata": {},
   "outputs": [
    {
     "data": {
      "text/plain": [
       "({'',\n",
       "  'Abbott family',\n",
       "  'Acolytes',\n",
       "  'Advance Guard',\n",
       "  'Albus Dumbledore',\n",
       "  'Albus Potter',\n",
       "  'Algie (formerly)',\n",
       "  'Apothecarium of Horace E. F. Slughorn',\n",
       "  'Argus Filch (owner)',\n",
       "  'Auror Department',\n",
       "  'Auror Department (formerly)',\n",
       "  'Auror Office',\n",
       "  'Auror Office (formerly)',\n",
       "  'Bagman family',\n",
       "  'Bagshot family',\n",
       "  'Bartemius Crouch Junior',\n",
       "  'Bartemius Crouch Senior',\n",
       "  'Beast Division',\n",
       "  'Beauxbatons Academy of Magic',\n",
       "  'Bell family',\n",
       "  'Binns family',\n",
       "  'Black family (formerly)',\n",
       "  'Bones family',\n",
       "  'Boot family',\n",
       "  'Borgin and Burkes',\n",
       "  'British Ministry of Magic',\n",
       "  'British Ministry of Magic (formerly)',\n",
       "  'British Ministry of Magic (only under his control)',\n",
       "  'Brown family',\n",
       "  'Bulgarian National Quidditch team',\n",
       "  'Bulstrode family',\n",
       "  'Carrow family',\n",
       "  'Catholic Church (formerly)',\n",
       "  'Cattermole family',\n",
       "  'Chang family',\n",
       "  'Chudley Cannons',\n",
       "  'Circle of Khanna',\n",
       "  'Circus Arcanus (formerly)',\n",
       "  'Clearwater family',\n",
       "  'Corner family',\n",
       "  'Council of Magical Law',\n",
       "  'Crabbe family',\n",
       "  'Credence Barebone (formerly)',\n",
       "  'Creevey family',\n",
       "  'Crouch family (formerly)',\n",
       "  'Daily Prophet',\n",
       "  'Dark Force Defence League (formerly)',\n",
       "  'Death Eaters',\n",
       "  'Death Eaters (Imperiused)',\n",
       "  'Death Eaters (alternate timeline)',\n",
       "  'Death Eaters (defected)',\n",
       "  'Death Eaters (formerly)',\n",
       "  'Death Eaters (indirectly)',\n",
       "  'Death Eaters (unofficial)',\n",
       "  'Death Eaters (unofficially)',\n",
       "  'Delacour family',\n",
       "  'Department for the Regulation and Control of Magical Creatures',\n",
       "  'Department of International Magical Cooperation',\n",
       "  'Department of International Magical Cooperation (formerly)',\n",
       "  'Department of Magical Accidents and Catastrophes',\n",
       "  'Department of Magical Games and Sports',\n",
       "  'Department of Magical Law Enforcement',\n",
       "  'Department of Magical Transportation',\n",
       "  'Department of Mysteries (formerly)',\n",
       "  'Diggle family',\n",
       "  'Diggory family',\n",
       "  'Divination Workshop (possibly)',\n",
       "  'Draco Malfoy',\n",
       "  'Draco Malfoy (while under the Imperius Curse)',\n",
       "  \"Draco Malfoy's gang\",\n",
       "  \"Draco Malfoy's gang (formerly)\",\n",
       "  'Duelling Club',\n",
       "  'Dumbledore family',\n",
       "  \"Dumbledore's Army\",\n",
       "  \"Dumbledore's Army (abandoned)\",\n",
       "  \"Dumbledore's Army (betrayed)\",\n",
       "  \"Dumbledore's Army (during Battle of the Astronomy Tower and Battle of Hogwarts)\",\n",
       "  \"Dumbledore's Army (during the Battle of Hogwarts\",\n",
       "  \"Dumbledore's Army (during the Battle of Hogwarts)\",\n",
       "  \"Dumbledore's Army (during the Battle of the Astronomy Tower and the Battle of Hogwarts\",\n",
       "  'Durmstrang Institute',\n",
       "  'Durmstrang Institute (formerly)',\n",
       "  'Dursley family',\n",
       "  'Edgecombe family',\n",
       "  'Eeylops Owl Emporium (formerly)',\n",
       "  'English National Quidditch team',\n",
       "  'Evans family',\n",
       "  'Figg family',\n",
       "  'Finch-Fletchley family',\n",
       "  'Finnigan family',\n",
       "  'Flamel family',\n",
       "  'Fletcher family',\n",
       "  'Flitwick family',\n",
       "  'Forbidden Forest Acromantula colony',\n",
       "  'Forbidden Forest Centaur colony',\n",
       "  'Frog Choir',\n",
       "  'Frog Choir (formerly)',\n",
       "  'Fudge family',\n",
       "  'Goblin Liaison Office',\n",
       "  'Goldstein family',\n",
       "  'Goyle family',\n",
       "  'Granger family',\n",
       "  'Gringotts Wizarding Bank',\n",
       "  'Grunnings',\n",
       "  'Gryffindor',\n",
       "  'Gryffindor Quidditch team',\n",
       "  'Gryffindor Tower',\n",
       "  'Hagrid family',\n",
       "  'Harry Potter',\n",
       "  'Harry Potter (owner)',\n",
       "  'Headless Hunt (possibly)',\n",
       "  \"Henry VII's royal court (formerly)\",\n",
       "  'Herbology department',\n",
       "  'Hermione Granger',\n",
       "  'Hermione Granger (owner)',\n",
       "  'His fiancée',\n",
       "  'His gang (formerly)',\n",
       "  \"Hog's Head Inn\",\n",
       "  'Hogwarts Library',\n",
       "  'Hogwarts Owlery',\n",
       "  'Hogwarts School of Witchcraft and Wizardry',\n",
       "  'Hogwarts School of Witchcraft and Wizardry (abandoned)',\n",
       "  'Hogwarts School of Witchcraft and Wizardry (formerly)',\n",
       "  'Hogwarts School of Witchcraft and Wizardry\\xa0',\n",
       "  'Holyhead Harpies',\n",
       "  'Hospital Wing',\n",
       "  'House of Black',\n",
       "  'House of Gaunt',\n",
       "  'Howell family',\n",
       "  'Hufflepuff',\n",
       "  'Hufflepuff Quidditch team',\n",
       "  'Hufflepuff family',\n",
       "  'Inquisitorial Squad',\n",
       "  'Inquisitorial Squad (formerly)',\n",
       "  'International Confederation of Wizards',\n",
       "  'Johnson family',\n",
       "  'Jordan family',\n",
       "  'King Arthur',\n",
       "  'Knight Bus',\n",
       "  'Krum family',\n",
       "  'Leaky Cauldron',\n",
       "  'Lestrange family',\n",
       "  'Lily Potter',\n",
       "  'Lockhart family',\n",
       "  'Longbottom family',\n",
       "  'Lord Voldemort',\n",
       "  'Lord Voldemort (formerly)',\n",
       "  'Lovegood family',\n",
       "  'Lupin family',\n",
       "  'Macmillan family',\n",
       "  'Magical Maintenance Department',\n",
       "  'Magical Menagerie',\n",
       "  'Magical Menagerie saleswoman',\n",
       "  'Malfoy family',\n",
       "  'Malfoy family (formerly)',\n",
       "  'Marauders',\n",
       "  'Maxime family',\n",
       "  'McGonagall family',\n",
       "  'McLaggen family',\n",
       "  'Ministry of Magic',\n",
       "  'Ministry of Magic (formerly)',\n",
       "  'Misuse of Muggle Artefacts Office',\n",
       "  'Mrs. Norris',\n",
       "  'Neville Longbottom',\n",
       "  'Newt Scamander (formerly)',\n",
       "  'Nott family',\n",
       "  'Office for the Detection and Confiscation of Counterfeit Defensive Spells and Protective Objects',\n",
       "  'Ogden family',\n",
       "  'Ollivander family',\n",
       "  'Ollivanders',\n",
       "  'Order of Merlin',\n",
       "  'Order of the Phoenix',\n",
       "  'Order of the Phoenix (betrayed)',\n",
       "  'Order of the Phoenix (during Battle of the Astronomy Tower and Battle of Hogwarts)',\n",
       "  'Order of the Phoenix (during the Battle of Hogwarts)',\n",
       "  'Order of the Phoenix (during the Battle of the Astronomy Tower and the Battle of Hogwarts',\n",
       "  'Order of the Phoenix (formerly)',\n",
       "  'Order of the Phoenix (indirectly)',\n",
       "  'Parkinson family',\n",
       "  'Patil family',\n",
       "  'Pettigrew family',\n",
       "  'Peverell family',\n",
       "  'Podmore family',\n",
       "  'Potter family',\n",
       "  'Potterwatch',\n",
       "  'Prewett family',\n",
       "  'Prince family',\n",
       "  'Puddlemere United',\n",
       "  'Quirinus Quirrell (as egg)',\n",
       "  'R (formerly)',\n",
       "  'Ravenclaw',\n",
       "  'Ravenclaw Quidditch team',\n",
       "  'Ravenclaw family',\n",
       "  'Riddle family',\n",
       "  'Romanian Dragon Sanctuary',\n",
       "  'Ronald Weasley',\n",
       "  'Rubeus Hagrid',\n",
       "  'Rubeus Hagrid (owner)',\n",
       "  'S.P.E.W.',\n",
       "  'Scamander family',\n",
       "  'Scorpius Malfoy',\n",
       "  'Shacklebolt family',\n",
       "  'Sirius Black',\n",
       "  'Sirius Black (owner)',\n",
       "  'Slug Club',\n",
       "  'Slug Club (briefly)',\n",
       "  'Slug Club (possibly)',\n",
       "  'Slughorn family',\n",
       "  'Slytherin',\n",
       "  'Slytherin Quidditch team',\n",
       "  'Slytherin family',\n",
       "  'Smeltings Academy',\n",
       "  'Smith family',\n",
       "  'Snape family',\n",
       "  'Snatchers',\n",
       "  \"St Mungo's Hospital for Magical Maladies and Injuries\",\n",
       "  'The Alliance',\n",
       "  'The Quibbler',\n",
       "  'Thomas family',\n",
       "  'Three Broomsticks Inn',\n",
       "  'Tonks family',\n",
       "  'Transfiguration department',\n",
       "  'Trelawney family',\n",
       "  'Urquart family',\n",
       "  'Vance family',\n",
       "  'Vane family',\n",
       "  'Warren family',\n",
       "  'Weasley family',\n",
       "  'Weasley family (as Scabbers) (formerly)',\n",
       "  \"Weasleys' Wizard Wheezes\",\n",
       "  'Werewolf army',\n",
       "  'Wimbourne Wasps (formerly)',\n",
       "  'Witch Weekly',\n",
       "  'Wizengamot',\n",
       "  'Wizengamot (formally)',\n",
       "  'Zabini family',\n",
       "  'nationality = Welsh'},\n",
       " 237)"
      ]
     },
     "execution_count": 119,
     "metadata": {},
     "output_type": "execute_result"
    }
   ],
   "source": [
    "all_assoc, len(all_assoc)"
   ]
  },
  {
   "cell_type": "markdown",
   "id": "d7168f96-663f-443c-9042-0b1207d52e0a",
   "metadata": {},
   "source": [
    "WOWOW ! We can see that there are much more association than expected... Moreover, we can see that there are many many more associations than expected. We will need to come up with a way of removing less important association. Doing it by hand like earlier seems to hard. Instead, what we will do is to compute the number of characters appearing in each association and see if we will be able to put a threshold. "
   ]
  },
  {
   "cell_type": "code",
   "execution_count": 120,
   "id": "10e8e6b7-478a-49f1-a7a7-14e544e1cebe",
   "metadata": {},
   "outputs": [
    {
     "name": "stderr",
     "output_type": "stream",
     "text": [
      "/var/folders/vf/btrykr5n65v_k_lwb61317k80000gn/T/ipykernel_22171/3327060913.py:1: FutureWarning: The default dtype for empty Series will be 'object' instead of 'float64' in a future version. Specify a dtype explicitly to silence this warning.\n",
      "  dum = pd.get_dummies(df_hp_chars['associated_groups'].apply(pd.Series).stack()).groupby(level=0).sum().sum(axis=0)\n"
     ]
    },
    {
     "data": {
      "text/plain": [
       "1      149\n",
       "2       34\n",
       "3       15\n",
       "4       13\n",
       "5        3\n",
       "6        4\n",
       "8        2\n",
       "9        2\n",
       "10       1\n",
       "11       1\n",
       "12       2\n",
       "13       1\n",
       "14       2\n",
       "15       1\n",
       "17       1\n",
       "20       1\n",
       "21       1\n",
       "32       1\n",
       "37       1\n",
       "38       1\n",
       "110      1\n",
       "dtype: int64"
      ]
     },
     "execution_count": 120,
     "metadata": {},
     "output_type": "execute_result"
    }
   ],
   "source": [
    "dum = pd.get_dummies(df_hp_chars['associated_groups'].apply(pd.Series).stack()).groupby(level=0).sum().sum(axis=0)\n",
    "dum.value_counts().sort_index()"
   ]
  },
  {
   "cell_type": "markdown",
   "id": "0f842239-6206-4148-9753-56490ca5e909",
   "metadata": {},
   "source": [
    "The visualisation we want to make between the characters is some kind of network with connections among characters. If time permits it, we would also want to be able to filter by association by highlighting the link between characters in the same association. For this to make sense and to look good, we choose to keep only the association with a number of characters >= 8. This represent around 20 associations which is enough to see interesting things in our opinion. Let's now see which associations are included in the chosen subset. "
   ]
  },
  {
   "cell_type": "code",
   "execution_count": 121,
   "id": "a6026346-c333-4d19-9076-8c90e48457dd",
   "metadata": {},
   "outputs": [
    {
     "data": {
      "text/plain": [
       "Advance Guard                                   8\n",
       "Department of Magical Law Enforcement           8\n",
       "Slug Club                                       9\n",
       "Prewett family                                  9\n",
       "Death Eaters                                   10\n",
       "Albus Dumbledore                               11\n",
       "Potter family                                  12\n",
       "Hufflepuff                                     12\n",
       "Harry Potter                                   13\n",
       "Weasley family                                 14\n",
       "Gryffindor Quidditch team                      14\n",
       "Lord Voldemort                                 15\n",
       "Ravenclaw                                      17\n",
       "Slytherin                                      20\n",
       "British Ministry of Magic                      21\n",
       "Dumbledore's Army                              32\n",
       "Gryffindor                                     37\n",
       "Order of the Phoenix                           38\n",
       "Hogwarts School of Witchcraft and Wizardry    110\n",
       "dtype: int64"
      ]
     },
     "execution_count": 121,
     "metadata": {},
     "output_type": "execute_result"
    }
   ],
   "source": [
    "dum[dum > 7].sort_values()"
   ]
  },
  {
   "cell_type": "markdown",
   "id": "603a3e2c-d71c-4fd8-8ae3-d4a7b4433a4e",
   "metadata": {},
   "source": [
    "Although this was expected, we can see that among the most \"popular\" associations we get the Hogwarts school and its houses, then come the Order of the Phoenix and Dumbledore's army. \n",
    "\n",
    "We now get the associations name and remove association that do not appear in the above list from the original dataframe.  "
   ]
  },
  {
   "cell_type": "code",
   "execution_count": 122,
   "id": "669c09af-5db7-436e-8a26-38b707f3b098",
   "metadata": {},
   "outputs": [],
   "source": [
    "retain_assoc = list(dum[dum > 7].index)"
   ]
  },
  {
   "cell_type": "code",
   "execution_count": 123,
   "id": "d33e7f0f-a419-49dc-aa9c-de574cc90dae",
   "metadata": {},
   "outputs": [],
   "source": [
    "def remove_not_in_list(cur, ret):\n",
    "    return [x for x in cur if x in ret]"
   ]
  },
  {
   "cell_type": "code",
   "execution_count": 124,
   "id": "663fd56d-c812-414e-bdd2-964acf631c4e",
   "metadata": {},
   "outputs": [],
   "source": [
    "df_hp_chars['associated_groups'] = df_hp_chars['associated_groups'].apply(lambda x: remove_not_in_list(x, retain_assoc))"
   ]
  },
  {
   "cell_type": "code",
   "execution_count": 125,
   "id": "5332fd6c-237e-4cb2-9f62-3338bec66400",
   "metadata": {},
   "outputs": [],
   "source": [
    "#Recompute the number of associations since we filter some of them \n",
    "df_hp_chars['nb_associations'] = df_hp_chars['associated_groups'].apply(lambda x: 0 if np.nan == x else len(x))#"
   ]
  },
  {
   "cell_type": "code",
   "execution_count": 126,
   "id": "972e4f13-488a-4b3b-aec0-b5a6178556f8",
   "metadata": {},
   "outputs": [
    {
     "data": {
      "text/plain": [
       "2     42\n",
       "0     41\n",
       "3     30\n",
       "1     25\n",
       "4     16\n",
       "5     11\n",
       "7      4\n",
       "6      3\n",
       "9      3\n",
       "11     1\n",
       "8      1\n",
       "Name: nb_associations, dtype: int64"
      ]
     },
     "execution_count": 126,
     "metadata": {},
     "output_type": "execute_result"
    }
   ],
   "source": [
    "df_hp_chars['nb_associations'].value_counts()"
   ]
  },
  {
   "cell_type": "code",
   "execution_count": 127,
   "id": "008d612e-0b11-4da2-8682-abedd4f85cb8",
   "metadata": {},
   "outputs": [
    {
     "data": {
      "image/png": "[encoded data removed]",
      "text/plain": [
       "<Figure size 360x360 with 1 Axes>"
      ]
     },
     "metadata": {
      "needs_background": "light"
     },
     "output_type": "display_data"
    }
   ],
   "source": [
    "sns.displot(df_hp_chars['nb_associations'])\n",
    "plt.title(\"Histogram of the number of associations by character\")\n",
    "plt.xlabel(\"Number of associations\")\n",
    "plt.show()"
   ]
  },
  {
   "cell_type": "markdown",
   "id": "e483ede4-58b2-4184-b273-56b386ed35bd",
   "metadata": {},
   "source": [
    "We can see that this reduction operation had the effect of removing 41 characters from the dataset, will make our visualisation probably even more readable."
   ]
  },
  {
   "cell_type": "code",
   "execution_count": 128,
   "id": "bc96fa80-dceb-4e80-bbe6-4aeecff0c027",
   "metadata": {},
   "outputs": [],
   "source": [
    "df_hp_chars.to_json(data_folder+ cleaned_folder+\"selected_users.json\",orient='index')"
   ]
  },
  {
   "cell_type": "markdown",
   "id": "19521746-4f2f-4aec-a183-a09048d5e8cb",
   "metadata": {},
   "source": [
    "#### Spells"
   ]
  },
  {
   "cell_type": "markdown",
   "id": "9018ffc9-b993-4ce2-8614-18dbcc3ebed5",
   "metadata": {},
   "source": [
    "What is the first object coming to mind when we talk about magic ? Probably the wand. Let's now analyse what type of spells can the wand launch. We have at our disposal a complete dataset collecting a lot of spells that can be cast by Harry Potter world wizards. "
   ]
  },
  {
   "cell_type": "code",
   "execution_count": 129,
   "id": "96a18fec-1251-4c8f-9558-7f9e2e196833",
   "metadata": {},
   "outputs": [
    {
     "data": {
      "text/html": [
       "<div>\n",
       "<style scoped>\n",
       "    .dataframe tbody tr th:only-of-type {\n",
       "        vertical-align: middle;\n",
       "    }\n",
       "\n",
       "    .dataframe tbody tr th {\n",
       "        vertical-align: top;\n",
       "    }\n",
       "\n",
       "    .dataframe thead th {\n",
       "        text-align: right;\n",
       "    }\n",
       "</style>\n",
       "<table border=\"1\" class=\"dataframe\">\n",
       "  <thead>\n",
       "    <tr style=\"text-align: right;\">\n",
       "      <th></th>\n",
       "      <th>id</th>\n",
       "      <th>name</th>\n",
       "      <th>other_name</th>\n",
       "      <th>pronunciation</th>\n",
       "      <th>spell_type</th>\n",
       "      <th>description</th>\n",
       "      <th>mention</th>\n",
       "      <th>etymology</th>\n",
       "      <th>note</th>\n",
       "    </tr>\n",
       "  </thead>\n",
       "  <tbody>\n",
       "    <tr>\n",
       "      <th>0</th>\n",
       "      <td>1</td>\n",
       "      <td>Aberto</td>\n",
       "      <td>None</td>\n",
       "      <td>Ah-bare-toh</td>\n",
       "      <td>Charm</td>\n",
       "      <td>None</td>\n",
       "      <td>None</td>\n",
       "      <td>None</td>\n",
       "      <td>None</td>\n",
       "    </tr>\n",
       "    <tr>\n",
       "      <th>1</th>\n",
       "      <td>2</td>\n",
       "      <td>Accio</td>\n",
       "      <td>Summoning Charm</td>\n",
       "      <td>Various, including: AK-ee-oh or AK-see-oh , AK...</td>\n",
       "      <td>Charm</td>\n",
       "      <td>Summons an object towards the caster. It is ab...</td>\n",
       "      <td>Harry Potter summoned his broom to complete th...</td>\n",
       "      <td>The Latin word accio means \"I call\" or \"I summ...</td>\n",
       "      <td>None</td>\n",
       "    </tr>\n",
       "    <tr>\n",
       "      <th>2</th>\n",
       "      <td>3</td>\n",
       "      <td>Age Line</td>\n",
       "      <td>None</td>\n",
       "      <td>None</td>\n",
       "      <td>Charm</td>\n",
       "      <td>Prevents people above or below a certain age f...</td>\n",
       "      <td>None</td>\n",
       "      <td>None</td>\n",
       "      <td>None</td>\n",
       "    </tr>\n",
       "    <tr>\n",
       "      <th>3</th>\n",
       "      <td>4</td>\n",
       "      <td>Aguamenti</td>\n",
       "      <td>Water-Making Spell</td>\n",
       "      <td>AH-gwah-MEN-tee</td>\n",
       "      <td>Charm, Conjuration</td>\n",
       "      <td>Produces a clean, drinkable jet of water from ...</td>\n",
       "      <td>Used by Fleur Delacour in 1994 to extinguish h...</td>\n",
       "      <td>None</td>\n",
       "      <td>None</td>\n",
       "    </tr>\n",
       "    <tr>\n",
       "      <th>4</th>\n",
       "      <td>5</td>\n",
       "      <td>Alarte Ascendare</td>\n",
       "      <td>None</td>\n",
       "      <td>a-LAR-tay a-SEN-der-ay</td>\n",
       "      <td>Charm</td>\n",
       "      <td>Shoots the target high into the air.</td>\n",
       "      <td>Used by Gilderoy Lockhart in 1992 to send a sn...</td>\n",
       "      <td>None</td>\n",
       "      <td>None</td>\n",
       "    </tr>\n",
       "  </tbody>\n",
       "</table>\n",
       "</div>"
      ],
      "text/plain": [
       "   id              name          other_name  \\\n",
       "0   1            Aberto                None   \n",
       "1   2             Accio     Summoning Charm   \n",
       "2   3          Age Line                None   \n",
       "3   4         Aguamenti  Water-Making Spell   \n",
       "4   5  Alarte Ascendare                None   \n",
       "\n",
       "                                       pronunciation          spell_type  \\\n",
       "0                                        Ah-bare-toh               Charm   \n",
       "1  Various, including: AK-ee-oh or AK-see-oh , AK...               Charm   \n",
       "2                                               None               Charm   \n",
       "3                                    AH-gwah-MEN-tee  Charm, Conjuration   \n",
       "4                             a-LAR-tay a-SEN-der-ay               Charm   \n",
       "\n",
       "                                         description  \\\n",
       "0                                               None   \n",
       "1  Summons an object towards the caster. It is ab...   \n",
       "2  Prevents people above or below a certain age f...   \n",
       "3  Produces a clean, drinkable jet of water from ...   \n",
       "4               Shoots the target high into the air.   \n",
       "\n",
       "                                             mention  \\\n",
       "0                                               None   \n",
       "1  Harry Potter summoned his broom to complete th...   \n",
       "2                                               None   \n",
       "3  Used by Fleur Delacour in 1994 to extinguish h...   \n",
       "4  Used by Gilderoy Lockhart in 1992 to send a sn...   \n",
       "\n",
       "                                           etymology  note  \n",
       "0                                               None  None  \n",
       "1  The Latin word accio means \"I call\" or \"I summ...  None  \n",
       "2                                               None  None  \n",
       "3                                               None  None  \n",
       "4                                               None  None  "
      ]
     },
     "execution_count": 129,
     "metadata": {},
     "output_type": "execute_result"
    }
   ],
   "source": [
    "df_spell = pd.read_json(data_folder+hpcollection_folder+\"spells.json\") \n",
    "df_spell.head()"
   ]
  },
  {
   "cell_type": "markdown",
   "id": "62301362-c7e7-46ce-962e-57a12b8b0806",
   "metadata": {},
   "source": [
    "We are most interested in the incantantion of the spell as well as the spell type. We will therefore drop most of the columns. The only one we will keep are name (since we will need it for the visualisation and we will probably compute stats with them), the description which could be nice to display as a hover information, the pronunication in case of we want to use some text to speech application in our visualisation (not a prioritiy though) and finally the spell_type which is the main thing we will use for visualisation and what we will explore right now "
   ]
  },
  {
   "cell_type": "code",
   "execution_count": 130,
   "id": "11e8f816-5f4e-4ee0-8c7d-3a659d48282d",
   "metadata": {},
   "outputs": [
    {
     "data": {
      "text/html": [
       "<div>\n",
       "<style scoped>\n",
       "    .dataframe tbody tr th:only-of-type {\n",
       "        vertical-align: middle;\n",
       "    }\n",
       "\n",
       "    .dataframe tbody tr th {\n",
       "        vertical-align: top;\n",
       "    }\n",
       "\n",
       "    .dataframe thead th {\n",
       "        text-align: right;\n",
       "    }\n",
       "</style>\n",
       "<table border=\"1\" class=\"dataframe\">\n",
       "  <thead>\n",
       "    <tr style=\"text-align: right;\">\n",
       "      <th></th>\n",
       "      <th>name</th>\n",
       "      <th>pronunciation</th>\n",
       "      <th>spell_type</th>\n",
       "      <th>description</th>\n",
       "    </tr>\n",
       "  </thead>\n",
       "  <tbody>\n",
       "    <tr>\n",
       "      <th>0</th>\n",
       "      <td>Aberto</td>\n",
       "      <td>Ah-bare-toh</td>\n",
       "      <td>Charm</td>\n",
       "      <td>None</td>\n",
       "    </tr>\n",
       "    <tr>\n",
       "      <th>1</th>\n",
       "      <td>Accio</td>\n",
       "      <td>Various, including: AK-ee-oh or AK-see-oh , AK...</td>\n",
       "      <td>Charm</td>\n",
       "      <td>Summons an object towards the caster. It is ab...</td>\n",
       "    </tr>\n",
       "    <tr>\n",
       "      <th>2</th>\n",
       "      <td>Age Line</td>\n",
       "      <td>None</td>\n",
       "      <td>Charm</td>\n",
       "      <td>Prevents people above or below a certain age f...</td>\n",
       "    </tr>\n",
       "    <tr>\n",
       "      <th>3</th>\n",
       "      <td>Aguamenti</td>\n",
       "      <td>AH-gwah-MEN-tee</td>\n",
       "      <td>Charm, Conjuration</td>\n",
       "      <td>Produces a clean, drinkable jet of water from ...</td>\n",
       "    </tr>\n",
       "    <tr>\n",
       "      <th>4</th>\n",
       "      <td>Alarte Ascendare</td>\n",
       "      <td>a-LAR-tay a-SEN-der-ay</td>\n",
       "      <td>Charm</td>\n",
       "      <td>Shoots the target high into the air.</td>\n",
       "    </tr>\n",
       "  </tbody>\n",
       "</table>\n",
       "</div>"
      ],
      "text/plain": [
       "               name                                      pronunciation  \\\n",
       "0            Aberto                                        Ah-bare-toh   \n",
       "1             Accio  Various, including: AK-ee-oh or AK-see-oh , AK...   \n",
       "2          Age Line                                               None   \n",
       "3         Aguamenti                                    AH-gwah-MEN-tee   \n",
       "4  Alarte Ascendare                             a-LAR-tay a-SEN-der-ay   \n",
       "\n",
       "           spell_type                                        description  \n",
       "0               Charm                                               None  \n",
       "1               Charm  Summons an object towards the caster. It is ab...  \n",
       "2               Charm  Prevents people above or below a certain age f...  \n",
       "3  Charm, Conjuration  Produces a clean, drinkable jet of water from ...  \n",
       "4               Charm               Shoots the target high into the air.  "
      ]
     },
     "execution_count": 130,
     "metadata": {},
     "output_type": "execute_result"
    }
   ],
   "source": [
    "df_spell = df_spell.drop(['note', 'other_name', 'mention', 'etymology','id'], axis=1)\n",
    "df_spell.head()"
   ]
  },
  {
   "cell_type": "code",
   "execution_count": 131,
   "id": "3a297ddb-8775-485f-a7e0-825b9e8e75d1",
   "metadata": {},
   "outputs": [
    {
     "data": {
      "text/plain": [
       "305"
      ]
     },
     "execution_count": 131,
     "metadata": {},
     "output_type": "execute_result"
    }
   ],
   "source": [
    "len(df_spell)"
   ]
  },
  {
   "cell_type": "markdown",
   "id": "f87d77ca-d333-4b48-ad3d-29309528ad79",
   "metadata": {},
   "source": [
    "We can see that we have in total 305 different castable spell in Harry Potter. J.K. Rowling really has a lot of imagination. We will now see if we can easily split them into differnt spell categories or this requires some additional work"
   ]
  },
  {
   "cell_type": "code",
   "execution_count": 132,
   "id": "c15885b1-8af1-4904-b607-74d46aa3898d",
   "metadata": {},
   "outputs": [
    {
     "data": {
      "text/plain": [
       "Charm                         157\n",
       "Jinx                           30\n",
       "Transfiguration                26\n",
       "Curse                          25\n",
       "Hex                            21\n",
       "Spell                          10\n",
       "Conjuration                     7\n",
       "Healing Spell                   3\n",
       "Transfiguration, Jinx           2\n",
       "Dark Arts                       2\n",
       "Charm, Conjuration              2\n",
       "Counter-Jinx                    1\n",
       "Untransfiguration               1\n",
       "Counter-Charm                   1\n",
       "Dark charm                      1\n",
       "Counter-charm                   1\n",
       "Curse, Jinx                     1\n",
       "Jinx, Transfiguration           1\n",
       "Conjuration, Dark Arts          1\n",
       "Counter-Spell                   1\n",
       "Conjuration, Healing spell      1\n",
       "Charm, Healing Spell            1\n",
       "Conjuration, Charm              1\n",
       "Transportation                  1\n",
       "Healing Spell, Vanishment       1\n",
       "Vanishment                      1\n",
       "Name: spell_type, dtype: int64"
      ]
     },
     "execution_count": 132,
     "metadata": {},
     "output_type": "execute_result"
    }
   ],
   "source": [
    "df_spell['spell_type'].value_counts()"
   ]
  },
  {
   "cell_type": "markdown",
   "id": "03a5da7e-df16-4957-b1d6-41ed1f5bfdcd",
   "metadata": {},
   "source": [
    "Indeed, we have a lot mroe categories than expected. By inspecting the data (by hand), we saw that most of the spells that are classified as two types are almost unknown spells. For this reason as well as the fact that they represent almost nothing, we will remove them from our visualisation. "
   ]
  },
  {
   "cell_type": "code",
   "execution_count": 133,
   "id": "408fe904-2e10-455c-a7cc-2a4150200af3",
   "metadata": {},
   "outputs": [
    {
     "data": {
      "text/html": [
       "<div>\n",
       "<style scoped>\n",
       "    .dataframe tbody tr th:only-of-type {\n",
       "        vertical-align: middle;\n",
       "    }\n",
       "\n",
       "    .dataframe tbody tr th {\n",
       "        vertical-align: top;\n",
       "    }\n",
       "\n",
       "    .dataframe thead th {\n",
       "        text-align: right;\n",
       "    }\n",
       "</style>\n",
       "<table border=\"1\" class=\"dataframe\">\n",
       "  <thead>\n",
       "    <tr style=\"text-align: right;\">\n",
       "      <th></th>\n",
       "      <th>name</th>\n",
       "      <th>pronunciation</th>\n",
       "      <th>spell_type</th>\n",
       "      <th>description</th>\n",
       "    </tr>\n",
       "  </thead>\n",
       "  <tbody>\n",
       "    <tr>\n",
       "      <th>0</th>\n",
       "      <td>aberto</td>\n",
       "      <td>Ah-bare-toh</td>\n",
       "      <td>Charm</td>\n",
       "      <td>None</td>\n",
       "    </tr>\n",
       "    <tr>\n",
       "      <th>1</th>\n",
       "      <td>accio</td>\n",
       "      <td>Various, including: AK-ee-oh or AK-see-oh , AK...</td>\n",
       "      <td>Charm</td>\n",
       "      <td>Summons an object towards the caster. It is ab...</td>\n",
       "    </tr>\n",
       "    <tr>\n",
       "      <th>2</th>\n",
       "      <td>age line</td>\n",
       "      <td>None</td>\n",
       "      <td>Charm</td>\n",
       "      <td>Prevents people above or below a certain age f...</td>\n",
       "    </tr>\n",
       "    <tr>\n",
       "      <th>3</th>\n",
       "      <td>alarte ascendare</td>\n",
       "      <td>a-LAR-tay a-SEN-der-ay</td>\n",
       "      <td>Charm</td>\n",
       "      <td>Shoots the target high into the air.</td>\n",
       "    </tr>\n",
       "    <tr>\n",
       "      <th>4</th>\n",
       "      <td>albus dumbledore's forceful spell</td>\n",
       "      <td>None</td>\n",
       "      <td>Spell</td>\n",
       "      <td>This spell was, supposedly, quite powerful as ...</td>\n",
       "    </tr>\n",
       "    <tr>\n",
       "      <th>5</th>\n",
       "      <td>alohomora</td>\n",
       "      <td>ah-LOH-ho-MOR-ah</td>\n",
       "      <td>Charm</td>\n",
       "      <td>Unlocks doors and other objects. It can also u...</td>\n",
       "    </tr>\n",
       "    <tr>\n",
       "      <th>6</th>\n",
       "      <td>amato animo animato animagus</td>\n",
       "      <td>ah-MAH-toh ah-NEE-moh ah-nee-MAH-toh an-a-MAY-jus</td>\n",
       "      <td>Transfiguration</td>\n",
       "      <td>Spell used as part of the process of becoming ...</td>\n",
       "    </tr>\n",
       "    <tr>\n",
       "      <th>7</th>\n",
       "      <td>anteoculatia</td>\n",
       "      <td>an-tee-oh-kyoo-LAY-chee-ah</td>\n",
       "      <td>Hex</td>\n",
       "      <td>Causes the target to grow antlers.</td>\n",
       "    </tr>\n",
       "    <tr>\n",
       "      <th>8</th>\n",
       "      <td>anti-cheating spell</td>\n",
       "      <td>None</td>\n",
       "      <td>Charm</td>\n",
       "      <td>Used to prevent cheating.</td>\n",
       "    </tr>\n",
       "    <tr>\n",
       "      <th>9</th>\n",
       "      <td>antonin dolohov's curse</td>\n",
       "      <td>None</td>\n",
       "      <td>Curse</td>\n",
       "      <td>An unknown curse that causes injuries that are...</td>\n",
       "    </tr>\n",
       "  </tbody>\n",
       "</table>\n",
       "</div>"
      ],
      "text/plain": [
       "                                name  \\\n",
       "0                             aberto   \n",
       "1                              accio   \n",
       "2                           age line   \n",
       "3                   alarte ascendare   \n",
       "4  albus dumbledore's forceful spell   \n",
       "5                          alohomora   \n",
       "6       amato animo animato animagus   \n",
       "7                       anteoculatia   \n",
       "8                anti-cheating spell   \n",
       "9            antonin dolohov's curse   \n",
       "\n",
       "                                       pronunciation       spell_type  \\\n",
       "0                                        Ah-bare-toh            Charm   \n",
       "1  Various, including: AK-ee-oh or AK-see-oh , AK...            Charm   \n",
       "2                                               None            Charm   \n",
       "3                             a-LAR-tay a-SEN-der-ay            Charm   \n",
       "4                                               None            Spell   \n",
       "5                                   ah-LOH-ho-MOR-ah            Charm   \n",
       "6  ah-MAH-toh ah-NEE-moh ah-nee-MAH-toh an-a-MAY-jus  Transfiguration   \n",
       "7                         an-tee-oh-kyoo-LAY-chee-ah              Hex   \n",
       "8                                               None            Charm   \n",
       "9                                               None            Curse   \n",
       "\n",
       "                                         description  \n",
       "0                                               None  \n",
       "1  Summons an object towards the caster. It is ab...  \n",
       "2  Prevents people above or below a certain age f...  \n",
       "3               Shoots the target high into the air.  \n",
       "4  This spell was, supposedly, quite powerful as ...  \n",
       "5  Unlocks doors and other objects. It can also u...  \n",
       "6  Spell used as part of the process of becoming ...  \n",
       "7                 Causes the target to grow antlers.  \n",
       "8                          Used to prevent cheating.  \n",
       "9  An unknown curse that causes injuries that are...  "
      ]
     },
     "execution_count": 133,
     "metadata": {},
     "output_type": "execute_result"
    }
   ],
   "source": [
    "df_spell['name'] = df_spell['name'].apply(lambda x:x.lower())\n",
    "df_spell = df_spell[df_spell['spell_type'].isin(['Healing Spell', 'Conjuration ', 'Spell', 'Hex', 'Curse', 'Transfiguration', 'Charm'])].reset_index(drop=True)\n",
    "df_spell.head(10)"
   ]
  },
  {
   "cell_type": "code",
   "execution_count": 134,
   "id": "4e5dddab-f662-4655-8018-875db3e67f66",
   "metadata": {},
   "outputs": [
    {
     "data": {
      "image/png": "[encoded data removed]",
      "text/plain": [
       "<Figure size 432x288 with 1 Axes>"
      ]
     },
     "metadata": {},
     "output_type": "display_data"
    }
   ],
   "source": [
    "plot_pie(df_spell, 'spell_type')"
   ]
  },
  {
   "cell_type": "markdown",
   "id": "16d89175-c8a4-4bbb-a586-6fb833080eed",
   "metadata": {},
   "source": [
    "We can that our dataset is biased toward charm spell. Nevertheless, our idea of visualisation integrating the spell will force us to measure the importance of each spell in the book. This leads us to the Harry Potter book dataset. This dataset contains the full text of each book. We will therefore iterate over all the "
   ]
  },
  {
   "cell_type": "markdown",
   "id": "ea0257f8-071d-423b-83c3-555ca196e8d9",
   "metadata": {},
   "source": [
    "##### Most popular spells"
   ]
  },
  {
   "cell_type": "code",
   "execution_count": 135,
   "id": "72ec5889-a503-43e2-a7e6-76655fedb239",
   "metadata": {},
   "outputs": [],
   "source": [
    "occ = {}\n",
    "spells = set()\n",
    "for i, v in df_spell['name'].items():\n",
    "    occ[v.lower()]= 0\n",
    "    spells.add(v.lower())"
   ]
  },
  {
   "cell_type": "code",
   "execution_count": 136,
   "id": "52fe76c8-546c-4d3c-b222-5abf27fa69eb",
   "metadata": {},
   "outputs": [],
   "source": [
    "# iterate over the 7 books\n",
    "for i in range(1,8):\n",
    "    # Read the full book line by line in the a list\n",
    "    with open(data_folder+hpbooks_folder+f\"hp{i}.txt\") as f:\n",
    "        lines = f.readlines()\n",
    "\n",
    "    # Iterate over the lines and check for every spell if it appears in that line. \n",
    "    for line in lines:\n",
    "        cur = line.lower()\n",
    "        for sp in spells: \n",
    "            count = cur.count(sp) \n",
    "            if count > 0:\n",
    "                occ[sp] = occ[sp] +count"
   ]
  },
  {
   "cell_type": "code",
   "execution_count": 137,
   "id": "8bfea834-0007-4592-924a-03ab05e81a8d",
   "metadata": {},
   "outputs": [
    {
     "data": {
      "text/html": [
       "<div>\n",
       "<style scoped>\n",
       "    .dataframe tbody tr th:only-of-type {\n",
       "        vertical-align: middle;\n",
       "    }\n",
       "\n",
       "    .dataframe tbody tr th {\n",
       "        vertical-align: top;\n",
       "    }\n",
       "\n",
       "    .dataframe thead th {\n",
       "        text-align: right;\n",
       "    }\n",
       "</style>\n",
       "<table border=\"1\" class=\"dataframe\">\n",
       "  <thead>\n",
       "    <tr style=\"text-align: right;\">\n",
       "      <th></th>\n",
       "      <th>name</th>\n",
       "      <th>count</th>\n",
       "    </tr>\n",
       "  </thead>\n",
       "  <tbody>\n",
       "    <tr>\n",
       "      <th>0</th>\n",
       "      <td>aberto</td>\n",
       "      <td>0</td>\n",
       "    </tr>\n",
       "    <tr>\n",
       "      <th>1</th>\n",
       "      <td>accio</td>\n",
       "      <td>34</td>\n",
       "    </tr>\n",
       "    <tr>\n",
       "      <th>2</th>\n",
       "      <td>age line</td>\n",
       "      <td>8</td>\n",
       "    </tr>\n",
       "    <tr>\n",
       "      <th>3</th>\n",
       "      <td>alarte ascendare</td>\n",
       "      <td>0</td>\n",
       "    </tr>\n",
       "    <tr>\n",
       "      <th>4</th>\n",
       "      <td>albus dumbledore's forceful spell</td>\n",
       "      <td>0</td>\n",
       "    </tr>\n",
       "  </tbody>\n",
       "</table>\n",
       "</div>"
      ],
      "text/plain": [
       "                                name  count\n",
       "0                             aberto      0\n",
       "1                              accio     34\n",
       "2                           age line      8\n",
       "3                   alarte ascendare      0\n",
       "4  albus dumbledore's forceful spell      0"
      ]
     },
     "execution_count": 137,
     "metadata": {},
     "output_type": "execute_result"
    }
   ],
   "source": [
    "# Create a dataframe with the name of the spell and the count\n",
    "most_famous = pd.DataFrame.from_dict(occ,orient='index',columns=['count']).reset_index().rename(columns={'index':'name'})\n",
    "most_famous.head()"
   ]
  },
  {
   "cell_type": "code",
   "execution_count": 138,
   "id": "ab4b9ec5-1f5f-4898-9293-8d4cd01690b5",
   "metadata": {},
   "outputs": [
    {
     "data": {
      "text/html": [
       "<div>\n",
       "<style scoped>\n",
       "    .dataframe tbody tr th:only-of-type {\n",
       "        vertical-align: middle;\n",
       "    }\n",
       "\n",
       "    .dataframe tbody tr th {\n",
       "        vertical-align: top;\n",
       "    }\n",
       "\n",
       "    .dataframe thead th {\n",
       "        text-align: right;\n",
       "    }\n",
       "</style>\n",
       "<table border=\"1\" class=\"dataframe\">\n",
       "  <thead>\n",
       "    <tr style=\"text-align: right;\">\n",
       "      <th></th>\n",
       "      <th>name</th>\n",
       "      <th>pronunciation</th>\n",
       "      <th>spell_type</th>\n",
       "      <th>description</th>\n",
       "      <th>count</th>\n",
       "    </tr>\n",
       "  </thead>\n",
       "  <tbody>\n",
       "    <tr>\n",
       "      <th>0</th>\n",
       "      <td>aberto</td>\n",
       "      <td>Ah-bare-toh</td>\n",
       "      <td>Charm</td>\n",
       "      <td>None</td>\n",
       "      <td>0</td>\n",
       "    </tr>\n",
       "  </tbody>\n",
       "</table>\n",
       "</div>"
      ],
      "text/plain": [
       "     name pronunciation spell_type description  count\n",
       "0  aberto   Ah-bare-toh      Charm        None      0"
      ]
     },
     "execution_count": 138,
     "metadata": {},
     "output_type": "execute_result"
    }
   ],
   "source": [
    "# Merge the two dataframes together\n",
    "df_spell = df_spell.merge(most_famous, left_on='name', right_on='name')\n",
    "df_spell.head(1)"
   ]
  },
  {
   "cell_type": "code",
   "execution_count": 139,
   "id": "c181a79c-5c83-44d2-9dd7-31f036bc1f57",
   "metadata": {},
   "outputs": [
    {
     "data": {
      "text/html": [
       "<div>\n",
       "<style scoped>\n",
       "    .dataframe tbody tr th:only-of-type {\n",
       "        vertical-align: middle;\n",
       "    }\n",
       "\n",
       "    .dataframe tbody tr th {\n",
       "        vertical-align: top;\n",
       "    }\n",
       "\n",
       "    .dataframe thead th {\n",
       "        text-align: right;\n",
       "    }\n",
       "</style>\n",
       "<table border=\"1\" class=\"dataframe\">\n",
       "  <thead>\n",
       "    <tr style=\"text-align: right;\">\n",
       "      <th></th>\n",
       "      <th>name</th>\n",
       "      <th>pronunciation</th>\n",
       "      <th>spell_type</th>\n",
       "      <th>description</th>\n",
       "      <th>count</th>\n",
       "    </tr>\n",
       "  </thead>\n",
       "  <tbody>\n",
       "    <tr>\n",
       "      <th>1</th>\n",
       "      <td>accio</td>\n",
       "      <td>Various, including: AK-ee-oh or AK-see-oh , AK...</td>\n",
       "      <td>Charm</td>\n",
       "      <td>Summons an object towards the caster. It is ab...</td>\n",
       "      <td>34</td>\n",
       "    </tr>\n",
       "    <tr>\n",
       "      <th>2</th>\n",
       "      <td>age line</td>\n",
       "      <td>None</td>\n",
       "      <td>Charm</td>\n",
       "      <td>Prevents people above or below a certain age f...</td>\n",
       "      <td>8</td>\n",
       "    </tr>\n",
       "    <tr>\n",
       "      <th>5</th>\n",
       "      <td>alohomora</td>\n",
       "      <td>ah-LOH-ho-MOR-ah</td>\n",
       "      <td>Charm</td>\n",
       "      <td>Unlocks doors and other objects. It can also u...</td>\n",
       "      <td>9</td>\n",
       "    </tr>\n",
       "    <tr>\n",
       "      <th>16</th>\n",
       "      <td>avada kedavra</td>\n",
       "      <td>ah-VAH-dah keh-DAV-rah</td>\n",
       "      <td>Curse</td>\n",
       "      <td>Kill the pointed person</td>\n",
       "      <td>19</td>\n",
       "    </tr>\n",
       "    <tr>\n",
       "      <th>20</th>\n",
       "      <td>badgering</td>\n",
       "      <td>None</td>\n",
       "      <td>Transfiguration</td>\n",
       "      <td>Turns things into badgers</td>\n",
       "      <td>2</td>\n",
       "    </tr>\n",
       "    <tr>\n",
       "      <th>...</th>\n",
       "      <td>...</td>\n",
       "      <td>...</td>\n",
       "      <td>...</td>\n",
       "      <td>...</td>\n",
       "      <td>...</td>\n",
       "    </tr>\n",
       "    <tr>\n",
       "      <th>216</th>\n",
       "      <td>switching spell</td>\n",
       "      <td>None</td>\n",
       "      <td>Transfiguration</td>\n",
       "      <td>Switches two targets simultaneously.</td>\n",
       "      <td>3</td>\n",
       "    </tr>\n",
       "    <tr>\n",
       "      <th>217</th>\n",
       "      <td>taboo</td>\n",
       "      <td>None</td>\n",
       "      <td>Curse</td>\n",
       "      <td>A jinx which may be placed upon a word or a na...</td>\n",
       "      <td>4</td>\n",
       "    </tr>\n",
       "    <tr>\n",
       "      <th>223</th>\n",
       "      <td>tergeo</td>\n",
       "      <td>TUR-jee-oh</td>\n",
       "      <td>Charm</td>\n",
       "      <td>Siphons liquid and cleans objects.</td>\n",
       "      <td>3</td>\n",
       "    </tr>\n",
       "    <tr>\n",
       "      <th>229</th>\n",
       "      <td>unbreakable vow</td>\n",
       "      <td>None</td>\n",
       "      <td>Spell</td>\n",
       "      <td>Causes a vow taken by a witch or wizard to be ...</td>\n",
       "      <td>6</td>\n",
       "    </tr>\n",
       "    <tr>\n",
       "      <th>241</th>\n",
       "      <td>wingardium leviosa</td>\n",
       "      <td>win-GAR-dee-um lev-ee-OH-sa</td>\n",
       "      <td>Charm</td>\n",
       "      <td>Makes objects fly, or levitate.</td>\n",
       "      <td>5</td>\n",
       "    </tr>\n",
       "  </tbody>\n",
       "</table>\n",
       "<p>64 rows × 5 columns</p>\n",
       "</div>"
      ],
      "text/plain": [
       "                   name                                      pronunciation  \\\n",
       "1                 accio  Various, including: AK-ee-oh or AK-see-oh , AK...   \n",
       "2              age line                                               None   \n",
       "5             alohomora                                   ah-LOH-ho-MOR-ah   \n",
       "16        avada kedavra                             ah-VAH-dah keh-DAV-rah   \n",
       "20            badgering                                               None   \n",
       "..                  ...                                                ...   \n",
       "216     switching spell                                               None   \n",
       "217               taboo                                               None   \n",
       "223              tergeo                                         TUR-jee-oh   \n",
       "229     unbreakable vow                                               None   \n",
       "241  wingardium leviosa                        win-GAR-dee-um lev-ee-OH-sa   \n",
       "\n",
       "          spell_type                                        description  count  \n",
       "1              Charm  Summons an object towards the caster. It is ab...     34  \n",
       "2              Charm  Prevents people above or below a certain age f...      8  \n",
       "5              Charm  Unlocks doors and other objects. It can also u...      9  \n",
       "16             Curse                            Kill the pointed person     19  \n",
       "20   Transfiguration                          Turns things into badgers      2  \n",
       "..               ...                                                ...    ...  \n",
       "216  Transfiguration               Switches two targets simultaneously.      3  \n",
       "217            Curse  A jinx which may be placed upon a word or a na...      4  \n",
       "223            Charm                 Siphons liquid and cleans objects.      3  \n",
       "229            Spell  Causes a vow taken by a witch or wizard to be ...      6  \n",
       "241            Charm                    Makes objects fly, or levitate.      5  \n",
       "\n",
       "[64 rows x 5 columns]"
      ]
     },
     "execution_count": 139,
     "metadata": {},
     "output_type": "execute_result"
    }
   ],
   "source": [
    "df_spell[df_spell['count']>1]"
   ]
  },
  {
   "cell_type": "markdown",
   "id": "831e19dc-d460-4995-8564-3cd05f28389a",
   "metadata": {},
   "source": [
    "As explained earlier, one of our visualisation will probably be some kind of Sankey diagram mapping the most used spell to their type. Let's now extract the top 20 spells sorted by count. For the purpose of the visualisation, we will only keep the top 20 spell that have a pronunciation as it is also an indication of their importance in the saga and we can avoid the fact that some of them appear in the text by chance without being effectively cast. Furthermore, the spell pack is almost unknown in the saga but the substring will appear a lot throughout the books, so we can safely remove it. "
   ]
  },
  {
   "cell_type": "code",
   "execution_count": 140,
   "id": "cf15c487-7e44-466f-b376-0b848ce928cd",
   "metadata": {},
   "outputs": [
    {
     "data": {
      "text/html": [
       "<div>\n",
       "<style scoped>\n",
       "    .dataframe tbody tr th:only-of-type {\n",
       "        vertical-align: middle;\n",
       "    }\n",
       "\n",
       "    .dataframe tbody tr th {\n",
       "        vertical-align: top;\n",
       "    }\n",
       "\n",
       "    .dataframe thead th {\n",
       "        text-align: right;\n",
       "    }\n",
       "</style>\n",
       "<table border=\"1\" class=\"dataframe\">\n",
       "  <thead>\n",
       "    <tr style=\"text-align: right;\">\n",
       "      <th></th>\n",
       "      <th>name</th>\n",
       "      <th>pronunciation</th>\n",
       "      <th>spell_type</th>\n",
       "      <th>description</th>\n",
       "      <th>count</th>\n",
       "    </tr>\n",
       "  </thead>\n",
       "  <tbody>\n",
       "    <tr>\n",
       "      <th>1</th>\n",
       "      <td>accio</td>\n",
       "      <td>Various, including: AK-ee-oh or AK-see-oh , AK...</td>\n",
       "      <td>Charm</td>\n",
       "      <td>Summons an object towards the caster. It is ab...</td>\n",
       "      <td>34</td>\n",
       "    </tr>\n",
       "    <tr>\n",
       "      <th>78</th>\n",
       "      <td>expecto patronum</td>\n",
       "      <td>ecks-PECK-toh pah-TROH-numb</td>\n",
       "      <td>Charm</td>\n",
       "      <td>This charm is a highly powerful and advanced p...</td>\n",
       "      <td>29</td>\n",
       "    </tr>\n",
       "    <tr>\n",
       "      <th>79</th>\n",
       "      <td>expelliarmus</td>\n",
       "      <td>ex-PELL-ee-ARE-muss</td>\n",
       "      <td>Charm</td>\n",
       "      <td>Forces whatever an opponent is holding to fly ...</td>\n",
       "      <td>27</td>\n",
       "    </tr>\n",
       "    <tr>\n",
       "      <th>214</th>\n",
       "      <td>stupefy</td>\n",
       "      <td>STOO-puh-fye</td>\n",
       "      <td>Charm</td>\n",
       "      <td>Stuns the target, rendering them unconscious.</td>\n",
       "      <td>27</td>\n",
       "    </tr>\n",
       "    <tr>\n",
       "      <th>136</th>\n",
       "      <td>lumos</td>\n",
       "      <td>LOO-mos</td>\n",
       "      <td>Charm</td>\n",
       "      <td>Illuminates the tip of the caster's wand, allo...</td>\n",
       "      <td>22</td>\n",
       "    </tr>\n",
       "    <tr>\n",
       "      <th>16</th>\n",
       "      <td>avada kedavra</td>\n",
       "      <td>ah-VAH-dah keh-DAV-rah</td>\n",
       "      <td>Curse</td>\n",
       "      <td>Kill the pointed person</td>\n",
       "      <td>19</td>\n",
       "    </tr>\n",
       "    <tr>\n",
       "      <th>191</th>\n",
       "      <td>riddikulus</td>\n",
       "      <td>rih-dih-KUL-lus</td>\n",
       "      <td>Charm</td>\n",
       "      <td>A spell used when fighting a Boggart, \"Riddiku...</td>\n",
       "      <td>18</td>\n",
       "    </tr>\n",
       "    <tr>\n",
       "      <th>51</th>\n",
       "      <td>crucio</td>\n",
       "      <td>KROO-see-oh</td>\n",
       "      <td>Curse</td>\n",
       "      <td>Inflicts intense pain on the recipient of the ...</td>\n",
       "      <td>15</td>\n",
       "    </tr>\n",
       "    <tr>\n",
       "      <th>119</th>\n",
       "      <td>imperio</td>\n",
       "      <td>im-PEER-ee-oh</td>\n",
       "      <td>Curse</td>\n",
       "      <td>Places the victim completely under the caster'...</td>\n",
       "      <td>15</td>\n",
       "    </tr>\n",
       "    <tr>\n",
       "      <th>172</th>\n",
       "      <td>protego</td>\n",
       "      <td>pro-TAY-goh</td>\n",
       "      <td>Charm</td>\n",
       "      <td>Invisible shield that reflects spells and bloc...</td>\n",
       "      <td>13</td>\n",
       "    </tr>\n",
       "    <tr>\n",
       "      <th>148</th>\n",
       "      <td>muffliato</td>\n",
       "      <td>muf-lee-AH-to</td>\n",
       "      <td>Charm</td>\n",
       "      <td>Prevents others from hearing nearby conversati...</td>\n",
       "      <td>12</td>\n",
       "    </tr>\n",
       "    <tr>\n",
       "      <th>186</th>\n",
       "      <td>reparo</td>\n",
       "      <td>reh-PAH-roh</td>\n",
       "      <td>Charm</td>\n",
       "      <td>Seamlessly repairs broken objects.</td>\n",
       "      <td>11</td>\n",
       "    </tr>\n",
       "    <tr>\n",
       "      <th>199</th>\n",
       "      <td>sectumsempra</td>\n",
       "      <td>sec-tum-SEMP-rah</td>\n",
       "      <td>Curse</td>\n",
       "      <td>Lacerates the target, as if they have been \"sl...</td>\n",
       "      <td>10</td>\n",
       "    </tr>\n",
       "    <tr>\n",
       "      <th>5</th>\n",
       "      <td>alohomora</td>\n",
       "      <td>ah-LOH-ho-MOR-ah</td>\n",
       "      <td>Charm</td>\n",
       "      <td>Unlocks doors and other objects. It can also u...</td>\n",
       "      <td>9</td>\n",
       "    </tr>\n",
       "    <tr>\n",
       "      <th>164</th>\n",
       "      <td>petrificus totalus</td>\n",
       "      <td>pe-TRI-fi-cus to-TAH-lus</td>\n",
       "      <td>Curse</td>\n",
       "      <td>Used to temporarily bind the victim's body in ...</td>\n",
       "      <td>9</td>\n",
       "    </tr>\n",
       "    <tr>\n",
       "      <th>181</th>\n",
       "      <td>reducto</td>\n",
       "      <td>re-DUK-toh</td>\n",
       "      <td>Curse</td>\n",
       "      <td>Breaks objects. In stronger usages, disintegra...</td>\n",
       "      <td>9</td>\n",
       "    </tr>\n",
       "    <tr>\n",
       "      <th>203</th>\n",
       "      <td>silencio</td>\n",
       "      <td>sih-LEN-see-oh</td>\n",
       "      <td>Charm</td>\n",
       "      <td>Makes something silent.</td>\n",
       "      <td>8</td>\n",
       "    </tr>\n",
       "    <tr>\n",
       "      <th>60</th>\n",
       "      <td>diffindo</td>\n",
       "      <td>dih-FIN-doh</td>\n",
       "      <td>Charm</td>\n",
       "      <td>Used to precisely cut or tear objects.</td>\n",
       "      <td>7</td>\n",
       "    </tr>\n",
       "    <tr>\n",
       "      <th>121</th>\n",
       "      <td>impervius</td>\n",
       "      <td>im-PUR-vee-us</td>\n",
       "      <td>Charm</td>\n",
       "      <td>Makes an object repel water and mist.</td>\n",
       "      <td>6</td>\n",
       "    </tr>\n",
       "    <tr>\n",
       "      <th>151</th>\n",
       "      <td>nox</td>\n",
       "      <td>NOCKSS</td>\n",
       "      <td>Charm</td>\n",
       "      <td>Extinguishes wandlight. It the counter-charm f...</td>\n",
       "      <td>5</td>\n",
       "    </tr>\n",
       "  </tbody>\n",
       "</table>\n",
       "</div>"
      ],
      "text/plain": [
       "                   name                                      pronunciation  \\\n",
       "1                 accio  Various, including: AK-ee-oh or AK-see-oh , AK...   \n",
       "78     expecto patronum                        ecks-PECK-toh pah-TROH-numb   \n",
       "79         expelliarmus                                ex-PELL-ee-ARE-muss   \n",
       "214             stupefy                                       STOO-puh-fye   \n",
       "136               lumos                                            LOO-mos   \n",
       "16        avada kedavra                             ah-VAH-dah keh-DAV-rah   \n",
       "191          riddikulus                                    rih-dih-KUL-lus   \n",
       "51               crucio                                        KROO-see-oh   \n",
       "119             imperio                                      im-PEER-ee-oh   \n",
       "172             protego                                        pro-TAY-goh   \n",
       "148           muffliato                                      muf-lee-AH-to   \n",
       "186              reparo                                        reh-PAH-roh   \n",
       "199        sectumsempra                                   sec-tum-SEMP-rah   \n",
       "5             alohomora                                   ah-LOH-ho-MOR-ah   \n",
       "164  petrificus totalus                           pe-TRI-fi-cus to-TAH-lus   \n",
       "181             reducto                                         re-DUK-toh   \n",
       "203            silencio                                     sih-LEN-see-oh   \n",
       "60             diffindo                                        dih-FIN-doh   \n",
       "121           impervius                                      im-PUR-vee-us   \n",
       "151                 nox                                             NOCKSS   \n",
       "\n",
       "    spell_type                                        description  count  \n",
       "1        Charm  Summons an object towards the caster. It is ab...     34  \n",
       "78       Charm  This charm is a highly powerful and advanced p...     29  \n",
       "79       Charm  Forces whatever an opponent is holding to fly ...     27  \n",
       "214      Charm      Stuns the target, rendering them unconscious.     27  \n",
       "136      Charm  Illuminates the tip of the caster's wand, allo...     22  \n",
       "16       Curse                            Kill the pointed person     19  \n",
       "191      Charm  A spell used when fighting a Boggart, \"Riddiku...     18  \n",
       "51       Curse  Inflicts intense pain on the recipient of the ...     15  \n",
       "119      Curse  Places the victim completely under the caster'...     15  \n",
       "172      Charm  Invisible shield that reflects spells and bloc...     13  \n",
       "148      Charm  Prevents others from hearing nearby conversati...     12  \n",
       "186      Charm                 Seamlessly repairs broken objects.     11  \n",
       "199      Curse  Lacerates the target, as if they have been \"sl...     10  \n",
       "5        Charm  Unlocks doors and other objects. It can also u...      9  \n",
       "164      Curse  Used to temporarily bind the victim's body in ...      9  \n",
       "181      Curse  Breaks objects. In stronger usages, disintegra...      9  \n",
       "203      Charm                            Makes something silent.      8  \n",
       "60       Charm             Used to precisely cut or tear objects.      7  \n",
       "121      Charm              Makes an object repel water and mist.      6  \n",
       "151      Charm  Extinguishes wandlight. It the counter-charm f...      5  "
      ]
     },
     "execution_count": 140,
     "metadata": {},
     "output_type": "execute_result"
    }
   ],
   "source": [
    "# Remove the spell without specified pronunciation and take the 20 largest. \n",
    "df_spell = df_spell[df_spell['pronunciation'].apply(lambda x: x is not None)]\n",
    "df_spell.nlargest(20, 'count')"
   ]
  },
  {
   "cell_type": "markdown",
   "id": "f2fdc161-88d1-455b-a6ba-a70f703c2cad",
   "metadata": {},
   "source": [
    "Unfortunately, we can see that the categories other than charm and curse are not present in the top-20 spells. It is a shame but we will do the visualisation as it exposes an interesting as well as an extremly important point in the Harry Potter series. In the previous exploration, we try to spell appearing in the book. In the next cell, we simply save the modified dataframe for later uses.\n"
   ]
  },
  {
   "cell_type": "code",
   "execution_count": 141,
   "id": "2ccfefb0-ba25-4151-a05a-ce7e423b4b91",
   "metadata": {},
   "outputs": [],
   "source": [
    "df_spell.to_json(data_folder+ cleaned_folder+\"spell.json\", orient='index')"
   ]
  },
  {
   "cell_type": "markdown",
   "id": "90416d92-7bc3-4d9c-a304-3c48587d9fb6",
   "metadata": {},
   "source": [
    "### Movie Datasets"
   ]
  },
  {
   "cell_type": "markdown",
   "id": "50d95a0c-63ad-4d8b-9e2b-37906147610d",
   "metadata": {},
   "source": [
    "The ast step of this data exploration part is the movie dataset. AS its name suggets, it contains a lot of information about the movie such as the budget, box-offices or title and lengh of the movie. Furthermore, this dataset contains the whole transcrpit for each of the Harry Potter movie. For now we did not plan to use that part of the dataset but it might become necessary if we want to explore characteristic of each character in each movie. \n",
    "\n",
    "In our visualisation, the data provided by this dataset will probably be used in the introduction part of the visualiation for the moment. Let's start by observing the budget granted to each movie and see how much it produces at the box-office. Then, we will check the length of the movies to see if there is a trend for the movies to last longer or to be shorter. \n",
    "\n",
    "Since those are value specific to each movie, we choose to do abar-plot rather than a distribution. The fact that we have only 8 movies at our disposal reinforces this choice. "
   ]
  },
  {
   "cell_type": "code",
   "execution_count": 142,
   "id": "76e85a3a-7dc3-4151-aa88-c0a194c29443",
   "metadata": {},
   "outputs": [
    {
     "data": {
      "text/html": [
       "<div>\n",
       "<style scoped>\n",
       "    .dataframe tbody tr th:only-of-type {\n",
       "        vertical-align: middle;\n",
       "    }\n",
       "\n",
       "    .dataframe tbody tr th {\n",
       "        vertical-align: top;\n",
       "    }\n",
       "\n",
       "    .dataframe thead th {\n",
       "        text-align: right;\n",
       "    }\n",
       "</style>\n",
       "<table border=\"1\" class=\"dataframe\">\n",
       "  <thead>\n",
       "    <tr style=\"text-align: right;\">\n",
       "      <th></th>\n",
       "      <th>movie</th>\n",
       "      <th>released_year</th>\n",
       "      <th>running_time</th>\n",
       "      <th>budget</th>\n",
       "      <th>box_office</th>\n",
       "      <th>file</th>\n",
       "    </tr>\n",
       "  </thead>\n",
       "  <tbody>\n",
       "    <tr>\n",
       "      <th>0</th>\n",
       "      <td>Harry Potter and the Philosopher's Stone</td>\n",
       "      <td>2001</td>\n",
       "      <td>152</td>\n",
       "      <td>125000000</td>\n",
       "      <td>1002000000</td>\n",
       "      <td>hp1.csv</td>\n",
       "    </tr>\n",
       "    <tr>\n",
       "      <th>1</th>\n",
       "      <td>Harry Potter and the Chamber of Secrets</td>\n",
       "      <td>2002</td>\n",
       "      <td>161</td>\n",
       "      <td>100000000</td>\n",
       "      <td>880300000</td>\n",
       "      <td>hp2.csv</td>\n",
       "    </tr>\n",
       "    <tr>\n",
       "      <th>2</th>\n",
       "      <td>Harry Potter and the Prisoner of Azkaban</td>\n",
       "      <td>2004</td>\n",
       "      <td>142</td>\n",
       "      <td>130000000</td>\n",
       "      <td>796700000</td>\n",
       "      <td>hp3.csv</td>\n",
       "    </tr>\n",
       "    <tr>\n",
       "      <th>3</th>\n",
       "      <td>Harry Potter and the Goblet of Fire</td>\n",
       "      <td>2005</td>\n",
       "      <td>157</td>\n",
       "      <td>150000000</td>\n",
       "      <td>896400000</td>\n",
       "      <td>hp4.csv</td>\n",
       "    </tr>\n",
       "    <tr>\n",
       "      <th>4</th>\n",
       "      <td>Harry Potter and the Order of the Phoenix</td>\n",
       "      <td>2007</td>\n",
       "      <td>138</td>\n",
       "      <td>150000000</td>\n",
       "      <td>942000000</td>\n",
       "      <td>hp5.csv</td>\n",
       "    </tr>\n",
       "  </tbody>\n",
       "</table>\n",
       "</div>"
      ],
      "text/plain": [
       "                                       movie  released_year  running_time  \\\n",
       "0   Harry Potter and the Philosopher's Stone           2001           152   \n",
       "1    Harry Potter and the Chamber of Secrets           2002           161   \n",
       "2   Harry Potter and the Prisoner of Azkaban           2004           142   \n",
       "3        Harry Potter and the Goblet of Fire           2005           157   \n",
       "4  Harry Potter and the Order of the Phoenix           2007           138   \n",
       "\n",
       "      budget  box_office     file  \n",
       "0  125000000  1002000000  hp1.csv  \n",
       "1  100000000   880300000  hp2.csv  \n",
       "2  130000000   796700000  hp3.csv  \n",
       "3  150000000   896400000  hp4.csv  \n",
       "4  150000000   942000000  hp5.csv  "
      ]
     },
     "execution_count": 142,
     "metadata": {},
     "output_type": "execute_result"
    }
   ],
   "source": [
    "df_movies = pd.read_csv(data_folder+movies_folder+\"movies.csv\", sep=';')\n",
    "df_movies.head()"
   ]
  },
  {
   "cell_type": "code",
   "execution_count": 143,
   "id": "e94f8843-f56b-4722-a854-b2109a44f8b0",
   "metadata": {},
   "outputs": [],
   "source": [
    "def plot_columns_bar(df, col):\n",
    "    g = sns.barplot(data=df, x='movie', y=col)\n",
    "    g.set_xticklabels(g.get_xticklabels(),rotation=90)\n",
    "    plt.show()"
   ]
  },
  {
   "cell_type": "code",
   "execution_count": 144,
   "id": "d3774a63-67b7-43d2-acc7-c76bb862c490",
   "metadata": {},
   "outputs": [
    {
     "data": {
      "image/png": "[encoded data removed]",
      "text/plain": [
       "<Figure size 432x288 with 1 Axes>"
      ]
     },
     "metadata": {
      "needs_background": "light"
     },
     "output_type": "display_data"
    }
   ],
   "source": [
    "plot_columns_bar(df_movies, 'running_time')"
   ]
  },
  {
   "cell_type": "markdown",
   "id": "6d0bc1e9-74c5-4b70-a2cd-4e9061677232",
   "metadata": {},
   "source": [
    "It might be interseting to compare the length of the movie with the corresponding book length. Below we provide the number of pages of each book:\n",
    "- Harry Potter and the Sorcerer’s Stone – 309 pages\n",
    "- Harry Potter and the Chamber of Secrets – 341 pages\n",
    "- Harry Potter and the Prisoner of Azkaban – 435 pages\n",
    "- Harry Potter and the Goblet of Fire – 734 pages\n",
    "- Harry Potter and the Order of the Phoenix – 870 pages\n",
    "- Harry Potter and the Half-Blood Prince – 652 pages\n",
    "- Harry Potter and the Deathly Hallows – 759 pages\n",
    "\n",
    "It is interesting to see that the producer created longer movies for the shortest book (Sorcerer's stone and Chamber of Secret) whereas larger books are constrained to a shorter movie (e.g. Order of the Phoenix which is the biggest book has the second shortest movie).\n"
   ]
  },
  {
   "cell_type": "code",
   "execution_count": 145,
   "id": "78ce68ad-de7b-4bb2-9b8f-dad90f5e69f3",
   "metadata": {},
   "outputs": [
    {
     "data": {
      "image/png": "[encoded data removed]",
      "text/plain": [
       "<Figure size 432x288 with 1 Axes>"
      ]
     },
     "metadata": {
      "needs_background": "light"
     },
     "output_type": "display_data"
    }
   ],
   "source": [
    "plot_columns_bar(df_movies, 'budget')"
   ]
  },
  {
   "cell_type": "markdown",
   "id": "55508a2d-f943-4566-86eb-351dac887a72",
   "metadata": {},
   "source": [
    "We can see that the scale of the $y$ axis is on the hundreds of milions. We can also see that the budget increases as long as we advance in the saga. We go from 125M for the first movie to 250 M for the 6th and the last one. Another interseting comment is that the budget is not related to the length of the movie. We previously saw that Harry Potter and the Deathly Hallows part 8 is the shortest movie but also have one of the highest budget. Similarly, Harry Potter and the Chamber of secret is the longest movie but the one having the smallest budget."
   ]
  },
  {
   "cell_type": "code",
   "execution_count": 146,
   "id": "48e7d0be-7f7e-432b-9f2e-8c4f6d6b95d9",
   "metadata": {},
   "outputs": [
    {
     "data": {
      "image/png": "[encoded data removed]",
      "text/plain": [
       "<Figure size 432x288 with 1 Axes>"
      ]
     },
     "metadata": {
      "needs_background": "light"
     },
     "output_type": "display_data"
    }
   ],
   "source": [
    "plot_columns_bar(df_movies, 'box_office')"
   ]
  },
  {
   "cell_type": "markdown",
   "id": "f8197a7a-911d-461c-ae21-0035a25a0718",
   "metadata": {},
   "source": [
    "In the above plot, we can see that even though the budget per movie is icnreasing at each movie, the box-office, in the other hand, seems to be stable for the sven first movies beween 900M and 1B of revenue. It is only for the last movie that people were excited and scores exploded, with a record breaker (for the saga) box-office of ~1.4B."
   ]
  }
 ],
 "metadata": {
  "kernelspec": {
   "display_name": "Python 3 (ipykernel)",
   "language": "python",
   "name": "python3"
  },
  "language_info": {
   "codemirror_mode": {
    "name": "ipython",
    "version": 3
   },
   "file_extension": ".py",
   "mimetype": "text/x-python",
   "name": "python",
   "nbconvert_exporter": "python",
   "pygments_lexer": "ipython3",
   "version": "3.8.12"
  }
 },
 "nbformat": 4,
 "nbformat_minor": 5
}
