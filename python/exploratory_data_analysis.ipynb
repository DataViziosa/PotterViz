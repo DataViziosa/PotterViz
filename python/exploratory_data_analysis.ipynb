{
 "cells": [
  {
   "cell_type": "markdown",
   "id": "439459c3-d48c-4bdc-a836-6d283db84582",
   "metadata": {},
   "source": [
    "## Data Visualization, Exploratory Data Analysis (Milestone 1)"
   ]
  },
  {
   "cell_type": "code",
   "execution_count": 1,
   "id": "869c3343-a99e-4b12-a8b4-25f74388499e",
   "metadata": {},
   "outputs": [],
   "source": [
    "import pandas as pd\n",
    "import numpy as np\n",
    "import seaborn as sns\n",
    "import matplotlib.pyplot as plt"
   ]
  },
  {
   "cell_type": "code",
   "execution_count": 2,
   "id": "4bd0662d-4a05-4b43-8d9a-7a7beb89d3ce",
   "metadata": {},
   "outputs": [],
   "source": [
    "data_folder = \"../data/\"\n",
    "hpcollection_folder = \"hpcollection/\"\n",
    "hp_network_folder = \"hp_networks/\"\n",
    "hpbooks_folder = \"hpbooks/\"\n",
    "movies_folder = \"movies/\""
   ]
  },
  {
   "cell_type": "markdown",
   "id": "e2acc0c5-3b8f-4506-83b0-423bb18e73ee",
   "metadata": {
    "tags": []
   },
   "source": [
    "### Exploring [Harry Potter Collection dataset](https://github.com/theDavidBarton/the-harry-potter-database)"
   ]
  },
  {
   "cell_type": "code",
   "execution_count": 3,
   "id": "8dc4b9d5-0975-4c6c-af05-fc4025af6075",
   "metadata": {},
   "outputs": [],
   "source": [
    "df_hp_chars = pd.read_json(data_folder+hpcollection_folder+\"characters.json\") "
   ]
  },
  {
   "cell_type": "code",
   "execution_count": 4,
   "id": "82fceee4-eccb-4fdd-9032-e44f1fffd538",
   "metadata": {},
   "outputs": [
    {
     "data": {
      "text/html": [
       "<div>\n",
       "<style scoped>\n",
       "    .dataframe tbody tr th:only-of-type {\n",
       "        vertical-align: middle;\n",
       "    }\n",
       "\n",
       "    .dataframe tbody tr th {\n",
       "        vertical-align: top;\n",
       "    }\n",
       "\n",
       "    .dataframe thead th {\n",
       "        text-align: right;\n",
       "    }\n",
       "</style>\n",
       "<table border=\"1\" class=\"dataframe\">\n",
       "  <thead>\n",
       "    <tr style=\"text-align: right;\">\n",
       "      <th></th>\n",
       "      <th>id</th>\n",
       "      <th>name</th>\n",
       "      <th>birth</th>\n",
       "      <th>death</th>\n",
       "      <th>species</th>\n",
       "      <th>ancestry</th>\n",
       "      <th>gender</th>\n",
       "      <th>hair_color</th>\n",
       "      <th>eye_color</th>\n",
       "      <th>wand</th>\n",
       "      <th>patronus</th>\n",
       "      <th>house</th>\n",
       "      <th>associated_groups</th>\n",
       "      <th>books_featured_in</th>\n",
       "    </tr>\n",
       "  </thead>\n",
       "  <tbody>\n",
       "    <tr>\n",
       "      <th>575</th>\n",
       "      <td>622</td>\n",
       "      <td>Bellatrix Lestrange</td>\n",
       "      <td>1951</td>\n",
       "      <td>2 May, 1998 (aged 46 - 47)</td>\n",
       "      <td>Human</td>\n",
       "      <td>Pure-blood</td>\n",
       "      <td>Female</td>\n",
       "      <td>Black</td>\n",
       "      <td>None</td>\n",
       "      <td>12¾\", Walnut, dragon heartstring</td>\n",
       "      <td>None</td>\n",
       "      <td>House of Black</td>\n",
       "      <td>[]</td>\n",
       "      <td>[4, 5, 6, 7]</td>\n",
       "    </tr>\n",
       "  </tbody>\n",
       "</table>\n",
       "</div>"
      ],
      "text/plain": [
       "      id                 name birth                       death species  \\\n",
       "575  622  Bellatrix Lestrange  1951  2 May, 1998 (aged 46 - 47)   Human   \n",
       "\n",
       "       ancestry  gender hair_color eye_color  \\\n",
       "575  Pure-blood  Female      Black      None   \n",
       "\n",
       "                                 wand patronus           house  \\\n",
       "575  12¾\", Walnut, dragon heartstring     None  House of Black   \n",
       "\n",
       "    associated_groups books_featured_in  \n",
       "575                []      [4, 5, 6, 7]  "
      ]
     },
     "execution_count": 4,
     "metadata": {},
     "output_type": "execute_result"
    }
   ],
   "source": [
    "df_hp_chars[df_hp_chars['name']=='Bellatrix Lestrange'].head(2)"
   ]
  },
  {
   "cell_type": "markdown",
   "id": "32fa49d8-55ed-4dcb-ade0-6e1e2289767f",
   "metadata": {
    "tags": []
   },
   "source": [
    "#### Exploring the characters"
   ]
  },
  {
   "cell_type": "code",
   "execution_count": 5,
   "id": "e8b1f817-5343-4ab0-bcd8-d1bdbd8deba3",
   "metadata": {},
   "outputs": [
    {
     "data": {
      "text/plain": [
       "707"
      ]
     },
     "execution_count": 5,
     "metadata": {},
     "output_type": "execute_result"
    }
   ],
   "source": [
    "df_hp_chars['id'].count()"
   ]
  },
  {
   "cell_type": "markdown",
   "id": "48f2aa4c-773d-4231-a08f-80e124471d95",
   "metadata": {},
   "source": [
    "In the dataset, we can see that there are 707 different characters. We will see the number of recurrent characters throughout the book series. "
   ]
  },
  {
   "cell_type": "code",
   "execution_count": 6,
   "id": "e5b7f526-a5b5-4e6c-b7d2-1d96cbf3c9a8",
   "metadata": {},
   "outputs": [
    {
     "data": {
      "image/png": "[encoded data removed]",
      "text/plain": [
       "<Figure size 360x360 with 1 Axes>"
      ]
     },
     "metadata": {
      "needs_background": "light"
     },
     "output_type": "display_data"
    }
   ],
   "source": [
    "df_hp_chars['nb_books_featured_in'] = df_hp_chars['books_featured_in'].apply(lambda x: len(x))\n",
    "\n",
    "fig = sns.displot(df_hp_chars['nb_books_featured_in'] )\n",
    "plt.title(\"Histogram of the number of characters appearing in several books\")\n",
    "plt.xlabel(\"Number of books\")\n",
    "plt.ylabel(\"Count of characters\")\n",
    "plt.yscale('log')\n",
    "plt.show()"
   ]
  },
  {
   "cell_type": "code",
   "execution_count": 7,
   "id": "528d5873-54f2-48ff-9ff5-bb79805f7707",
   "metadata": {},
   "outputs": [
    {
     "data": {
      "text/plain": [
       "1    431\n",
       "2     92\n",
       "3     60\n",
       "7     51\n",
       "4     37\n",
       "5     25\n",
       "6     11\n",
       "Name: nb_books_featured_in, dtype: int64"
      ]
     },
     "execution_count": 7,
     "metadata": {},
     "output_type": "execute_result"
    }
   ],
   "source": [
    "df_hp_chars['nb_books_featured_in'].value_counts()"
   ]
  },
  {
   "cell_type": "markdown",
   "id": "0729177e-9bea-4825-841c-d05ed15ba47c",
   "metadata": {},
   "source": [
    "Note that the y-axis is in log-scale. We can see that there a lot of characters (aroung 2/3) appear in only one book. Another interesting insight is that we have more characters appearing in all the books than characters appearing in only 4,5 or 6 books. "
   ]
  },
  {
   "cell_type": "markdown",
   "id": "9a49046a-cb6f-45f6-887f-39d844f58802",
   "metadata": {},
   "source": [
    "##### Gender"
   ]
  },
  {
   "cell_type": "markdown",
   "id": "69c3e1f5-fbdd-4c6a-82ae-1a4cd581fdd6",
   "metadata": {},
   "source": [
    "We first take a look at the different type of gender there are in books."
   ]
  },
  {
   "cell_type": "code",
   "execution_count": 8,
   "id": "2b100ae8-d3b0-4135-bfd6-51029e965ff5",
   "metadata": {},
   "outputs": [
    {
     "data": {
      "text/plain": [
       "Male                  437\n",
       "Female                244\n",
       "Males                   4\n",
       "Male (likely)           2\n",
       "Females                 2\n",
       "Females, Males          1\n",
       "Males and females       1\n",
       "At least one boy        1\n",
       "Male (most likely)      1\n",
       "Female (likely)         1\n",
       "Name: gender, dtype: int64"
      ]
     },
     "execution_count": 8,
     "metadata": {},
     "output_type": "execute_result"
    }
   ],
   "source": [
    "df_hp_chars['gender'].value_counts()"
   ]
  },
  {
   "cell_type": "markdown",
   "id": "0ae7ccac-fd3e-4113-ac90-1dc35fbf42b4",
   "metadata": {},
   "source": [
    "For the purpose of our visualisation and since the number of exceptions is very small, we will map the gender which are not male or female to the closest gender. "
   ]
  },
  {
   "cell_type": "code",
   "execution_count": 9,
   "id": "ba535204-4df3-4270-98c0-ac4bbac4533b",
   "metadata": {},
   "outputs": [],
   "source": [
    "def map_to_closest_gender(gender):\n",
    "    if gender is None: \n",
    "        return None\n",
    "    if \"female\" in gender.lower() or \"girl\" in gender.lower():\n",
    "        return \"female\"\n",
    "    else:\n",
    "        return \"male\"\n",
    "    \n",
    "df_hp_chars['gender'] = df_hp_chars['gender'].apply(map_to_closest_gender)"
   ]
  },
  {
   "cell_type": "code",
   "execution_count": 10,
   "id": "e25008dd-20f4-4137-82a7-3237e914d473",
   "metadata": {},
   "outputs": [],
   "source": [
    "def plot_pie(df, columns):\n",
    "    data = df[columns].value_counts().values\n",
    "    labels = df[columns].value_counts().index\n",
    "\n",
    "    colors = sns.color_palette('pastel')[0:5]\n",
    "\n",
    "    #create pie chart\n",
    "    plt.pie(data, labels = labels, colors = colors, autopct='%.0f%%')\n",
    "    plt.title(\"Pie chart repartition \"+ columns)\n",
    "    plt.show()"
   ]
  },
  {
   "cell_type": "code",
   "execution_count": 11,
   "id": "33bd7306-dd05-484e-ac5f-4319ed1dff65",
   "metadata": {},
   "outputs": [
    {
     "data": {
      "image/png": "[encoded data removed]",
      "text/plain": [
       "<Figure size 432x288 with 1 Axes>"
      ]
     },
     "metadata": {},
     "output_type": "display_data"
    }
   ],
   "source": [
    "plot_pie(df_hp_chars, \"gender\")"
   ]
  },
  {
   "cell_type": "markdown",
   "id": "f9f629c4-8555-49f7-887e-a913deb6493b",
   "metadata": {},
   "source": [
    "We can see that around 2/3 of the characters in this Harry Potter are men and 1/3 are women. Let see what is the gender of the recurrent characters in the Harry Potter serie. "
   ]
  },
  {
   "cell_type": "code",
   "execution_count": 12,
   "id": "32bd1469-75ef-429e-b2eb-dfdac3da6f9b",
   "metadata": {},
   "outputs": [
    {
     "data": {
      "text/plain": [
       "gender  nb_books_featured_in\n",
       "male    1                       273\n",
       "female  1                       148\n",
       "male    2                        57\n",
       "        3                        40\n",
       "female  2                        34\n",
       "male    7                        32\n",
       "        4                        23\n",
       "female  3                        19\n",
       "        7                        19\n",
       "        4                        14\n",
       "male    5                        13\n",
       "female  5                        11\n",
       "male    6                         7\n",
       "female  6                         4\n",
       "dtype: int64"
      ]
     },
     "execution_count": 12,
     "metadata": {},
     "output_type": "execute_result"
    }
   ],
   "source": [
    "data = df_hp_chars.loc[:,[\"gender\", \"nb_books_featured_in\"]].value_counts()\n",
    "data\n",
    "df_hp_chars.loc[:,[\"gender\", \"nb_books_featured_in\"]].value_counts()"
   ]
  },
  {
   "cell_type": "code",
   "execution_count": 13,
   "id": "aca62c1a-4b4f-4794-9166-d394532ad426",
   "metadata": {},
   "outputs": [
    {
     "data": {
      "image/png": "[encoded data removed]",
      "text/plain": [
       "<Figure size 432x288 with 1 Axes>"
      ]
     },
     "metadata": {
      "needs_background": "light"
     },
     "output_type": "display_data"
    }
   ],
   "source": [
    "sns.heatmap(pd.crosstab(df_hp_chars['nb_books_featured_in'],df_hp_chars['gender']), annot=True, fmt=\"d\", linewidths=.5, cbar=False)\n",
    "plt.title('Heatmap of the characters w.r.t. to the number of books in which they appear')\n",
    "plt.xlabel('Gender')\n",
    "plt.ylabel('Number of boooks')\n",
    "plt.show()"
   ]
  },
  {
   "cell_type": "markdown",
   "id": "6edb82b8-a5d8-4d22-99a4-57b906d9f2bb",
   "metadata": {},
   "source": [
    "As we can see, males are around 1.5 or twice more present than female in each category. This could introduces some biases in subsequent analysis and we must be careful. "
   ]
  },
  {
   "cell_type": "markdown",
   "id": "b0a93073-095e-43ac-8107-8120c84c0de2",
   "metadata": {},
   "source": [
    "##### Houses"
   ]
  },
  {
   "cell_type": "markdown",
   "id": "e22bd793-f82c-4ac1-adc6-94798d67f0d7",
   "metadata": {},
   "source": [
    "When a new wizard goes to Hogwarts to learn magic, (s)he will first be splitted into one of the houses: Gryffindor, Ravenclaw, Slytherin or Hufflepuff. We will now take a look at our list characters and see which are the most dominant houses. \n",
    "\n",
    "Before being able to do this, we will have to do some cleaning on the data as we can see that there are a lot more houses than the 4 expected. "
   ]
  },
  {
   "cell_type": "code",
   "execution_count": 14,
   "id": "4646dcad-8a10-4d81-9988-9c5278ddb868",
   "metadata": {},
   "outputs": [
    {
     "data": {
      "text/plain": [
       "Gryffindor                                       56\n",
       "Slytherin                                        36\n",
       "Ravenclaw                                        29\n",
       "Hufflepuff                                       23\n",
       "House of Black                                    9\n",
       "Malfoy family                                     3\n",
       "Gryffindor (possibly)                             3\n",
       "Slytherin (possibly)                              3\n",
       "Unknown                                           3\n",
       "House of Gaunt                                    2\n",
       "Gryffindor, Hufflepuff, or Slytherin              2\n",
       "Ravenclaw (possibly)                              2\n",
       "House of Black (formerly)                         2\n",
       "Gryffindor (likely)                               2\n",
       "Slytherin (likely)                                2\n",
       "Hufflepuff (likely)                               2\n",
       "Riddle family (formerly)                          1\n",
       "Hufflepuff (possibly)                             1\n",
       "Lord Voldemort                                    1\n",
       "Hogwarts School of Witchcraft and Wizardry        1\n",
       "Arthur Weasley (paternal grandfather)             1\n",
       "House of Black (disowned posthumously)            1\n",
       "Slytherin (most likely)                           1\n",
       "Ravenclaw (likely)                                1\n",
       "House of Gaunt (abandoned)                        1\n",
       "Salazar Slytherin                                 1\n",
       "Septimus Weasley (paternal great-grandfather)     1\n",
       "Name: house, dtype: int64"
      ]
     },
     "execution_count": 14,
     "metadata": {},
     "output_type": "execute_result"
    }
   ],
   "source": [
    "df_hp_chars['house'].value_counts()"
   ]
  },
  {
   "cell_type": "markdown",
   "id": "0d17a02a-20fb-43c9-a48c-db92bcad6de6",
   "metadata": {},
   "source": [
    "Surprisingly, He-Who-Must-Not-Be-Named seems to have created a new house... "
   ]
  },
  {
   "cell_type": "code",
   "execution_count": 15,
   "id": "b40729f7-c6bc-4272-b4d2-ca3aebcbd14b",
   "metadata": {},
   "outputs": [
    {
     "data": {
      "text/html": [
       "<div>\n",
       "<style scoped>\n",
       "    .dataframe tbody tr th:only-of-type {\n",
       "        vertical-align: middle;\n",
       "    }\n",
       "\n",
       "    .dataframe tbody tr th {\n",
       "        vertical-align: top;\n",
       "    }\n",
       "\n",
       "    .dataframe thead th {\n",
       "        text-align: right;\n",
       "    }\n",
       "</style>\n",
       "<table border=\"1\" class=\"dataframe\">\n",
       "  <thead>\n",
       "    <tr style=\"text-align: right;\">\n",
       "      <th></th>\n",
       "      <th>id</th>\n",
       "      <th>name</th>\n",
       "      <th>birth</th>\n",
       "      <th>death</th>\n",
       "      <th>species</th>\n",
       "      <th>ancestry</th>\n",
       "      <th>gender</th>\n",
       "      <th>hair_color</th>\n",
       "      <th>eye_color</th>\n",
       "      <th>wand</th>\n",
       "      <th>patronus</th>\n",
       "      <th>house</th>\n",
       "      <th>associated_groups</th>\n",
       "      <th>books_featured_in</th>\n",
       "      <th>nb_books_featured_in</th>\n",
       "    </tr>\n",
       "  </thead>\n",
       "  <tbody>\n",
       "    <tr>\n",
       "      <th>241</th>\n",
       "      <td>244</td>\n",
       "      <td>Rodolphus Lestrange</td>\n",
       "      <td>Pre 1964</td>\n",
       "      <td>None</td>\n",
       "      <td>Human</td>\n",
       "      <td>Pure-blood</td>\n",
       "      <td>male</td>\n",
       "      <td>Dark</td>\n",
       "      <td>Dark</td>\n",
       "      <td>None</td>\n",
       "      <td>None</td>\n",
       "      <td>Lord Voldemort</td>\n",
       "      <td>[]</td>\n",
       "      <td>[4, 5, 7]</td>\n",
       "      <td>3</td>\n",
       "    </tr>\n",
       "  </tbody>\n",
       "</table>\n",
       "</div>"
      ],
      "text/plain": [
       "      id                 name     birth death species    ancestry gender  \\\n",
       "241  244  Rodolphus Lestrange  Pre 1964  None   Human  Pure-blood   male   \n",
       "\n",
       "    hair_color eye_color  wand patronus           house associated_groups  \\\n",
       "241       Dark      Dark  None     None  Lord Voldemort                []   \n",
       "\n",
       "    books_featured_in  nb_books_featured_in  \n",
       "241         [4, 5, 7]                     3  "
      ]
     },
     "execution_count": 15,
     "metadata": {},
     "output_type": "execute_result"
    }
   ],
   "source": [
    "df_hp_chars[df_hp_chars['house']=='Lord Voldemort'].head(10)"
   ]
  },
  {
   "cell_type": "markdown",
   "id": "bab5dbfa-2dcf-4c89-b785-8f951770d073",
   "metadata": {},
   "source": [
    "Rodolphus Lestrange is in fact one of the most death eather serving Lord Voldemort, it is also known that it belongs to the Slytherin house, we will correct this in a global function later. A choice that we choose to make is for all the house such as Gryffindor (likely) we will put them in the Gryffindor house. The next interesting thing is that the basilisk (which is a snake seems to belong to an house), we will remove this from the house column and put in the associated groups later. "
   ]
  },
  {
   "cell_type": "code",
   "execution_count": 16,
   "id": "84bf4ffe-55bb-403e-8742-e556a2594d88",
   "metadata": {},
   "outputs": [
    {
     "data": {
      "text/html": [
       "<div>\n",
       "<style scoped>\n",
       "    .dataframe tbody tr th:only-of-type {\n",
       "        vertical-align: middle;\n",
       "    }\n",
       "\n",
       "    .dataframe tbody tr th {\n",
       "        vertical-align: top;\n",
       "    }\n",
       "\n",
       "    .dataframe thead th {\n",
       "        text-align: right;\n",
       "    }\n",
       "</style>\n",
       "<table border=\"1\" class=\"dataframe\">\n",
       "  <thead>\n",
       "    <tr style=\"text-align: right;\">\n",
       "      <th></th>\n",
       "      <th>id</th>\n",
       "      <th>name</th>\n",
       "      <th>birth</th>\n",
       "      <th>death</th>\n",
       "      <th>species</th>\n",
       "      <th>ancestry</th>\n",
       "      <th>gender</th>\n",
       "      <th>hair_color</th>\n",
       "      <th>eye_color</th>\n",
       "      <th>wand</th>\n",
       "      <th>patronus</th>\n",
       "      <th>house</th>\n",
       "      <th>associated_groups</th>\n",
       "      <th>books_featured_in</th>\n",
       "      <th>nb_books_featured_in</th>\n",
       "    </tr>\n",
       "  </thead>\n",
       "  <tbody>\n",
       "    <tr>\n",
       "      <th>653</th>\n",
       "      <td>700</td>\n",
       "      <td>Serpent of Slytherin</td>\n",
       "      <td>c. 993</td>\n",
       "      <td>29 May, 1993 (aged around 1000)</td>\n",
       "      <td>Basilisk</td>\n",
       "      <td>None</td>\n",
       "      <td>female</td>\n",
       "      <td>None</td>\n",
       "      <td>Yellow</td>\n",
       "      <td>None</td>\n",
       "      <td>None</td>\n",
       "      <td>Salazar Slytherin</td>\n",
       "      <td>[]</td>\n",
       "      <td>[2, 3, 4, 5, 6, 7]</td>\n",
       "      <td>6</td>\n",
       "    </tr>\n",
       "  </tbody>\n",
       "</table>\n",
       "</div>"
      ],
      "text/plain": [
       "      id                  name   birth                            death  \\\n",
       "653  700  Serpent of Slytherin  c. 993  29 May, 1993 (aged around 1000)   \n",
       "\n",
       "      species ancestry  gender hair_color eye_color  wand patronus  \\\n",
       "653  Basilisk     None  female       None    Yellow  None     None   \n",
       "\n",
       "                 house associated_groups   books_featured_in  \\\n",
       "653  Salazar Slytherin                []  [2, 3, 4, 5, 6, 7]   \n",
       "\n",
       "     nb_books_featured_in  \n",
       "653                     6  "
      ]
     },
     "execution_count": 16,
     "metadata": {},
     "output_type": "execute_result"
    }
   ],
   "source": [
    "df_hp_chars[df_hp_chars['house']=='Salazar Slytherin'].head(10)"
   ]
  },
  {
   "cell_type": "markdown",
   "id": "cf3a355f-70a0-4b94-bace-7ad191eccf25",
   "metadata": {},
   "source": [
    "The same thing will happen to people belonging to the House of Gaunt whose member were not able to attend courses at Hogwarts. "
   ]
  },
  {
   "cell_type": "markdown",
   "id": "0921c12b-5dec-4f8f-964c-d636b6a1d77e",
   "metadata": {},
   "source": [
    "Phineas Nigellus Black is a wizard belonging to the Slytherin house and become later headmaster of Hogwarts, we will also correct this issue. All humans from the Black family are known to belong to the Slytherin house (except Sirius =D), we will therefore also move them into the corresponding house. Similarly, all the members of the Malfoy family are known to belong the Slytherin house. The other cases not discussed are negligible and the house will be removed"
   ]
  },
  {
   "cell_type": "code",
   "execution_count": 17,
   "id": "ca5f092d-9e35-4e51-aa9d-50ec84210f24",
   "metadata": {},
   "outputs": [],
   "source": [
    "def custom_association(name, house,cur_x):\n",
    "    if house == \"House of Gaunt\":\n",
    "        return cur_x + [\"House of Gaunt\"]\n",
    "    elif house == \"House of Gaunt (abandoned)\":\n",
    "        return cur_x + [\"House of Gaunt\",\"Riddle family\"]\n",
    "    elif name == \"Tom Riddle (Voldemort)\":\n",
    "        return cur_x + [\"Lord Voldemort\",\"House of Gaunt\", \"Riddle family\", \"Hogwarts School of Witchcraft and Wizardry\"]\n",
    "    elif name == \"Narcissa Malfoy\":\n",
    "        return cur_x + [\"House of Black\",'Malfoy family', \"Hogwarts School of Witchcraft and Wizardry\"]\n",
    "    elif name == \"Bellatrix Lestrange\":\n",
    "        return cur_x + [\"House of Black\",'Malfoy family', \"Hogwarts School of Witchcraft and Wizardry\"]\n",
    "    elif house == \"House of Black\":\n",
    "        return  cur_x+[\"House of Black\"]\n",
    "    elif house == 'House of Black (formerly)':\n",
    "        return  cur_x+[\"House of Black\"]\n",
    "    elif house == 'Malfoy family':\n",
    "        return  cur_x+['Malfoy family']\n",
    "    elif house == \"Riddle family (formerly)\":\n",
    "        return  cur_x+[\"Riddle family\"]\n",
    "    elif house == \"Hogwarts School of Witchcraft and Wizardry\":\n",
    "        return  cur_x+[\"House of Black\"]\n",
    "    else:\n",
    "        return cur_x\n",
    "\n",
    "        \n",
    "    \n",
    "\n",
    "def format_house(house):\n",
    "    if house is None:\n",
    "        return None\n",
    "    if house == \"Lord Voldemort\" or house=='Hogwarts School of Witchcraft and Wizardry': \n",
    "        return \"Slytherin\"\n",
    "    elif \"Hufflepuff\" in house:\n",
    "        return \"Hufflepuff\"\n",
    "    elif \"Gryffindor\" in house:\n",
    "        return \"Gryffindor\"\n",
    "    elif \"Slytherin\" in house or \"House of Black\" in house:\n",
    "        return \"Slytherin\"\n",
    "    elif \"Ravenclaw\" in house:\n",
    "        return \"Ravenclaw\"\n",
    "    else: \n",
    "        return None\n",
    "    \n",
    "def add_house_as_association_if_not_already(house, assoc):\n",
    "    if house is None:\n",
    "        return assoc\n",
    "    else: \n",
    "        if 'Hogwarts School of Witchcraft and Wizardry' in assoc:\n",
    "            return assoc if house in assoc else assoc +[house]\n",
    "        else:\n",
    "            return assoc if house in assoc else assoc +[house,'Hogwarts School of Witchcraft and Wizardry']\n",
    "        "
   ]
  },
  {
   "cell_type": "code",
   "execution_count": 18,
   "id": "f873299c-ee2e-47ab-b541-e0735b546919",
   "metadata": {},
   "outputs": [],
   "source": [
    "df_hp_chars['associated_groups'] = df_hp_chars.apply(lambda x: custom_association(x['name'], x['house'], x['associated_groups']),axis=1)"
   ]
  },
  {
   "cell_type": "code",
   "execution_count": 19,
   "id": "a8331635-7880-4875-bb84-76c0988b8cf5",
   "metadata": {},
   "outputs": [],
   "source": [
    "df_hp_chars['house'] = df_hp_chars['house'].apply(format_house)\n",
    "df_hp_chars['associated_groups'] = df_hp_chars.apply(lambda x: add_house_as_association_if_not_already(x['house'], x['associated_groups']),axis=1)"
   ]
  },
  {
   "cell_type": "code",
   "execution_count": 20,
   "id": "35f2dc7f-89e6-491c-bcd3-a2df6a05b78f",
   "metadata": {},
   "outputs": [
    {
     "data": {
      "image/png": "[encoded data removed]",
      "text/plain": [
       "<Figure size 432x288 with 1 Axes>"
      ]
     },
     "metadata": {},
     "output_type": "display_data"
    }
   ],
   "source": [
    "plot_pie(df_hp_chars, \"house\")"
   ]
  },
  {
   "cell_type": "markdown",
   "id": "8fe7d08c-801d-488a-9ba1-cc4ff4709d51",
   "metadata": {},
   "source": [
    "As exepected, we can see that the majority of the characters belong to the rival houses Gryffindor and Slytherin. Nevertheless, we would have expected less characters in the two other houses. This is good as our visualisation will be more balance between the houses. "
   ]
  },
  {
   "cell_type": "markdown",
   "id": "95235fda-9f1b-4e1b-b604-e75ae7d0c2c2",
   "metadata": {},
   "source": [
    "##### Wands"
   ]
  },
  {
   "cell_type": "code",
   "execution_count": 21,
   "id": "3ff830be-3cde-4c08-aee9-3fe33607098c",
   "metadata": {},
   "outputs": [],
   "source": [
    "df_wands = pd.read_json(data_folder+hpcollection_folder+\"wand.json\") "
   ]
  },
  {
   "cell_type": "code",
   "execution_count": 22,
   "id": "51b38177-fd8c-4dfb-9434-013d019614d3",
   "metadata": {},
   "outputs": [
    {
     "data": {
      "text/plain": [
       "(27, 5)"
      ]
     },
     "execution_count": 22,
     "metadata": {},
     "output_type": "execute_result"
    }
   ],
   "source": [
    "df_wands.shape"
   ]
  },
  {
   "cell_type": "markdown",
   "id": "bb35eb2b-68de-465d-9db5-f1e6055756ab",
   "metadata": {},
   "source": [
    "We can see that despite the high number of characters shown in the book series, we only know the wand composition of 27 of them. For our interactive visualisation with wand, this can be a bit limiting but the known wands are probably the ones of the most known characters, this will do the job. "
   ]
  },
  {
   "cell_type": "code",
   "execution_count": 23,
   "id": "862187ba-ee2e-4e92-b7bf-e44f463583ac",
   "metadata": {},
   "outputs": [
    {
     "data": {
      "text/html": [
       "<div>\n",
       "<style scoped>\n",
       "    .dataframe tbody tr th:only-of-type {\n",
       "        vertical-align: middle;\n",
       "    }\n",
       "\n",
       "    .dataframe tbody tr th {\n",
       "        vertical-align: top;\n",
       "    }\n",
       "\n",
       "    .dataframe thead th {\n",
       "        text-align: right;\n",
       "    }\n",
       "</style>\n",
       "<table border=\"1\" class=\"dataframe\">\n",
       "  <thead>\n",
       "    <tr style=\"text-align: right;\">\n",
       "      <th></th>\n",
       "      <th>id</th>\n",
       "      <th>name</th>\n",
       "      <th>birth</th>\n",
       "      <th>death</th>\n",
       "      <th>species</th>\n",
       "      <th>ancestry</th>\n",
       "      <th>gender</th>\n",
       "      <th>hair_color</th>\n",
       "      <th>eye_color</th>\n",
       "      <th>patronus</th>\n",
       "      <th>house</th>\n",
       "      <th>associated_groups</th>\n",
       "      <th>books_featured_in</th>\n",
       "      <th>nb_books_featured_in</th>\n",
       "      <th>wood</th>\n",
       "      <th>length</th>\n",
       "      <th>core</th>\n",
       "      <th>Note</th>\n",
       "    </tr>\n",
       "  </thead>\n",
       "  <tbody>\n",
       "    <tr>\n",
       "      <th>0</th>\n",
       "      <td>1</td>\n",
       "      <td>Euan Abercrombie</td>\n",
       "      <td>between 1 September 1983 and 31 August 1984</td>\n",
       "      <td>None</td>\n",
       "      <td>Human</td>\n",
       "      <td>None</td>\n",
       "      <td>male</td>\n",
       "      <td>None</td>\n",
       "      <td>None</td>\n",
       "      <td>None</td>\n",
       "      <td>Gryffindor</td>\n",
       "      <td>[Hogwarts School of Witchcraft and Wizardry, G...</td>\n",
       "      <td>[5]</td>\n",
       "      <td>1</td>\n",
       "      <td>NaN</td>\n",
       "      <td>NaN</td>\n",
       "      <td>NaN</td>\n",
       "      <td>NaN</td>\n",
       "    </tr>\n",
       "    <tr>\n",
       "      <th>1</th>\n",
       "      <td>2</td>\n",
       "      <td>Stewart Ackerley</td>\n",
       "      <td>between 1 September 1982and 31 August 1983</td>\n",
       "      <td>None</td>\n",
       "      <td>Human</td>\n",
       "      <td>None</td>\n",
       "      <td>male</td>\n",
       "      <td>None</td>\n",
       "      <td>None</td>\n",
       "      <td>None</td>\n",
       "      <td>Ravenclaw</td>\n",
       "      <td>[Ravenclaw, Hogwarts School of Witchcraft and ...</td>\n",
       "      <td>[4]</td>\n",
       "      <td>1</td>\n",
       "      <td>NaN</td>\n",
       "      <td>NaN</td>\n",
       "      <td>NaN</td>\n",
       "      <td>NaN</td>\n",
       "    </tr>\n",
       "  </tbody>\n",
       "</table>\n",
       "</div>"
      ],
      "text/plain": [
       "   id              name                                        birth death  \\\n",
       "0   1  Euan Abercrombie  between 1 September 1983 and 31 August 1984  None   \n",
       "1   2  Stewart Ackerley   between 1 September 1982and 31 August 1983  None   \n",
       "\n",
       "  species ancestry gender hair_color eye_color patronus       house  \\\n",
       "0   Human     None   male       None      None     None  Gryffindor   \n",
       "1   Human     None   male       None      None     None   Ravenclaw   \n",
       "\n",
       "                                   associated_groups books_featured_in  \\\n",
       "0  [Hogwarts School of Witchcraft and Wizardry, G...               [5]   \n",
       "1  [Ravenclaw, Hogwarts School of Witchcraft and ...               [4]   \n",
       "\n",
       "   nb_books_featured_in wood  length core Note  \n",
       "0                     1  NaN     NaN  NaN  NaN  \n",
       "1                     1  NaN     NaN  NaN  NaN  "
      ]
     },
     "execution_count": 23,
     "metadata": {},
     "output_type": "execute_result"
    }
   ],
   "source": [
    "df_hp_chars = df_hp_chars.merge(df_wands, how='left',left_on='name', right_on='name').drop('wand', axis=1)\n",
    "df_hp_chars.head(2)"
   ]
  },
  {
   "cell_type": "code",
   "execution_count": 24,
   "id": "2b7e93c2-db8b-428b-bd86-4b61918ae014",
   "metadata": {},
   "outputs": [
    {
     "data": {
      "image/png": "[encoded data removed]",
      "text/plain": [
       "<Figure size 432x288 with 1 Axes>"
      ]
     },
     "metadata": {},
     "output_type": "display_data"
    }
   ],
   "source": [
    "plot_pie(df_hp_chars, \"core\")"
   ]
  },
  {
   "cell_type": "markdown",
   "id": "fe9b45cb-1f81-45f0-ab1b-5be04fd47d55",
   "metadata": {},
   "source": [
    "We can see that the Unicorn hair and Dragon Hearstring are the \"most popular\" within the character with a known wand core. We will also quickly inspect the different wood used in the character wands. "
   ]
  },
  {
   "cell_type": "code",
   "execution_count": 25,
   "id": "f5a2ea2c-401f-413b-bb62-dbf1523ebccf",
   "metadata": {},
   "outputs": [
    {
     "data": {
      "text/plain": [
       "Walnut      2\n",
       "Cherry      2\n",
       "Yew         1\n",
       "Larch       1\n",
       "Birch       1\n",
       "Hazel       1\n",
       "Fir         1\n",
       "Vine        1\n",
       "Rosewood    1\n",
       "Ash         1\n",
       "Cedar       1\n",
       "Alder       1\n",
       "Mahogany    1\n",
       "Holly       1\n",
       "Chestnut    1\n",
       "Hornbeam    1\n",
       "Elm         1\n",
       "Hawthorn    1\n",
       "Cypress     1\n",
       "Elder       1\n",
       "Name: wood, dtype: int64"
      ]
     },
     "execution_count": 25,
     "metadata": {},
     "output_type": "execute_result"
    }
   ],
   "source": [
    "df_hp_chars['wood'].value_counts()"
   ]
  },
  {
   "cell_type": "markdown",
   "id": "79999ba4-b58c-4208-9fbf-c7f9ec3841b2",
   "metadata": {},
   "source": [
    "From the above count, we can see that the known wand mostly have different woods, this is a great news for our interactive visualisation as this means that choosing a wood will constraint the set of similar characters. "
   ]
  },
  {
   "cell_type": "markdown",
   "id": "7f7fd776-3a6f-4ff7-ba94-839b8e90d305",
   "metadata": {},
   "source": [
    "##### Physical traits"
   ]
  },
  {
   "cell_type": "markdown",
   "id": "4e11a223-1ecb-40cb-b01f-260acd4e50bc",
   "metadata": {},
   "source": [
    "Another interesting feature of this dataset is the physical characteristics such as the eye and hair color that might be available for some characters. Let us first see for how many information we have on the characters. "
   ]
  },
  {
   "cell_type": "code",
   "execution_count": 26,
   "id": "eb6d7f09-f310-485c-a1b2-37bf3710633a",
   "metadata": {},
   "outputs": [
    {
     "data": {
      "text/plain": [
       "eye_color     144\n",
       "hair_color    282\n",
       "dtype: int64"
      ]
     },
     "execution_count": 26,
     "metadata": {},
     "output_type": "execute_result"
    }
   ],
   "source": [
    "df_hp_chars.loc[:,['eye_color', \"hair_color\"]].count()"
   ]
  },
  {
   "cell_type": "markdown",
   "id": "09343554-3059-48b1-bc12-37961189fa17",
   "metadata": {},
   "source": [
    "##### Blood types"
   ]
  },
  {
   "cell_type": "markdown",
   "id": "0e96ea8f-0843-4aaa-a1d5-179f5e3156bc",
   "metadata": {},
   "source": [
    "In Harry Potter, the blood type is something importnat for the antagonist of the Boy-Who-Lived. Even though, most of the characters don't care about the blood ascendent of others, it might be interseting to see the distribution of blood types over the character. Furthermore, since one of our visualisations will be based on the blood types, it is important to check these data. "
   ]
  },
  {
   "cell_type": "code",
   "execution_count": 27,
   "id": "4fe10a30-9e4b-45df-a1cb-c4b387ed2d66",
   "metadata": {},
   "outputs": [],
   "source": [
    "def format_blood_type(blood):\n",
    "    if blood is None or \"Magical to some extent\" == blood or blood == \"Magical to unknown extent\" or \"Underbeing\"==blood: \n",
    "        return None\n",
    "    if \"pure-blood or half-blood\" in blood.lower() or \"half-blood or pure-blood\" in blood.lower() or \"Pure blood or Half-blood\" == blood:\n",
    "        return \"Pure-blood or Half-blood\"\n",
    "    elif \"Muggle-born or half-blood\" == blood:\n",
    "        return \"Muggle-born or Half-blood\"\n",
    "    elif \"muggle-born\" in blood.lower():\n",
    "        return \"Muggle-born\"\n",
    "    elif \"squib\" in blood.lower():\n",
    "        return \"Squib\"\n",
    "    elif \"Part-Human (Half-giant)\" == blood: \n",
    "        return \"Part-Human (Half-giant)\"\n",
    "    elif \"pure-blood\" in blood.lower(): \n",
    "        return \"Pure-blood\"\n",
    "    elif \"half-blood\" in blood.lower():\n",
    "        return \"Half-blood\"\n",
    "    elif \"Muggle\" == blood or \"Muggles\" == blood:\n",
    "        return \"Muggle\"\n",
    "    else:\n",
    "        return blood\n",
    "    "
   ]
  },
  {
   "cell_type": "code",
   "execution_count": 28,
   "id": "26ef46e2-e7b5-4866-a707-564135086ffd",
   "metadata": {},
   "outputs": [],
   "source": [
    "df_hp_chars['ancestry'] = df_hp_chars['ancestry'].apply(format_blood_type)"
   ]
  },
  {
   "cell_type": "code",
   "execution_count": 29,
   "id": "20b54313-8a99-4e28-88af-5c39b9106192",
   "metadata": {},
   "outputs": [
    {
     "data": {
      "text/plain": [
       "Pure-blood or Half-blood     100\n",
       "Muggle                        74\n",
       "Pure-blood                    73\n",
       "Half-blood                    32\n",
       "Muggle-born                   15\n",
       "Squib                          8\n",
       "Muggle-born or Half-blood      2\n",
       "Part-Human (Half-giant)        2\n",
       "Quarter-Veela                  2\n",
       "Part-Goblin                    1\n",
       "Giant                          1\n",
       "Half-Veela                     1\n",
       "One-eighth Veela               1\n",
       "Name: ancestry, dtype: int64"
      ]
     },
     "execution_count": 29,
     "metadata": {},
     "output_type": "execute_result"
    }
   ],
   "source": [
    "df_hp_chars['ancestry'].value_counts()"
   ]
  },
  {
   "cell_type": "markdown",
   "id": "64512410-453d-4969-becc-4044d97b714c",
   "metadata": {},
   "source": [
    "So we can see that most of the characters are humans and most of them belong to the Wizarding world. Interestingly, we can see that muggle characters are well-represented throughout this dataset with 74 people. Note that people mark as 1/8, 1/4 and 1/2 Veela correspond to humans, in fact they precisely belong to the french family Delacourt. We can see that we have a very really rich and diverse dataset in terms of blood types. The visualisation we planned to made mapping the most popular characters in the book series to their blood type will therefore make a lot of sense.  "
   ]
  },
  {
   "cell_type": "markdown",
   "id": "18b2aee4-f155-47c8-aca4-a2cc38e84160",
   "metadata": {},
   "source": [
    "##### Species"
   ]
  },
  {
   "cell_type": "markdown",
   "id": "df014f8f-7168-4fc7-9dd4-a78e33525373",
   "metadata": {},
   "source": [
    "One last thing before exploring the connection within characters is to check whether they are human or not. If not, how many of them represent other types of creatures... "
   ]
  },
  {
   "cell_type": "code",
   "execution_count": 30,
   "id": "238657ba-8ed7-406d-9e2f-da59a83a0358",
   "metadata": {},
   "outputs": [
    {
     "data": {
      "text/plain": [
       "Human                                      589\n",
       "Human (formerly)                            11\n",
       "Goblin                                       7\n",
       "House-elf                                    7\n",
       "Giant                                        6\n",
       "Human (Seer)                                 4\n",
       "Centaur                                      4\n",
       "Humans                                       4\n",
       "Human (Veela ancestry)                       2\n",
       "Vampire                                      2\n",
       "Human (Metamorphmagus)                       2\n",
       "Werewolf (formerly Human)                    2\n",
       "Acromantula                                  2\n",
       "Ghoul                                        1\n",
       "Werewolf                                     1\n",
       "Veela or part-Veela                          1\n",
       "Half-Human                                   1\n",
       "Veela                                        1\n",
       "Toad                                         1\n",
       "1/4 Veela                                    1\n",
       "Thestral                                     1\n",
       "Human (Werewolf traits)                      1\n",
       "Snowy Owl                                    1\n",
       "Portrait; formerly Human                     1\n",
       "Humans (formerly)                            1\n",
       "Half-human/Half-giant                        1\n",
       "Human or Giantess                            1\n",
       "Selkie (Merpeople)                           1\n",
       "Human (Maledictus affliction; formerly)      1\n",
       "Norwegian Ridgeback                          1\n",
       "Cat                                          1\n",
       "Mermaid                                      1\n",
       "Basilisk                                     1\n",
       "Deity                                        1\n",
       "Owl                                          1\n",
       "Part-Kneazle                                 1\n",
       "Dog (breed: bulldog)                         1\n",
       "Scops owl                                    1\n",
       "Pygmy Puff                                   1\n",
       "Rabbit                                       1\n",
       "Hippogriff                                   1\n",
       "Half-Kneazle                                 1\n",
       "Ghost                                        1\n",
       "Great grey owl                               1\n",
       "Boarhound                                    1\n",
       "Phoenix                                      1\n",
       "Human (Goblin ancestry)                      1\n",
       "Three-headed dog                             1\n",
       "Part-troll human (possibly)                  1\n",
       "Gorilla                                      1\n",
       "Half-Human/Half-Giant                        1\n",
       "Shrunken Head                                1\n",
       "Screech owl                                  1\n",
       "Mice                                         1\n",
       "House-elves                                  1\n",
       "Human or Giant                               1\n",
       "Peacock                                      1\n",
       "Part-Kneazle cat                             1\n",
       "Poltergeist                                  1\n",
       "Portrait                                     1\n",
       "Name: species, dtype: int64"
      ]
     },
     "execution_count": 30,
     "metadata": {},
     "output_type": "execute_result"
    }
   ],
   "source": [
    "df_hp_chars['species'].value_counts()"
   ]
  },
  {
   "cell_type": "markdown",
   "id": "75738012-92e4-4d4a-b220-4acd6838136e",
   "metadata": {},
   "source": [
    "We can see that there are a lot of different species. We will try to group them in less subgroups so that our subsequent analyses will be easier. Our choices included: \n",
    "- Transform Human (formerly) as Ghost as they all correspond to humans. We also choose to group all the human into the Human group and not having subcategory anymore. \n",
    "- Put all types of owl in one group, similar for the dog, half-human/half-giant snake and werevolves.\n",
    "- For the iconic character, we keep their species\n",
    "- For characters with a super specific specy such as Part-Kneazle cat or Peacock which doesn't correspond to a well known characters, we choose to remove their species in order to keep all the things simple. "
   ]
  },
  {
   "cell_type": "code",
   "execution_count": 31,
   "id": "87e3e09a-7049-4a44-8d19-6bb3d7df4b5e",
   "metadata": {},
   "outputs": [],
   "source": [
    "def format_species(species):\n",
    "    if species is not None:\n",
    "        if species in [\"Screech owl\",\"Great grey owl\",\"Scops owl\",\"Owl\",\"Snowy Owl\"]:\n",
    "            return \"Owl\"\n",
    "        elif species in [\"Half-Human/Half-Giant\",\"Half-human/Half-giant\"]:\n",
    "            return \"Half-Human/Half-Giant\"\n",
    "        elif species in [\"Three-headed dog\",\"Boarhound\",\"Dog (breed: bulldog)\"]:\n",
    "            return \"Dog\"\n",
    "        elif species in[\"Human (Goblin ancestry)\",\"1/4 Veela\", \"Human (Metamorphmagus)\",\"Human (Veela ancestry)\",\"Humans\",\"Human (Seer)\",\"Human\"]:\n",
    "            return \"Human\"\n",
    "        elif species in [\"Phoenix\", \"Ghost\",\"Poltergeist\",\"Hippogriff\",\"Basilisk\",\"Cat\",\"Norwegian Ridgeback\",\"Thestral\",\"Acromantula\",\"Centaur\",\"Giant\",\"House-elf\",\"Goblin\"] :\n",
    "            return species\n",
    "        elif species == \"Human (formerly)\":\n",
    "            return \"Ghost\"\n",
    "        elif species in [\"Portrait; formerly Human\", \"Portrait\"]:\n",
    "            return \"Portrait\"\n",
    "        elif species == \"Human (Maledictus affliction; formerly)\":\n",
    "            return \"Snake\"\n",
    "        elif species ==\"Werewolf (formerly Human)\":\n",
    "            return \"Human-werevolf\"\n",
    "    return None\n",
    "    "
   ]
  },
  {
   "cell_type": "code",
   "execution_count": 32,
   "id": "c2492ded-8332-4be2-8af1-dd0a04f0b29e",
   "metadata": {},
   "outputs": [],
   "source": [
    "df_hp_chars['species'] = df_hp_chars['species'].apply(format_species)"
   ]
  },
  {
   "cell_type": "code",
   "execution_count": 33,
   "id": "1c2a72f7-6bd1-4cf6-a2d0-4d1ebeedf942",
   "metadata": {},
   "outputs": [
    {
     "data": {
      "text/plain": [
       "Human                    603\n",
       "Ghost                     12\n",
       "Goblin                     7\n",
       "House-elf                  7\n",
       "Giant                      6\n",
       "Owl                        5\n",
       "Centaur                    4\n",
       "Dog                        3\n",
       "Acromantula                2\n",
       "Human-werevolf             2\n",
       "Half-Human/Half-Giant      2\n",
       "Portrait                   2\n",
       "Hippogriff                 1\n",
       "Phoenix                    1\n",
       "Poltergeist                1\n",
       "Thestral                   1\n",
       "Snake                      1\n",
       "Norwegian Ridgeback        1\n",
       "Cat                        1\n",
       "Basilisk                   1\n",
       "Name: species, dtype: int64"
      ]
     },
     "execution_count": 33,
     "metadata": {},
     "output_type": "execute_result"
    }
   ],
   "source": [
    "df_hp_chars['species'].value_counts()"
   ]
  },
  {
   "cell_type": "markdown",
   "id": "59a7e7cd-3230-43e8-9ee6-2c081ab041e5",
   "metadata": {},
   "source": [
    "With all the processing, we end-up with a shorter list of species and one that makes sense."
   ]
  },
  {
   "cell_type": "markdown",
   "id": "b5c955ba-1a42-4586-b8bc-2998d0bc5141",
   "metadata": {
    "tags": []
   },
   "source": [
    "#### Association between characters"
   ]
  },
  {
   "cell_type": "markdown",
   "id": "27d87b00-387c-4379-8ed4-6002e6277361",
   "metadata": {},
   "source": [
    "We will now come to the biggest part of this data exploration. Here we will have to check the link between the different people. "
   ]
  },
  {
   "cell_type": "code",
   "execution_count": 41,
   "id": "77dbe533-75b8-4536-88bb-c34142b91133",
   "metadata": {},
   "outputs": [
    {
     "ename": "SyntaxError",
     "evalue": "unexpected EOF while parsing (3331679554.py, line 1)",
     "output_type": "error",
     "traceback": [
      "\u001b[0;36m  File \u001b[0;32m\"/var/folders/vf/btrykr5n65v_k_lwb61317k80000gn/T/ipykernel_78531/3331679554.py\"\u001b[0;36m, line \u001b[0;32m1\u001b[0m\n\u001b[0;31m    df_networks = pd.read_json(data_folder+hp_network_folder+\"network.json\").drop(columns=[\"color\",\"x\",\"size\",\"y\",\"connection_link\",\"originalColor\"]\u001b[0m\n\u001b[0m                                                                                                                                                    ^\u001b[0m\n\u001b[0;31mSyntaxError\u001b[0m\u001b[0;31m:\u001b[0m unexpected EOF while parsing\n"
     ]
    }
   ],
   "source": [
    "df_networks = pd.read_json(data_folder+hp_network_folder+\"network.json\").drop(columns=[\"color\",\"x\",\"size\",\"y\",\"connection_link\",\"originalColor\"],axis=1"
   ]
  },
  {
   "cell_type": "code",
   "execution_count": 35,
   "id": "c1fa3bdd-22dc-4e4d-a13e-a5dafaaa15be",
   "metadata": {},
   "outputs": [
    {
     "data": {
      "text/html": [
       "<div>\n",
       "<style scoped>\n",
       "    .dataframe tbody tr th:only-of-type {\n",
       "        vertical-align: middle;\n",
       "    }\n",
       "\n",
       "    .dataframe tbody tr th {\n",
       "        vertical-align: top;\n",
       "    }\n",
       "\n",
       "    .dataframe thead th {\n",
       "        text-align: right;\n",
       "    }\n",
       "</style>\n",
       "<table border=\"1\" class=\"dataframe\">\n",
       "  <thead>\n",
       "    <tr style=\"text-align: right;\">\n",
       "      <th></th>\n",
       "      <th>id</th>\n",
       "      <th>label</th>\n",
       "      <th>link</th>\n",
       "      <th>link_image</th>\n",
       "      <th>size</th>\n",
       "      <th>x</th>\n",
       "      <th>y</th>\n",
       "      <th>color</th>\n",
       "      <th>originalColor</th>\n",
       "      <th>connection_label</th>\n",
       "      <th>connection_link</th>\n",
       "    </tr>\n",
       "  </thead>\n",
       "  <tbody>\n",
       "    <tr>\n",
       "      <th>0</th>\n",
       "      <td>0</td>\n",
       "      <td>Hannah Abbott</td>\n",
       "      <td>Hannah_Abbott</td>\n",
       "      <td>http://img3.wikia.nocookie.net/__cb20091229012...</td>\n",
       "      <td>19.09</td>\n",
       "      <td>1.00</td>\n",
       "      <td>0.00</td>\n",
       "      <td>#800000</td>\n",
       "      <td>#800000</td>\n",
       "      <td>[Albus Dumbledore, Alecto Carrow, Alicia Spinn...</td>\n",
       "      <td>[Albus_Dumbledore, Alecto_Carrow, Alicia_Spinn...</td>\n",
       "    </tr>\n",
       "    <tr>\n",
       "      <th>1</th>\n",
       "      <td>1</td>\n",
       "      <td>Ludovic Bagman</td>\n",
       "      <td>Ludo_Bagman</td>\n",
       "      <td>http://img1.wikia.nocookie.net/__cb20111028215...</td>\n",
       "      <td>1.78</td>\n",
       "      <td>1.00</td>\n",
       "      <td>0.04</td>\n",
       "      <td>#800000</td>\n",
       "      <td>#800000</td>\n",
       "      <td>[Alastor Moody, Augustus Rookwood, Bartemius C...</td>\n",
       "      <td>[Alastor_Moody, Augustus_Rookwood, Bartemius_C...</td>\n",
       "    </tr>\n",
       "    <tr>\n",
       "      <th>2</th>\n",
       "      <td>10</td>\n",
       "      <td>Lavender Brown</td>\n",
       "      <td>Lavender_Brown</td>\n",
       "      <td>http://img2.wikia.nocookie.net/__cb20110719012...</td>\n",
       "      <td>15.36</td>\n",
       "      <td>1.00</td>\n",
       "      <td>0.07</td>\n",
       "      <td>#800000</td>\n",
       "      <td>#800000</td>\n",
       "      <td>[Alastor Moody, Albus Dumbledore, Alicia Spinn...</td>\n",
       "      <td>[Alastor_Moody, Albus_Dumbledore, Alicia_Spinn...</td>\n",
       "    </tr>\n",
       "    <tr>\n",
       "      <th>3</th>\n",
       "      <td>100</td>\n",
       "      <td>Antioch Peverell</td>\n",
       "      <td>Antioch_Peverell</td>\n",
       "      <td>http://img3.wikia.nocookie.net/__cb20110119192...</td>\n",
       "      <td>0.00</td>\n",
       "      <td>0.99</td>\n",
       "      <td>0.11</td>\n",
       "      <td>#800000</td>\n",
       "      <td>#800000</td>\n",
       "      <td>[Cadmus Peverell, Harry Potter, Ignotus Peverell]</td>\n",
       "      <td>[Cadmus_Peverell, Harry_Potter, Ignotus_Peverell]</td>\n",
       "    </tr>\n",
       "    <tr>\n",
       "      <th>4</th>\n",
       "      <td>101</td>\n",
       "      <td>Cadmus Peverell</td>\n",
       "      <td>Cadmus_Peverell</td>\n",
       "      <td>http://img2.wikia.nocookie.net/__cb20110119200...</td>\n",
       "      <td>2.52</td>\n",
       "      <td>0.99</td>\n",
       "      <td>0.14</td>\n",
       "      <td>#800000</td>\n",
       "      <td>#800000</td>\n",
       "      <td>[Albus Dumbledore, Antioch Peverell, Harry Pot...</td>\n",
       "      <td>[Albus_Dumbledore, Antioch_Peverell, Harry_Pot...</td>\n",
       "    </tr>\n",
       "  </tbody>\n",
       "</table>\n",
       "</div>"
      ],
      "text/plain": [
       "    id             label              link  \\\n",
       "0    0     Hannah Abbott     Hannah_Abbott   \n",
       "1    1    Ludovic Bagman       Ludo_Bagman   \n",
       "2   10    Lavender Brown    Lavender_Brown   \n",
       "3  100  Antioch Peverell  Antioch_Peverell   \n",
       "4  101   Cadmus Peverell   Cadmus_Peverell   \n",
       "\n",
       "                                          link_image   size     x     y  \\\n",
       "0  http://img3.wikia.nocookie.net/__cb20091229012...  19.09  1.00  0.00   \n",
       "1  http://img1.wikia.nocookie.net/__cb20111028215...   1.78  1.00  0.04   \n",
       "2  http://img2.wikia.nocookie.net/__cb20110719012...  15.36  1.00  0.07   \n",
       "3  http://img3.wikia.nocookie.net/__cb20110119192...   0.00  0.99  0.11   \n",
       "4  http://img2.wikia.nocookie.net/__cb20110119200...   2.52  0.99  0.14   \n",
       "\n",
       "     color originalColor                                   connection_label  \\\n",
       "0  #800000       #800000  [Albus Dumbledore, Alecto Carrow, Alicia Spinn...   \n",
       "1  #800000       #800000  [Alastor Moody, Augustus Rookwood, Bartemius C...   \n",
       "2  #800000       #800000  [Alastor Moody, Albus Dumbledore, Alicia Spinn...   \n",
       "3  #800000       #800000  [Cadmus Peverell, Harry Potter, Ignotus Peverell]   \n",
       "4  #800000       #800000  [Albus Dumbledore, Antioch Peverell, Harry Pot...   \n",
       "\n",
       "                                     connection_link  \n",
       "0  [Albus_Dumbledore, Alecto_Carrow, Alicia_Spinn...  \n",
       "1  [Alastor_Moody, Augustus_Rookwood, Bartemius_C...  \n",
       "2  [Alastor_Moody, Albus_Dumbledore, Alicia_Spinn...  \n",
       "3  [Cadmus_Peverell, Harry_Potter, Ignotus_Peverell]  \n",
       "4  [Albus_Dumbledore, Antioch_Peverell, Harry_Pot...  "
      ]
     },
     "execution_count": 35,
     "metadata": {},
     "output_type": "execute_result"
    }
   ],
   "source": [
    "df_networks.head(2)"
   ]
  },
  {
   "cell_type": "code",
   "execution_count": 36,
   "id": "519c1057-9249-4c6b-a134-97392b18bdcd",
   "metadata": {},
   "outputs": [],
   "source": [
    "df_net = df_hp_chars.merge(df_networks, left_on=\"name\", right_on=\"label\",how=\"inner\")"
   ]
  },
  {
   "cell_type": "code",
   "execution_count": 37,
   "id": "331da494-04ea-4294-9839-d846332d3c7f",
   "metadata": {},
   "outputs": [],
   "source": [
    "set1 = set(df_networks.id.values)\n",
    "set2 = set(df_net.id_y.values)"
   ]
  },
  {
   "cell_type": "code",
   "execution_count": 38,
   "id": "a0442ce7-602a-4f35-81c9-1308c9e32ca1",
   "metadata": {},
   "outputs": [
    {
     "data": {
      "text/plain": [
       "set()"
      ]
     },
     "execution_count": 38,
     "metadata": {},
     "output_type": "execute_result"
    }
   ],
   "source": [
    "set1-set2"
   ]
  },
  {
   "cell_type": "markdown",
   "id": "19521746-4f2f-4aec-a183-a09048d5e8cb",
   "metadata": {},
   "source": [
    "#### Spells"
   ]
  },
  {
   "cell_type": "markdown",
   "id": "51437fa8-049c-4149-b31b-55f8596d4c4a",
   "metadata": {},
   "source": [
    "##### Basic analysis"
   ]
  },
  {
   "cell_type": "markdown",
   "id": "ea0257f8-071d-423b-83c3-555ca196e8d9",
   "metadata": {},
   "source": [
    "##### Most popular spells"
   ]
  },
  {
   "cell_type": "markdown",
   "id": "5da9b00f-28d4-49a3-8db8-a4ee5f52d6ba",
   "metadata": {},
   "source": [
    "#### Books"
   ]
  },
  {
   "cell_type": "code",
   "execution_count": 40,
   "id": "b6d04dfa-a217-4c5b-b9a9-70e3ebfdd3ee",
   "metadata": {},
   "outputs": [
    {
     "ename": "NameError",
     "evalue": "name 'df' is not defined",
     "output_type": "error",
     "traceback": [
      "\u001b[0;31m---------------------------------------------------------------------------\u001b[0m",
      "\u001b[0;31mNameError\u001b[0m                                 Traceback (most recent call last)",
      "\u001b[0;32m/var/folders/vf/btrykr5n65v_k_lwb61317k80000gn/T/ipykernel_78531/2541504712.py\u001b[0m in \u001b[0;36m<module>\u001b[0;34m\u001b[0m\n\u001b[0;32m----> 1\u001b[0;31m \u001b[0mdum\u001b[0m \u001b[0;34m=\u001b[0m \u001b[0mpd\u001b[0m\u001b[0;34m.\u001b[0m\u001b[0mget_dummies\u001b[0m\u001b[0;34m(\u001b[0m\u001b[0mdf\u001b[0m\u001b[0;34m[\u001b[0m\u001b[0;34m'associated_groups'\u001b[0m\u001b[0;34m]\u001b[0m\u001b[0;34m.\u001b[0m\u001b[0mapply\u001b[0m\u001b[0;34m(\u001b[0m\u001b[0mpd\u001b[0m\u001b[0;34m.\u001b[0m\u001b[0mSeries\u001b[0m\u001b[0;34m)\u001b[0m\u001b[0;34m.\u001b[0m\u001b[0mstack\u001b[0m\u001b[0;34m(\u001b[0m\u001b[0;34m)\u001b[0m\u001b[0;34m)\u001b[0m\u001b[0;34m.\u001b[0m\u001b[0mgroupby\u001b[0m\u001b[0;34m(\u001b[0m\u001b[0mlevel\u001b[0m\u001b[0;34m=\u001b[0m\u001b[0;36m0\u001b[0m\u001b[0;34m)\u001b[0m\u001b[0;34m.\u001b[0m\u001b[0msum\u001b[0m\u001b[0;34m(\u001b[0m\u001b[0;34m)\u001b[0m\u001b[0;34m\u001b[0m\u001b[0;34m\u001b[0m\u001b[0m\n\u001b[0m\u001b[1;32m      2\u001b[0m \u001b[0mdum\u001b[0m\u001b[0;34m.\u001b[0m\u001b[0mhead\u001b[0m\u001b[0;34m(\u001b[0m\u001b[0;36m3\u001b[0m\u001b[0;34m)\u001b[0m\u001b[0;34m\u001b[0m\u001b[0;34m\u001b[0m\u001b[0m\n",
      "\u001b[0;31mNameError\u001b[0m: name 'df' is not defined"
     ]
    }
   ],
   "source": [
    "dum = pd.get_dummies(df['associated_groups'].apply(pd.Series).stack()).groupby(level=0).sum()\n",
    "dum.head(3)"
   ]
  },
  {
   "cell_type": "code",
   "execution_count": null,
   "id": "56e172cb-0d73-4f7f-8d90-2270bbb82832",
   "metadata": {},
   "outputs": [],
   "source": [
    "def plot_histogram_association(dummies, threshold):\n",
    "    dummies2 = dummies.copy()\n",
    "    print(dummies2.shape)\n",
    "    dummies2.replace(0, np.nan).dropna(axis=1, thresh=threshold, inplace=True)\n",
    "    print(dummies2.shape)\n",
    "    sns.displot(dummies2.sum(axis=0), log=(False,True))"
   ]
  },
  {
   "cell_type": "code",
   "execution_count": null,
   "id": "5c394247-ff6a-461b-9f18-4cbaa11cdba9",
   "metadata": {},
   "outputs": [],
   "source": [
    "plot_histogram_association(dum, 3)"
   ]
  },
  {
   "cell_type": "code",
   "execution_count": null,
   "id": "15eba0f7-1404-4bca-b3bb-e8ad3c39837d",
   "metadata": {},
   "outputs": [],
   "source": [
    "df.head(10)"
   ]
  },
  {
   "cell_type": "markdown",
   "id": "90416d92-7bc3-4d9c-a304-3c48587d9fb6",
   "metadata": {},
   "source": [
    "### Movie Datasets"
   ]
  },
  {
   "cell_type": "markdown",
   "id": "07f6e2c6-6bbf-4a14-8be9-7eb817c7ea65",
   "metadata": {},
   "source": [
    "##### "
   ]
  }
 ],
 "metadata": {
  "kernelspec": {
   "display_name": "Python 3 (ipykernel)",
   "language": "python",
   "name": "python3"
  },
  "language_info": {
   "codemirror_mode": {
    "name": "ipython",
    "version": 3
   },
   "file_extension": ".py",
   "mimetype": "text/x-python",
   "name": "python",
   "nbconvert_exporter": "python",
   "pygments_lexer": "ipython3",
   "version": "3.8.12"
  }
 },
 "nbformat": 4,
 "nbformat_minor": 5
}
