{
 "cells": [
  {
   "cell_type": "code",
   "execution_count": 2,
   "id": "411cd232-2274-49cb-85f8-17335c8181ce",
   "metadata": {},
   "outputs": [],
   "source": [
    "from vaderSentiment.vaderSentiment import SentimentIntensityAnalyzer\n",
    "import pandas as pd\n",
    "from helper.constantes import *"
   ]
  },
  {
   "cell_type": "markdown",
   "id": "f3e95756-8a47-4571-bde7-8942ee567af0",
   "metadata": {},
   "source": [
    "For the sentiment analysis part, we will used the Vader Sentiment Classifier. This method provides us with 4 different scores. The negative, positive, neutrla and compound score which is basically a composition of the three others. "
   ]
  },
  {
   "cell_type": "code",
   "execution_count": 3,
   "id": "08e5b854-1bca-4f68-931c-f4f67fb68bc0",
   "metadata": {},
   "outputs": [],
   "source": [
    "sid_obj = SentimentIntensityAnalyzer()\n",
    "\n",
    "def sentiment_scores(sentence, metric): \n",
    "    # polarity_scores method of SentimentIntensityAnalyzer\n",
    "    # object gives a sentiment dictionary.\n",
    "    # which contains pos, neg, neu, and compound scores.\n",
    "    sentiment_dict = sid_obj.polarity_scores(sentence)\n",
    "    return sentiment_dict[metric]"
   ]
  },
  {
   "cell_type": "code",
   "execution_count": 4,
   "id": "cbbb5d18-d5f0-426a-82bb-de8002f749bc",
   "metadata": {},
   "outputs": [],
   "source": [
    "# load the text of all books in a single dataframe\n",
    "all_df = []\n",
    "for i in range(1,9):\n",
    "    df = pd.read_csv(data_folder+movies_folder+f\"hp{i}.csv\")\n",
    "    all_df.append(df)\n",
    "df_tot = df = pd.concat(all_df)"
   ]
  },
  {
   "cell_type": "code",
   "execution_count": 5,
   "id": "d8a096ca-eb02-47c6-9b31-5df0bd4f9545",
   "metadata": {},
   "outputs": [],
   "source": [
    "# Get the polarity score of all the sentences\n",
    "df_tot['polarity_score'] = df_tot.apply(lambda x:sentiment_scores(str(x['dialog']),\"compound\"),axis=1)"
   ]
  },
  {
   "cell_type": "code",
   "execution_count": 13,
   "id": "b5d4ddfe-014d-41e3-ac19-a239ea4f46fe",
   "metadata": {
    "scrolled": true
   },
   "outputs": [],
   "source": [
    "df_tot = df_tot.reset_index().rename(columns={\"index\":\"id\"})"
   ]
  },
  {
   "cell_type": "code",
   "execution_count": 14,
   "id": "963c64e5",
   "metadata": {},
   "outputs": [],
   "source": [
    "# Save them to csv\n",
    "df_tot.to_csv(cleaned_folder+\"sentimentMovie.csv\")"
   ]
  }
 ],
 "metadata": {
  "kernelspec": {
   "display_name": "Python 3 (ipykernel)",
   "language": "python",
   "name": "python3"
  },
  "language_info": {
   "codemirror_mode": {
    "name": "ipython",
    "version": 3
   },
   "file_extension": ".py",
   "mimetype": "text/x-python",
   "name": "python",
   "nbconvert_exporter": "python",
   "pygments_lexer": "ipython3",
   "version": "3.8.13"
  }
 },
 "nbformat": 4,
 "nbformat_minor": 5
}
