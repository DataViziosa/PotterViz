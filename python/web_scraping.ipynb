{
 "cells": [
  {
   "cell_type": "code",
   "execution_count": 6,
   "id": "f6f9249a-1f98-47c6-9b87-405b6d7661ba",
   "metadata": {},
   "outputs": [],
   "source": [
    "from bs4 import BeautifulSoup\n",
    "import requests as req\n",
    "import pandas as pd\n",
    "import numpy as np"
   ]
  },
  {
   "cell_type": "markdown",
   "id": "4a0d7e89-a338-4a7b-a4d3-f586b5b91caf",
   "metadata": {},
   "source": [
    "## Get the number of translations for each Harry Potter book"
   ]
  },
  {
   "cell_type": "code",
   "execution_count": 32,
   "id": "bf36655c-17c4-4433-9adb-80f858e366de",
   "metadata": {},
   "outputs": [],
   "source": [
    "html = req.get(\"https://en.wikipedia.org/wiki/Harry_Potter_in_translation\")\n",
    "soup = BeautifulSoup(html.text, 'html.parser')"
   ]
  },
  {
   "cell_type": "code",
   "execution_count": 43,
   "id": "65b7b78b-86ae-46b9-ad26-50c60282c374",
   "metadata": {},
   "outputs": [],
   "source": [
    "all_els = soup.find('tbody').findAll('tr')[1:] # remove the header line\n",
    "nb_translations = np.zeros((7,1))\n",
    "\n",
    "for line in all_els:\n",
    "    if(len(line.findAll('ol'))==0):\n",
    "        pass\n",
    "    else:\n",
    "        nb = len(line.findAll('ol')[0].findAll('li'))\n",
    "\n",
    "        temp = np.zeros((7,1))\n",
    "        temp[0:nb]=1\n",
    "        nb_translations+=temp"
   ]
  },
  {
   "cell_type": "code",
   "execution_count": 44,
   "id": "39352aa3-ea7c-4472-91aa-0959c29d254c",
   "metadata": {},
   "outputs": [
    {
     "data": {
      "text/plain": [
       "array([[90.],\n",
       "       [72.],\n",
       "       [47.],\n",
       "       [39.],\n",
       "       [32.],\n",
       "       [30.],\n",
       "       [28.]])"
      ]
     },
     "execution_count": 44,
     "metadata": {},
     "output_type": "execute_result"
    }
   ],
   "source": [
    "nb_translations"
   ]
  },
  {
   "cell_type": "markdown",
   "id": "0582e930-af2f-44f4-9e7d-3151e959a877",
   "metadata": {},
   "source": [
    "We can see taht the first book is the one that is the most translated in total. The second alredy lost 20 translations, the third one has only half the translations of\n",
    "the thirst and the rest of the book aonly get one third of the number of tranlations of the first one. These values will be manually added to the book Harry Potter Collection's JSON"
   ]
  },
  {
   "cell_type": "markdown",
   "id": "005921f9-6205-4daa-adb3-ff43eb9a4b6c",
   "metadata": {},
   "source": [
    "## Download all the characters images"
   ]
  },
  {
   "cell_type": "code",
   "execution_count": 7,
   "id": "16d5e1b8-8081-4a66-80c1-0303c098fb8d",
   "metadata": {},
   "outputs": [
    {
     "data": {
      "text/html": [
       "<div>\n",
       "<style scoped>\n",
       "    .dataframe tbody tr th:only-of-type {\n",
       "        vertical-align: middle;\n",
       "    }\n",
       "\n",
       "    .dataframe tbody tr th {\n",
       "        vertical-align: top;\n",
       "    }\n",
       "\n",
       "    .dataframe thead th {\n",
       "        text-align: right;\n",
       "    }\n",
       "</style>\n",
       "<table border=\"1\" class=\"dataframe\">\n",
       "  <thead>\n",
       "    <tr style=\"text-align: right;\">\n",
       "      <th></th>\n",
       "      <th>label</th>\n",
       "      <th>link_image</th>\n",
       "    </tr>\n",
       "  </thead>\n",
       "  <tbody>\n",
       "    <tr>\n",
       "      <th>0</th>\n",
       "      <td>Hannah Abbott</td>\n",
       "      <td>http://img3.wikia.nocookie.net/__cb20091229012...</td>\n",
       "    </tr>\n",
       "    <tr>\n",
       "      <th>1</th>\n",
       "      <td>Ludo Bagman</td>\n",
       "      <td>http://img1.wikia.nocookie.net/__cb20111028215...</td>\n",
       "    </tr>\n",
       "    <tr>\n",
       "      <th>2</th>\n",
       "      <td>Lavender Brown</td>\n",
       "      <td>http://img2.wikia.nocookie.net/__cb20110719012...</td>\n",
       "    </tr>\n",
       "    <tr>\n",
       "      <th>3</th>\n",
       "      <td>Antioch Peverell</td>\n",
       "      <td>http://img3.wikia.nocookie.net/__cb20110119192...</td>\n",
       "    </tr>\n",
       "    <tr>\n",
       "      <th>4</th>\n",
       "      <td>Cadmus Peverell</td>\n",
       "      <td>http://img2.wikia.nocookie.net/__cb20110119200...</td>\n",
       "    </tr>\n",
       "  </tbody>\n",
       "</table>\n",
       "</div>"
      ],
      "text/plain": [
       "              label                                         link_image\n",
       "0     Hannah Abbott  http://img3.wikia.nocookie.net/__cb20091229012...\n",
       "1       Ludo Bagman  http://img1.wikia.nocookie.net/__cb20111028215...\n",
       "2    Lavender Brown  http://img2.wikia.nocookie.net/__cb20110719012...\n",
       "3  Antioch Peverell  http://img3.wikia.nocookie.net/__cb20110119192...\n",
       "4   Cadmus Peverell  http://img2.wikia.nocookie.net/__cb20110119200..."
      ]
     },
     "execution_count": 7,
     "metadata": {},
     "output_type": "execute_result"
    }
   ],
   "source": [
    "import shutil\n",
    "import requests\n",
    "output_folder = \"../data/images/\"\n",
    "characters = pd.read_json(\"../data/hp_networks/HP_network_clean.json\").loc[:,[\"label\", \"link_image\"]]\n",
    "characters.head()"
   ]
  },
  {
   "cell_type": "code",
   "execution_count": 17,
   "id": "e17292a9-e956-4dfc-917c-5e78d518e79e",
   "metadata": {},
   "outputs": [],
   "source": [
    "# Source : https://stackoverflow.com/questions/13137817/how-to-download-image-using-requests\n",
    "def download_image_and_save(name, link_image, custom_link):\n",
    "    name_formatted = name.replace(' ','_')\\\n",
    "                        .replace('.','')\\\n",
    "                        .replace(',','')\\\n",
    "                        .replace('\"','')\n",
    "    if(name_formatted in custom_link):\n",
    "        link_image = custom_link[name_formatted]\n",
    "    \n",
    "    response = requests.get(link_image, stream=True)\n",
    "    with open(output_folder+name_formatted+'.png', 'wb') as out_file:\n",
    "        shutil.copyfileobj(response.raw, out_file)\n",
    "    del response"
   ]
  },
  {
   "cell_type": "code",
   "execution_count": 18,
   "id": "100e2b59",
   "metadata": {},
   "outputs": [],
   "source": [
    "dico = {\n",
    "    \"Aberforth_Dumbledore\": \"https://static.wikia.nocookie.net/harrypotter/images/1/1a/Aberforth.jpg/revision/latest/top-crop/width/360/height/450?cb=20141115085234&path-prefix=fr\",\n",
    "    \"Alicia_Spinnet\":\"https://static.wikia.nocookie.net/harrypotter/images/7/7a/Alicia_Spinnet.png/revision/latest?cb=20100121181636&path-prefix=fr\",\n",
    "    \"Amelia_Bones\": \"https://static.wikia.nocookie.net/harrypotter/images/9/9c/Amelia_Bones_2.jpg/revision/latest?cb=20110826230102&path-prefix=fr\",\n",
    "    \"Amos_Diggory\":\"https://static.wikia.nocookie.net/harrypotter/images/f/f0/PromoHP4_AmosDiggory.jpg/revision/latest?cb=20090920082156&path-prefix=fr\",\n",
    "    \"Amycus_Carrow\":\"https://static.wikia.nocookie.net/harrypotter/images/9/97/Amycus_Carrow_PM.png/revision/latest?cb=20170203044409\",\n",
    "    \"Andromeda_Tonks\":\"https://static.wikia.nocookie.net/harrypotter/images/c/c2/Andromeda_Tonks_%28Jessica_Roux%29.png/revision/latest?cb=20180609224846&path-prefix=de\",\n",
    "    \"Angelina_Johnson\": \"https://static.wikia.nocookie.net/harrypotter/images/6/6c/PromoHP4_AngelinaJohnson.jpg/revision/latest/top-crop/width/360/height/450?cb=20090919112303&path-prefix=fr\",\n",
    "    \"Antonin_Dolohov\":\"https://static.wikia.nocookie.net/harrypotter/images/7/74/Dolohov-0.jpg/revision/latest?cb=20181228122546\",\n",
    "    \"Aragog\": \"https://static.wikia.nocookie.net/harrypotter/images/d/d2/Ara.jpg/revision/latest?cb=20130615192317&path-prefix=de\",\n",
    "    \"Arthur_Weasley\": \"https://static.wikia.nocookie.net/harrypotter/images/c/c1/PromoHP7_Arthur_Weasley.jpg/revision/latest?cb=20110901200337&path-prefix=fr\",\n",
    "    \"Augustus_Rookwood\":\"https://static.wikia.nocookie.net/harrypotter/images/3/3e/Rookwood_Pottermore.png/revision/latest?cb=20171031194639&path-prefix=fr\",\n",
    "    \"Bane\":\"https://static.wikia.nocookie.net/harrypotter/images/2/2f/Bane.jpg/revision/latest/top-crop/width/360/height/450?cb=20140730143107&path-prefix=fr\",\n",
    "    \"Barty_Crouch_Jr\":\"https://static.wikia.nocookie.net/warner-bros-entertainment/images/f/fa/BartyCouchjr.jpg/revision/latest/top-crop/width/360/height/450?cb=20171104211944\",\n",
    "    \"Barty_Crouch_Sr\":\"https://static.wikia.nocookie.net/harrypotter/images/3/37/Barty_Crouch_Senior_GOFF_promo.jpg/revision/latest?cb=20100123214858\",\n",
    "    \"Bathilda_Bagshot\":\"https://static.wikia.nocookie.net/harrypotter/images/0/0d/Bathilda_Bagshot_profile.jpg/revision/latest?cb=20161119223158\",\n",
    "    \"Bill_Weasley\":\"https://static.wikia.nocookie.net/harrypotter/images/8/86/Bill_Promo.jpg/revision/latest/top-crop/width/360/height/450?cb=20141115085723&path-prefix=fr\",\n",
    "    \"Blaise_Zabini\":\"https://static.wikia.nocookie.net/harrypotter/images/5/59/Blaise_Zabini.png/revision/latest?cb=20091110145549&path-prefix=fr\",\n",
    "    \"Bloody_Baron\":\"https://static.wikia.nocookie.net/harrypotter/images/5/55/Bloody_Baron.jpg/revision/latest/top-crop/width/360/height/360?cb=20100408172210\",\n",
    "    \"Charity_Burbage\":\"https://static.wikia.nocookie.net/harrypotter/images/a/a4/Carolyn_Pickles.png/revision/latest?cb=20210623183233\",\n",
    "    \"Cho_Chang\":\"https://static.wikia.nocookie.net/harrypotter/images/d/d3/PromoHP5_Cho_Chang.jpg/revision/latest?cb=20090322135602&path-prefix=fr\",\n",
    "    \"Cormac_McLaggen\":\"https://static.wikia.nocookie.net/harrypotter/images/8/8d/Cormac_McLaggen.jpg/revision/latest/top-crop/width/360/height/450?cb=20120608163726&path-prefix=fr\",\n",
    "    \"Cornelius_Fudge\":\"https://static.wikia.nocookie.net/harrypotter/images/d/d7/Cornelius_Fudge.jpg/revision/latest/top-crop/width/360/height/450?cb=20110826095744&path-prefix=fr\",\n",
    "    \"Dudley_Dursley\":\"https://static.wikia.nocookie.net/harrypotter/images/4/48/Dudley_Dursley.jpg/revision/latest?cb=20120131182025&path-prefix=de\",\n",
    "    \"Elphias_Doge\":\"https://static.wikia.nocookie.net/harrypotter/images/4/4e/Elphias_Doge_2.jpg/revision/latest/top-crop/width/360/height/450?cb=20110826100148&path-prefix=fr\",\n",
    "    \"Fenrir_Greyback\":\"https://static.wikia.nocookie.net/harrypotter/images/5/5d/PromoHP6_Fenrir_Greyback.jpg/revision/latest/top-crop/width/360/height/450?cb=20090821070417&path-prefix=fr\",\n",
    "    \"Fleur_Delacour\":\"https://static.wikia.nocookie.net/harrypotter/images/5/53/PromoHP7_Fleur_Delacour.jpg/revision/latest/top-crop/width/360/height/450?cb=20110901131945&path-prefix=fr\",\n",
    "    \"Fred_Weasley\":\"https://static.wikia.nocookie.net/harrypotter/images/8/8b/PromoHP7_Fred_Weasley.jpg/revision/latest?cb=20110901202603&path-prefix=fr\",\n",
    "    \"Gabrielle_Delacour\":\"https://static.wikia.nocookie.net/harrypotter/images/2/2d/PromoHP4_Gabrielle_Delacour.jpg/revision/latest/top-crop/width/360/height/450?cb=20110829082905&path-prefix=fr\",\n",
    "    \"Garrick_Ollivander\":\"https://static.wikia.nocookie.net/harrypotter/images/9/9a/GarrickOllivander.jpg/revision/latest?cb=20141115085020&path-prefix=fr\",\n",
    "    \"George_Weasley\":\"https://static.wikia.nocookie.net/harrypotter/images/8/8f/PromoHP7_George_Weasley.jpg/revision/latest?cb=20110901202407&path-prefix=fr\",\n",
    "    \"Gilderoy_Lockhart\":\"https://static.wikia.nocookie.net/harrypotter/images/c/c4/PromoHP2_Gilderoy_Lockhart_4.jpg/revision/latest/top-crop/width/360/height/450?cb=20120410202927&path-prefix=fr\",\n",
    "    \"Godric_Gryffindor\":\"https://static.wikia.nocookie.net/harrypotter/images/f/f7/Gryffondor_promo.jpg/revision/latest?cb=20141116063526&path-prefix=fr\",\n",
    "    \"Grawp\":\"https://static.wikia.nocookie.net/harrypotter/images/e/e6/Grawp.png/revision/latest?cb=20140809230305&path-prefix=de\",\n",
    "    \"Gregory_Goyle\":\"https://static.wikia.nocookie.net/harrypotter/images/9/9f/PromoHP3_Gregory_Goyle.jpg/revision/latest/top-crop/width/360/height/450?cb=20091021125109&path-prefix=fr\",\n",
    "    \"Helga_Hufflepuff\":\"https://static.wikia.nocookie.net/harrypotter/images/2/24/Helga_Poufsouffle_promo.jpg/revision/latest?cb=20141116063756&path-prefix=fr\",\n",
    "    \"Hermione_Granger\":\"https://static.wikia.nocookie.net/harrypotter/images/f/f8/PromoHP7_Hermione_Granger.jpg/revision/latest?cb=20110901130218&path-prefix=fr\",\n",
    "    \"Igor_Karkaroff\":\"https://static.wikia.nocookie.net/harrypotter/images/3/3c/PromoHP4_IgorKarkaroff.jpg/revision/latest?cb=20090918153048&path-prefix=fr\",\n",
    "    \"James_Potter\":\"https://static.wikia.nocookie.net/harrypotter/images/1/10/James_Potter_I_Deathly_Hallows.jpg/revision/latest?cb=20180601015416\",\n",
    "    \"Katie_Bell\":\"https://static.wikia.nocookie.net/harrypotter/images/b/b0/PromoHP7_Katie_Bell.jpg/revision/latest/top-crop/width/360/height/450?cb=20110901130733&path-prefix=fr\",\n",
    "    \"Lord_Voldemort\":\"https://static.wikia.nocookie.net/harrypotter/images/a/aa/Voldemort_Headshot_DHP1.png/revision/latest?cb=20161203031453\",\n",
    "    \"Ludo_Bagman\":\"https://static.wikia.nocookie.net/harrypotter/images/b/b2/Ludo_Verpey.png/revision/latest?cb=20171123130115&path-prefix=fr\",\n",
    "    \"Mary_Cattermole\":\"https://static.wikia.nocookie.net/harrypotter/images/c/c2/Mary_Cattermole_2.jpg/revision/latest/top-crop/width/360/height/450?cb=20150222122547&path-prefix=fr\",\n",
    "    \"Moaning_Myrtle\":\"https://static.wikia.nocookie.net/harrypotter/images/b/b8/Myrtle_Warren_profile.png/revision/latest?cb=20170113020338\",\n",
    "    \"Molly_Weasley\":\"https://static.wikia.nocookie.net/harrypotter/images/b/bf/PromoHP7_Molly_Weasley.jpg/revision/latest?cb=20110901204925&path-prefix=fr\",\n",
    "    \"Morphin_Gaunt\":\"https://static.wikia.nocookie.net/harrypotter/images/5/55/Morfin_Gaunt_2.jpg/revision/latest?cb=20180101130436&path-prefix=fr\",\n",
    "    \"Nicholas_de_Mimsy-Porpington\":\"https://static.wikia.nocookie.net/harrypotter/images/6/6d/Nicholas_de_Mimsy-Porpington.png/revision/latest?cb=20200515191831\",\n",
    "    \"Nymphadora_Tonks\":\"https://static.wikia.nocookie.net/harrypotter/images/8/81/Nymphadora_Tonks_DH2.jpg/revision/latest/top-crop/width/360/height/450?cb=20150222123217&path-prefix=fr\",\n",
    "    \"Pansy_Parkinson\":\"https://static.wikia.nocookie.net/harrypotter/images/e/e8/PromoHP7_Pansy_Parkinson.jpg/revision/latest/top-crop/width/360/height/450?cb=20110901153320&path-prefix=fr\",\n",
    "    \"Penelope_Clearwater\":\"https://static.wikia.nocookie.net/harrypotterfanon/images/5/54/Evellyn.PNG/revision/latest?cb=20130927012659\",\n",
    "    \"Pomona_Sprout\":\"https://static.wikia.nocookie.net/harrypotter/images/7/71/PSprout.png/revision/latest?cb=20110109155242\",\n",
    "    \"Quirinus_Quirrell\":\"https://static.wikia.nocookie.net/harrypotter/images/5/58/PromoHP1_Quirinus_Quirrell_2.jpg/revision/latest?cb=20120403071231&path-prefix=fr\",\n",
    "    \"Rabastan_Lestrange\":\"https://static.wikia.nocookie.net/harrypotterfanon/images/9/9d/Rodolphus-lestrange.jpg/revision/latest/top-crop/width/360/height/450?cb=20190919005630\",\n",
    "    \"Reginald_Cattermole\":\"https://static.wikia.nocookie.net/harrypotter/images/9/94/Reginald_Cattermole.jpg/revision/latest?cb=20150222122435&path-prefix=fr\",\n",
    "    \"Romilda_Vane\":\"https://static.wikia.nocookie.net/harrypotter/images/7/7f/Romilda_Vane.jpg/revision/latest/top-crop/width/360/height/450?cb=20160307123959&path-prefix=fr\",\n",
    "    \"Ron_Weasley\":\"https://static.wikia.nocookie.net/harrypotter/images/7/74/PromoHP7_Ron_Weasley.jpg/revision/latest?cb=20150916123346&path-prefix=fr\",\n",
    "    \"Rubeus_Hagrid\":\"https://static.wikia.nocookie.net/harrypotter/images/1/1a/PromoHP3_Rubeus_Hagrid.jpg/revision/latest/top-crop/width/360/height/450?cb=20090103221029&path-prefix=fr\",\n",
    "    \"Rufus_Scrimgeour\":\"https://static.wikia.nocookie.net/harrypotter/images/c/ca/PromoHP7_Rufus_Scrimgeour.jpg/revision/latest?cb=20100902065406&path-prefix=fr\",\n",
    "    \"Salazar_Slytherin\":\"https://static.wikia.nocookie.net/harrypotter/images/f/fc/Salazar_Serpentard_Promo.jpg/revision/latest?cb=20141116064309&path-prefix=fr\",\n",
    "    \"Septima_Vector\":\"https://static.wikia.nocookie.net/harrypotter/images/4/49/Septima_Vector.jpg/revision/latest/top-crop/width/360/height/450?cb=20110620110019&path-prefix=fr\",\n",
    "    \"Sirius_Black\":\"https://static.wikia.nocookie.net/harrypotter/images/9/93/PromoHP5_Sirius_Black.jpg/revision/latest/top-crop/width/360/height/450?cb=20090601145207&path-prefix=fr\",\n",
    "    \"Sybill_Trelawney\":\"https://static.wikia.nocookie.net/harrypotter/images/e/ee/PromoHP3_Sibylle_Trelawney.jpg/revision/latest?cb=20110901194133&path-prefix=fr\",\n",
    "    \"Ted_Tonks\":\"https://static.wikia.nocookie.net/harrypotter/images/d/de/Ted_Tonks.png/revision/latest?cb=20130901194234&path-prefix=fr\",\n",
    "    \"Teddy_Lupin\":\"https://static.wikia.nocookie.net/harrypotter/images/6/62/Teddy_Lupin.png/revision/latest?cb=20160801025828\",\n",
    "    \"Theodore_Nott\":\"https://static.wikia.nocookie.net/harry-potter-fanons/images/f/f7/DA95DE64-411B-4017-ACC4-BB1D9D8BC0D4.jpg/revision/latest/scale-to-width-down/490?cb=20200717122910\",\n",
    "    \"Tiberius_Ogdan\":\"https://static.wikia.nocookie.net/harryalbuspotter/images/d/de/TiberiusNott.PNG/revision/latest?cb=20120130200228\"\n",
    "}"
   ]
  },
  {
   "cell_type": "code",
   "execution_count": 19,
   "id": "6c53044c-6c8c-4c0e-b9e2-083cdc9bc7db",
   "metadata": {},
   "outputs": [],
   "source": [
    "characters.apply(lambda x: download_image_and_save(x['label'], x['link_image'],dico),axis=1)\n",
    "None"
   ]
  },
  {
   "cell_type": "markdown",
   "id": "14b535a7-deec-474c-9b19-302d36e06043",
   "metadata": {},
   "source": [
    "Unfortunately, not all the images are available anymore. Hence, we still have to do a manual list of the character we would like to have in our visualisation. We will try to complete the dataset in the best possible way. We will replace characters that do not appear in screen with some drawing made by fan if it is needed. "
   ]
  },
  {
   "cell_type": "code",
   "execution_count": 59,
   "id": "6e00c160-ade7-48a8-ba23-21c3529692c9",
   "metadata": {},
   "outputs": [],
   "source": []
  },
  {
   "cell_type": "code",
   "execution_count": null,
   "id": "8e33a928-d268-43a7-84d2-f66099b5e0a6",
   "metadata": {},
   "outputs": [],
   "source": []
  }
 ],
 "metadata": {
  "kernelspec": {
   "display_name": "Python 3 (ipykernel)",
   "language": "python",
   "name": "python3"
  },
  "language_info": {
   "codemirror_mode": {
    "name": "ipython",
    "version": 3
   },
   "file_extension": ".py",
   "mimetype": "text/x-python",
   "name": "python",
   "nbconvert_exporter": "python",
   "pygments_lexer": "ipython3",
   "version": "3.8.12"
  }
 },
 "nbformat": 4,
 "nbformat_minor": 5
}
