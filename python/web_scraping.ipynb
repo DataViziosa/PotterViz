{
 "cells": [
  {
   "cell_type": "code",
   "execution_count": 31,
   "id": "f6f9249a-1f98-47c6-9b87-405b6d7661ba",
   "metadata": {},
   "outputs": [],
   "source": [
    "from bs4 import BeautifulSoup\n",
    "import requests as req\n",
    "import pandas as pd\n",
    "import numpy as np"
   ]
  },
  {
   "cell_type": "markdown",
   "id": "4a0d7e89-a338-4a7b-a4d3-f586b5b91caf",
   "metadata": {},
   "source": [
    "## Get the number of translations for each Harry Potter book"
   ]
  },
  {
   "cell_type": "code",
   "execution_count": 32,
   "id": "bf36655c-17c4-4433-9adb-80f858e366de",
   "metadata": {},
   "outputs": [],
   "source": [
    "html = req.get(\"https://en.wikipedia.org/wiki/Harry_Potter_in_translation\")\n",
    "soup = BeautifulSoup(html.text, 'html.parser')"
   ]
  },
  {
   "cell_type": "code",
   "execution_count": 43,
   "id": "65b7b78b-86ae-46b9-ad26-50c60282c374",
   "metadata": {},
   "outputs": [],
   "source": [
    "all_els = soup.find('tbody').findAll('tr')[1:] # remove the header line\n",
    "nb_translations = np.zeros((7,1))\n",
    "\n",
    "for line in all_els:\n",
    "    if(len(line.findAll('ol'))==0):\n",
    "        pass\n",
    "    else:\n",
    "        nb = len(line.findAll('ol')[0].findAll('li'))\n",
    "\n",
    "        temp = np.zeros((7,1))\n",
    "        temp[0:nb]=1\n",
    "        nb_translations+=temp"
   ]
  },
  {
   "cell_type": "code",
   "execution_count": 44,
   "id": "39352aa3-ea7c-4472-91aa-0959c29d254c",
   "metadata": {},
   "outputs": [
    {
     "data": {
      "text/plain": [
       "array([[90.],\n",
       "       [72.],\n",
       "       [47.],\n",
       "       [39.],\n",
       "       [32.],\n",
       "       [30.],\n",
       "       [28.]])"
      ]
     },
     "execution_count": 44,
     "metadata": {},
     "output_type": "execute_result"
    }
   ],
   "source": [
    "nb_translations"
   ]
  },
  {
   "cell_type": "markdown",
   "id": "0582e930-af2f-44f4-9e7d-3151e959a877",
   "metadata": {},
   "source": [
    "We can see taht the first book is the one that is the most translated in total. The second alredy lost 20 translations, the third one has only half the translations of\n",
    "the thirst and the rest of the book aonly get one third of the number of tranlations of the first one. These values will be manually added to the book Harry Potter Collection's JSON"
   ]
  },
  {
   "cell_type": "markdown",
   "id": "005921f9-6205-4daa-adb3-ff43eb9a4b6c",
   "metadata": {},
   "source": [
    "## Download all the characters images"
   ]
  },
  {
   "cell_type": "code",
   "execution_count": 55,
   "id": "16d5e1b8-8081-4a66-80c1-0303c098fb8d",
   "metadata": {},
   "outputs": [
    {
     "data": {
      "text/html": [
       "<div>\n",
       "<style scoped>\n",
       "    .dataframe tbody tr th:only-of-type {\n",
       "        vertical-align: middle;\n",
       "    }\n",
       "\n",
       "    .dataframe tbody tr th {\n",
       "        vertical-align: top;\n",
       "    }\n",
       "\n",
       "    .dataframe thead th {\n",
       "        text-align: right;\n",
       "    }\n",
       "</style>\n",
       "<table border=\"1\" class=\"dataframe\">\n",
       "  <thead>\n",
       "    <tr style=\"text-align: right;\">\n",
       "      <th></th>\n",
       "      <th>label</th>\n",
       "      <th>link_image</th>\n",
       "    </tr>\n",
       "  </thead>\n",
       "  <tbody>\n",
       "    <tr>\n",
       "      <th>0</th>\n",
       "      <td>Hannah Abbott</td>\n",
       "      <td>http://img3.wikia.nocookie.net/__cb20091229012...</td>\n",
       "    </tr>\n",
       "    <tr>\n",
       "      <th>1</th>\n",
       "      <td>Ludo Bagman</td>\n",
       "      <td>http://img1.wikia.nocookie.net/__cb20111028215...</td>\n",
       "    </tr>\n",
       "    <tr>\n",
       "      <th>2</th>\n",
       "      <td>Lavender Brown</td>\n",
       "      <td>http://img2.wikia.nocookie.net/__cb20110719012...</td>\n",
       "    </tr>\n",
       "    <tr>\n",
       "      <th>3</th>\n",
       "      <td>Antioch Peverell</td>\n",
       "      <td>http://img3.wikia.nocookie.net/__cb20110119192...</td>\n",
       "    </tr>\n",
       "    <tr>\n",
       "      <th>4</th>\n",
       "      <td>Cadmus Peverell</td>\n",
       "      <td>http://img2.wikia.nocookie.net/__cb20110119200...</td>\n",
       "    </tr>\n",
       "  </tbody>\n",
       "</table>\n",
       "</div>"
      ],
      "text/plain": [
       "              label                                         link_image\n",
       "0     Hannah Abbott  http://img3.wikia.nocookie.net/__cb20091229012...\n",
       "1       Ludo Bagman  http://img1.wikia.nocookie.net/__cb20111028215...\n",
       "2    Lavender Brown  http://img2.wikia.nocookie.net/__cb20110719012...\n",
       "3  Antioch Peverell  http://img3.wikia.nocookie.net/__cb20110119192...\n",
       "4   Cadmus Peverell  http://img2.wikia.nocookie.net/__cb20110119200..."
      ]
     },
     "execution_count": 55,
     "metadata": {},
     "output_type": "execute_result"
    }
   ],
   "source": [
    "import shutil\n",
    "import requests\n",
    "output_folder = \"../data/images/\"\n",
    "characters = pd.read_json(\"../data/hp_networks/HP_network_clean.json\").loc[:,[\"label\", \"link_image\"]]\n",
    "characters.head()"
   ]
  },
  {
   "cell_type": "code",
   "execution_count": 56,
   "id": "e17292a9-e956-4dfc-917c-5e78d518e79e",
   "metadata": {},
   "outputs": [],
   "source": [
    "# Source : https://stackoverflow.com/questions/13137817/how-to-download-image-using-requests\n",
    "def download_image_and_save(name, link_image):\n",
    "    response = requests.get(link_image, stream=True)\n",
    "    with open(output_folder+name.replace(' ', '_')+'.png', 'wb') as out_file:\n",
    "        shutil.copyfileobj(response.raw, out_file)\n",
    "    del response"
   ]
  },
  {
   "cell_type": "code",
   "execution_count": null,
   "id": "6c53044c-6c8c-4c0e-b9e2-083cdc9bc7db",
   "metadata": {},
   "outputs": [],
   "source": [
    "characters.apply(lambda x: download_image_and_save(x['label'], x['link_image']),axis=1)\n",
    "None"
   ]
  },
  {
   "cell_type": "markdown",
   "id": "14b535a7-deec-474c-9b19-302d36e06043",
   "metadata": {},
   "source": [
    "Unfortunately, we can see in the data folder that not all the images are available. Hence, we still have to do a manual list of the character we would like to have in our visualisation. We will try to complete the dataset in the best possible way. We will replace characters that do not appear in screen with some drawing made by fan if it is needed. "
   ]
  },
  {
   "cell_type": "code",
   "execution_count": 59,
   "id": "6e00c160-ade7-48a8-ba23-21c3529692c9",
   "metadata": {},
   "outputs": [],
   "source": [
    "dico = {\n",
    "    \"Aberforth_Dumbledore\": \"https://fantasytopics.com/wp-content/uploads/2022/01/Aberforth-Dumbledore.jpg.webp\",\n",
    "    \"Alicia_Spinnet\":\"https://www.tafce.com/images/7/71/Alicia_Spinnet_TCOS_-_Edited.png\",\n",
    "    \"Amelia_Bones\": \"https://fantasytopics.com/wp-content/uploads/2021/12/Amelia-Bones.jpg\",\n",
    "    \"Amos_Diggory\":\"https://i.pinimg.com/originals/b9/29/02/b92902001b8a746cc6f8ae869e3c7da8.jpg\",\n",
    "    \"Amycus_Carrow\":\"http://pm1.narvii.com/6147/a2cba0ae76c65b8e89a5de516dec2e06b90a21cd_00.jpg\",\n",
    "    \"Andromeda_Tonks\":\"https://static.wikia.nocookie.net/harrypotter/images/c/c2/Andromeda_Tonks_%28Jessica_Roux%29.png/revision/latest?cb=20180609224846&path-prefix=de\",\n",
    "    \"Angelina_Johnson\": \"https://fantasytopics.com/wp-content/uploads/2022/02/Angelina-Johnson.jpg\",\n",
    "    \"Antonin_Dolohov\":\"https://img.wattpad.com/7c0acc5cc5431d6f3a4939dee709bd0b610b947e/68747470733a2f2f73332e616d617a6f6e6177732e636f6d2f776174747061642d6d656469612d736572766963652f53746f7279496d6167652f31774a30584f7231775448415f413d3d2d3436323130333833312e313464656461313666306339366339363433383635393230363538372e6a7067?s=fit&w=720&h=720\",\n",
    "    \"Aragog\": \"https://monsterlegacy.files.wordpress.com/2017/02/aragogbeauty.jpg\",\n",
    "    \"Arthur_Weasley\": \"https://assets.cdn.moviepilot.de/files/4d75d66dc583119023b112ffcb36df2b48f05e2290ea8ae41be54753b52e/fill/1024/492/04_28_Mark%20Williams%20Arthur%20Weasley.jpg\",\n",
    "    \n",
    "    \"Rufus_Scrimgeour\":\"https://pm1.narvii.com/6146/7c7aac1afbc65d26e823b35ff5f7e44be43ff5dc_00.jpg\"\n",
    "}"
   ]
  },
  {
   "cell_type": "code",
   "execution_count": null,
   "id": "8e33a928-d268-43a7-84d2-f66099b5e0a6",
   "metadata": {},
   "outputs": [],
   "source": []
  }
 ],
 "metadata": {
  "kernelspec": {
   "display_name": "Python 3 (ipykernel)",
   "language": "python",
   "name": "python3"
  },
  "language_info": {
   "codemirror_mode": {
    "name": "ipython",
    "version": 3
   },
   "file_extension": ".py",
   "mimetype": "text/x-python",
   "name": "python",
   "nbconvert_exporter": "python",
   "pygments_lexer": "ipython3",
   "version": "3.8.12"
  }
 },
 "nbformat": 4,
 "nbformat_minor": 5
}
