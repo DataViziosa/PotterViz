{
 "cells": [
  {
   "cell_type": "code",
   "execution_count": 49,
   "id": "f6f9249a-1f98-47c6-9b87-405b6d7661ba",
   "metadata": {},
   "outputs": [],
   "source": [
    "from bs4 import BeautifulSoup\n",
    "import requests as req\n",
    "import pandas as pd\n",
    "import numpy as np\n",
    "from PIL import Image, ImageOps"
   ]
  },
  {
   "cell_type": "markdown",
   "id": "4a0d7e89-a338-4a7b-a4d3-f586b5b91caf",
   "metadata": {},
   "source": [
    "## Get the number of translations for each Harry Potter book"
   ]
  },
  {
   "cell_type": "code",
   "execution_count": 32,
   "id": "bf36655c-17c4-4433-9adb-80f858e366de",
   "metadata": {},
   "outputs": [],
   "source": [
    "html = req.get(\"https://en.wikipedia.org/wiki/Harry_Potter_in_translation\")\n",
    "soup = BeautifulSoup(html.text, 'html.parser')"
   ]
  },
  {
   "cell_type": "code",
   "execution_count": 43,
   "id": "65b7b78b-86ae-46b9-ad26-50c60282c374",
   "metadata": {},
   "outputs": [],
   "source": [
    "all_els = soup.find('tbody').findAll('tr')[1:] # remove the header line\n",
    "nb_translations = np.zeros((7,1))\n",
    "\n",
    "for line in all_els:\n",
    "    if(len(line.findAll('ol'))==0):\n",
    "        pass\n",
    "    else:\n",
    "        nb = len(line.findAll('ol')[0].findAll('li'))\n",
    "\n",
    "        temp = np.zeros((7,1))\n",
    "        temp[0:nb]=1\n",
    "        nb_translations+=temp"
   ]
  },
  {
   "cell_type": "code",
   "execution_count": 44,
   "id": "39352aa3-ea7c-4472-91aa-0959c29d254c",
   "metadata": {},
   "outputs": [
    {
     "data": {
      "text/plain": [
       "array([[90.],\n",
       "       [72.],\n",
       "       [47.],\n",
       "       [39.],\n",
       "       [32.],\n",
       "       [30.],\n",
       "       [28.]])"
      ]
     },
     "execution_count": 44,
     "metadata": {},
     "output_type": "execute_result"
    }
   ],
   "source": [
    "nb_translations"
   ]
  },
  {
   "cell_type": "markdown",
   "id": "0582e930-af2f-44f4-9e7d-3151e959a877",
   "metadata": {},
   "source": [
    "We can see taht the first book is the one that is the most translated in total. The second alredy lost 20 translations, the third one has only half the translations of\n",
    "the thirst and the rest of the book aonly get one third of the number of tranlations of the first one. These values will be manually added to the book Harry Potter Collection's JSON"
   ]
  },
  {
   "cell_type": "markdown",
   "id": "005921f9-6205-4daa-adb3-ff43eb9a4b6c",
   "metadata": {},
   "source": [
    "## Download all the characters images"
   ]
  },
  {
   "cell_type": "code",
   "execution_count": null,
   "id": "08f1c895-8a7c-4df3-a4d8-1774071b5eb2",
   "metadata": {},
   "outputs": [],
   "source": []
  },
  {
   "cell_type": "code",
   "execution_count": 39,
   "id": "16d5e1b8-8081-4a66-80c1-0303c098fb8d",
   "metadata": {},
   "outputs": [
    {
     "data": {
      "text/html": [
       "<div>\n",
       "<style scoped>\n",
       "    .dataframe tbody tr th:only-of-type {\n",
       "        vertical-align: middle;\n",
       "    }\n",
       "\n",
       "    .dataframe tbody tr th {\n",
       "        vertical-align: top;\n",
       "    }\n",
       "\n",
       "    .dataframe thead th {\n",
       "        text-align: right;\n",
       "    }\n",
       "</style>\n",
       "<table border=\"1\" class=\"dataframe\">\n",
       "  <thead>\n",
       "    <tr style=\"text-align: right;\">\n",
       "      <th></th>\n",
       "      <th>image_name</th>\n",
       "      <th>link_image</th>\n",
       "    </tr>\n",
       "  </thead>\n",
       "  <tbody>\n",
       "    <tr>\n",
       "      <th>0</th>\n",
       "      <td>aragog</td>\n",
       "      <td>http://img4.wikia.nocookie.net/__cb20100611145...</td>\n",
       "    </tr>\n",
       "    <tr>\n",
       "      <th>1</th>\n",
       "      <td>ludovic_bagman</td>\n",
       "      <td>http://img1.wikia.nocookie.net/__cb20111028215...</td>\n",
       "    </tr>\n",
       "    <tr>\n",
       "      <th>2</th>\n",
       "      <td>bane</td>\n",
       "      <td>http://img3.wikia.nocookie.net/__cb20100712171...</td>\n",
       "    </tr>\n",
       "    <tr>\n",
       "      <th>3</th>\n",
       "      <td>cuthbert_binns</td>\n",
       "      <td>http://img1.wikia.nocookie.net/__cb20130907183...</td>\n",
       "    </tr>\n",
       "    <tr>\n",
       "      <th>4</th>\n",
       "      <td>regulus_black</td>\n",
       "      <td>http://img2.wikia.nocookie.net/__cb20111004231...</td>\n",
       "    </tr>\n",
       "  </tbody>\n",
       "</table>\n",
       "</div>"
      ],
      "text/plain": [
       "       image_name                                         link_image\n",
       "0          aragog  http://img4.wikia.nocookie.net/__cb20100611145...\n",
       "1  ludovic_bagman  http://img1.wikia.nocookie.net/__cb20111028215...\n",
       "2            bane  http://img3.wikia.nocookie.net/__cb20100712171...\n",
       "3  cuthbert_binns  http://img1.wikia.nocookie.net/__cb20130907183...\n",
       "4   regulus_black  http://img2.wikia.nocookie.net/__cb20111004231..."
      ]
     },
     "execution_count": 39,
     "metadata": {},
     "output_type": "execute_result"
    }
   ],
   "source": [
    "import shutil\n",
    "import requests\n",
    "output_folder = \"../data/images/characters/\"\n",
    "characters = pd.read_json(\"../data/cleaned/selected_chars.json\").loc[:,[\"image_name\", \"link_image\"]]\n",
    "characters.head()"
   ]
  },
  {
   "cell_type": "code",
   "execution_count": 70,
   "id": "e17292a9-e956-4dfc-917c-5e78d518e79e",
   "metadata": {},
   "outputs": [],
   "source": [
    "# Source : https://stackoverflow.com/questions/13137817/how-to-download-image-using-requests\n",
    "def download_image_and_save(name, link_image, custom_link):\n",
    "    if(name in custom_link):\n",
    "        link_image = custom_link[name]\n",
    "    \n",
    "    response = requests.get(link_image, stream=True)\n",
    "    with open(output_folder+name+'.png', 'wb') as out_file:\n",
    "        shutil.copyfileobj(response.raw, out_file)\n",
    "    del response\n",
    "    \n",
    "    im = Image.open(output_folder+name+'.png')\n",
    "    old_size = im.size\n",
    "    desired_size = im.size[0]  # old_size[0] is in (width, height) format\n",
    "    \n",
    "    ratio = float(desired_size)/max(old_size)\n",
    "    new_size = tuple([int(x*ratio) for x in old_size])\n",
    "    # use thumbnail() or resize() method to resize the input image\n",
    "\n",
    "    # thumbnail is a in-place operation\n",
    "\n",
    "    # im.thumbnail(new_size, Image.ANTIALIAS)\n",
    "    \n",
    "    im_crop = im.crop((0, 0, desired_size, desired_size))\n",
    "\n",
    "    im_crop.save(output_folder+name+'.png')"
   ]
  },
  {
   "cell_type": "code",
   "execution_count": 71,
   "id": "100e2b59",
   "metadata": {},
   "outputs": [],
   "source": [
    "dico = {\n",
    "    \"aberforth_dumbledore\": \"https://static.wikia.nocookie.net/harrypotter/images/1/1a/Aberforth.jpg/revision/latest/top-crop/width/360/height/450?cb=20141115085234&path-prefix=fr\",\n",
    "    \"alicia_spinnet\":\"https://static.wikia.nocookie.net/harrypotter/images/7/7a/Alicia_Spinnet.png/revision/latest?cb=20100121181636&path-prefix=fr\",\n",
    "    \"amelia_bones\": \"https://static.wikia.nocookie.net/harrypotter/images/9/9c/Amelia_Bones_2.jpg/revision/latest?cb=20110826230102&path-prefix=fr\",\n",
    "    \"amos_diggory\":\"https://static.wikia.nocookie.net/harrypotter/images/f/f0/PromoHP4_AmosDiggory.jpg/revision/latest?cb=20090920082156&path-prefix=fr\",\n",
    "    \"amycus_carrow\":\"https://static.wikia.nocookie.net/harrypotter/images/9/97/Amycus_Carrow_PM.png/revision/latest?cb=20170203044409\",\n",
    "    \"andromeda_tonks\":\"https://static.wikia.nocookie.net/harrypotter/images/c/c2/Andromeda_Tonks_%28Jessica_Roux%29.png/revision/latest?cb=20180609224846&path-prefix=de\",\n",
    "    \"angelina_johnson\": \"https://static.wikia.nocookie.net/harrypotter/images/6/6c/PromoHP4_AngelinaJohnson.jpg/revision/latest/top-crop/width/360/height/450?cb=20090919112303&path-prefix=fr\",\n",
    "    \"antonin_dolohov\":\"https://static.wikia.nocookie.net/harrypotter/images/7/74/Dolohov-0.jpg/revision/latest?cb=20181228122546\",\n",
    "    \"aragog\": \"https://static.wikia.nocookie.net/harrypotter/images/d/d2/Ara.jpg/revision/latest?cb=20130615192317&path-prefix=de\",\n",
    "    \"arthur_weasley\": \"https://static.wikia.nocookie.net/harrypotter/images/c/c1/PromoHP7_Arthur_Weasley.jpg/revision/latest?cb=20110901200337&path-prefix=fr\",\n",
    "    \"augustus_rookwood\":\"https://static.wikia.nocookie.net/harrypotter/images/3/3e/Rookwood_Pottermore.png/revision/latest?cb=20171031194639&path-prefix=fr\",\n",
    "    \"bane\":\"https://static.wikia.nocookie.net/harrypotter/images/2/2f/Bane.jpg/revision/latest/top-crop/width/360/height/450?cb=20140730143107&path-prefix=fr\",\n",
    "    \"bartemius_crouch_junior\":\"https://static.wikia.nocookie.net/warner-bros-entertainment/images/f/fa/BartyCouchjr.jpg/revision/latest/top-crop/width/360/height/450?cb=20171104211944\",\n",
    "    \"bartemius_crouch_senior\":\"https://static.wikia.nocookie.net/harrypotter/images/3/37/Barty_Crouch_Senior_GOFF_promo.jpg/revision/latest?cb=20100123214858\",\n",
    "    \"bathilda_bagshot\":\"https://static.wikia.nocookie.net/harrypotter/images/0/0d/Bathilda_Bagshot_profile.jpg/revision/latest?cb=20161119223158\",\n",
    "    \"bill_weasley\":\"https://static.wikia.nocookie.net/harrypotter/images/8/86/Bill_Promo.jpg/revision/latest/top-crop/width/360/height/450?cb=20141115085723&path-prefix=fr\",\n",
    "    \"blaise_zabini\":\"https://static.wikia.nocookie.net/harrypotter/images/5/59/Blaise_Zabini.png/revision/latest?cb=20091110145549&path-prefix=fr\",\n",
    "    \"bloody_baron\":\"https://static.wikia.nocookie.net/harrypotter/images/5/55/Bloody_Baron.jpg/revision/latest/top-crop/width/360/height/360?cb=20100408172210\",\n",
    "    \"charity_burbage\":\"https://static.wikia.nocookie.net/harrypotter/images/a/a4/Carolyn_Pickles.png/revision/latest?cb=20210623183233\",\n",
    "    \"cho_chang\":\"https://static.wikia.nocookie.net/harrypotter/images/d/d3/PromoHP5_Cho_Chang.jpg/revision/latest?cb=20090322135602&path-prefix=fr\",\n",
    "    \"cormac_mclaggen\":\"https://static.wikia.nocookie.net/harrypotter/images/8/8d/Cormac_McLaggen.jpg/revision/latest/top-crop/width/360/height/450?cb=20120608163726&path-prefix=fr\",\n",
    "    \"cornelius_fudge\":\"https://static.wikia.nocookie.net/harrypotter/images/d/d7/Cornelius_Fudge.jpg/revision/latest/top-crop/width/360/height/450?cb=20110826095744&path-prefix=fr\",\n",
    "    \"dudley_dursley\":\"https://static.wikia.nocookie.net/harrypotter/images/4/48/Dudley_Dursley.jpg/revision/latest?cb=20120131182025&path-prefix=de\",\n",
    "    \"elphias_doge\":\"https://static.wikia.nocookie.net/harrypotter/images/4/4e/Elphias_Doge_2.jpg/revision/latest/top-crop/width/360/height/450?cb=20110826100148&path-prefix=fr\",\n",
    "    \"fenrir_greyback\":\"https://static.wikia.nocookie.net/harrypotter/images/5/5d/PromoHP6_Fenrir_Greyback.jpg/revision/latest/top-crop/width/360/height/450?cb=20090821070417&path-prefix=fr\",\n",
    "    \"fleur_delacour\":\"https://static.wikia.nocookie.net/harrypotter/images/5/53/PromoHP7_Fleur_Delacour.jpg/revision/latest/top-crop/width/360/height/450?cb=20110901131945&path-prefix=fr\",\n",
    "    \"fred_weasley\":\"https://static.wikia.nocookie.net/harrypotter/images/8/8b/PromoHP7_Fred_Weasley.jpg/revision/latest?cb=20110901202603&path-prefix=fr\",\n",
    "    \"gabrielle_delacour\":\"https://static.wikia.nocookie.net/harrypotter/images/2/2d/PromoHP4_Gabrielle_Delacour.jpg/revision/latest/top-crop/width/360/height/450?cb=20110829082905&path-prefix=fr\",\n",
    "    \"garrick_ollivander\":\"https://static.wikia.nocookie.net/harrypotter/images/9/9a/GarrickOllivander.jpg/revision/latest?cb=20141115085020&path-prefix=fr\",\n",
    "    \"george_weasley\":\"https://static.wikia.nocookie.net/harrypotter/images/8/8f/PromoHP7_George_Weasley.jpg/revision/latest?cb=20110901202407&path-prefix=fr\",\n",
    "    \"gilderoy_lockhart\":\"https://static.wikia.nocookie.net/harrypotter/images/c/c4/PromoHP2_Gilderoy_Lockhart_4.jpg/revision/latest/top-crop/width/360/height/450?cb=20120410202927&path-prefix=fr\",\n",
    "    \"godric_gryffindor\":\"https://static.wikia.nocookie.net/harrypotter/images/f/f7/Gryffondor_promo.jpg/revision/latest?cb=20141116063526&path-prefix=fr\",\n",
    "    \"grawp\":\"https://static.wikia.nocookie.net/harrypotter/images/e/e6/Grawp.png/revision/latest?cb=20140809230305&path-prefix=de\",\n",
    "    \"gregory_goyle\":\"https://static.wikia.nocookie.net/harrypotter/images/9/9f/PromoHP3_Gregory_Goyle.jpg/revision/latest/top-crop/width/360/height/450?cb=20091021125109&path-prefix=fr\",\n",
    "    \"helga_hufflepuff\":\"https://static.wikia.nocookie.net/harrypotter/images/2/24/Helga_Poufsouffle_promo.jpg/revision/latest?cb=20141116063756&path-prefix=fr\",\n",
    "    \"hermione_granger\":\"https://static.wikia.nocookie.net/harrypotter/images/f/f8/PromoHP7_Hermione_Granger.jpg/revision/latest?cb=20110901130218&path-prefix=fr\",\n",
    "    \"igor_karkaroff\":\"https://static.wikia.nocookie.net/harrypotter/images/3/3c/PromoHP4_IgorKarkaroff.jpg/revision/latest?cb=20090918153048&path-prefix=fr\",\n",
    "    \"james_potter\":\"https://static.wikia.nocookie.net/harrypotter/images/1/10/James_Potter_I_Deathly_Hallows.jpg/revision/latest?cb=20180601015416\",\n",
    "    \"katie_bell\":\"https://static.wikia.nocookie.net/harrypotter/images/b/b0/PromoHP7_Katie_Bell.jpg/revision/latest/top-crop/width/360/height/450?cb=20110901130733&path-prefix=fr\",\n",
    "    \"myrtle_warren\":\"https://static.wikia.nocookie.net/harrypotter/images/b/b8/Myrtle_Warren_profile.png/revision/latest?cb=20170113020338\",\n",
    "    \"lord_voldemort\":\"https://static.wikia.nocookie.net/harrypotter/images/a/aa/Voldemort_Headshot_DHP1.png/revision/latest?cb=20161203031453\",\n",
    "    \"ludovic_bagman\":\"https://static.wikia.nocookie.net/harrypotter/images/b/b2/Ludo_Verpey.png/revision/latest?cb=20171123130115&path-prefix=fr\",\n",
    "    \"luna_lovegood\":\"https://static.wikia.nocookie.net/harrypotter/images/6/64/Luna_Infobox.jpg/revision/latest?cb=20130625201357&path-prefix=de\",\n",
    "    \"marvolo_gaunt\":\"https://static.wikia.nocookie.net/harrypotter/images/2/2d/MarvoloGaunt.jpeg/revision/latest?cb=20180101230127\",\n",
    "    \"merope_gaunt\":\"https://static.wikia.nocookie.net/harrypotter/images/f/ff/MeropeGaunt.jpeg/revision/latest?cb=20211222114521\",\n",
    "    \"mary_cattermole\":\"https://static.wikia.nocookie.net/harrypotter/images/c/c2/Mary_Cattermole_2.jpg/revision/latest/top-crop/width/360/height/450?cb=20150222122547&path-prefix=fr\",\n",
    "    \"moaning_myrtle\":\"https://static.wikia.nocookie.net/harrypotter/images/b/b8/Myrtle_Warren_profile.png/revision/latest?cb=20170113020338\",\n",
    "    \"molly_weasley\":\"https://static.wikia.nocookie.net/harrypotter/images/b/bf/PromoHP7_Molly_Weasley.jpg/revision/latest?cb=20110901204925&path-prefix=fr\",\n",
    "    \"mykew_gregorovitch\":\"https://static.wikia.nocookie.net/harrypotter/images/e/ee/Mykew_Gregorovitch.jpg/revision/latest?cb=20161119161206\",\n",
    "    \"morfin_gaunt\":\"https://static.wikia.nocookie.net/harrypotter/images/5/55/Morfin_Gaunt_2.jpg/revision/latest?cb=20180101130436&path-prefix=fr\",\n",
    "    \"nicholas_de_mimsy-porpington\":\"https://static.wikia.nocookie.net/harrypotter/images/6/6d/Nicholas_de_Mimsy-Porpington.png/revision/latest?cb=20200515191831\",\n",
    "    \"norberta\":\"https://static.wikia.nocookie.net/harrypotter/images/c/c1/Norberta_Norwegian_Ridgeback.jpg/revision/latest?cb=20161122220257\",\n",
    "    \"nymphadora_tonks\":\"https://static.wikia.nocookie.net/harrypotter/images/8/81/Nymphadora_Tonks_DH2.jpg/revision/latest/top-crop/width/360/height/450?cb=20150222123217&path-prefix=fr\",\n",
    "    \"pansy_parkinson\":\"https://static.wikia.nocookie.net/harrypotter/images/e/e8/PromoHP7_Pansy_Parkinson.jpg/revision/latest/top-crop/width/360/height/450?cb=20110901153320&path-prefix=fr\",\n",
    "    \"penelope_clearwater\":\"https://static.wikia.nocookie.net/harrypotterfanon/images/5/54/Evellyn.PNG/revision/latest?cb=20130927012659\",\n",
    "    \"pomona_sprout\":\"https://static.wikia.nocookie.net/harrypotter/images/7/71/PSprout.png/revision/latest?cb=20110109155242\",\n",
    "    \"quirinus_quirrell\":\"https://static.wikia.nocookie.net/harrypotter/images/5/58/PromoHP1_Quirinus_Quirrell_2.jpg/revision/latest?cb=20120403071231&path-prefix=fr\",\n",
    "    \"rabastan_lestrange\":\"https://static.wikia.nocookie.net/harrypotterfanon/images/9/9d/Rodolphus-lestrange.jpg/revision/latest/top-crop/width/360/height/450?cb=20190919005630\",\n",
    "    \"reginald_cattermole\":\"https://static.wikia.nocookie.net/harrypotter/images/9/94/Reginald_Cattermole.jpg/revision/latest?cb=20150222122435&path-prefix=fr\",\n",
    "    \"romilda_vane\":\"https://static.wikia.nocookie.net/harrypotter/images/7/7f/Romilda_Vane.jpg/revision/latest/top-crop/width/360/height/450?cb=20160307123959&path-prefix=fr\",\n",
    "    \"ronald_weasley\":\"https://static.wikia.nocookie.net/harrypotter/images/7/74/PromoHP7_Ron_Weasley.jpg/revision/latest?cb=20150916123346&path-prefix=fr\",\n",
    "    \"rubeus_hagrid\":\"https://static.wikia.nocookie.net/harrypotter/images/1/1a/PromoHP3_Rubeus_Hagrid.jpg/revision/latest/top-crop/width/360/height/450?cb=20090103221029&path-prefix=fr\",\n",
    "    \"rufus_scrimgeour\":\"https://static.wikia.nocookie.net/harrypotter/images/c/ca/PromoHP7_Rufus_Scrimgeour.jpg/revision/latest?cb=20100902065406&path-prefix=fr\",\n",
    "    \"salazar_slytherin\":\"https://static.wikia.nocookie.net/harrypotter/images/f/fc/Salazar_Serpentard_Promo.jpg/revision/latest?cb=20141116064309&path-prefix=fr\",\n",
    "    \"septima_vector\":\"https://static.wikia.nocookie.net/harrypotter/images/4/49/Septima_Vector.jpg/revision/latest/top-crop/width/360/height/450?cb=20110620110019&path-prefix=fr\",\n",
    "    \"sirius_black\":\"https://static.wikia.nocookie.net/harrypotter/images/9/93/PromoHP5_Sirius_Black.jpg/revision/latest/top-crop/width/360/height/450?cb=20090601145207&path-prefix=fr\",\n",
    "    \"sybill_trelawney\":\"https://static.wikia.nocookie.net/harrypotter/images/e/ee/PromoHP3_Sibylle_Trelawney.jpg/revision/latest?cb=20110901194133&path-prefix=fr\",\n",
    "    \"ted_tonks\":\"https://static.wikia.nocookie.net/harrypotter/images/d/de/Ted_Tonks.png/revision/latest?cb=20130901194234&path-prefix=fr\",\n",
    "    \"teddy_lupin\":\"https://static.wikia.nocookie.net/harrypotter/images/6/62/Teddy_Lupin.png/revision/latest?cb=20160801025828\",\n",
    "    \"theodore_nott\":\"https://static.wikia.nocookie.net/harry-potter-fanons/images/f/f7/DA95DE64-411B-4017-ACC4-BB1D9D8BC0D4.jpg/revision/latest/scale-to-width-down/490?cb=20200717122910\",\n",
    "    \"tiberius_ogden\":\"https://static.wikia.nocookie.net/harryalbuspotter/images/d/de/TiberiusNott.PNG/revision/latest?cb=20120130200228\",\n",
    "    \"tom_riddle_(voldemort)\":\"https://static.wikia.nocookie.net/harrypotter/images/d/d1/Voldemort_Info.jpg/revision/latest?cb=20130703134443&path-prefix=de\"\n",
    "}"
   ]
  },
  {
   "cell_type": "code",
   "execution_count": 72,
   "id": "6c53044c-6c8c-4c0e-b9e2-083cdc9bc7db",
   "metadata": {},
   "outputs": [],
   "source": [
    "characters.apply(lambda x: download_image_and_save(x['image_name'], x['link_image'],dico),axis=1)\n",
    "None"
   ]
  },
  {
   "cell_type": "markdown",
   "id": "14b535a7-deec-474c-9b19-302d36e06043",
   "metadata": {},
   "source": [
    "Unfortunately, not all the images are available anymore. Hence, we still have to do a manual list of the character we would like to have in our visualisation. We will try to complete the dataset in the best possible way. We will replace characters that do not appear in screen with some drawing made by fan if it is needed. "
   ]
  },
  {
   "cell_type": "code",
   "execution_count": 59,
   "id": "6e00c160-ade7-48a8-ba23-21c3529692c9",
   "metadata": {},
   "outputs": [],
   "source": []
  },
  {
   "cell_type": "code",
   "execution_count": null,
   "id": "8e33a928-d268-43a7-84d2-f66099b5e0a6",
   "metadata": {},
   "outputs": [],
   "source": []
  }
 ],
 "metadata": {
  "kernelspec": {
   "display_name": "Python 3 (ipykernel)",
   "language": "python",
   "name": "python3"
  },
  "language_info": {
   "codemirror_mode": {
    "name": "ipython",
    "version": 3
   },
   "file_extension": ".py",
   "mimetype": "text/x-python",
   "name": "python",
   "nbconvert_exporter": "python",
   "pygments_lexer": "ipython3",
   "version": "3.8.12"
  }
 },
 "nbformat": 4,
 "nbformat_minor": 5
}
