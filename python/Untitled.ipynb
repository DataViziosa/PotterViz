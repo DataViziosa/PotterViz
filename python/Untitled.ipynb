{
 "cells": [
  {
   "cell_type": "code",
   "execution_count": 1,
   "id": "68ac5beb-abce-4137-bd96-c8aba6436d22",
   "metadata": {},
   "outputs": [],
   "source": [
    "import pandas as pd\n",
    "from helper.constantes import *\n",
    "from ast import literal_eval"
   ]
  },
  {
   "cell_type": "code",
   "execution_count": 2,
   "id": "1d3f304f-f808-40bd-afe6-042707c479bf",
   "metadata": {},
   "outputs": [],
   "source": [
    "networks = pd.read_csv(cleaned_folder+\"selected_chars.csv\",converters={\"associated_groups\": literal_eval,\"connection_label\": literal_eval})"
   ]
  },
  {
   "cell_type": "code",
   "execution_count": 67,
   "id": "0d8b1655-cbf7-40c6-b421-502bdaf21b8a",
   "metadata": {},
   "outputs": [],
   "source": [
    "networks = networks.rename(columns={'Unnamed: 0':\"id\"})"
   ]
  },
  {
   "cell_type": "code",
   "execution_count": 68,
   "id": "6fc0994e-cba5-43f4-8b86-e1610ef2f01f",
   "metadata": {},
   "outputs": [],
   "source": [
    "networks_assoc = networks.loc[:,['name','associated_groups']]\n",
    "networks_inter = networks.loc[:,['name','connection_label']]"
   ]
  },
  {
   "cell_type": "code",
   "execution_count": 69,
   "id": "24f4b729-e987-423e-922c-be15dac8363c",
   "metadata": {},
   "outputs": [
    {
     "data": {
      "text/html": [
       "<div>\n",
       "<style scoped>\n",
       "    .dataframe tbody tr th:only-of-type {\n",
       "        vertical-align: middle;\n",
       "    }\n",
       "\n",
       "    .dataframe tbody tr th {\n",
       "        vertical-align: top;\n",
       "    }\n",
       "\n",
       "    .dataframe thead th {\n",
       "        text-align: right;\n",
       "    }\n",
       "</style>\n",
       "<table border=\"1\" class=\"dataframe\">\n",
       "  <thead>\n",
       "    <tr style=\"text-align: right;\">\n",
       "      <th></th>\n",
       "      <th>name</th>\n",
       "      <th>associated_groups</th>\n",
       "    </tr>\n",
       "  </thead>\n",
       "  <tbody>\n",
       "    <tr>\n",
       "      <th>0</th>\n",
       "      <td>Aragog</td>\n",
       "      <td>[]</td>\n",
       "    </tr>\n",
       "    <tr>\n",
       "      <th>1</th>\n",
       "      <td>Ludovic Bagman</td>\n",
       "      <td>[British Ministry of Magic]</td>\n",
       "    </tr>\n",
       "    <tr>\n",
       "      <th>2</th>\n",
       "      <td>Bane</td>\n",
       "      <td>[Hogwarts School of Witchcraft and Wizardry]</td>\n",
       "    </tr>\n",
       "    <tr>\n",
       "      <th>3</th>\n",
       "      <td>Cuthbert Binns</td>\n",
       "      <td>[Hogwarts School of Witchcraft and Wizardry]</td>\n",
       "    </tr>\n",
       "    <tr>\n",
       "      <th>4</th>\n",
       "      <td>Regulus Black</td>\n",
       "      <td>[Slytherin, Hogwarts School of Witchcraft and ...</td>\n",
       "    </tr>\n",
       "  </tbody>\n",
       "</table>\n",
       "</div>"
      ],
      "text/plain": [
       "             name                                  associated_groups\n",
       "0          Aragog                                                 []\n",
       "1  Ludovic Bagman                        [British Ministry of Magic]\n",
       "2            Bane       [Hogwarts School of Witchcraft and Wizardry]\n",
       "3  Cuthbert Binns       [Hogwarts School of Witchcraft and Wizardry]\n",
       "4   Regulus Black  [Slytherin, Hogwarts School of Witchcraft and ..."
      ]
     },
     "execution_count": 69,
     "metadata": {},
     "output_type": "execute_result"
    }
   ],
   "source": [
    "networks_assoc.head()"
   ]
  },
  {
   "cell_type": "code",
   "execution_count": 70,
   "id": "a78622df-c26d-478b-8733-cb76c9a3b48d",
   "metadata": {},
   "outputs": [],
   "source": [
    "all_assoc = {}\n",
    "\n",
    "\n",
    "def add_assoc_to_dico(index, list_groups, dico):\n",
    "    for l in list_groups:\n",
    "        if l in dico: \n",
    "            cur_set = dico[l]\n",
    "        else:\n",
    "            cur_set = set()\n",
    "        cur_set.add(index)\n",
    "        dico[l] = cur_set\n"
   ]
  },
  {
   "cell_type": "code",
   "execution_count": 134,
   "id": "fec0f810-5788-4885-a1f9-594c86031e8c",
   "metadata": {},
   "outputs": [
    {
     "data": {
      "text/plain": [
       "0      None\n",
       "1      None\n",
       "2      None\n",
       "3      None\n",
       "4      None\n",
       "       ... \n",
       "171    None\n",
       "172    None\n",
       "173    None\n",
       "174    None\n",
       "175    None\n",
       "Length: 176, dtype: object"
      ]
     },
     "execution_count": 134,
     "metadata": {},
     "output_type": "execute_result"
    }
   ],
   "source": [
    "networks_assoc.apply(lambda x: add_assoc_to_dico(x.name,x['associated_groups'],all_assoc),axis=1)\n"
   ]
  },
  {
   "cell_type": "code",
   "execution_count": 136,
   "id": "5a2bef2a-e1d4-4b30-8c3d-ec2d3f708946",
   "metadata": {},
   "outputs": [],
   "source": [
    "del all_assoc[\"Hogwarts School of Witchcraft and Wizardry\"]"
   ]
  },
  {
   "cell_type": "code",
   "execution_count": 137,
   "id": "84da269b-a1ff-45de-8012-7bf8f69d262c",
   "metadata": {},
   "outputs": [],
   "source": [
    "all_perm = [(x,y,k) for k,v in all_assoc.items() for x in list(v) for y in list(v)  if x != y]\n",
    "edges_assoc = pd.DataFrame(all_perm, columns=['source', 'target', 'association']).groupby(['source','target'])['association'].apply(list).reset_index()"
   ]
  },
  {
   "cell_type": "code",
   "execution_count": 138,
   "id": "63b1539b-cf18-41a0-8cca-3de8cb11f9c2",
   "metadata": {},
   "outputs": [],
   "source": [
    "def add_inter_to_dico(index, list_inters, dico, map_name_to_index):\n",
    "    all_inter = set()\n",
    "    for l in list_inters:\n",
    "        all_inter.add(map_name_to_index[l])\n",
    "    dico[index] = all_inter"
   ]
  },
  {
   "cell_type": "code",
   "execution_count": 139,
   "id": "af01f48a-2144-40c4-a926-ca5a9fdf5a86",
   "metadata": {},
   "outputs": [],
   "source": [
    "map_name_to_index = {}\n",
    "\n",
    "for index, row in networks_inter.iterrows():\n",
    "    map_name_to_index[row['name']]= index"
   ]
  },
  {
   "cell_type": "code",
   "execution_count": 140,
   "id": "cc66fd0d-4d0b-4b07-899e-b5c83b8e64eb",
   "metadata": {},
   "outputs": [],
   "source": [
    "all_inters = {}\n",
    "\n",
    "networks_inter.apply(lambda x: add_inter_to_dico(x.name,x['connection_label'],all_inters,map_name_to_index),axis=1)\n",
    "all_perm_inter = [(k,x) for k,v in all_inters.items() for x in list(v)]\n",
    "edges_inter = pd.DataFrame(all_perm_inter, columns=['source', 'target'])\n"
   ]
  },
  {
   "cell_type": "code",
   "execution_count": 141,
   "id": "998c038b-c4e0-4f03-b6cd-ec94b8f55eaf",
   "metadata": {},
   "outputs": [
    {
     "data": {
      "text/plain": [
       "49"
      ]
     },
     "execution_count": 141,
     "metadata": {},
     "output_type": "execute_result"
    }
   ],
   "source": [
    "len(edges_inter[edges_inter.source == 140].values)"
   ]
  },
  {
   "cell_type": "code",
   "execution_count": 142,
   "id": "cce4f2c8-787c-4b45-b164-e7adcbd3092a",
   "metadata": {},
   "outputs": [
    {
     "data": {
      "text/plain": [
       "49"
      ]
     },
     "execution_count": 142,
     "metadata": {},
     "output_type": "execute_result"
    }
   ],
   "source": [
    "len(networks_inter[networks_inter.name == \"Bellatrix Lestrange\"]['connection_label'].values[0])"
   ]
  },
  {
   "cell_type": "code",
   "execution_count": 143,
   "id": "29abee03-c358-43c1-95f1-562ac326f6df",
   "metadata": {},
   "outputs": [
    {
     "data": {
      "text/html": [
       "<div>\n",
       "<style scoped>\n",
       "    .dataframe tbody tr th:only-of-type {\n",
       "        vertical-align: middle;\n",
       "    }\n",
       "\n",
       "    .dataframe tbody tr th {\n",
       "        vertical-align: top;\n",
       "    }\n",
       "\n",
       "    .dataframe thead th {\n",
       "        text-align: right;\n",
       "    }\n",
       "</style>\n",
       "<table border=\"1\" class=\"dataframe\">\n",
       "  <thead>\n",
       "    <tr style=\"text-align: right;\">\n",
       "      <th></th>\n",
       "      <th>name</th>\n",
       "      <th>connection_label</th>\n",
       "    </tr>\n",
       "  </thead>\n",
       "  <tbody>\n",
       "    <tr>\n",
       "      <th>140</th>\n",
       "      <td>Bellatrix Lestrange</td>\n",
       "      <td>[Aberforth Dumbledore, Alastor Moody, Albus Du...</td>\n",
       "    </tr>\n",
       "  </tbody>\n",
       "</table>\n",
       "</div>"
      ],
      "text/plain": [
       "                    name                                   connection_label\n",
       "140  Bellatrix Lestrange  [Aberforth Dumbledore, Alastor Moody, Albus Du..."
      ]
     },
     "execution_count": 143,
     "metadata": {},
     "output_type": "execute_result"
    }
   ],
   "source": [
    "networks_inter[networks_inter.name == \"Bellatrix Lestrange\"]"
   ]
  },
  {
   "cell_type": "code",
   "execution_count": 144,
   "id": "d2590d2b-db7d-4b9b-9cc6-a1607d619e6e",
   "metadata": {},
   "outputs": [],
   "source": [
    "edges_inter.to_csv(cleaned_folder+\"edges_inter.csv\")"
   ]
  },
  {
   "cell_type": "code",
   "execution_count": 145,
   "id": "3f38de58-a764-4459-9569-cff2511d4a7a",
   "metadata": {},
   "outputs": [],
   "source": [
    "edges_assoc.to_csv(cleaned_folder+\"edges_assoc.csv\")"
   ]
  },
  {
   "cell_type": "markdown",
   "id": "8a0ec5c9-98e4-486e-91f4-48c66c2760cb",
   "metadata": {},
   "source": [
    "### Generate graph in networkx"
   ]
  },
  {
   "cell_type": "code",
   "execution_count": 146,
   "id": "48eedf16-d586-4aea-bb2b-ea44852e755d",
   "metadata": {},
   "outputs": [],
   "source": [
    "import networkx as nx\n",
    "from networkx.readwrite import json_graph\n",
    "import json"
   ]
  },
  {
   "cell_type": "code",
   "execution_count": 150,
   "id": "b1c5d1d1-b0b1-4758-8baf-d46904ff3511",
   "metadata": {},
   "outputs": [],
   "source": [
    "def add_nodes_attributes_and_save(filepath, edge_list, node_info):\n",
    "    edge_list = edge_list.reset_index().rename(columns={'index':'id'})\n",
    "    g=nx.from_pandas_edgelist(edge_list, source='source', target='target',edge_attr='id')\n",
    "    node_info.fillna(\"\",inplace=True)\n",
    "    \n",
    "    node_attr = node_info.to_dict(orient='index') \n",
    "    nx.set_node_attributes(g, node_attr)\n",
    "    nx.set_node_attributes(g,{k:{\"x\":v[0], \"y\":v[1], \"color\":\"#EEEEEE\",\"size\":2} for k,v in nx.spring_layout(g).items()})\n",
    "    \n",
    "    json_net = json_graph.node_link_data(g)\n",
    "    edges = json_net['links']\n",
    "    json_net[\"edges\"]=edges.copy()\n",
    "    del json_net['links']\n",
    "    \n",
    "    with open(filepath, 'w') as f:\n",
    "        json.dump(json_net, f)"
   ]
  },
  {
   "cell_type": "code",
   "execution_count": 151,
   "id": "f756ebd6-4b9e-4ba5-abdc-8eaa5708efff",
   "metadata": {},
   "outputs": [
    {
     "name": "stderr",
     "output_type": "stream",
     "text": [
      "/var/folders/vf/btrykr5n65v_k_lwb61317k80000gn/T/ipykernel_33540/4178445733.py:6: UserWarning: DataFrame columns are not unique, some columns will be omitted.\n",
      "  node_attr = node_info.to_dict(orient='index')\n"
     ]
    }
   ],
   "source": [
    "add_nodes_attributes_and_save(cleaned_folder + \"interaction_network.json\", edges_inter, networks)"
   ]
  },
  {
   "cell_type": "code",
   "execution_count": 152,
   "id": "6bd4d8f8-ae9b-4c5c-a80f-01cb918283f9",
   "metadata": {},
   "outputs": [
    {
     "name": "stderr",
     "output_type": "stream",
     "text": [
      "/var/folders/vf/btrykr5n65v_k_lwb61317k80000gn/T/ipykernel_33540/4178445733.py:6: UserWarning: DataFrame columns are not unique, some columns will be omitted.\n",
      "  node_attr = node_info.to_dict(orient='index')\n"
     ]
    }
   ],
   "source": [
    "add_nodes_attributes_and_save(cleaned_folder + \"association_network.json\", edges_assoc, networks)"
   ]
  },
  {
   "cell_type": "code",
   "execution_count": null,
   "id": "34284f21-3054-4574-9461-ca377d944849",
   "metadata": {},
   "outputs": [],
   "source": []
  },
  {
   "cell_type": "code",
   "execution_count": null,
   "id": "cc819396-6fd7-46aa-9a50-3df0f3631f93",
   "metadata": {},
   "outputs": [],
   "source": []
  }
 ],
 "metadata": {
  "kernelspec": {
   "display_name": "Python 3 (ipykernel)",
   "language": "python",
   "name": "python3"
  },
  "language_info": {
   "codemirror_mode": {
    "name": "ipython",
    "version": 3
   },
   "file_extension": ".py",
   "mimetype": "text/x-python",
   "name": "python",
   "nbconvert_exporter": "python",
   "pygments_lexer": "ipython3",
   "version": "3.8.12"
  }
 },
 "nbformat": 4,
 "nbformat_minor": 5
}
